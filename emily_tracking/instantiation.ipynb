{
 "cells": [
  {
   "cell_type": "code",
   "execution_count": 4,
   "metadata": {},
   "outputs": [
    {
     "name": "stdout",
     "output_type": "stream",
     "text": [
      "Frame 1999: 280 features\n"
     ]
    },
    {
     "ename": "TypeError",
     "evalue": "create_pool_context() missing 1 required positional argument: 'video'",
     "output_type": "error",
     "traceback": [
      "\u001b[1;31m---------------------------------------------------------------------------\u001b[0m",
      "\u001b[1;31mTypeError\u001b[0m                                 Traceback (most recent call last)",
      "\u001b[1;32mc:\\Users\\andre\\Documents\\tracking_optimizations\\emily_tracking\\instantiation.ipynb Cell 1\u001b[0m in \u001b[0;36m<cell line: 2>\u001b[1;34m()\u001b[0m\n\u001b[0;32m      <a href='vscode-notebook-cell:/c%3A/Users/andre/Documents/tracking_optimizations/emily_tracking/instantiation.ipynb#W0sZmlsZQ%3D%3D?line=0'>1</a>\u001b[0m \u001b[39mimport\u001b[39;00m \u001b[39mhatzakis_lab_tracking\u001b[39;00m\n\u001b[1;32m----> <a href='vscode-notebook-cell:/c%3A/Users/andre/Documents/tracking_optimizations/emily_tracking/instantiation.ipynb#W0sZmlsZQ%3D%3D?line=1'>2</a>\u001b[0m hatzakis_lab_tracking\u001b[39m.\u001b[39;49mmain(\u001b[39m\"\u001b[39;49m\u001b[39mparams.yml\u001b[39;49m\u001b[39m\"\u001b[39;49m, calibrate \u001b[39m=\u001b[39;49m \u001b[39mFalse\u001b[39;49;00m)\n",
      "File \u001b[1;32mc:\\Users\\andre\\Documents\\tracking_optimizations\\emily_tracking\\hatzakis_lab_tracking.py:454\u001b[0m, in \u001b[0;36mmain\u001b[1;34m(parampath, calibrate, **kwargs)\u001b[0m\n\u001b[0;32m    452\u001b[0m     lipase \u001b[39m=\u001b[39m type_list[i]\n\u001b[0;32m    453\u001b[0m     replica \u001b[39m=\u001b[39m replica_list[i]\n\u001b[1;32m--> 454\u001b[0m     runner_tracker(path,lipase,save_path1,replica, params)\n\u001b[0;32m    455\u001b[0m create_big_df(params\u001b[39m.\u001b[39msave_path)\n",
      "File \u001b[1;32mc:\\Users\\andre\\Documents\\tracking_optimizations\\emily_tracking\\hatzakis_lab_tracking.py:367\u001b[0m, in \u001b[0;36mrunner_tracker\u001b[1;34m(video_location, experiment_type, save_path, replicate, params)\u001b[0m\n\u001b[0;32m    363\u001b[0m \u001b[39mdef\u001b[39;00m \u001b[39mrunner_tracker\u001b[39m(video_location, experiment_type, save_path, replicate, params): \n\u001b[0;32m    365\u001b[0m     video \u001b[39m=\u001b[39m image_loader_video(video_location)\n\u001b[1;32m--> 367\u001b[0m     full_tracked, msd_df \u001b[39m=\u001b[39m tracker(video, params\u001b[39m.\u001b[39;49mmean_multiplier, params\u001b[39m.\u001b[39;49msep, replicate, save_path, params)    \n\u001b[0;32m    369\u001b[0m     msd_df[\u001b[39m'\u001b[39m\u001b[39mexperiment_type\u001b[39m\u001b[39m'\u001b[39m] \u001b[39m=\u001b[39m \u001b[39mstr\u001b[39m(experiment_type)\n\u001b[0;32m    370\u001b[0m     msd_df[\u001b[39m'\u001b[39m\u001b[39mreplicate\u001b[39m\u001b[39m'\u001b[39m] \u001b[39m=\u001b[39m \u001b[39mstr\u001b[39m(replicate)\n",
      "File \u001b[1;32mc:\\Users\\andre\\Documents\\tracking_optimizations\\emily_tracking\\hatzakis_lab_tracking.py:343\u001b[0m, in \u001b[0;36mtracker\u001b[1;34m(videoinp, mean_multiplier, sep, replicate, save_path, params)\u001b[0m\n\u001b[0;32m    340\u001b[0m     results\u001b[39m.\u001b[39mindex\u001b[39m.\u001b[39mname \u001b[39m=\u001b[39m \u001b[39m'\u001b[39m\u001b[39mlag time [s]\u001b[39m\u001b[39m'\u001b[39m\n\u001b[0;32m    341\u001b[0m     \u001b[39mreturn\u001b[39;00m results\n\u001b[1;32m--> 343\u001b[0m context_man \u001b[39m=\u001b[39m create_pool_context(params\u001b[39m.\u001b[39;49mn_processes)\n\u001b[0;32m    345\u001b[0m \u001b[39mwith\u001b[39;00m context_man \u001b[39mas\u001b[39;00m pool:\n\u001b[0;32m    346\u001b[0m     full \u001b[39m=\u001b[39m signal_extractor_no_pos(video, full, \u001b[39m'\u001b[39m\u001b[39mred\u001b[39m\u001b[39m'\u001b[39m, params \u001b[39m=\u001b[39m params, pool \u001b[39m=\u001b[39m pool)\n",
      "\u001b[1;31mTypeError\u001b[0m: create_pool_context() missing 1 required positional argument: 'video'"
     ]
    }
   ],
   "source": [
    "import hatzakis_lab_tracking\n",
    "hatzakis_lab_tracking.main(\"params.yml\", calibrate = False)"
   ]
  },
  {
   "cell_type": "code",
   "execution_count": null,
   "metadata": {},
   "outputs": [],
   "source": []
  }
 ],
 "metadata": {
  "kernelspec": {
   "display_name": "Python 3.8.13 ('tracking-script')",
   "language": "python",
   "name": "python3"
  },
  "language_info": {
   "codemirror_mode": {
    "name": "ipython",
    "version": 3
   },
   "file_extension": ".py",
   "mimetype": "text/x-python",
   "name": "python",
   "nbconvert_exporter": "python",
   "pygments_lexer": "ipython3",
   "version": "3.8.13"
  },
  "orig_nbformat": 4,
  "vscode": {
   "interpreter": {
    "hash": "3409497d58d6e5264400e5348aa6fd098ba78c0f60b1c52b60052994396a7143"
   }
  }
 },
 "nbformat": 4,
 "nbformat_minor": 2
}

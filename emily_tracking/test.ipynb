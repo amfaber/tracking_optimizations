{
 "cells": [
  {
   "cell_type": "code",
   "execution_count": 3,
   "metadata": {},
   "outputs": [],
   "source": [
    "from skimage.filters import gaussian\n",
    "import numpy as np\n",
    "a = np.random.random((600, 600))"
   ]
  },
  {
   "cell_type": "code",
   "execution_count": 4,
   "metadata": {},
   "outputs": [
    {
     "data": {
      "text/plain": [
       "array([[0.49455734, 0.49496516, 0.49538088, ..., 0.42819386, 0.42684794,\n",
       "        0.42549673],\n",
       "       [0.4945159 , 0.49491554, 0.49532285, ..., 0.42983414, 0.42852143,\n",
       "        0.42720357],\n",
       "       [0.49448955, 0.49488061, 0.49527912, ..., 0.43149682, 0.43021797,\n",
       "        0.42893411],\n",
       "       ...,\n",
       "       [0.59001244, 0.58774794, 0.58548589, ..., 0.51695088, 0.51770243,\n",
       "        0.51845643],\n",
       "       [0.59199167, 0.58968117, 0.58737311, ..., 0.51712984, 0.51789064,\n",
       "        0.51865393],\n",
       "       [0.5939807 , 0.59162404, 0.58926983, ..., 0.51731499, 0.51808523,\n",
       "        0.51885799]])"
      ]
     },
     "execution_count": 4,
     "metadata": {},
     "output_type": "execute_result"
    }
   ],
   "source": [
    "gaussian(a, 30)"
   ]
  }
 ],
 "metadata": {
  "kernelspec": {
   "display_name": "Python 3.8.13 ('tracking-script')",
   "language": "python",
   "name": "python3"
  },
  "language_info": {
   "codemirror_mode": {
    "name": "ipython",
    "version": 3
   },
   "file_extension": ".py",
   "mimetype": "text/x-python",
   "name": "python",
   "nbconvert_exporter": "python",
   "pygments_lexer": "ipython3",
   "version": "3.8.13"
  },
  "orig_nbformat": 4,
  "vscode": {
   "interpreter": {
    "hash": "5d3280589ceb859a7d99c70824f3dcecba395bea53b51697cbed4aed87532095"
   }
  }
 },
 "nbformat": 4,
 "nbformat_minor": 2
}

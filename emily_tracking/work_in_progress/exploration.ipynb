{
 "cells": [
  {
   "cell_type": "code",
   "execution_count": 63,
   "metadata": {},
   "outputs": [
    {
     "data": {
      "text/plain": [
       "<module 'hatzakis_lab_tracking' from '/Users/amfaber/Documents/tracking_script/emily_tracking/work_in_progress/hatzakis_lab_tracking.py'>"
      ]
     },
     "execution_count": 63,
     "metadata": {},
     "output_type": "execute_result"
    }
   ],
   "source": [
    "import importlib\n",
    "import numpy as np\n",
    "from skimage.filters import gaussian\n",
    "import matplotlib.pyplot as plt\n",
    "from PIL import Image\n",
    "import pandas as pd\n",
    "import pickle\n",
    "from scipy.spatial import distance_matrix\n",
    "import hatzakis_lab_tracking as hlt\n",
    "import tifffile\n",
    "import trackpy as tp\n",
    "importlib.reload(hlt)"
   ]
  },
  {
   "cell_type": "code",
   "execution_count": 65,
   "metadata": {},
   "outputs": [],
   "source": [
    "df = pd.read_csv(\"full.feather\", index_col = 0)"
   ]
  },
  {
   "cell_type": "code",
   "execution_count": 66,
   "metadata": {},
   "outputs": [],
   "source": [
    "# frame, group = df.groupby(\"frame\").__iter__().__next__()\n",
    "pos = df[[\"y\", \"x\"]].to_numpy()\n",
    "pix = pos.astype(int)\n",
    "arr = pos % 1\n",
    "frames = df[\"frame\"].to_numpy()\n",
    "r = np.sqrt(60)"
   ]
  },
  {
   "cell_type": "code",
   "execution_count": 325,
   "metadata": {},
   "outputs": [],
   "source": [
    "import tifffile\n"
   ]
  },
  {
   "cell_type": "code",
   "execution_count": 348,
   "metadata": {},
   "outputs": [],
   "source": [
    "# %%timeit\n",
    "idk = tifffile.TiffFile(\"/Users/amfaber/Documents/tracking_script/emily_tracking/sample_vids/Experiment_Process_001_20220823.tif\")\n",
    "ser = idk.series[0]\n",
    "padded_vid = np.full((ser.shape[0], ser.shape[2] + 1, ser.shape[2] + 1), np.nan, dtype = np.float64)\n",
    "load_as_int = np.empty(ser.shape, dtype = np.uint16)\n",
    "vid = padded_vid[:, :-1, :-1]\n",
    "idk.asarray(out = load_as_int)\n",
    "vid[:] = load_as_int\n",
    "del load_as_int\n",
    "pass"
   ]
  },
  {
   "cell_type": "code",
   "execution_count": 349,
   "metadata": {},
   "outputs": [],
   "source": [
    "params = hlt.Params(\"params.yml\")\n",
    "old = hlt.signal_extractor_no_pos(vid, df, \"red\", params)"
   ]
  },
  {
   "cell_type": "code",
   "execution_count": 353,
   "metadata": {},
   "outputs": [],
   "source": [
    "# %%timeit\n",
    "idk = lambda dim: np.moveaxis(np.arange(-r + 1, r + 1) - arr[:, dim].reshape(-1, 1, 1), -1, dim + 1)\n",
    "r2 = idk(0)**2 + idk(1)**2\n",
    "r_ceil = np.ceil(r).astype(int)\n",
    "idk1, idk2 = [(np.arange(np.ceil(2*r).astype(int)) - r_ceil + 1) + pix[:, i].reshape(-1, 1) for i in range(pix.shape[1])]\n",
    "idk1 = idk1.reshape(-1, np.ceil(2*r).astype(int), 1)\n",
    "idk2 = idk2.reshape(-1, 1, np.ceil(2*r).astype(int))\n",
    "idk1 = idk1.clip(-1, vid.shape[1])\n",
    "idk2 = idk2.clip(-1, vid.shape[2])\n",
    "pad_vid = vid.base\n",
    "# pad_vid = np.pad(vid, [(0, 0), (1, 1), (1, 1)], constant_values = np.nan)\n",
    "# %timeit np.pad(vid, [(0, 0), (1, 1), (1, 1)], constant_values = np.nan)\n",
    "\n",
    "# test = pad_vid[frames.reshape(-1, 1, 1), idk1, idk2]\n",
    "test = pad_vid[frames[:, None, None], idk1, idk2]\n",
    "\n",
    "# bah = bottleneck.nanmean(np.where(r2 < 9, test, np.nan), axis = 2)\n",
    "# bah = bottleneck.nanmean(bah, axis = 1)\n",
    "npway = np.nansum(np.where(r2 <= 9, test, np.nan), axis = (1, 2))\n",
    "# bah == npway\n",
    "# np.nanmean(test, axis = (1, 2))"
   ]
  },
  {
   "cell_type": "code",
   "execution_count": null,
   "metadata": {},
   "outputs": [],
   "source": [
    "hlt.make_smallmask_sig_bg()"
   ]
  },
  {
   "cell_type": "code",
   "execution_count": 354,
   "metadata": {},
   "outputs": [
    {
     "data": {
      "text/plain": [
       "array([60339., 67325., 62153., ..., 64186., 71541., 67560.])"
      ]
     },
     "execution_count": 354,
     "metadata": {},
     "output_type": "execute_result"
    }
   ],
   "source": [
    "npway"
   ]
  },
  {
   "cell_type": "code",
   "execution_count": 357,
   "metadata": {},
   "outputs": [
    {
     "name": "stdout",
     "output_type": "stream",
     "text": [
      "3\n",
      "2\n"
     ]
    }
   ],
   "source": [
    "num = 62153\n",
    "print((npway == num).sum())\n",
    "print((old[\"red_int\"] == num).sum())"
   ]
  },
  {
   "cell_type": "code",
   "execution_count": 341,
   "metadata": {},
   "outputs": [
    {
     "data": {
      "text/plain": [
       "12"
      ]
     },
     "execution_count": 341,
     "metadata": {},
     "output_type": "execute_result"
    }
   ],
   "source": []
  },
  {
   "cell_type": "code",
   "execution_count": null,
   "metadata": {},
   "outputs": [],
   "source": []
  },
  {
   "cell_type": "code",
   "execution_count": 293,
   "metadata": {},
   "outputs": [
    {
     "data": {
      "text/plain": [
       "array([2320.73076923, 2321.55172414, 2301.96296296, ..., 2292.35714286,\n",
       "       2307.77419355, 2252.        ])"
      ]
     },
     "execution_count": 293,
     "metadata": {},
     "output_type": "execute_result"
    }
   ],
   "source": [
    "np.nanmean(np.where(r2 < 9, test, np.nan), axis = (1, 2))"
   ]
  },
  {
   "cell_type": "code",
   "execution_count": 294,
   "metadata": {},
   "outputs": [
    {
     "data": {
      "text/plain": [
       "array([2320.4       , 2350.26111111, 2282.55555556, ..., 2294.00555556,\n",
       "       2289.59722222, 2240.54166667])"
      ]
     },
     "execution_count": 294,
     "metadata": {},
     "output_type": "execute_result"
    }
   ],
   "source": [
    "bah"
   ]
  },
  {
   "cell_type": "code",
   "execution_count": 286,
   "metadata": {},
   "outputs": [
    {
     "data": {
      "text/plain": [
       "(36522,)"
      ]
     },
     "execution_count": 286,
     "metadata": {},
     "output_type": "execute_result"
    }
   ],
   "source": [
    "bottleneck.nanmean(bah, axis = 1)"
   ]
  },
  {
   "cell_type": "code",
   "execution_count": 182,
   "metadata": {},
   "outputs": [
    {
     "data": {
      "text/plain": [
       "array([[-1],\n",
       "       [-1],\n",
       "       [ 0],\n",
       "       [ 1],\n",
       "       [ 2],\n",
       "       [ 3],\n",
       "       [ 4],\n",
       "       [ 5],\n",
       "       [ 6],\n",
       "       [ 7],\n",
       "       [ 8],\n",
       "       [ 9],\n",
       "       [10],\n",
       "       [11],\n",
       "       [12],\n",
       "       [13]])"
      ]
     },
     "execution_count": 182,
     "metadata": {},
     "output_type": "execute_result"
    }
   ],
   "source": [
    "idk1[0]"
   ]
  },
  {
   "cell_type": "code",
   "execution_count": 198,
   "metadata": {},
   "outputs": [],
   "source": [
    "mask = np.isnan(test).any(axis = (1,2))"
   ]
  },
  {
   "cell_type": "code",
   "execution_count": 201,
   "metadata": {},
   "outputs": [],
   "source": [
    "it = iter(test[mask])"
   ]
  },
  {
   "cell_type": "code",
   "execution_count": 102,
   "metadata": {},
   "outputs": [
    {
     "data": {
      "text/plain": [
       "(100, 770, 770)"
      ]
     },
     "execution_count": 102,
     "metadata": {},
     "output_type": "execute_result"
    }
   ],
   "source": [
    "pad_vid.shape"
   ]
  },
  {
   "cell_type": "code",
   "execution_count": 99,
   "metadata": {},
   "outputs": [
    {
     "data": {
      "text/plain": [
       "(36522, 16, 1)"
      ]
     },
     "execution_count": 99,
     "metadata": {},
     "output_type": "execute_result"
    }
   ],
   "source": [
    "idk1.shape"
   ]
  },
  {
   "cell_type": "code",
   "execution_count": 94,
   "metadata": {},
   "outputs": [
    {
     "ename": "TypeError",
     "evalue": "only integer scalar arrays can be converted to a scalar index",
     "output_type": "error",
     "traceback": [
      "\u001b[0;31m---------------------------------------------------------------------------\u001b[0m",
      "\u001b[0;31mTypeError\u001b[0m                                 Traceback (most recent call last)",
      "\u001b[1;32m/Users/amfaber/Documents/tracking_script/emily_tracking/work_in_progress/exploration.ipynb Cell 6\u001b[0m in \u001b[0;36m<cell line: 1>\u001b[0;34m()\u001b[0m\n\u001b[0;32m----> <a href='vscode-notebook-cell:/Users/amfaber/Documents/tracking_script/emily_tracking/work_in_progress/exploration.ipynb#Y220sZmlsZQ%3D%3D?line=0'>1</a>\u001b[0m pad_vid\u001b[39m.\u001b[39;49mtake(frames\u001b[39m.\u001b[39;49mreshape(\u001b[39m-\u001b[39;49m\u001b[39m1\u001b[39;49m, \u001b[39m1\u001b[39;49m, \u001b[39m1\u001b[39;49m), idk1, idk2)\n",
      "\u001b[0;31mTypeError\u001b[0m: only integer scalar arrays can be converted to a scalar index"
     ]
    }
   ],
   "source": [
    "pad_vid.take(frames.reshape(-1, 1, 1), idk1, idk2)"
   ]
  },
  {
   "cell_type": "code",
   "execution_count": 72,
   "metadata": {},
   "outputs": [
    {
     "data": {
      "text/plain": [
       "array([[[ -2],\n",
       "        [ -1],\n",
       "        [  0],\n",
       "        ...,\n",
       "        [ 11],\n",
       "        [ 12],\n",
       "        [ 13]],\n",
       "\n",
       "       [[  0],\n",
       "        [  1],\n",
       "        [  2],\n",
       "        ...,\n",
       "        [ 13],\n",
       "        [ 14],\n",
       "        [ 15]],\n",
       "\n",
       "       [[ -2],\n",
       "        [ -1],\n",
       "        [  0],\n",
       "        ...,\n",
       "        [ 11],\n",
       "        [ 12],\n",
       "        [ 13]],\n",
       "\n",
       "       ...,\n",
       "\n",
       "       [[751],\n",
       "        [752],\n",
       "        [753],\n",
       "        ...,\n",
       "        [764],\n",
       "        [765],\n",
       "        [766]],\n",
       "\n",
       "       [[753],\n",
       "        [754],\n",
       "        [755],\n",
       "        ...,\n",
       "        [766],\n",
       "        [767],\n",
       "        [768]],\n",
       "\n",
       "       [[752],\n",
       "        [753],\n",
       "        [754],\n",
       "        ...,\n",
       "        [765],\n",
       "        [766],\n",
       "        [767]]])"
      ]
     },
     "execution_count": 72,
     "metadata": {},
     "output_type": "execute_result"
    }
   ],
   "source": [
    "idk1"
   ]
  },
  {
   "cell_type": "code",
   "execution_count": 69,
   "metadata": {},
   "outputs": [
    {
     "data": {
      "text/plain": [
       "array([  5,   7,   5, ..., 758, 760, 759])"
      ]
     },
     "execution_count": 69,
     "metadata": {},
     "output_type": "execute_result"
    }
   ],
   "source": [
    "pix[:, 0]"
   ]
  },
  {
   "cell_type": "code",
   "execution_count": 82,
   "metadata": {},
   "outputs": [
    {
     "data": {
      "text/plain": [
       "array([False, False, False, ...,  True,  True,  True])"
      ]
     },
     "execution_count": 82,
     "metadata": {},
     "output_type": "execute_result"
    }
   ],
   "source": [
    "((idk1[:, 0, 0] > 0) & (idk1[:, -1, 0] < arr.shape[0])) & \\\n",
    "    ((idk2[:, 0, 0] > 0) & (idk2[:, 0, -1] < arr.shape[0]))"
   ]
  },
  {
   "cell_type": "code",
   "execution_count": 61,
   "metadata": {},
   "outputs": [
    {
     "data": {
      "text/plain": [
       "(36522, 16, 1)"
      ]
     },
     "execution_count": 61,
     "metadata": {},
     "output_type": "execute_result"
    }
   ],
   "source": [
    "idk1.shape"
   ]
  },
  {
   "cell_type": "code",
   "execution_count": 58,
   "metadata": {},
   "outputs": [
    {
     "data": {
      "text/plain": [
       "array([ True,  True,  True, ...,  True,  True,  True])"
      ]
     },
     "execution_count": 58,
     "metadata": {},
     "output_type": "execute_result"
    }
   ],
   "source": [
    "((idk1 > 0) & (idk1 <= arr.shape[0]))"
   ]
  },
  {
   "cell_type": "code",
   "execution_count": 29,
   "metadata": {},
   "outputs": [
    {
     "data": {
      "text/plain": [
       "True"
      ]
     },
     "execution_count": 29,
     "metadata": {},
     "output_type": "execute_result"
    }
   ],
   "source": [
    "np.isnan(pad_vid[0]).all()"
   ]
  },
  {
   "cell_type": "code",
   "execution_count": 24,
   "metadata": {},
   "outputs": [
    {
     "data": {
      "text/plain": [
       "array([[[nan, nan, nan, nan, nan, nan, nan, nan, nan, nan, nan, nan,\n",
       "         nan, nan, nan, nan],\n",
       "        [nan, nan, nan, nan, nan, nan, nan, nan, nan, nan, nan, nan,\n",
       "         nan, nan, nan, nan],\n",
       "        [nan, nan, nan, nan, nan, nan, nan, nan, nan, nan, nan, nan,\n",
       "         nan, nan, nan, nan],\n",
       "        [nan, nan, nan, nan, nan, nan, nan, nan, nan, nan, nan, nan,\n",
       "         nan, nan, nan, nan],\n",
       "        [nan, nan, nan, nan, nan, nan, nan, nan, nan, nan, nan, nan,\n",
       "         nan, nan, nan, nan],\n",
       "        [nan, nan, nan, nan, nan, nan, nan, nan, nan, nan, nan, nan,\n",
       "         nan, nan, nan, nan],\n",
       "        [nan, nan, nan, nan, nan, nan, nan, nan, nan, nan, nan, nan,\n",
       "         nan, nan, nan, nan],\n",
       "        [nan, nan, nan, nan, nan, nan, nan, nan, nan, nan, nan, nan,\n",
       "         nan, nan, nan, nan],\n",
       "        [nan, nan, nan, nan, nan, nan, nan, nan, nan, nan, nan, nan,\n",
       "         nan, nan, nan, nan],\n",
       "        [nan, nan, nan, nan, nan, nan, nan, nan, nan, nan, nan, nan,\n",
       "         nan, nan, nan, nan],\n",
       "        [nan, nan, nan, nan, nan, nan, nan, nan, nan, nan, nan, nan,\n",
       "         nan, nan, nan, nan],\n",
       "        [nan, nan, nan, nan, nan, nan, nan, nan, nan, nan, nan, nan,\n",
       "         nan, nan, nan, nan],\n",
       "        [nan, nan, nan, nan, nan, nan, nan, nan, nan, nan, nan, nan,\n",
       "         nan, nan, nan, nan],\n",
       "        [nan, nan, nan, nan, nan, nan, nan, nan, nan, nan, nan, nan,\n",
       "         nan, nan, nan, nan],\n",
       "        [nan, nan, nan, nan, nan, nan, nan, nan, nan, nan, nan, nan,\n",
       "         nan, nan, nan, nan],\n",
       "        [nan, nan, nan, nan, nan, nan, nan, nan, nan, nan, nan, nan,\n",
       "         nan, nan, nan, nan]]])"
      ]
     },
     "execution_count": 24,
     "metadata": {},
     "output_type": "execute_result"
    }
   ],
   "source": [
    "pad_vid[frames[0].reshape(-1,1,1), idk1[0].reshape(1, -1, 1), idk2[0].reshape(1, 1, -1)]"
   ]
  },
  {
   "cell_type": "code",
   "execution_count": 21,
   "metadata": {},
   "outputs": [
    {
     "data": {
      "text/plain": [
       "array([[ 6],\n",
       "       [ 7],\n",
       "       [ 8],\n",
       "       [ 9],\n",
       "       [10],\n",
       "       [11],\n",
       "       [12],\n",
       "       [13],\n",
       "       [14],\n",
       "       [15],\n",
       "       [16],\n",
       "       [17],\n",
       "       [18],\n",
       "       [19],\n",
       "       [20],\n",
       "       [21]])"
      ]
     },
     "execution_count": 21,
     "metadata": {},
     "output_type": "execute_result"
    }
   ],
   "source": [
    "idk1[0]"
   ]
  },
  {
   "cell_type": "code",
   "execution_count": 11,
   "metadata": {},
   "outputs": [],
   "source": [
    "r_ceil = np.ceil(r).astype(int)"
   ]
  },
  {
   "cell_type": "code",
   "execution_count": 14,
   "metadata": {},
   "outputs": [],
   "source": []
  },
  {
   "cell_type": "code",
   "execution_count": 360,
   "metadata": {},
   "outputs": [
    {
     "data": {
      "text/plain": [
       "array([[ 1.,  0.],\n",
       "       [ 0., nan]])"
      ]
     },
     "execution_count": 360,
     "metadata": {},
     "output_type": "execute_result"
    }
   ],
   "source": [
    "np.array([[1, 0], [0, np.nan]])"
   ]
  },
  {
   "cell_type": "code",
   "execution_count": 361,
   "metadata": {},
   "outputs": [
    {
     "ename": "IndexError",
     "evalue": "arrays used as indices must be of integer (or boolean) type",
     "output_type": "error",
     "traceback": [
      "\u001b[0;31m---------------------------------------------------------------------------\u001b[0m",
      "\u001b[0;31mIndexError\u001b[0m                                Traceback (most recent call last)",
      "\u001b[1;32m/Users/amfaber/Documents/tracking_script/emily_tracking/work_in_progress/exploration.ipynb Cell 13\u001b[0m in \u001b[0;36m<cell line: 2>\u001b[0;34m()\u001b[0m\n\u001b[1;32m      <a href='vscode-notebook-cell:/Users/amfaber/Documents/tracking_script/emily_tracking/work_in_progress/exploration.ipynb#Y156sZmlsZQ%3D%3D?line=0'>1</a>\u001b[0m a \u001b[39m=\u001b[39m np\u001b[39m.\u001b[39marange(\u001b[39m10\u001b[39m)\n\u001b[0;32m----> <a href='vscode-notebook-cell:/Users/amfaber/Documents/tracking_script/emily_tracking/work_in_progress/exploration.ipynb#Y156sZmlsZQ%3D%3D?line=1'>2</a>\u001b[0m a[np\u001b[39m.\u001b[39;49marray([[\u001b[39m1\u001b[39;49m, \u001b[39m0\u001b[39;49m], [\u001b[39m0\u001b[39;49m, np\u001b[39m.\u001b[39;49mnan]])]\n",
      "\u001b[0;31mIndexError\u001b[0m: arrays used as indices must be of integer (or boolean) type"
     ]
    }
   ],
   "source": [
    "a = np.arange(10)\n",
    "a[np.array([[1, 0], [0, np.nan]])]"
   ]
  },
  {
   "cell_type": "code",
   "execution_count": 350,
   "metadata": {},
   "outputs": [
    {
     "data": {
      "text/plain": [
       "(280, 6, 6)"
      ]
     },
     "execution_count": 350,
     "metadata": {},
     "output_type": "execute_result"
    }
   ],
   "source": [
    "np.where(r2<9, test, np.nan).shape"
   ]
  },
  {
   "cell_type": "code",
   "execution_count": 354,
   "metadata": {},
   "outputs": [
    {
     "data": {
      "text/plain": [
       "array([5.413793103448276, 7.5, 5.321428571428571, 6.518518518518518,\n",
       "       7.413793103448276, 10.89655172413793, 10.275862068965518,\n",
       "       10.607142857142858, 12.678571428571429, 14.11111111111111,\n",
       "       17.11111111111111, 15.5, 22.5, 31.214285714285715, 30.5, 33.5,\n",
       "       38.111111111111114, 40.41379310344828, 41.5, 52.111111111111114,\n",
       "       52.5, 52.5, 54.888888888888886, 55.785714285714285, 68.5, 73.5,\n",
       "       74.11111111111111, 90.82142857142857, 91.78571428571429,\n",
       "       97.88888888888889, 95.5, 103.41379310344827, 104.5,\n",
       "       117.54838709677419, 124.21428571428571, 134.58620689655172,\n",
       "       135.21428571428572, 136.39285714285714, 139.21428571428572,\n",
       "       140.27586206896552, 143.5, 145.27586206896552, 141.5, 142.5,\n",
       "       148.88888888888889, 147.88888888888889, 150.82142857142858,\n",
       "       154.21428571428572, 151.60714285714286, 153.5, 154.5,\n",
       "       161.36666666666667, 162.5, 166.5185185185185, 169.88888888888889,\n",
       "       175.5, 184.41379310344828, 184.17857142857142, 190.78571428571428,\n",
       "       191.66666666666666, 193.27586206896552, 191.68965517241378,\n",
       "       197.27586206896552, 198.5, 198.32142857142858, 200.41379310344828,\n",
       "       209.5185185185185, 212.72413793103448, 214.27586206896552,\n",
       "       219.72413793103448, 221.5, 221.5, 225.32142857142858,\n",
       "       224.39285714285714, 227.5, 228.36666666666667, 228.5,\n",
       "       225.72413793103448, 228.2962962962963, 229.67857142857142,\n",
       "       229.78571428571428, 230.72413793103448, 232.5, 234.2962962962963,\n",
       "       237.5, 242.63333333333333, 242.58620689655172, 248.22222222222223,\n",
       "       250.5, 251.72413793103448, 254.5, 269.2758620689655,\n",
       "       267.7857142857143, 266.1111111111111, 269.32142857142856, 272.5,\n",
       "       274.5, 276.17857142857144, 283.5, 285.3666666666667,\n",
       "       285.7241379310345, 286.5, 285.7857142857143, 291.41379310344826,\n",
       "       285.1111111111111, 292.5, 295.2758620689655, 298.0,\n",
       "       298.1111111111111, 296.5, 301.5, 303.8888888888889, 307.5,\n",
       "       308.51851851851853, 311.1034482758621, 305.7037037037037, 312.5,\n",
       "       317.2758620689655, 319.5, 325.7857142857143, 330.1111111111111,\n",
       "       331.8888888888889, 332.7241379310345, 346.2758620689655, 347.5,\n",
       "       347.48148148148147, 348.7241379310345, 349.3666666666667,\n",
       "       350.2142857142857, 350.8965517241379, 350.2758620689655, 351.5,\n",
       "       357.5, 359.8076923076923, 365.2758620689655, 369.41379310344826,\n",
       "       367.58620689655174, 370.2758620689655, 369.6333333333333,\n",
       "       374.60714285714283, 378.5, 377.58620689655174, 384.5,\n",
       "       384.67857142857144, 386.7037037037037, 388.51851851851853,\n",
       "       395.1111111111111, 395.39285714285717, 395.5, 401.1111111111111,\n",
       "       402.41379310344826, 403.7241379310345, 410.5, 409.8888888888889,\n",
       "       413.7241379310345, 414.58620689655174, 416.32142857142856,\n",
       "       415.82142857142856, 418.4516129032258, 417.5, 428.5,\n",
       "       423.41379310344826, 424.7037037037037, 430.2758620689655,\n",
       "       430.51851851851853, 432.5, 433.0, 435.8888888888889,\n",
       "       437.7857142857143, 438.2758620689655, 434.5, 438.5,\n",
       "       438.8888888888889, 437.1111111111111, 440.2758620689655,\n",
       "       436.7857142857143, 441.7241379310345, 442.41379310344826,\n",
       "       441.8888888888889, 444.5, 448.7241379310345, 449.1111111111111,\n",
       "       451.60714285714283, 452.2758620689655, 451.67857142857144,\n",
       "       455.8888888888889, 457.48148148148147, 460.1111111111111,\n",
       "       460.8888888888889, 463.2142857142857, 463.58620689655174,\n",
       "       465.2758620689655, 464.5483870967742, 476.1111111111111,\n",
       "       479.1111111111111, 480.2142857142857, 479.58620689655174,\n",
       "       486.32142857142856, 483.67857142857144, 485.2142857142857,\n",
       "       491.2142857142857, 494.1111111111111, 493.41379310344826, 499.5,\n",
       "       507.67857142857144, 512.5862068965517, 517.2758620689655,\n",
       "       521.3214285714286, 521.8888888888889, 522.8888888888889,\n",
       "       529.3214285714286, 529.6785714285714, 533.3214285714286,\n",
       "       538.2142857142857, 539.5, 539.7037037037037, 544.7241379310345,\n",
       "       545.2758620689655, 552.7241379310345, 555.2758620689655, 555.5,\n",
       "       556.5, 560.6071428571429, 561.3214285714286, 556.7241379310345,\n",
       "       563.5, 564.1111111111111, 565.7857142857143, 571.8888888888889,\n",
       "       571.7037037037037, 577.1111111111111, 577.8888888888889,\n",
       "       577.7241379310345, 579.4814814814815, 581.7241379310345, 597.5,\n",
       "       594.2222222222222, 598.2142857142857, 598.1111111111111, 604.5,\n",
       "       605.4814814814815, 608.1111111111111, 607.7857142857143,\n",
       "       609.7857142857143, 614.2142857142857, 616.5862068965517,\n",
       "       617.4137931034483, 623.5, 626.0, 630.6071428571429,\n",
       "       636.2758620689655, 637.5862068965517, 640.5, 636.7241379310345,\n",
       "       643.2758620689655, 647.3928571428571, 645.6785714285714,\n",
       "       646.5862068965517, 651.6785714285714, 660.8214285714286,\n",
       "       665.2758620689655, 664.5862068965517, 667.0, 671.5, 679.5,\n",
       "       681.5862068965517, 681.5, 692.2142857142857, 691.5862068965517,\n",
       "       695.7241379310345, 701.7241379310345, 715.3214285714286,\n",
       "       715.1111111111111, 719.5862068965517, 728.6071428571429,\n",
       "       732.7241379310345, 742.5862068965517, 744.0, 755.2142857142857,\n",
       "       759.5], dtype=object)"
      ]
     },
     "execution_count": 354,
     "metadata": {},
     "output_type": "execute_result"
    }
   ],
   "source": [
    "np.nanmean(np.where(r2<9, test, np.nan), axis = (1, 2))"
   ]
  },
  {
   "cell_type": "code",
   "execution_count": 337,
   "metadata": {},
   "outputs": [
    {
     "data": {
      "text/plain": [
       "array([[[[ True,  True,  True,  True,  True,  True],\n",
       "         [ True,  True,  True,  True,  True,  True],\n",
       "         [ True,  True,  True,  True,  True,  True],\n",
       "         [ True,  True,  True,  True,  True,  True],\n",
       "         [ True,  True,  True,  True,  True,  True],\n",
       "         [ True,  True,  True,  True,  True,  True]],\n",
       "\n",
       "        [[ True,  True,  True,  True,  True,  True],\n",
       "         [ True,  True,  True,  True,  True,  True],\n",
       "         [ True,  True,  True,  True,  True,  True],\n",
       "         [ True,  True,  True,  True,  True,  True],\n",
       "         [ True,  True,  True,  True,  True,  True],\n",
       "         [ True,  True,  True,  True,  True,  True]],\n",
       "\n",
       "        [[ True,  True,  True,  True,  True,  True],\n",
       "         [ True,  True,  True,  True,  True,  True],\n",
       "         [ True,  True,  True,  True,  True,  True],\n",
       "         [ True,  True,  True,  True,  True,  True],\n",
       "         [ True,  True,  True,  True,  True,  True],\n",
       "         [ True,  True,  True,  True,  True,  True]],\n",
       "\n",
       "        ...,\n",
       "\n",
       "        [[ True,  True,  True,  True,  True,  True],\n",
       "         [ True,  True,  True,  True,  True,  True],\n",
       "         [ True,  True,  True,  True,  True,  True],\n",
       "         [ True,  True,  True,  True,  True,  True],\n",
       "         [ True,  True,  True,  True,  True,  True],\n",
       "         [ True,  True,  True,  True,  True,  True]],\n",
       "\n",
       "        [[ True,  True,  True,  True,  True,  True],\n",
       "         [ True,  True,  True,  True,  True,  True],\n",
       "         [ True,  True,  True,  True,  True,  True],\n",
       "         [ True,  True,  True,  True,  True,  True],\n",
       "         [ True,  True,  True,  True,  True,  True],\n",
       "         [ True,  True,  True,  True,  True,  True]],\n",
       "\n",
       "        [[ True,  True,  True,  True,  True,  True],\n",
       "         [ True,  True,  True,  True,  True,  True],\n",
       "         [ True,  True,  True,  True,  True,  True],\n",
       "         [ True,  True,  True,  True,  True,  True],\n",
       "         [ True,  True,  True,  True,  True,  True],\n",
       "         [ True,  True,  True,  True,  True,  True]]]])"
      ]
     },
     "execution_count": 337,
     "metadata": {},
     "output_type": "execute_result"
    }
   ],
   "source": [
    "test[r<9] == test"
   ]
  },
  {
   "cell_type": "code",
   "execution_count": 126,
   "metadata": {},
   "outputs": [
    {
     "data": {
      "text/plain": [
       "array([[  1,   2,   3, ...,   8,   9,  10],\n",
       "       [  3,   4,   5, ...,  10,  11,  12],\n",
       "       [  1,   2,   3, ...,   8,   9,  10],\n",
       "       ...,\n",
       "       [739, 740, 741, ..., 746, 747, 748],\n",
       "       [751, 752, 753, ..., 758, 759, 760],\n",
       "       [755, 756, 757, ..., 762, 763, 764]])"
      ]
     },
     "execution_count": 126,
     "metadata": {},
     "output_type": "execute_result"
    }
   ],
   "source": [
    "idk1"
   ]
  },
  {
   "cell_type": "code",
   "execution_count": 83,
   "metadata": {},
   "outputs": [],
   "source": [
    "a = np.arange(10)+5"
   ]
  },
  {
   "cell_type": "code",
   "execution_count": null,
   "metadata": {},
   "outputs": [],
   "source": [
    "hlt.signal_extractor_no_pos()"
   ]
  },
  {
   "cell_type": "code",
   "execution_count": 3,
   "metadata": {},
   "outputs": [
    {
     "name": "stdout",
     "output_type": "stream",
     "text": [
      "Using matplotlib backend: MacOSX\n"
     ]
    },
    {
     "name": "stderr",
     "output_type": "stream",
     "text": [
      "/opt/anaconda3/envs/tracking-script/lib/python3.8/site-packages/trackpy/feature.py:425: UserWarning: No maxima survived mass- and size-based filtering. Be advised that the mass computation was changed from version 0.2.4 to 0.3.0 and from 0.3.3 to 0.4.0. See the documentation and the convenience functions 'minmass_v03_change' and 'minmass_v04_change'.\n",
      "  warnings.warn(\"No maxima survived mass- and size-based filtering. \"\n"
     ]
    },
    {
     "name": "stdout",
     "output_type": "stream",
     "text": [
      "Found: 0 particles\n",
      "Current Threshold: 12\n",
      "Current Separation: 7\n"
     ]
    },
    {
     "ename": "TypeError",
     "evalue": "expected str, bytes or os.PathLike object, not NoneType",
     "output_type": "error",
     "traceback": [
      "\u001b[0;31m---------------------------------------------------------------------------\u001b[0m",
      "\u001b[0;31mTypeError\u001b[0m                                 Traceback (most recent call last)",
      "\u001b[1;32m/Users/amfaber/Documents/tracking_script/emily_tracking/work_in_progress/exploration.ipynb Cell 2\u001b[0m in \u001b[0;36m<cell line: 6>\u001b[0;34m()\u001b[0m\n\u001b[1;32m      <a href='vscode-notebook-cell:/Users/amfaber/Documents/tracking_script/emily_tracking/work_in_progress/exploration.ipynb#X53sZmlsZQ%3D%3D?line=0'>1</a>\u001b[0m params \u001b[39m=\u001b[39m hlt\u001b[39m.\u001b[39mParams(  \n\u001b[1;32m      <a href='vscode-notebook-cell:/Users/amfaber/Documents/tracking_script/emily_tracking/work_in_progress/exploration.ipynb#X53sZmlsZQ%3D%3D?line=1'>2</a>\u001b[0m     sep \u001b[39m=\u001b[39m \u001b[39m7\u001b[39m,   \u001b[39m# afstand mellem centrum af to partikler, 7 er meget lidt så skal være højere ved lavere densitet\u001b[39;00m\n\u001b[1;32m      <a href='vscode-notebook-cell:/Users/amfaber/Documents/tracking_script/emily_tracking/work_in_progress/exploration.ipynb#X53sZmlsZQ%3D%3D?line=2'>3</a>\u001b[0m     mean_multiplier \u001b[39m=\u001b[39m \u001b[39m12\u001b[39m,  \u001b[39m#hvor mange partikler finder den, around 1-3, lavere giver flere partikler\u001b[39;00m\n\u001b[1;32m      <a href='vscode-notebook-cell:/Users/amfaber/Documents/tracking_script/emily_tracking/work_in_progress/exploration.ipynb#X53sZmlsZQ%3D%3D?line=3'>4</a>\u001b[0m     object_size \u001b[39m=\u001b[39m \u001b[39m11\u001b[39m, \u001b[39m#diameter used in tp.locate, odd integer\u001b[39;00m\n\u001b[1;32m      <a href='vscode-notebook-cell:/Users/amfaber/Documents/tracking_script/emily_tracking/work_in_progress/exploration.ipynb#X53sZmlsZQ%3D%3D?line=4'>5</a>\u001b[0m )\n\u001b[0;32m----> <a href='vscode-notebook-cell:/Users/amfaber/Documents/tracking_script/emily_tracking/work_in_progress/exploration.ipynb#X53sZmlsZQ%3D%3D?line=5'>6</a>\u001b[0m hlt\u001b[39m.\u001b[39;49mcalibration(params, video_location \u001b[39m=\u001b[39;49m \u001b[39m\"\u001b[39;49m\u001b[39m/Users/amfaber/Documents/tracking_script/emily_tracking/sample_vids/s_20.tif\u001b[39;49m\u001b[39m\"\u001b[39;49m)\n",
      "File \u001b[0;32m~/Documents/tracking_script/emily_tracking/work_in_progress/hatzakis_lab_tracking.py:135\u001b[0m, in \u001b[0;36mcalibration\u001b[0;34m(params, video_location, video, save, save_location)\u001b[0m\n\u001b[1;32m    133\u001b[0m         sep \u001b[39m=\u001b[39m \u001b[39mint\u001b[39m(sep)\n\u001b[1;32m    134\u001b[0m         ax\u001b[39m.\u001b[39mclear()\n\u001b[0;32m--> 135\u001b[0m params\u001b[39m.\u001b[39mmean_multiplier \u001b[39m=\u001b[39m mean_multiplier\n\u001b[1;32m    136\u001b[0m params\u001b[39m.\u001b[39msep \u001b[39m=\u001b[39m sep\n\u001b[1;32m    137\u001b[0m \u001b[39mif\u001b[39;00m save:\n",
      "File \u001b[0;32m~/Documents/tracking_script/emily_tracking/work_in_progress/hatzakis_lab_tracking.py:78\u001b[0m, in \u001b[0;36mParams.update_mm_and_sep\u001b[0;34m(self, path)\u001b[0m\n\u001b[1;32m     77\u001b[0m \u001b[39mdef\u001b[39;00m \u001b[39mupdate_mm_and_sep\u001b[39m(\u001b[39mself\u001b[39m, path):\n\u001b[0;32m---> 78\u001b[0m     \u001b[39mwith\u001b[39;00m \u001b[39mopen\u001b[39;49m(path, \u001b[39m'\u001b[39;49m\u001b[39mr+\u001b[39;49m\u001b[39m'\u001b[39;49m) \u001b[39mas\u001b[39;00m f:\n\u001b[1;32m     79\u001b[0m         contents \u001b[39m=\u001b[39m f\u001b[39m.\u001b[39mread()\n\u001b[1;32m     80\u001b[0m         contents \u001b[39m=\u001b[39m re\u001b[39m.\u001b[39msub(\u001b[39mr\u001b[39m\u001b[39m'\u001b[39m\u001b[39mmean_multiplier: \u001b[39m\u001b[39m\\\u001b[39m\u001b[39md+\u001b[39m\u001b[39m\\\u001b[39m\u001b[39m.?\u001b[39m\u001b[39m\\\u001b[39m\u001b[39md*\u001b[39m\u001b[39m'\u001b[39m, \u001b[39m'\u001b[39m\u001b[39mmean_multiplier: \u001b[39m\u001b[39m'\u001b[39m \u001b[39m+\u001b[39m \u001b[39mstr\u001b[39m(\u001b[39mself\u001b[39m\u001b[39m.\u001b[39mmean_multiplier), contents)\n",
      "\u001b[0;31mTypeError\u001b[0m: expected str, bytes or os.PathLike object, not NoneType"
     ]
    }
   ],
   "source": [
    "params = hlt.Params(\n",
    "    sep = 7,   # afstand mellem centrum af to partikler, 7 er meget lidt så skal være højere ved lavere densitet\n",
    "    mean_multiplier = 12,  #hvor mange partikler finder den, around 1-3, lavere giver flere partikler\n",
    "    object_size = 11, #diameter used in tp.locate, odd integer\n",
    ")\n",
    "hlt.calibration(params, video_location = \"/Users/amfaber/Documents/tracking_script/emily_tracking/sample_vids/s_20.tif\")"
   ]
  },
  {
   "cell_type": "code",
   "execution_count": 12,
   "metadata": {},
   "outputs": [
    {
     "data": {
      "text/html": [
       "<div>\n",
       "<style scoped>\n",
       "    .dataframe tbody tr th:only-of-type {\n",
       "        vertical-align: middle;\n",
       "    }\n",
       "\n",
       "    .dataframe tbody tr th {\n",
       "        vertical-align: top;\n",
       "    }\n",
       "\n",
       "    .dataframe thead th {\n",
       "        text-align: right;\n",
       "    }\n",
       "</style>\n",
       "<table border=\"1\" class=\"dataframe\">\n",
       "  <thead>\n",
       "    <tr style=\"text-align: right;\">\n",
       "      <th></th>\n",
       "      <th>y</th>\n",
       "      <th>x</th>\n",
       "      <th>mass</th>\n",
       "      <th>size</th>\n",
       "      <th>ecc</th>\n",
       "      <th>signal</th>\n",
       "      <th>raw_mass</th>\n",
       "      <th>ep</th>\n",
       "      <th>frame</th>\n",
       "      <th>cluster</th>\n",
       "      <th>...</th>\n",
       "      <th>red_int</th>\n",
       "      <th>red_bg</th>\n",
       "      <th>red_sig_pixel_size</th>\n",
       "      <th>red_int_mean</th>\n",
       "      <th>red_bg_mean</th>\n",
       "      <th>red_int_corrected</th>\n",
       "      <th>red_int_gausscorrected</th>\n",
       "      <th>video_counter</th>\n",
       "      <th>set_zero</th>\n",
       "      <th>lowest_state</th>\n",
       "    </tr>\n",
       "  </thead>\n",
       "  <tbody>\n",
       "    <tr>\n",
       "      <th>0</th>\n",
       "      <td>0.0</td>\n",
       "      <td>0.0</td>\n",
       "      <td>0.0</td>\n",
       "      <td>0.0</td>\n",
       "      <td>0.0</td>\n",
       "      <td>0.0</td>\n",
       "      <td>0.0</td>\n",
       "      <td>0.0</td>\n",
       "      <td>0</td>\n",
       "      <td>0</td>\n",
       "      <td>...</td>\n",
       "      <td>-1.136868e-13</td>\n",
       "      <td>-7.105427e-15</td>\n",
       "      <td>0.0</td>\n",
       "      <td>-1.065814e-14</td>\n",
       "      <td>7.105427e-15</td>\n",
       "      <td>0.000000e+00</td>\n",
       "      <td>0.0</td>\n",
       "      <td>0</td>\n",
       "      <td>0.0</td>\n",
       "      <td>0</td>\n",
       "    </tr>\n",
       "    <tr>\n",
       "      <th>1</th>\n",
       "      <td>0.0</td>\n",
       "      <td>0.0</td>\n",
       "      <td>0.0</td>\n",
       "      <td>0.0</td>\n",
       "      <td>0.0</td>\n",
       "      <td>0.0</td>\n",
       "      <td>0.0</td>\n",
       "      <td>0.0</td>\n",
       "      <td>0</td>\n",
       "      <td>0</td>\n",
       "      <td>...</td>\n",
       "      <td>-1.136868e-13</td>\n",
       "      <td>-1.065814e-14</td>\n",
       "      <td>0.0</td>\n",
       "      <td>0.000000e+00</td>\n",
       "      <td>1.065814e-14</td>\n",
       "      <td>2.273737e-13</td>\n",
       "      <td>0.0</td>\n",
       "      <td>0</td>\n",
       "      <td>0.0</td>\n",
       "      <td>0</td>\n",
       "    </tr>\n",
       "    <tr>\n",
       "      <th>2</th>\n",
       "      <td>0.0</td>\n",
       "      <td>0.0</td>\n",
       "      <td>0.0</td>\n",
       "      <td>0.0</td>\n",
       "      <td>0.0</td>\n",
       "      <td>0.0</td>\n",
       "      <td>0.0</td>\n",
       "      <td>0.0</td>\n",
       "      <td>0</td>\n",
       "      <td>0</td>\n",
       "      <td>...</td>\n",
       "      <td>-1.136868e-13</td>\n",
       "      <td>3.552714e-15</td>\n",
       "      <td>0.0</td>\n",
       "      <td>-3.552714e-15</td>\n",
       "      <td>3.552714e-15</td>\n",
       "      <td>-2.273737e-13</td>\n",
       "      <td>0.0</td>\n",
       "      <td>0</td>\n",
       "      <td>0.0</td>\n",
       "      <td>0</td>\n",
       "    </tr>\n",
       "    <tr>\n",
       "      <th>3</th>\n",
       "      <td>0.0</td>\n",
       "      <td>0.0</td>\n",
       "      <td>0.0</td>\n",
       "      <td>0.0</td>\n",
       "      <td>0.0</td>\n",
       "      <td>0.0</td>\n",
       "      <td>0.0</td>\n",
       "      <td>0.0</td>\n",
       "      <td>0</td>\n",
       "      <td>0</td>\n",
       "      <td>...</td>\n",
       "      <td>-1.136868e-13</td>\n",
       "      <td>0.000000e+00</td>\n",
       "      <td>0.0</td>\n",
       "      <td>0.000000e+00</td>\n",
       "      <td>-3.552714e-15</td>\n",
       "      <td>-1.136868e-13</td>\n",
       "      <td>0.0</td>\n",
       "      <td>0</td>\n",
       "      <td>0.0</td>\n",
       "      <td>0</td>\n",
       "    </tr>\n",
       "    <tr>\n",
       "      <th>4</th>\n",
       "      <td>0.0</td>\n",
       "      <td>0.0</td>\n",
       "      <td>0.0</td>\n",
       "      <td>0.0</td>\n",
       "      <td>0.0</td>\n",
       "      <td>0.0</td>\n",
       "      <td>0.0</td>\n",
       "      <td>0.0</td>\n",
       "      <td>0</td>\n",
       "      <td>0</td>\n",
       "      <td>...</td>\n",
       "      <td>-9.094947e-13</td>\n",
       "      <td>-1.421085e-14</td>\n",
       "      <td>0.0</td>\n",
       "      <td>-2.131628e-14</td>\n",
       "      <td>-1.065814e-14</td>\n",
       "      <td>-3.410605e-13</td>\n",
       "      <td>0.0</td>\n",
       "      <td>0</td>\n",
       "      <td>0.0</td>\n",
       "      <td>0</td>\n",
       "    </tr>\n",
       "    <tr>\n",
       "      <th>...</th>\n",
       "      <td>...</td>\n",
       "      <td>...</td>\n",
       "      <td>...</td>\n",
       "      <td>...</td>\n",
       "      <td>...</td>\n",
       "      <td>...</td>\n",
       "      <td>...</td>\n",
       "      <td>...</td>\n",
       "      <td>...</td>\n",
       "      <td>...</td>\n",
       "      <td>...</td>\n",
       "      <td>...</td>\n",
       "      <td>...</td>\n",
       "      <td>...</td>\n",
       "      <td>...</td>\n",
       "      <td>...</td>\n",
       "      <td>...</td>\n",
       "      <td>...</td>\n",
       "      <td>...</td>\n",
       "      <td>...</td>\n",
       "      <td>...</td>\n",
       "    </tr>\n",
       "    <tr>\n",
       "      <th>33995</th>\n",
       "      <td>0.0</td>\n",
       "      <td>0.0</td>\n",
       "      <td>0.0</td>\n",
       "      <td>0.0</td>\n",
       "      <td>0.0</td>\n",
       "      <td>0.0</td>\n",
       "      <td>0.0</td>\n",
       "      <td>0.0</td>\n",
       "      <td>0</td>\n",
       "      <td>0</td>\n",
       "      <td>...</td>\n",
       "      <td>-1.136868e-13</td>\n",
       "      <td>0.000000e+00</td>\n",
       "      <td>0.0</td>\n",
       "      <td>-1.065814e-14</td>\n",
       "      <td>-1.065814e-14</td>\n",
       "      <td>-8.526513e-14</td>\n",
       "      <td>0.0</td>\n",
       "      <td>0</td>\n",
       "      <td>0.0</td>\n",
       "      <td>0</td>\n",
       "    </tr>\n",
       "    <tr>\n",
       "      <th>33996</th>\n",
       "      <td>0.0</td>\n",
       "      <td>0.0</td>\n",
       "      <td>0.0</td>\n",
       "      <td>0.0</td>\n",
       "      <td>0.0</td>\n",
       "      <td>0.0</td>\n",
       "      <td>0.0</td>\n",
       "      <td>0.0</td>\n",
       "      <td>0</td>\n",
       "      <td>0</td>\n",
       "      <td>...</td>\n",
       "      <td>1.136868e-13</td>\n",
       "      <td>0.000000e+00</td>\n",
       "      <td>0.0</td>\n",
       "      <td>3.552714e-15</td>\n",
       "      <td>-3.552714e-15</td>\n",
       "      <td>1.136868e-13</td>\n",
       "      <td>0.0</td>\n",
       "      <td>0</td>\n",
       "      <td>0.0</td>\n",
       "      <td>0</td>\n",
       "    </tr>\n",
       "    <tr>\n",
       "      <th>33997</th>\n",
       "      <td>0.0</td>\n",
       "      <td>0.0</td>\n",
       "      <td>0.0</td>\n",
       "      <td>0.0</td>\n",
       "      <td>0.0</td>\n",
       "      <td>0.0</td>\n",
       "      <td>0.0</td>\n",
       "      <td>0.0</td>\n",
       "      <td>0</td>\n",
       "      <td>0</td>\n",
       "      <td>...</td>\n",
       "      <td>0.000000e+00</td>\n",
       "      <td>7.105427e-15</td>\n",
       "      <td>0.0</td>\n",
       "      <td>7.105427e-15</td>\n",
       "      <td>3.552714e-15</td>\n",
       "      <td>0.000000e+00</td>\n",
       "      <td>0.0</td>\n",
       "      <td>0</td>\n",
       "      <td>0.0</td>\n",
       "      <td>0</td>\n",
       "    </tr>\n",
       "    <tr>\n",
       "      <th>33998</th>\n",
       "      <td>0.0</td>\n",
       "      <td>0.0</td>\n",
       "      <td>0.0</td>\n",
       "      <td>0.0</td>\n",
       "      <td>0.0</td>\n",
       "      <td>0.0</td>\n",
       "      <td>0.0</td>\n",
       "      <td>0.0</td>\n",
       "      <td>0</td>\n",
       "      <td>0</td>\n",
       "      <td>...</td>\n",
       "      <td>1.136868e-13</td>\n",
       "      <td>0.000000e+00</td>\n",
       "      <td>0.0</td>\n",
       "      <td>3.552714e-15</td>\n",
       "      <td>-1.065814e-14</td>\n",
       "      <td>1.136868e-13</td>\n",
       "      <td>0.0</td>\n",
       "      <td>0</td>\n",
       "      <td>0.0</td>\n",
       "      <td>0</td>\n",
       "    </tr>\n",
       "    <tr>\n",
       "      <th>33999</th>\n",
       "      <td>0.0</td>\n",
       "      <td>0.0</td>\n",
       "      <td>0.0</td>\n",
       "      <td>0.0</td>\n",
       "      <td>0.0</td>\n",
       "      <td>0.0</td>\n",
       "      <td>0.0</td>\n",
       "      <td>0.0</td>\n",
       "      <td>0</td>\n",
       "      <td>0</td>\n",
       "      <td>...</td>\n",
       "      <td>1.136868e-13</td>\n",
       "      <td>3.552714e-15</td>\n",
       "      <td>0.0</td>\n",
       "      <td>3.552714e-15</td>\n",
       "      <td>7.105427e-15</td>\n",
       "      <td>0.000000e+00</td>\n",
       "      <td>0.0</td>\n",
       "      <td>0</td>\n",
       "      <td>0.0</td>\n",
       "      <td>0</td>\n",
       "    </tr>\n",
       "  </tbody>\n",
       "</table>\n",
       "<p>34000 rows × 23 columns</p>\n",
       "</div>"
      ],
      "text/plain": [
       "         y    x  mass  size  ecc  signal  raw_mass   ep  frame  cluster  ...  \\\n",
       "0      0.0  0.0   0.0   0.0  0.0     0.0       0.0  0.0      0        0  ...   \n",
       "1      0.0  0.0   0.0   0.0  0.0     0.0       0.0  0.0      0        0  ...   \n",
       "2      0.0  0.0   0.0   0.0  0.0     0.0       0.0  0.0      0        0  ...   \n",
       "3      0.0  0.0   0.0   0.0  0.0     0.0       0.0  0.0      0        0  ...   \n",
       "4      0.0  0.0   0.0   0.0  0.0     0.0       0.0  0.0      0        0  ...   \n",
       "...    ...  ...   ...   ...  ...     ...       ...  ...    ...      ...  ...   \n",
       "33995  0.0  0.0   0.0   0.0  0.0     0.0       0.0  0.0      0        0  ...   \n",
       "33996  0.0  0.0   0.0   0.0  0.0     0.0       0.0  0.0      0        0  ...   \n",
       "33997  0.0  0.0   0.0   0.0  0.0     0.0       0.0  0.0      0        0  ...   \n",
       "33998  0.0  0.0   0.0   0.0  0.0     0.0       0.0  0.0      0        0  ...   \n",
       "33999  0.0  0.0   0.0   0.0  0.0     0.0       0.0  0.0      0        0  ...   \n",
       "\n",
       "            red_int        red_bg  red_sig_pixel_size  red_int_mean  \\\n",
       "0     -1.136868e-13 -7.105427e-15                 0.0 -1.065814e-14   \n",
       "1     -1.136868e-13 -1.065814e-14                 0.0  0.000000e+00   \n",
       "2     -1.136868e-13  3.552714e-15                 0.0 -3.552714e-15   \n",
       "3     -1.136868e-13  0.000000e+00                 0.0  0.000000e+00   \n",
       "4     -9.094947e-13 -1.421085e-14                 0.0 -2.131628e-14   \n",
       "...             ...           ...                 ...           ...   \n",
       "33995 -1.136868e-13  0.000000e+00                 0.0 -1.065814e-14   \n",
       "33996  1.136868e-13  0.000000e+00                 0.0  3.552714e-15   \n",
       "33997  0.000000e+00  7.105427e-15                 0.0  7.105427e-15   \n",
       "33998  1.136868e-13  0.000000e+00                 0.0  3.552714e-15   \n",
       "33999  1.136868e-13  3.552714e-15                 0.0  3.552714e-15   \n",
       "\n",
       "        red_bg_mean  red_int_corrected  red_int_gausscorrected  video_counter  \\\n",
       "0      7.105427e-15       0.000000e+00                     0.0              0   \n",
       "1      1.065814e-14       2.273737e-13                     0.0              0   \n",
       "2      3.552714e-15      -2.273737e-13                     0.0              0   \n",
       "3     -3.552714e-15      -1.136868e-13                     0.0              0   \n",
       "4     -1.065814e-14      -3.410605e-13                     0.0              0   \n",
       "...             ...                ...                     ...            ...   \n",
       "33995 -1.065814e-14      -8.526513e-14                     0.0              0   \n",
       "33996 -3.552714e-15       1.136868e-13                     0.0              0   \n",
       "33997  3.552714e-15       0.000000e+00                     0.0              0   \n",
       "33998 -1.065814e-14       1.136868e-13                     0.0              0   \n",
       "33999  7.105427e-15       0.000000e+00                     0.0              0   \n",
       "\n",
       "       set_zero  lowest_state  \n",
       "0           0.0             0  \n",
       "1           0.0             0  \n",
       "2           0.0             0  \n",
       "3           0.0             0  \n",
       "4           0.0             0  \n",
       "...         ...           ...  \n",
       "33995       0.0             0  \n",
       "33996       0.0             0  \n",
       "33997       0.0             0  \n",
       "33998       0.0             0  \n",
       "33999       0.0             0  \n",
       "\n",
       "[34000 rows x 23 columns]"
      ]
     },
     "execution_count": 12,
     "metadata": {},
     "output_type": "execute_result"
    }
   ],
   "source": [
    "# with open(\"chunking_test.pickle\", \"rb\") as old, open(\"chunking_test_new.pickle\", \"rb\") as new:\n",
    "#     old, new = pickle.load(old), pickle.load(new)\n",
    "old = pd.read_csv(r\"C:\\Users\\andre\\Documents\\tracking_optimizations\\emily_tracking\\sample_vids\\chunking_old\\0_\\_signal_df.csv\")\n",
    "old_2 = pd.read_csv(r\"C:\\Users\\andre\\Documents\\tracking_optimizations\\emily_tracking\\sample_vids\\chunking_old_2\\0_\\_signal_df.csv\")\n",
    "new = pd.read_csv(r\"C:\\Users\\andre\\Documents\\tracking_optimizations\\emily_tracking\\sample_vids\\chunking_new\\0_\\_signal_df.csv\")\n",
    "\n",
    "old = old.reset_index(drop = True)#.drop(columns = [\"particle\"])\n",
    "old_2 = old_2.reset_index(drop = True)#.drop(columns = [\"particle\"])\n",
    "new = new.reset_index(drop = True)#.drop(columns = \"particle\")\n",
    "(old_2.drop(columns = \"particle\") - new.drop(columns = \"particle\"))"
   ]
  },
  {
   "cell_type": "code",
   "execution_count": 23,
   "metadata": {},
   "outputs": [],
   "source": [
    "vid = hlt.image_loader_video(r\"C:\\Users\\andre\\Documents\\tracking_optimizations\\emily_tracking\\sample_vids\\s_20.tif\")"
   ]
  },
  {
   "cell_type": "code",
   "execution_count": 24,
   "metadata": {},
   "outputs": [],
   "source": [
    "tifffile.imsave(\"s_20_first_30_frames.tif\", vid[:30])"
   ]
  },
  {
   "cell_type": "code",
   "execution_count": 24,
   "metadata": {},
   "outputs": [],
   "source": [
    "BG_size = 60\n",
    "lip_int_size = 9\n",
    "sqrt_BG_size = int(np.ceil(np.sqrt(lip_int_size)))\n",
    "i_pos = 200.123\n",
    "j_pos = 300.756\n",
    "all_is, all_js = np.ogrid[-sqrt_BG_size-(i_pos%1)+1:+sqrt_BG_size-(i_pos%1)+1,\n",
    "                    -sqrt_BG_size-(j_pos%1)+1:+sqrt_BG_size-(j_pos%1)+1]\n",
    "all_r2s = all_is**2 + all_js**2\n",
    "sig = all_r2s <= lip_int_size\n",
    "i_slice, j_slice, smallmask = hlt.getinds(sig, i_pos, j_pos, vid.shape, sqrt_BG_size)"
   ]
  },
  {
   "cell_type": "code",
   "execution_count": null,
   "metadata": {},
   "outputs": [],
   "source": []
  },
  {
   "cell_type": "code",
   "execution_count": 27,
   "metadata": {},
   "outputs": [
    {
     "data": {
      "text/plain": [
       "array([[False,  True,  True,  True,  True, False],\n",
       "       [ True,  True,  True,  True,  True,  True],\n",
       "       [ True,  True,  True,  True,  True,  True],\n",
       "       [ True,  True,  True,  True,  True,  True],\n",
       "       [False,  True,  True,  True,  True,  True],\n",
       "       [False, False,  True,  True, False, False]])"
      ]
     },
     "execution_count": 27,
     "metadata": {},
     "output_type": "execute_result"
    }
   ],
   "source": [
    "smallmask"
   ]
  },
  {
   "cell_type": "code",
   "execution_count": 32,
   "metadata": {},
   "outputs": [
    {
     "data": {
      "text/plain": [
       "29"
      ]
     },
     "execution_count": 32,
     "metadata": {},
     "output_type": "execute_result"
    }
   ],
   "source": [
    "smallmask.sum()"
   ]
  },
  {
   "cell_type": "code",
   "execution_count": 45,
   "metadata": {},
   "outputs": [
    {
     "data": {
      "text/plain": [
       "0         0_f585119c17d94c85a01c9b804f0ce294\n",
       "1        16_f585119c17d94c85a01c9b804f0ce294\n",
       "2        15_f585119c17d94c85a01c9b804f0ce294\n",
       "3        14_f585119c17d94c85a01c9b804f0ce294\n",
       "4        13_f585119c17d94c85a01c9b804f0ce294\n",
       "                        ...                 \n",
       "33995     1_f585119c17d94c85a01c9b804f0ce294\n",
       "33996     0_f585119c17d94c85a01c9b804f0ce294\n",
       "33997    15_f585119c17d94c85a01c9b804f0ce294\n",
       "33998     7_f585119c17d94c85a01c9b804f0ce294\n",
       "33999    16_f585119c17d94c85a01c9b804f0ce294\n",
       "Name: particle, Length: 34000, dtype: object"
      ]
     },
     "execution_count": 45,
     "metadata": {},
     "output_type": "execute_result"
    }
   ],
   "source": [
    "old[\"particle\"]"
   ]
  },
  {
   "cell_type": "code",
   "execution_count": 63,
   "metadata": {},
   "outputs": [
    {
     "data": {
      "text/html": [
       "<div>\n",
       "<style scoped>\n",
       "    .dataframe tbody tr th:only-of-type {\n",
       "        vertical-align: middle;\n",
       "    }\n",
       "\n",
       "    .dataframe tbody tr th {\n",
       "        vertical-align: top;\n",
       "    }\n",
       "\n",
       "    .dataframe thead th {\n",
       "        text-align: right;\n",
       "    }\n",
       "</style>\n",
       "<table border=\"1\" class=\"dataframe\">\n",
       "  <thead>\n",
       "    <tr style=\"text-align: right;\">\n",
       "      <th></th>\n",
       "      <th>y</th>\n",
       "      <th>x</th>\n",
       "      <th>mass</th>\n",
       "      <th>size</th>\n",
       "      <th>ecc</th>\n",
       "      <th>signal</th>\n",
       "      <th>raw_mass</th>\n",
       "      <th>ep</th>\n",
       "      <th>frame</th>\n",
       "      <th>cluster</th>\n",
       "      <th>...</th>\n",
       "      <th>red_int</th>\n",
       "      <th>red_bg</th>\n",
       "      <th>red_int_corrected</th>\n",
       "      <th>red_int_gausscorrected</th>\n",
       "      <th>red_int_mean</th>\n",
       "      <th>red_bg_mean</th>\n",
       "      <th>video_counter</th>\n",
       "      <th>set_zero</th>\n",
       "      <th>lowest_state</th>\n",
       "      <th>my_column</th>\n",
       "    </tr>\n",
       "  </thead>\n",
       "  <tbody>\n",
       "    <tr>\n",
       "      <th>0</th>\n",
       "      <td>13.426768</td>\n",
       "      <td>354.737702</td>\n",
       "      <td>13387.672688</td>\n",
       "      <td>1.804771</td>\n",
       "      <td>0.139063</td>\n",
       "      <td>2547.288857</td>\n",
       "      <td>240244.85</td>\n",
       "      <td>0.060203</td>\n",
       "      <td>0</td>\n",
       "      <td>0</td>\n",
       "      <td>...</td>\n",
       "      <td>754.572052</td>\n",
       "      <td>26.354543</td>\n",
       "      <td>-9.709684</td>\n",
       "      <td>-71297.567715</td>\n",
       "      <td>26.019726</td>\n",
       "      <td>32.044426</td>\n",
       "      <td>0</td>\n",
       "      <td>127.784646</td>\n",
       "      <td>0</td>\n",
       "      <td>63658.0</td>\n",
       "    </tr>\n",
       "    <tr>\n",
       "      <th>1</th>\n",
       "      <td>422.169923</td>\n",
       "      <td>327.472684</td>\n",
       "      <td>19529.042693</td>\n",
       "      <td>1.764414</td>\n",
       "      <td>0.140493</td>\n",
       "      <td>3903.123058</td>\n",
       "      <td>249011.85</td>\n",
       "      <td>0.050188</td>\n",
       "      <td>0</td>\n",
       "      <td>16</td>\n",
       "      <td>...</td>\n",
       "      <td>878.439241</td>\n",
       "      <td>22.529518</td>\n",
       "      <td>225.083219</td>\n",
       "      <td>-65573.968188</td>\n",
       "      <td>31.372830</td>\n",
       "      <td>27.843004</td>\n",
       "      <td>0</td>\n",
       "      <td>325.513664</td>\n",
       "      <td>0</td>\n",
       "      <td>NaN</td>\n",
       "    </tr>\n",
       "    <tr>\n",
       "      <th>2</th>\n",
       "      <td>353.680640</td>\n",
       "      <td>201.417482</td>\n",
       "      <td>14055.771517</td>\n",
       "      <td>1.792224</td>\n",
       "      <td>0.119780</td>\n",
       "      <td>2914.941805</td>\n",
       "      <td>248186.50</td>\n",
       "      <td>0.050987</td>\n",
       "      <td>0</td>\n",
       "      <td>15</td>\n",
       "      <td>...</td>\n",
       "      <td>832.895901</td>\n",
       "      <td>21.248585</td>\n",
       "      <td>216.686943</td>\n",
       "      <td>-68759.824881</td>\n",
       "      <td>28.720548</td>\n",
       "      <td>25.983452</td>\n",
       "      <td>0</td>\n",
       "      <td>285.824726</td>\n",
       "      <td>0</td>\n",
       "      <td>NaN</td>\n",
       "    </tr>\n",
       "    <tr>\n",
       "      <th>3</th>\n",
       "      <td>334.005809</td>\n",
       "      <td>235.682724</td>\n",
       "      <td>79786.417845</td>\n",
       "      <td>1.815748</td>\n",
       "      <td>0.127981</td>\n",
       "      <td>13257.345995</td>\n",
       "      <td>400584.90</td>\n",
       "      <td>0.012948</td>\n",
       "      <td>0</td>\n",
       "      <td>14</td>\n",
       "      <td>...</td>\n",
       "      <td>664.042886</td>\n",
       "      <td>21.454503</td>\n",
       "      <td>41.862292</td>\n",
       "      <td>-78923.095481</td>\n",
       "      <td>25.540111</td>\n",
       "      <td>25.972635</td>\n",
       "      <td>0</td>\n",
       "      <td>182.339281</td>\n",
       "      <td>0</td>\n",
       "      <td>NaN</td>\n",
       "    </tr>\n",
       "    <tr>\n",
       "      <th>4</th>\n",
       "      <td>321.824267</td>\n",
       "      <td>401.828673</td>\n",
       "      <td>12565.397206</td>\n",
       "      <td>1.836352</td>\n",
       "      <td>0.146128</td>\n",
       "      <td>1808.215844</td>\n",
       "      <td>236115.80</td>\n",
       "      <td>0.066448</td>\n",
       "      <td>0</td>\n",
       "      <td>13</td>\n",
       "      <td>...</td>\n",
       "      <td>699.861965</td>\n",
       "      <td>20.964312</td>\n",
       "      <td>91.896903</td>\n",
       "      <td>-77066.329705</td>\n",
       "      <td>24.995070</td>\n",
       "      <td>26.156633</td>\n",
       "      <td>0</td>\n",
       "      <td>146.970687</td>\n",
       "      <td>0</td>\n",
       "      <td>NaN</td>\n",
       "    </tr>\n",
       "    <tr>\n",
       "      <th>...</th>\n",
       "      <td>...</td>\n",
       "      <td>...</td>\n",
       "      <td>...</td>\n",
       "      <td>...</td>\n",
       "      <td>...</td>\n",
       "      <td>...</td>\n",
       "      <td>...</td>\n",
       "      <td>...</td>\n",
       "      <td>...</td>\n",
       "      <td>...</td>\n",
       "      <td>...</td>\n",
       "      <td>...</td>\n",
       "      <td>...</td>\n",
       "      <td>...</td>\n",
       "      <td>...</td>\n",
       "      <td>...</td>\n",
       "      <td>...</td>\n",
       "      <td>...</td>\n",
       "      <td>...</td>\n",
       "      <td>...</td>\n",
       "      <td>...</td>\n",
       "    </tr>\n",
       "    <tr>\n",
       "      <th>33995</th>\n",
       "      <td>37.465328</td>\n",
       "      <td>103.909040</td>\n",
       "      <td>22972.321273</td>\n",
       "      <td>1.836432</td>\n",
       "      <td>0.035717</td>\n",
       "      <td>3949.642210</td>\n",
       "      <td>265762.45</td>\n",
       "      <td>0.038084</td>\n",
       "      <td>1999</td>\n",
       "      <td>1</td>\n",
       "      <td>...</td>\n",
       "      <td>776.234379</td>\n",
       "      <td>23.080180</td>\n",
       "      <td>106.909159</td>\n",
       "      <td>-73643.177847</td>\n",
       "      <td>27.722656</td>\n",
       "      <td>28.342859</td>\n",
       "      <td>0</td>\n",
       "      <td>283.230817</td>\n",
       "      <td>0</td>\n",
       "      <td>NaN</td>\n",
       "    </tr>\n",
       "    <tr>\n",
       "      <th>33996</th>\n",
       "      <td>13.426768</td>\n",
       "      <td>354.737702</td>\n",
       "      <td>13387.672688</td>\n",
       "      <td>1.804771</td>\n",
       "      <td>0.139063</td>\n",
       "      <td>2547.288857</td>\n",
       "      <td>240244.85</td>\n",
       "      <td>0.060203</td>\n",
       "      <td>1999</td>\n",
       "      <td>0</td>\n",
       "      <td>...</td>\n",
       "      <td>992.526849</td>\n",
       "      <td>25.161414</td>\n",
       "      <td>262.845844</td>\n",
       "      <td>-71059.612918</td>\n",
       "      <td>34.225064</td>\n",
       "      <td>30.849932</td>\n",
       "      <td>0</td>\n",
       "      <td>365.739442</td>\n",
       "      <td>0</td>\n",
       "      <td>62148.0</td>\n",
       "    </tr>\n",
       "    <tr>\n",
       "      <th>33997</th>\n",
       "      <td>353.680640</td>\n",
       "      <td>201.417482</td>\n",
       "      <td>14055.771517</td>\n",
       "      <td>1.792224</td>\n",
       "      <td>0.119780</td>\n",
       "      <td>2914.941805</td>\n",
       "      <td>248186.50</td>\n",
       "      <td>0.050987</td>\n",
       "      <td>1999</td>\n",
       "      <td>15</td>\n",
       "      <td>...</td>\n",
       "      <td>654.600607</td>\n",
       "      <td>21.242898</td>\n",
       "      <td>38.556560</td>\n",
       "      <td>-68938.120175</td>\n",
       "      <td>22.572435</td>\n",
       "      <td>27.400105</td>\n",
       "      <td>0</td>\n",
       "      <td>107.529432</td>\n",
       "      <td>0</td>\n",
       "      <td>NaN</td>\n",
       "    </tr>\n",
       "    <tr>\n",
       "      <th>33998</th>\n",
       "      <td>177.309901</td>\n",
       "      <td>257.542748</td>\n",
       "      <td>64908.370846</td>\n",
       "      <td>1.904801</td>\n",
       "      <td>0.140919</td>\n",
       "      <td>10494.524141</td>\n",
       "      <td>373667.05</td>\n",
       "      <td>0.014914</td>\n",
       "      <td>1999</td>\n",
       "      <td>7</td>\n",
       "      <td>...</td>\n",
       "      <td>579.914192</td>\n",
       "      <td>21.791931</td>\n",
       "      <td>-52.051818</td>\n",
       "      <td>-71934.745720</td>\n",
       "      <td>19.997041</td>\n",
       "      <td>25.760036</td>\n",
       "      <td>0</td>\n",
       "      <td>35.317513</td>\n",
       "      <td>0</td>\n",
       "      <td>NaN</td>\n",
       "    </tr>\n",
       "    <tr>\n",
       "      <th>33999</th>\n",
       "      <td>422.169923</td>\n",
       "      <td>327.472684</td>\n",
       "      <td>19529.042693</td>\n",
       "      <td>1.764414</td>\n",
       "      <td>0.140493</td>\n",
       "      <td>3903.123058</td>\n",
       "      <td>249011.85</td>\n",
       "      <td>0.050188</td>\n",
       "      <td>1999</td>\n",
       "      <td>16</td>\n",
       "      <td>...</td>\n",
       "      <td>795.594224</td>\n",
       "      <td>21.152628</td>\n",
       "      <td>182.168004</td>\n",
       "      <td>-65656.813204</td>\n",
       "      <td>28.414079</td>\n",
       "      <td>26.338810</td>\n",
       "      <td>0</td>\n",
       "      <td>242.668648</td>\n",
       "      <td>0</td>\n",
       "      <td>NaN</td>\n",
       "    </tr>\n",
       "  </tbody>\n",
       "</table>\n",
       "<p>34000 rows × 24 columns</p>\n",
       "</div>"
      ],
      "text/plain": [
       "                y           x          mass      size       ecc        signal  \\\n",
       "0       13.426768  354.737702  13387.672688  1.804771  0.139063   2547.288857   \n",
       "1      422.169923  327.472684  19529.042693  1.764414  0.140493   3903.123058   \n",
       "2      353.680640  201.417482  14055.771517  1.792224  0.119780   2914.941805   \n",
       "3      334.005809  235.682724  79786.417845  1.815748  0.127981  13257.345995   \n",
       "4      321.824267  401.828673  12565.397206  1.836352  0.146128   1808.215844   \n",
       "...           ...         ...           ...       ...       ...           ...   \n",
       "33995   37.465328  103.909040  22972.321273  1.836432  0.035717   3949.642210   \n",
       "33996   13.426768  354.737702  13387.672688  1.804771  0.139063   2547.288857   \n",
       "33997  353.680640  201.417482  14055.771517  1.792224  0.119780   2914.941805   \n",
       "33998  177.309901  257.542748  64908.370846  1.904801  0.140919  10494.524141   \n",
       "33999  422.169923  327.472684  19529.042693  1.764414  0.140493   3903.123058   \n",
       "\n",
       "        raw_mass        ep  frame  cluster  ...     red_int     red_bg  \\\n",
       "0      240244.85  0.060203      0        0  ...  754.572052  26.354543   \n",
       "1      249011.85  0.050188      0       16  ...  878.439241  22.529518   \n",
       "2      248186.50  0.050987      0       15  ...  832.895901  21.248585   \n",
       "3      400584.90  0.012948      0       14  ...  664.042886  21.454503   \n",
       "4      236115.80  0.066448      0       13  ...  699.861965  20.964312   \n",
       "...          ...       ...    ...      ...  ...         ...        ...   \n",
       "33995  265762.45  0.038084   1999        1  ...  776.234379  23.080180   \n",
       "33996  240244.85  0.060203   1999        0  ...  992.526849  25.161414   \n",
       "33997  248186.50  0.050987   1999       15  ...  654.600607  21.242898   \n",
       "33998  373667.05  0.014914   1999        7  ...  579.914192  21.791931   \n",
       "33999  249011.85  0.050188   1999       16  ...  795.594224  21.152628   \n",
       "\n",
       "       red_int_corrected red_int_gausscorrected  red_int_mean  red_bg_mean  \\\n",
       "0              -9.709684          -71297.567715     26.019726    32.044426   \n",
       "1             225.083219          -65573.968188     31.372830    27.843004   \n",
       "2             216.686943          -68759.824881     28.720548    25.983452   \n",
       "3              41.862292          -78923.095481     25.540111    25.972635   \n",
       "4              91.896903          -77066.329705     24.995070    26.156633   \n",
       "...                  ...                    ...           ...          ...   \n",
       "33995         106.909159          -73643.177847     27.722656    28.342859   \n",
       "33996         262.845844          -71059.612918     34.225064    30.849932   \n",
       "33997          38.556560          -68938.120175     22.572435    27.400105   \n",
       "33998         -52.051818          -71934.745720     19.997041    25.760036   \n",
       "33999         182.168004          -65656.813204     28.414079    26.338810   \n",
       "\n",
       "       video_counter    set_zero  lowest_state  my_column  \n",
       "0                  0  127.784646             0    63658.0  \n",
       "1                  0  325.513664             0        NaN  \n",
       "2                  0  285.824726             0        NaN  \n",
       "3                  0  182.339281             0        NaN  \n",
       "4                  0  146.970687             0        NaN  \n",
       "...              ...         ...           ...        ...  \n",
       "33995              0  283.230817             0        NaN  \n",
       "33996              0  365.739442             0    62148.0  \n",
       "33997              0  107.529432             0        NaN  \n",
       "33998              0   35.317513             0        NaN  \n",
       "33999              0  242.668648             0        NaN  \n",
       "\n",
       "[34000 rows x 24 columns]"
      ]
     },
     "execution_count": 63,
     "metadata": {},
     "output_type": "execute_result"
    }
   ],
   "source": [
    "old"
   ]
  },
  {
   "cell_type": "code",
   "execution_count": 55,
   "metadata": {},
   "outputs": [
    {
     "data": {
      "text/plain": [
       "2000"
      ]
     },
     "execution_count": 55,
     "metadata": {},
     "output_type": "execute_result"
    }
   ],
   "source": [
    "old[old[\"particle\"] == \"0_f585119c17d94c85a01c9b804f0ce294\"].sort_values(\"frame\").__len__()"
   ]
  },
  {
   "cell_type": "code",
   "execution_count": 60,
   "metadata": {},
   "outputs": [],
   "source": [
    "ints = vid[:, i_slice, j_slice][:, smallmask].sum(axis = 1)\n",
    "old.loc[old[\"particle\"] == \"0_f585119c17d94c85a01c9b804f0ce294\", \"my_column\"] = ints"
   ]
  },
  {
   "cell_type": "code",
   "execution_count": 62,
   "metadata": {},
   "outputs": [
    {
     "data": {
      "text/plain": [
       "0        63658.0\n",
       "1            NaN\n",
       "2            NaN\n",
       "3            NaN\n",
       "4            NaN\n",
       "          ...   \n",
       "33995        NaN\n",
       "33996    62148.0\n",
       "33997        NaN\n",
       "33998        NaN\n",
       "33999        NaN\n",
       "Name: my_column, Length: 34000, dtype: float64"
      ]
     },
     "execution_count": 62,
     "metadata": {},
     "output_type": "execute_result"
    }
   ],
   "source": [
    "old.my_column"
   ]
  },
  {
   "cell_type": "code",
   "execution_count": 3,
   "metadata": {},
   "outputs": [],
   "source": [
    "vid_file = tifffile.TiffFile(r\"C:\\Users\\andre\\Documents\\tracking_optimizations\\emily_tracking\\sample_vids\\s_20.tif\").series[0]"
   ]
  },
  {
   "cell_type": "code",
   "execution_count": 33,
   "metadata": {},
   "outputs": [
    {
     "name": "stdout",
     "output_type": "stream",
     "text": [
      "2.658466339111328\n"
     ]
    }
   ],
   "source": [
    "import os, psutil\n",
    "process = psutil.Process(os.getpid())\n",
    "print(process.memory_info().rss / (1<<30))"
   ]
  },
  {
   "cell_type": "code",
   "execution_count": 80,
   "metadata": {},
   "outputs": [
    {
     "data": {
      "text/plain": [
       "array([[[2033., 2060., 2060., ..., 2254., 2325., 2038.],\n",
       "        [2060., 2132., 2094., ..., 2032., 2054., 2057.],\n",
       "        [2103., 2142., 2198., ..., 2078., 2112., 2208.],\n",
       "        ...,\n",
       "        [2086., 2057., 2075., ..., 2021., 2058., 2095.],\n",
       "        [2113., 2040., 2082., ..., 2022., 2024., 2155.],\n",
       "        [2089., 2091., 2122., ..., 2054., 2080., 2052.]],\n",
       "\n",
       "       [[2135., 2090., 2069., ..., 1990., 2043., 2059.],\n",
       "        [2012., 2124., 2328., ..., 2051., 2139., 2245.],\n",
       "        [2158., 2204., 2137., ..., 2069., 2091., 2055.],\n",
       "        ...,\n",
       "        [2102., 2240., 2146., ..., 2076., 2051., 2028.],\n",
       "        [2101., 2194., 2136., ..., 2139., 2131., 2102.],\n",
       "        [2094., 2254., 2123., ..., 2155., 2039., 2088.]],\n",
       "\n",
       "       [[2045., 2133., 2358., ..., 2025., 2020., 2053.],\n",
       "        [2050., 2083., 2104., ..., 2053., 2099., 2518.],\n",
       "        [2070., 2129., 2211., ..., 2080., 2041., 2107.],\n",
       "        ...,\n",
       "        [2102., 2139., 2231., ..., 2295., 2057., 2044.],\n",
       "        [2075., 2085., 2046., ..., 2069., 2082., 2046.],\n",
       "        [2059., 2047., 2148., ..., 2080., 2070., 2076.]],\n",
       "\n",
       "       ...,\n",
       "\n",
       "       [[2091., 2252., 2068., ..., 2021., 2022., 2025.],\n",
       "        [2165., 2221., 2076., ..., 2067., 2035., 1965.],\n",
       "        [2079., 2126., 2250., ..., 2140., 2072., 2060.],\n",
       "        ...,\n",
       "        [2155., 2199., 2094., ..., 2140., 2102., 2012.],\n",
       "        [2084., 2070., 2134., ..., 2060., 2011., 2039.],\n",
       "        [2124., 2090., 2108., ..., 2090., 2076., 1994.]],\n",
       "\n",
       "       [[2059., 2061., 2050., ..., 2013., 1984., 2000.],\n",
       "        [2042., 2031., 2052., ..., 2072., 2042., 2038.],\n",
       "        [2157., 2372., 2091., ..., 2226., 2086., 2037.],\n",
       "        ...,\n",
       "        [2019., 2144., 2243., ..., 2100., 2144., 2070.],\n",
       "        [2072., 2067., 2056., ..., 2050., 2046., 2044.],\n",
       "        [2081., 2112., 2102., ..., 2022., 2106., 2033.]],\n",
       "\n",
       "       [[2087., 2111., 2096., ..., 2060., 2124., 2007.],\n",
       "        [2064., 2090., 2064., ..., 2022., 2058., 2065.],\n",
       "        [2085., 2098., 2158., ..., 2082., 2030., 2076.],\n",
       "        ...,\n",
       "        [2104., 2085., 2147., ..., 2093., 2061., 2037.],\n",
       "        [2150., 2087., 2081., ..., 2022., 2086., 2054.],\n",
       "        [2222., 2293., 2096., ..., 2165., 2070., 2107.]]], dtype=float32)"
      ]
     },
     "execution_count": 80,
     "metadata": {},
     "output_type": "execute_result"
    }
   ],
   "source": [
    "test = VideoChunker(r\"C:\\Users\\andre\\Documents\\tracking_optimizations\\emily_tracking\\sample_vids\\s_20.tif\")\n",
    "next(test)"
   ]
  },
  {
   "cell_type": "code",
   "execution_count": 92,
   "metadata": {},
   "outputs": [],
   "source": [
    "params = hlt.Params(\n",
    "        lip_int_size = 9,  #originally 15 for first attemps\n",
    "        lip_BG_size = 80,   # originally 40 for first attemps\n",
    "        gap_size = 2, # adding gap\n",
    "        sep = 5,   # afstand mellem centrum af to partikler, 7 er meget lidt så skal være højere ved lavere densitet\n",
    "        mean_multiplier = 10,  #hvor mange partikler finder den, around 1-3, lavere giver flere partikler\n",
    "        object_size = 9, #diameter used in tp.locate, odd integer\n",
    "        n_processes = 8,\n",
    "        fit_processes = 4,\n",
    "        pixel_size = 1,\n",
    "    )"
   ]
  },
  {
   "cell_type": "code",
   "execution_count": 97,
   "metadata": {},
   "outputs": [],
   "source": [
    "data_type = np.float32\n",
    "import pickle\n",
    "with open(r\"C:\\Users\\andre\\Documents\\tracking_optimizations\\emily_tracking\\sample_vids\\output_f32\\random_pix_fits.pkl\", \"rb\") as file:\n",
    "    Gs_mean, offs_mean, hsh = pickle.load(file)\n",
    "vid = vid.astype(\"float32\")\n",
    "np.subtract(vid, offs_mean.astype(data_type), out = vid)\n",
    "np.divide(vid, Gs_mean.astype(data_type), out = vid)\n",
    "photon_movie = vid\n",
    "# photon_movie = (video - offs_mean.astype(data_type)) / Gs_mean.astype(data_type)\n",
    "corrected_mov = hlt.Correct_illumination_profile(photon_movie, 0, \"\")"
   ]
  },
  {
   "cell_type": "code",
   "execution_count": 102,
   "metadata": {},
   "outputs": [
    {
     "name": "stdout",
     "output_type": "stream",
     "text": [
      "Frame 199: 16 features\n"
     ]
    }
   ],
   "source": [
    "mean = vid[0].mean()\n",
    "track_df = tp.batch(vid[:100], params.object_size, invert = False, minmass = mean*params.mean_multiplier,\n",
    "                    separation = params.sep, processes = params.n_processes)\n",
    "track_df2 = tp.batch(vid[100:200], params.object_size, invert = False, minmass = mean*params.mean_multiplier,\n",
    "                    separation = params.sep, processes = params.n_processes)\n",
    "track_df3 = tp.batch(vid[:200], params.object_size, invert = False, minmass = mean*params.mean_multiplier,\n",
    "                    separation = params.sep, processes = params.n_processes)"
   ]
  },
  {
   "cell_type": "code",
   "execution_count": 108,
   "metadata": {},
   "outputs": [
    {
     "name": "stdout",
     "output_type": "stream",
     "text": [
      "Frame 99: 16 features\n",
      "7.78 s ± 295 ms per loop (mean ± std. dev. of 7 runs, 1 loop each)\n"
     ]
    }
   ],
   "source": [
    "%%timeit\n",
    "track_df = tp.batch(vid[:100], params.object_size, invert = False, minmass = mean*params.mean_multiplier,\n",
    "                    separation = params.sep, processes = params.n_processes)"
   ]
  },
  {
   "cell_type": "code",
   "execution_count": 110,
   "metadata": {},
   "outputs": [
    {
     "name": "stdout",
     "output_type": "stream",
     "text": [
      "Frame 299: 19 features\n"
     ]
    }
   ],
   "source": [
    "track_df = tp.batch(vid[:300], params.object_size, invert = False, minmass = mean*params.mean_multiplier,\n",
    "                    separation = params.sep, processes = params.n_processes)"
   ]
  },
  {
   "cell_type": "code",
   "execution_count": 107,
   "metadata": {},
   "outputs": [
    {
     "data": {
      "text/plain": [
       "y           True\n",
       "x           True\n",
       "mass        True\n",
       "size        True\n",
       "ecc         True\n",
       "signal      True\n",
       "raw_mass    True\n",
       "ep          True\n",
       "frame       True\n",
       "dtype: bool"
      ]
     },
     "execution_count": 107,
     "metadata": {},
     "output_type": "execute_result"
    }
   ],
   "source": [
    "track_df2[\"frame\"] = track_df2[\"frame\"] + 100\n",
    "(pd.concat([track_df, track_df2]).reset_index(drop = True) == track_df3).all()"
   ]
  },
  {
   "cell_type": "code",
   "execution_count": 115,
   "metadata": {},
   "outputs": [
    {
     "data": {
      "text/plain": [
       "0.33431243896484375"
      ]
     },
     "execution_count": 115,
     "metadata": {},
     "output_type": "execute_result"
    }
   ],
   "source": [
    "track_df.memory_usage().sum() / (1<<20)"
   ]
  },
  {
   "cell_type": "code",
   "execution_count": 116,
   "metadata": {},
   "outputs": [
    {
     "name": "stdout",
     "output_type": "stream",
     "text": [
      "Frame 1999: 3263 features\n"
     ]
    }
   ],
   "source": [
    "mean = vid[0].mean()\n",
    "old_track_df = tp.batch(old_style_vid, params.object_size, invert = False, minmass = mean*params.mean_multiplier,\n",
    "                    separation = params.sep, processes = params.n_processes)"
   ]
  },
  {
   "cell_type": "code",
   "execution_count": 88,
   "metadata": {},
   "outputs": [
    {
     "data": {
      "text/html": [
       "<div>\n",
       "<style scoped>\n",
       "    .dataframe tbody tr th:only-of-type {\n",
       "        vertical-align: middle;\n",
       "    }\n",
       "\n",
       "    .dataframe tbody tr th {\n",
       "        vertical-align: top;\n",
       "    }\n",
       "\n",
       "    .dataframe thead th {\n",
       "        text-align: right;\n",
       "    }\n",
       "</style>\n",
       "<table border=\"1\" class=\"dataframe\">\n",
       "  <thead>\n",
       "    <tr style=\"text-align: right;\">\n",
       "      <th></th>\n",
       "      <th>y</th>\n",
       "      <th>x</th>\n",
       "      <th>mass</th>\n",
       "      <th>size</th>\n",
       "      <th>ecc</th>\n",
       "      <th>signal</th>\n",
       "      <th>raw_mass</th>\n",
       "      <th>frame</th>\n",
       "      <th>frame</th>\n",
       "    </tr>\n",
       "  </thead>\n",
       "  <tbody>\n",
       "  </tbody>\n",
       "</table>\n",
       "</div>"
      ],
      "text/plain": [
       "Empty DataFrame\n",
       "Columns: [y, x, mass, size, ecc, signal, raw_mass, frame, frame]\n",
       "Index: []"
      ]
     },
     "execution_count": 88,
     "metadata": {},
     "output_type": "execute_result"
    }
   ],
   "source": [
    "track_df\n"
   ]
  },
  {
   "cell_type": "code",
   "execution_count": 43,
   "metadata": {},
   "outputs": [
    {
     "data": {
      "text/plain": [
       "1073741824"
      ]
     },
     "execution_count": 43,
     "metadata": {},
     "output_type": "execute_result"
    }
   ],
   "source": [
    "(1 << 30)"
   ]
  },
  {
   "cell_type": "code",
   "execution_count": null,
   "metadata": {},
   "outputs": [],
   "source": [
    "series.asarray[]"
   ]
  },
  {
   "cell_type": "code",
   "execution_count": 25,
   "metadata": {},
   "outputs": [
    {
     "data": {
      "text/plain": [
       "array([[[2033, 2060, 2060, ..., 2254, 2325, 2038],\n",
       "        [2060, 2132, 2094, ..., 2032, 2054, 2057],\n",
       "        [2103, 2142, 2198, ..., 2078, 2112, 2208],\n",
       "        ...,\n",
       "        [2086, 2057, 2075, ..., 2021, 2058, 2095],\n",
       "        [2113, 2040, 2082, ..., 2022, 2024, 2155],\n",
       "        [2089, 2091, 2122, ..., 2054, 2080, 2052]],\n",
       "\n",
       "       [[2135, 2090, 2069, ..., 1990, 2043, 2059],\n",
       "        [2012, 2124, 2328, ..., 2051, 2139, 2245],\n",
       "        [2158, 2204, 2137, ..., 2069, 2091, 2055],\n",
       "        ...,\n",
       "        [2102, 2240, 2146, ..., 2076, 2051, 2028],\n",
       "        [2101, 2194, 2136, ..., 2139, 2131, 2102],\n",
       "        [2094, 2254, 2123, ..., 2155, 2039, 2088]],\n",
       "\n",
       "       [[2045, 2133, 2358, ..., 2025, 2020, 2053],\n",
       "        [2050, 2083, 2104, ..., 2053, 2099, 2518],\n",
       "        [2070, 2129, 2211, ..., 2080, 2041, 2107],\n",
       "        ...,\n",
       "        [2102, 2139, 2231, ..., 2295, 2057, 2044],\n",
       "        [2075, 2085, 2046, ..., 2069, 2082, 2046],\n",
       "        [2059, 2047, 2148, ..., 2080, 2070, 2076]],\n",
       "\n",
       "       ...,\n",
       "\n",
       "       [[2099, 2057, 2051, ..., 1990, 2027, 2047],\n",
       "        [2096, 2227, 2102, ..., 2020, 2000, 2050],\n",
       "        [2086, 2129, 2084, ..., 2032, 2042, 2080],\n",
       "        ...,\n",
       "        [2152, 2400, 2174, ..., 2285, 2032, 2108],\n",
       "        [2058, 2119, 2185, ..., 2082, 2008, 2086],\n",
       "        [2098, 2082, 2094, ..., 2069, 2163, 2055]],\n",
       "\n",
       "       [[2088, 2035, 2048, ..., 2032, 2052, 2092],\n",
       "        [2059, 2084, 2058, ..., 2041, 2169, 2166],\n",
       "        [2174, 2084, 2132, ..., 2085, 2179, 2026],\n",
       "        ...,\n",
       "        [2052, 2099, 2079, ..., 2124, 2089, 2255],\n",
       "        [2079, 2098, 2110, ..., 2120, 2084, 2110],\n",
       "        [2089, 2174, 2104, ..., 2124, 2169, 2327]],\n",
       "\n",
       "       [[2104, 2113, 2291, ..., 2030, 2215, 2030],\n",
       "        [2062, 2096, 2056, ..., 1977, 2008, 2022],\n",
       "        [2070, 2134, 2123, ..., 2100, 2074, 2049],\n",
       "        ...,\n",
       "        [2100, 2129, 2155, ..., 2071, 2099, 2074],\n",
       "        [2168, 2063, 2124, ..., 2037, 2136, 2211],\n",
       "        [2181, 2137, 2078, ..., 2069, 2207, 2051]]], dtype=uint16)"
      ]
     },
     "execution_count": 25,
     "metadata": {},
     "output_type": "execute_result"
    }
   ],
   "source": [
    "tifffile.imread(r\"C:\\Users\\andre\\Documents\\tracking_optimizations\\emily_tracking\\sample_vids\\s_20.tif\", key = range())"
   ]
  },
  {
   "cell_type": "code",
   "execution_count": 26,
   "metadata": {},
   "outputs": [
    {
     "data": {
      "text/html": [
       "<div>\n",
       "<style scoped>\n",
       "    .dataframe tbody tr th:only-of-type {\n",
       "        vertical-align: middle;\n",
       "    }\n",
       "\n",
       "    .dataframe tbody tr th {\n",
       "        vertical-align: top;\n",
       "    }\n",
       "\n",
       "    .dataframe thead th {\n",
       "        text-align: right;\n",
       "    }\n",
       "</style>\n",
       "<table border=\"1\" class=\"dataframe\">\n",
       "  <thead>\n",
       "    <tr style=\"text-align: right;\">\n",
       "      <th></th>\n",
       "      <th>background</th>\n",
       "      <th>cluster</th>\n",
       "      <th>cluster_size</th>\n",
       "      <th>cost</th>\n",
       "      <th>ecc</th>\n",
       "      <th>ep</th>\n",
       "      <th>frame</th>\n",
       "      <th>lowest_state</th>\n",
       "      <th>mass</th>\n",
       "      <th>particle</th>\n",
       "      <th>...</th>\n",
       "      <th>red_int</th>\n",
       "      <th>red_int_corrected</th>\n",
       "      <th>red_int_gausscorrected</th>\n",
       "      <th>red_int_mean</th>\n",
       "      <th>set_zero</th>\n",
       "      <th>signal</th>\n",
       "      <th>size</th>\n",
       "      <th>video_counter</th>\n",
       "      <th>x</th>\n",
       "      <th>y</th>\n",
       "    </tr>\n",
       "  </thead>\n",
       "  <tbody>\n",
       "    <tr>\n",
       "      <th>0</th>\n",
       "      <td>0.0</td>\n",
       "      <td>NaN</td>\n",
       "      <td>0.0</td>\n",
       "      <td>0.0</td>\n",
       "      <td>0.0</td>\n",
       "      <td>0.0</td>\n",
       "      <td>0.0</td>\n",
       "      <td>NaN</td>\n",
       "      <td>0.0</td>\n",
       "      <td>NaN</td>\n",
       "      <td>...</td>\n",
       "      <td>0.059540</td>\n",
       "      <td>0.012222</td>\n",
       "      <td>-0.000885</td>\n",
       "      <td>0.059540</td>\n",
       "      <td>NaN</td>\n",
       "      <td>0.0</td>\n",
       "      <td>0.0</td>\n",
       "      <td>NaN</td>\n",
       "      <td>0.0</td>\n",
       "      <td>0.0</td>\n",
       "    </tr>\n",
       "    <tr>\n",
       "      <th>1</th>\n",
       "      <td>0.0</td>\n",
       "      <td>0.0</td>\n",
       "      <td>0.0</td>\n",
       "      <td>0.0</td>\n",
       "      <td>0.0</td>\n",
       "      <td>0.0</td>\n",
       "      <td>0.0</td>\n",
       "      <td>NaN</td>\n",
       "      <td>0.0</td>\n",
       "      <td>NaN</td>\n",
       "      <td>...</td>\n",
       "      <td>0.060936</td>\n",
       "      <td>0.007243</td>\n",
       "      <td>-0.000748</td>\n",
       "      <td>0.060936</td>\n",
       "      <td>NaN</td>\n",
       "      <td>0.0</td>\n",
       "      <td>0.0</td>\n",
       "      <td>NaN</td>\n",
       "      <td>0.0</td>\n",
       "      <td>0.0</td>\n",
       "    </tr>\n",
       "    <tr>\n",
       "      <th>2</th>\n",
       "      <td>0.0</td>\n",
       "      <td>0.0</td>\n",
       "      <td>0.0</td>\n",
       "      <td>0.0</td>\n",
       "      <td>0.0</td>\n",
       "      <td>0.0</td>\n",
       "      <td>0.0</td>\n",
       "      <td>NaN</td>\n",
       "      <td>0.0</td>\n",
       "      <td>NaN</td>\n",
       "      <td>...</td>\n",
       "      <td>0.077081</td>\n",
       "      <td>0.157581</td>\n",
       "      <td>-0.000737</td>\n",
       "      <td>0.077081</td>\n",
       "      <td>NaN</td>\n",
       "      <td>0.0</td>\n",
       "      <td>0.0</td>\n",
       "      <td>NaN</td>\n",
       "      <td>0.0</td>\n",
       "      <td>0.0</td>\n",
       "    </tr>\n",
       "    <tr>\n",
       "      <th>3</th>\n",
       "      <td>0.0</td>\n",
       "      <td>0.0</td>\n",
       "      <td>0.0</td>\n",
       "      <td>0.0</td>\n",
       "      <td>0.0</td>\n",
       "      <td>0.0</td>\n",
       "      <td>0.0</td>\n",
       "      <td>NaN</td>\n",
       "      <td>0.0</td>\n",
       "      <td>NaN</td>\n",
       "      <td>...</td>\n",
       "      <td>0.069328</td>\n",
       "      <td>0.004719</td>\n",
       "      <td>-0.001424</td>\n",
       "      <td>0.069328</td>\n",
       "      <td>NaN</td>\n",
       "      <td>0.0</td>\n",
       "      <td>0.0</td>\n",
       "      <td>NaN</td>\n",
       "      <td>0.0</td>\n",
       "      <td>0.0</td>\n",
       "    </tr>\n",
       "    <tr>\n",
       "      <th>4</th>\n",
       "      <td>0.0</td>\n",
       "      <td>0.0</td>\n",
       "      <td>0.0</td>\n",
       "      <td>0.0</td>\n",
       "      <td>0.0</td>\n",
       "      <td>0.0</td>\n",
       "      <td>0.0</td>\n",
       "      <td>NaN</td>\n",
       "      <td>0.0</td>\n",
       "      <td>NaN</td>\n",
       "      <td>...</td>\n",
       "      <td>0.077031</td>\n",
       "      <td>0.035433</td>\n",
       "      <td>-0.000885</td>\n",
       "      <td>0.077031</td>\n",
       "      <td>NaN</td>\n",
       "      <td>0.0</td>\n",
       "      <td>0.0</td>\n",
       "      <td>NaN</td>\n",
       "      <td>0.0</td>\n",
       "      <td>0.0</td>\n",
       "    </tr>\n",
       "    <tr>\n",
       "      <th>...</th>\n",
       "      <td>...</td>\n",
       "      <td>...</td>\n",
       "      <td>...</td>\n",
       "      <td>...</td>\n",
       "      <td>...</td>\n",
       "      <td>...</td>\n",
       "      <td>...</td>\n",
       "      <td>...</td>\n",
       "      <td>...</td>\n",
       "      <td>...</td>\n",
       "      <td>...</td>\n",
       "      <td>...</td>\n",
       "      <td>...</td>\n",
       "      <td>...</td>\n",
       "      <td>...</td>\n",
       "      <td>...</td>\n",
       "      <td>...</td>\n",
       "      <td>...</td>\n",
       "      <td>...</td>\n",
       "      <td>...</td>\n",
       "      <td>...</td>\n",
       "    </tr>\n",
       "    <tr>\n",
       "      <th>33995</th>\n",
       "      <td>0.0</td>\n",
       "      <td>0.0</td>\n",
       "      <td>0.0</td>\n",
       "      <td>0.0</td>\n",
       "      <td>0.0</td>\n",
       "      <td>0.0</td>\n",
       "      <td>0.0</td>\n",
       "      <td>NaN</td>\n",
       "      <td>0.0</td>\n",
       "      <td>NaN</td>\n",
       "      <td>...</td>\n",
       "      <td>0.061201</td>\n",
       "      <td>0.016544</td>\n",
       "      <td>-0.001050</td>\n",
       "      <td>0.061201</td>\n",
       "      <td>NaN</td>\n",
       "      <td>0.0</td>\n",
       "      <td>0.0</td>\n",
       "      <td>NaN</td>\n",
       "      <td>0.0</td>\n",
       "      <td>0.0</td>\n",
       "    </tr>\n",
       "    <tr>\n",
       "      <th>33996</th>\n",
       "      <td>0.0</td>\n",
       "      <td>0.0</td>\n",
       "      <td>0.0</td>\n",
       "      <td>0.0</td>\n",
       "      <td>0.0</td>\n",
       "      <td>0.0</td>\n",
       "      <td>0.0</td>\n",
       "      <td>NaN</td>\n",
       "      <td>0.0</td>\n",
       "      <td>NaN</td>\n",
       "      <td>...</td>\n",
       "      <td>0.074980</td>\n",
       "      <td>-0.022314</td>\n",
       "      <td>-0.000285</td>\n",
       "      <td>0.074980</td>\n",
       "      <td>NaN</td>\n",
       "      <td>0.0</td>\n",
       "      <td>0.0</td>\n",
       "      <td>NaN</td>\n",
       "      <td>0.0</td>\n",
       "      <td>0.0</td>\n",
       "    </tr>\n",
       "    <tr>\n",
       "      <th>33997</th>\n",
       "      <td>0.0</td>\n",
       "      <td>0.0</td>\n",
       "      <td>0.0</td>\n",
       "      <td>0.0</td>\n",
       "      <td>0.0</td>\n",
       "      <td>0.0</td>\n",
       "      <td>0.0</td>\n",
       "      <td>NaN</td>\n",
       "      <td>0.0</td>\n",
       "      <td>NaN</td>\n",
       "      <td>...</td>\n",
       "      <td>0.070135</td>\n",
       "      <td>-0.000802</td>\n",
       "      <td>-0.000796</td>\n",
       "      <td>0.070135</td>\n",
       "      <td>NaN</td>\n",
       "      <td>0.0</td>\n",
       "      <td>0.0</td>\n",
       "      <td>NaN</td>\n",
       "      <td>0.0</td>\n",
       "      <td>0.0</td>\n",
       "    </tr>\n",
       "    <tr>\n",
       "      <th>33998</th>\n",
       "      <td>0.0</td>\n",
       "      <td>0.0</td>\n",
       "      <td>0.0</td>\n",
       "      <td>0.0</td>\n",
       "      <td>0.0</td>\n",
       "      <td>0.0</td>\n",
       "      <td>0.0</td>\n",
       "      <td>NaN</td>\n",
       "      <td>0.0</td>\n",
       "      <td>NaN</td>\n",
       "      <td>...</td>\n",
       "      <td>0.081027</td>\n",
       "      <td>0.021662</td>\n",
       "      <td>-0.000838</td>\n",
       "      <td>0.081027</td>\n",
       "      <td>NaN</td>\n",
       "      <td>0.0</td>\n",
       "      <td>0.0</td>\n",
       "      <td>NaN</td>\n",
       "      <td>0.0</td>\n",
       "      <td>0.0</td>\n",
       "    </tr>\n",
       "    <tr>\n",
       "      <th>33999</th>\n",
       "      <td>0.0</td>\n",
       "      <td>0.0</td>\n",
       "      <td>0.0</td>\n",
       "      <td>0.0</td>\n",
       "      <td>0.0</td>\n",
       "      <td>0.0</td>\n",
       "      <td>0.0</td>\n",
       "      <td>NaN</td>\n",
       "      <td>0.0</td>\n",
       "      <td>NaN</td>\n",
       "      <td>...</td>\n",
       "      <td>0.069277</td>\n",
       "      <td>0.012507</td>\n",
       "      <td>-0.000903</td>\n",
       "      <td>0.069277</td>\n",
       "      <td>NaN</td>\n",
       "      <td>0.0</td>\n",
       "      <td>0.0</td>\n",
       "      <td>NaN</td>\n",
       "      <td>0.0</td>\n",
       "      <td>0.0</td>\n",
       "    </tr>\n",
       "  </tbody>\n",
       "</table>\n",
       "<p>34000 rows × 23 columns</p>\n",
       "</div>"
      ],
      "text/plain": [
       "       background  cluster  cluster_size  cost  ecc   ep  frame  lowest_state  \\\n",
       "0             0.0      NaN           0.0   0.0  0.0  0.0    0.0           NaN   \n",
       "1             0.0      0.0           0.0   0.0  0.0  0.0    0.0           NaN   \n",
       "2             0.0      0.0           0.0   0.0  0.0  0.0    0.0           NaN   \n",
       "3             0.0      0.0           0.0   0.0  0.0  0.0    0.0           NaN   \n",
       "4             0.0      0.0           0.0   0.0  0.0  0.0    0.0           NaN   \n",
       "...           ...      ...           ...   ...  ...  ...    ...           ...   \n",
       "33995         0.0      0.0           0.0   0.0  0.0  0.0    0.0           NaN   \n",
       "33996         0.0      0.0           0.0   0.0  0.0  0.0    0.0           NaN   \n",
       "33997         0.0      0.0           0.0   0.0  0.0  0.0    0.0           NaN   \n",
       "33998         0.0      0.0           0.0   0.0  0.0  0.0    0.0           NaN   \n",
       "33999         0.0      0.0           0.0   0.0  0.0  0.0    0.0           NaN   \n",
       "\n",
       "       mass  particle  ...   red_int  red_int_corrected  \\\n",
       "0       0.0       NaN  ...  0.059540           0.012222   \n",
       "1       0.0       NaN  ...  0.060936           0.007243   \n",
       "2       0.0       NaN  ...  0.077081           0.157581   \n",
       "3       0.0       NaN  ...  0.069328           0.004719   \n",
       "4       0.0       NaN  ...  0.077031           0.035433   \n",
       "...     ...       ...  ...       ...                ...   \n",
       "33995   0.0       NaN  ...  0.061201           0.016544   \n",
       "33996   0.0       NaN  ...  0.074980          -0.022314   \n",
       "33997   0.0       NaN  ...  0.070135          -0.000802   \n",
       "33998   0.0       NaN  ...  0.081027           0.021662   \n",
       "33999   0.0       NaN  ...  0.069277           0.012507   \n",
       "\n",
       "       red_int_gausscorrected  red_int_mean  set_zero  signal  size  \\\n",
       "0                   -0.000885      0.059540       NaN     0.0   0.0   \n",
       "1                   -0.000748      0.060936       NaN     0.0   0.0   \n",
       "2                   -0.000737      0.077081       NaN     0.0   0.0   \n",
       "3                   -0.001424      0.069328       NaN     0.0   0.0   \n",
       "4                   -0.000885      0.077031       NaN     0.0   0.0   \n",
       "...                       ...           ...       ...     ...   ...   \n",
       "33995               -0.001050      0.061201       NaN     0.0   0.0   \n",
       "33996               -0.000285      0.074980       NaN     0.0   0.0   \n",
       "33997               -0.000796      0.070135       NaN     0.0   0.0   \n",
       "33998               -0.000838      0.081027       NaN     0.0   0.0   \n",
       "33999               -0.000903      0.069277       NaN     0.0   0.0   \n",
       "\n",
       "       video_counter    x    y  \n",
       "0                NaN  0.0  0.0  \n",
       "1                NaN  0.0  0.0  \n",
       "2                NaN  0.0  0.0  \n",
       "3                NaN  0.0  0.0  \n",
       "4                NaN  0.0  0.0  \n",
       "...              ...  ...  ...  \n",
       "33995            NaN  0.0  0.0  \n",
       "33996            NaN  0.0  0.0  \n",
       "33997            NaN  0.0  0.0  \n",
       "33998            NaN  0.0  0.0  \n",
       "33999            NaN  0.0  0.0  \n",
       "\n",
       "[34000 rows x 23 columns]"
      ]
     },
     "execution_count": 26,
     "metadata": {},
     "output_type": "execute_result"
    }
   ],
   "source": []
  },
  {
   "cell_type": "code",
   "execution_count": 9,
   "metadata": {},
   "outputs": [
    {
     "ename": "TypeError",
     "evalue": "unsupported operand type(s) for -: 'str' and 'str'",
     "output_type": "error",
     "traceback": [
      "\u001b[1;31m---------------------------------------------------------------------------\u001b[0m",
      "\u001b[1;31mTypeError\u001b[0m                                 Traceback (most recent call last)",
      "File \u001b[1;32mc:\\Users\\andre\\anaconda3\\envs\\tracking-script\\lib\\site-packages\\pandas\\core\\ops\\array_ops.py:163\u001b[0m, in \u001b[0;36m_na_arithmetic_op\u001b[1;34m(left, right, op, is_cmp)\u001b[0m\n\u001b[0;32m    162\u001b[0m \u001b[39mtry\u001b[39;00m:\n\u001b[1;32m--> 163\u001b[0m     result \u001b[39m=\u001b[39m func(left, right)\n\u001b[0;32m    164\u001b[0m \u001b[39mexcept\u001b[39;00m \u001b[39mTypeError\u001b[39;00m:\n",
      "File \u001b[1;32mc:\\Users\\andre\\anaconda3\\envs\\tracking-script\\lib\\site-packages\\pandas\\core\\computation\\expressions.py:239\u001b[0m, in \u001b[0;36mevaluate\u001b[1;34m(op, a, b, use_numexpr)\u001b[0m\n\u001b[0;32m    237\u001b[0m     \u001b[39mif\u001b[39;00m use_numexpr:\n\u001b[0;32m    238\u001b[0m         \u001b[39m# error: \"None\" not callable\u001b[39;00m\n\u001b[1;32m--> 239\u001b[0m         \u001b[39mreturn\u001b[39;00m _evaluate(op, op_str, a, b)  \u001b[39m# type: ignore[misc]\u001b[39;00m\n\u001b[0;32m    240\u001b[0m \u001b[39mreturn\u001b[39;00m _evaluate_standard(op, op_str, a, b)\n",
      "File \u001b[1;32mc:\\Users\\andre\\anaconda3\\envs\\tracking-script\\lib\\site-packages\\pandas\\core\\computation\\expressions.py:128\u001b[0m, in \u001b[0;36m_evaluate_numexpr\u001b[1;34m(op, op_str, a, b)\u001b[0m\n\u001b[0;32m    127\u001b[0m \u001b[39mif\u001b[39;00m result \u001b[39mis\u001b[39;00m \u001b[39mNone\u001b[39;00m:\n\u001b[1;32m--> 128\u001b[0m     result \u001b[39m=\u001b[39m _evaluate_standard(op, op_str, a, b)\n\u001b[0;32m    130\u001b[0m \u001b[39mreturn\u001b[39;00m result\n",
      "File \u001b[1;32mc:\\Users\\andre\\anaconda3\\envs\\tracking-script\\lib\\site-packages\\pandas\\core\\computation\\expressions.py:69\u001b[0m, in \u001b[0;36m_evaluate_standard\u001b[1;34m(op, op_str, a, b)\u001b[0m\n\u001b[0;32m     68\u001b[0m     _store_test_result(\u001b[39mFalse\u001b[39;00m)\n\u001b[1;32m---> 69\u001b[0m \u001b[39mreturn\u001b[39;00m op(a, b)\n",
      "\u001b[1;31mTypeError\u001b[0m: unsupported operand type(s) for -: 'str' and 'str'",
      "\nDuring handling of the above exception, another exception occurred:\n",
      "\u001b[1;31mTypeError\u001b[0m                                 Traceback (most recent call last)",
      "\u001b[1;32mc:\\Users\\andre\\Documents\\tracking_optimizations\\emily_tracking\\exploration.ipynb Cell 4\u001b[0m in \u001b[0;36m<cell line: 1>\u001b[1;34m()\u001b[0m\n\u001b[1;32m----> <a href='vscode-notebook-cell:/c%3A/Users/andre/Documents/tracking_optimizations/emily_tracking/exploration.ipynb#X14sZmlsZQ%3D%3D?line=0'>1</a>\u001b[0m df \u001b[39m-\u001b[39;49m df_f32\n",
      "File \u001b[1;32mc:\\Users\\andre\\anaconda3\\envs\\tracking-script\\lib\\site-packages\\pandas\\core\\ops\\common.py:70\u001b[0m, in \u001b[0;36m_unpack_zerodim_and_defer.<locals>.new_method\u001b[1;34m(self, other)\u001b[0m\n\u001b[0;32m     66\u001b[0m             \u001b[39mreturn\u001b[39;00m \u001b[39mNotImplemented\u001b[39m\n\u001b[0;32m     68\u001b[0m other \u001b[39m=\u001b[39m item_from_zerodim(other)\n\u001b[1;32m---> 70\u001b[0m \u001b[39mreturn\u001b[39;00m method(\u001b[39mself\u001b[39;49m, other)\n",
      "File \u001b[1;32mc:\\Users\\andre\\anaconda3\\envs\\tracking-script\\lib\\site-packages\\pandas\\core\\arraylike.py:108\u001b[0m, in \u001b[0;36mOpsMixin.__sub__\u001b[1;34m(self, other)\u001b[0m\n\u001b[0;32m    106\u001b[0m \u001b[39m@unpack_zerodim_and_defer\u001b[39m(\u001b[39m\"\u001b[39m\u001b[39m__sub__\u001b[39m\u001b[39m\"\u001b[39m)\n\u001b[0;32m    107\u001b[0m \u001b[39mdef\u001b[39;00m \u001b[39m__sub__\u001b[39m(\u001b[39mself\u001b[39m, other):\n\u001b[1;32m--> 108\u001b[0m     \u001b[39mreturn\u001b[39;00m \u001b[39mself\u001b[39;49m\u001b[39m.\u001b[39;49m_arith_method(other, operator\u001b[39m.\u001b[39;49msub)\n",
      "File \u001b[1;32mc:\\Users\\andre\\anaconda3\\envs\\tracking-script\\lib\\site-packages\\pandas\\core\\frame.py:6952\u001b[0m, in \u001b[0;36mDataFrame._arith_method\u001b[1;34m(self, other, op)\u001b[0m\n\u001b[0;32m   6948\u001b[0m other \u001b[39m=\u001b[39m ops\u001b[39m.\u001b[39mmaybe_prepare_scalar_for_op(other, (\u001b[39mself\u001b[39m\u001b[39m.\u001b[39mshape[axis],))\n\u001b[0;32m   6950\u001b[0m \u001b[39mself\u001b[39m, other \u001b[39m=\u001b[39m ops\u001b[39m.\u001b[39malign_method_FRAME(\u001b[39mself\u001b[39m, other, axis, flex\u001b[39m=\u001b[39m\u001b[39mTrue\u001b[39;00m, level\u001b[39m=\u001b[39m\u001b[39mNone\u001b[39;00m)\n\u001b[1;32m-> 6952\u001b[0m new_data \u001b[39m=\u001b[39m \u001b[39mself\u001b[39;49m\u001b[39m.\u001b[39;49m_dispatch_frame_op(other, op, axis\u001b[39m=\u001b[39;49maxis)\n\u001b[0;32m   6953\u001b[0m \u001b[39mreturn\u001b[39;00m \u001b[39mself\u001b[39m\u001b[39m.\u001b[39m_construct_result(new_data)\n",
      "File \u001b[1;32mc:\\Users\\andre\\anaconda3\\envs\\tracking-script\\lib\\site-packages\\pandas\\core\\frame.py:6991\u001b[0m, in \u001b[0;36mDataFrame._dispatch_frame_op\u001b[1;34m(self, right, func, axis)\u001b[0m\n\u001b[0;32m   6985\u001b[0m     \u001b[39m# TODO: The previous assertion `assert right._indexed_same(self)`\u001b[39;00m\n\u001b[0;32m   6986\u001b[0m     \u001b[39m#  fails in cases with empty columns reached via\u001b[39;00m\n\u001b[0;32m   6987\u001b[0m     \u001b[39m#  _frame_arith_method_with_reindex\u001b[39;00m\n\u001b[0;32m   6988\u001b[0m \n\u001b[0;32m   6989\u001b[0m     \u001b[39m# TODO operate_blockwise expects a manager of the same type\u001b[39;00m\n\u001b[0;32m   6990\u001b[0m     \u001b[39mwith\u001b[39;00m np\u001b[39m.\u001b[39merrstate(\u001b[39mall\u001b[39m\u001b[39m=\u001b[39m\u001b[39m\"\u001b[39m\u001b[39mignore\u001b[39m\u001b[39m\"\u001b[39m):\n\u001b[1;32m-> 6991\u001b[0m         bm \u001b[39m=\u001b[39m \u001b[39mself\u001b[39;49m\u001b[39m.\u001b[39;49m_mgr\u001b[39m.\u001b[39;49moperate_blockwise(\n\u001b[0;32m   6992\u001b[0m             \u001b[39m# error: Argument 1 to \"operate_blockwise\" of \"ArrayManager\" has\u001b[39;49;00m\n\u001b[0;32m   6993\u001b[0m             \u001b[39m# incompatible type \"Union[ArrayManager, BlockManager]\"; expected\u001b[39;49;00m\n\u001b[0;32m   6994\u001b[0m             \u001b[39m# \"ArrayManager\"\u001b[39;49;00m\n\u001b[0;32m   6995\u001b[0m             \u001b[39m# error: Argument 1 to \"operate_blockwise\" of \"BlockManager\" has\u001b[39;49;00m\n\u001b[0;32m   6996\u001b[0m             \u001b[39m# incompatible type \"Union[ArrayManager, BlockManager]\"; expected\u001b[39;49;00m\n\u001b[0;32m   6997\u001b[0m             \u001b[39m# \"BlockManager\"\u001b[39;49;00m\n\u001b[0;32m   6998\u001b[0m             right\u001b[39m.\u001b[39;49m_mgr,  \u001b[39m# type: ignore[arg-type]\u001b[39;49;00m\n\u001b[0;32m   6999\u001b[0m             array_op,\n\u001b[0;32m   7000\u001b[0m         )\n\u001b[0;32m   7001\u001b[0m     \u001b[39mreturn\u001b[39;00m \u001b[39mself\u001b[39m\u001b[39m.\u001b[39m_constructor(bm)\n\u001b[0;32m   7003\u001b[0m \u001b[39melif\u001b[39;00m \u001b[39misinstance\u001b[39m(right, Series) \u001b[39mand\u001b[39;00m axis \u001b[39m==\u001b[39m \u001b[39m1\u001b[39m:\n\u001b[0;32m   7004\u001b[0m     \u001b[39m# axis=1 means we want to operate row-by-row\u001b[39;00m\n",
      "File \u001b[1;32mc:\\Users\\andre\\anaconda3\\envs\\tracking-script\\lib\\site-packages\\pandas\\core\\internals\\managers.py:1409\u001b[0m, in \u001b[0;36mBlockManager.operate_blockwise\u001b[1;34m(self, other, array_op)\u001b[0m\n\u001b[0;32m   1405\u001b[0m \u001b[39mdef\u001b[39;00m \u001b[39moperate_blockwise\u001b[39m(\u001b[39mself\u001b[39m, other: BlockManager, array_op) \u001b[39m-\u001b[39m\u001b[39m>\u001b[39m BlockManager:\n\u001b[0;32m   1406\u001b[0m     \u001b[39m\"\"\"\u001b[39;00m\n\u001b[0;32m   1407\u001b[0m \u001b[39m    Apply array_op blockwise with another (aligned) BlockManager.\u001b[39;00m\n\u001b[0;32m   1408\u001b[0m \u001b[39m    \"\"\"\u001b[39;00m\n\u001b[1;32m-> 1409\u001b[0m     \u001b[39mreturn\u001b[39;00m operate_blockwise(\u001b[39mself\u001b[39;49m, other, array_op)\n",
      "File \u001b[1;32mc:\\Users\\andre\\anaconda3\\envs\\tracking-script\\lib\\site-packages\\pandas\\core\\internals\\ops.py:63\u001b[0m, in \u001b[0;36moperate_blockwise\u001b[1;34m(left, right, array_op)\u001b[0m\n\u001b[0;32m     61\u001b[0m res_blks: \u001b[39mlist\u001b[39m[Block] \u001b[39m=\u001b[39m []\n\u001b[0;32m     62\u001b[0m \u001b[39mfor\u001b[39;00m lvals, rvals, locs, left_ea, right_ea, rblk \u001b[39min\u001b[39;00m _iter_block_pairs(left, right):\n\u001b[1;32m---> 63\u001b[0m     res_values \u001b[39m=\u001b[39m array_op(lvals, rvals)\n\u001b[0;32m     64\u001b[0m     \u001b[39mif\u001b[39;00m left_ea \u001b[39mand\u001b[39;00m \u001b[39mnot\u001b[39;00m right_ea \u001b[39mand\u001b[39;00m \u001b[39mhasattr\u001b[39m(res_values, \u001b[39m\"\u001b[39m\u001b[39mreshape\u001b[39m\u001b[39m\"\u001b[39m):\n\u001b[0;32m     65\u001b[0m         res_values \u001b[39m=\u001b[39m res_values\u001b[39m.\u001b[39mreshape(\u001b[39m1\u001b[39m, \u001b[39m-\u001b[39m\u001b[39m1\u001b[39m)\n",
      "File \u001b[1;32mc:\\Users\\andre\\anaconda3\\envs\\tracking-script\\lib\\site-packages\\pandas\\core\\ops\\array_ops.py:222\u001b[0m, in \u001b[0;36marithmetic_op\u001b[1;34m(left, right, op)\u001b[0m\n\u001b[0;32m    217\u001b[0m \u001b[39melse\u001b[39;00m:\n\u001b[0;32m    218\u001b[0m     \u001b[39m# TODO we should handle EAs consistently and move this check before the if/else\u001b[39;00m\n\u001b[0;32m    219\u001b[0m     \u001b[39m# (https://github.com/pandas-dev/pandas/issues/41165)\u001b[39;00m\n\u001b[0;32m    220\u001b[0m     _bool_arith_check(op, left, right)\n\u001b[1;32m--> 222\u001b[0m     res_values \u001b[39m=\u001b[39m _na_arithmetic_op(left, right, op)\n\u001b[0;32m    224\u001b[0m \u001b[39mreturn\u001b[39;00m res_values\n",
      "File \u001b[1;32mc:\\Users\\andre\\anaconda3\\envs\\tracking-script\\lib\\site-packages\\pandas\\core\\ops\\array_ops.py:170\u001b[0m, in \u001b[0;36m_na_arithmetic_op\u001b[1;34m(left, right, op, is_cmp)\u001b[0m\n\u001b[0;32m    164\u001b[0m \u001b[39mexcept\u001b[39;00m \u001b[39mTypeError\u001b[39;00m:\n\u001b[0;32m    165\u001b[0m     \u001b[39mif\u001b[39;00m \u001b[39mnot\u001b[39;00m is_cmp \u001b[39mand\u001b[39;00m (is_object_dtype(left\u001b[39m.\u001b[39mdtype) \u001b[39mor\u001b[39;00m is_object_dtype(right)):\n\u001b[0;32m    166\u001b[0m         \u001b[39m# For object dtype, fallback to a masked operation (only operating\u001b[39;00m\n\u001b[0;32m    167\u001b[0m         \u001b[39m#  on the non-missing values)\u001b[39;00m\n\u001b[0;32m    168\u001b[0m         \u001b[39m# Don't do this for comparisons, as that will handle complex numbers\u001b[39;00m\n\u001b[0;32m    169\u001b[0m         \u001b[39m#  incorrectly, see GH#32047\u001b[39;00m\n\u001b[1;32m--> 170\u001b[0m         result \u001b[39m=\u001b[39m _masked_arith_op(left, right, op)\n\u001b[0;32m    171\u001b[0m     \u001b[39melse\u001b[39;00m:\n\u001b[0;32m    172\u001b[0m         \u001b[39mraise\u001b[39;00m\n",
      "File \u001b[1;32mc:\\Users\\andre\\anaconda3\\envs\\tracking-script\\lib\\site-packages\\pandas\\core\\ops\\array_ops.py:108\u001b[0m, in \u001b[0;36m_masked_arith_op\u001b[1;34m(x, y, op)\u001b[0m\n\u001b[0;32m    106\u001b[0m     \u001b[39m# See GH#5284, GH#5035, GH#19448 for historical reference\u001b[39;00m\n\u001b[0;32m    107\u001b[0m     \u001b[39mif\u001b[39;00m mask\u001b[39m.\u001b[39many():\n\u001b[1;32m--> 108\u001b[0m         result[mask] \u001b[39m=\u001b[39m op(xrav[mask], yrav[mask])\n\u001b[0;32m    110\u001b[0m \u001b[39melse\u001b[39;00m:\n\u001b[0;32m    111\u001b[0m     \u001b[39mif\u001b[39;00m \u001b[39mnot\u001b[39;00m is_scalar(y):\n",
      "\u001b[1;31mTypeError\u001b[0m: unsupported operand type(s) for -: 'str' and 'str'"
     ]
    }
   ],
   "source": [
    "df - df_f32"
   ]
  },
  {
   "cell_type": "code",
   "execution_count": 24,
   "metadata": {},
   "outputs": [],
   "source": [
    "df_all_savinase = pd.read_csv(r\"sample_vids\\output_new\\full_tracked\\df.csv\")\n",
    "savinase_locs = df_all_savinase.groupby(\"particle\")[[\"x\", \"y\"]].mean().to_numpy()"
   ]
  },
  {
   "cell_type": "code",
   "execution_count": 25,
   "metadata": {},
   "outputs": [],
   "source": [
    "x_y_std = df_all_savinase.groupby(\"particle\")[[\"x\", \"y\"]].std()\n",
    "standard_devs = np.sqrt(x_y_std[\"x\"]**2 + x_y_std[\"y\"]**2)"
   ]
  },
  {
   "cell_type": "code",
   "execution_count": 26,
   "metadata": {},
   "outputs": [],
   "source": [
    "casein_locs = df[~df[\"particle\"].duplicated()][[\"x\", \"y\"]].to_numpy()"
   ]
  },
  {
   "cell_type": "code",
   "execution_count": 27,
   "metadata": {},
   "outputs": [],
   "source": [
    "dists = distance_matrix(savinase_locs, casein_locs)"
   ]
  },
  {
   "cell_type": "code",
   "execution_count": 37,
   "metadata": {},
   "outputs": [
    {
     "data": {
      "text/plain": [
       "<matplotlib.legend.Legend at 0x2ab93640b20>"
      ]
     },
     "execution_count": 37,
     "metadata": {},
     "output_type": "execute_result"
    },
    {
     "data": {
      "image/png": "[encoded data removed]",
      "text/plain": [
       "<Figure size 432x288 with 1 Axes>"
      ]
     },
     "metadata": {
      "needs_background": "light"
     },
     "output_type": "display_data"
    }
   ],
   "source": [
    "plt.plot(savinase_locs[:, 0], savinase_locs[:, 1], \"o\", label = \"savinase\")\n",
    "plt.plot(casein_locs[:, 0], casein_locs[:, 1], \"o\", label = \"casein\")\n",
    "plt.legend()"
   ]
  },
  {
   "cell_type": "code",
   "execution_count": 30,
   "metadata": {},
   "outputs": [],
   "source": [
    "closest_caseins = dists.argmin(axis = 1)"
   ]
  },
  {
   "cell_type": "code",
   "execution_count": 33,
   "metadata": {},
   "outputs": [
    {
     "data": {
      "text/plain": [
       "array([False, False, False, False,  True, False, False, False, False,\n",
       "       False, False, False, False, False, False, False, False, False,\n",
       "       False, False, False, False, False, False, False, False, False,\n",
       "       False, False, False, False,  True, False, False, False, False,\n",
       "       False, False, False, False, False, False, False, False, False,\n",
       "       False, False, False, False, False, False, False,  True, False,\n",
       "       False, False, False, False, False, False, False, False, False,\n",
       "       False, False, False, False, False, False, False, False, False,\n",
       "       False, False, False, False, False, False, False, False, False,\n",
       "       False, False, False, False, False, False, False, False,  True,\n",
       "       False, False, False, False, False, False, False, False, False,\n",
       "       False, False, False, False, False, False, False, False, False,\n",
       "       False, False, False, False])"
      ]
     },
     "execution_count": 33,
     "metadata": {},
     "output_type": "execute_result"
    }
   ],
   "source": [
    "(dists[np.arange(len(closest_caseins)), closest_caseins] < 5)"
   ]
  },
  {
   "cell_type": "code",
   "execution_count": 4,
   "metadata": {},
   "outputs": [
    {
     "name": "stdout",
     "output_type": "stream",
     "text": [
      "\\_\n"
     ]
    }
   ],
   "source": [
    "print(\"\\_\")"
   ]
  }
 ],
 "metadata": {
  "kernelspec": {
   "display_name": "Python 3.8.13 ('tracking-script')",
   "language": "python",
   "name": "python3"
  },
  "language_info": {
   "codemirror_mode": {
    "name": "ipython",
    "version": 3
   },
   "file_extension": ".py",
   "mimetype": "text/x-python",
   "name": "python",
   "nbconvert_exporter": "python",
   "pygments_lexer": "ipython3",
   "version": "3.8.13"
  },
  "orig_nbformat": 4,
  "vscode": {
   "interpreter": {
    "hash": "b0473516573eeb4eff0e39a7f96836722bffcd544a872aef72a18077449aef8d"
   }
  }
 },
 "nbformat": 4,
 "nbformat_minor": 2
}

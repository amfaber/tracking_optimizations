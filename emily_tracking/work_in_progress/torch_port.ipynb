{
 "cells": [
  {
   "cell_type": "code",
   "execution_count": 1,
   "metadata": {},
   "outputs": [
    {
     "name": "stderr",
     "output_type": "stream",
     "text": [
      "/opt/anaconda3/envs/fungi/lib/python3.9/site-packages/tqdm/auto.py:22: TqdmWarning: IProgress not found. Please update jupyter and ipywidgets. See https://ipywidgets.readthedocs.io/en/stable/user_install.html\n",
      "  from .autonotebook import tqdm as notebook_tqdm\n"
     ]
    }
   ],
   "source": [
    "import torch\n",
    "import trackpy as tp\n",
    "import pickle\n",
    "import matplotlib.pyplot as plt\n",
    "import numpy as np\n",
    "from trackpy.utils import validate_tuple\n",
    "import trackpy.preprocessing as tpp\n",
    "import torchvision\n",
    "import scipy.ndimage as nd\n",
    "import hatzakis_lab_tracking as hlt\n",
    "device = \"cuda\"\n",
    "cpu = lambda x: np.array(np.squeeze(x.detach().cpu()))\n"
   ]
  },
  {
   "cell_type": "code",
   "execution_count": 158,
   "metadata": {},
   "outputs": [],
   "source": [
    "from test_torch_tracking import VideoChunker\n",
    "import numpy as np\n",
    "import os\n",
    "import torch\n",
    "vid_path = r\"../sample_vids/s_20.tif\"\n",
    "chunker = VideoChunker(vid_path,\n",
    "        gb_limit = 0.2,\n",
    "        dtype = np.float32,\n",
    "        )\n",
    "for _, vid_chunk in chunker:\n",
    "    vid_chunk\n",
    "    break\n"
   ]
  },
  {
   "cell_type": "code",
   "execution_count": 151,
   "metadata": {},
   "outputs": [],
   "source": [
    "import pickle\n",
    "with open(\"new_dilation.pckl\", \"rb\") as f1, open(\"old_dilation.pckl\", \"rb\") as f2:\n",
    "    new_dil, old_dil = pickle.load(f1), pickle.load(f2)\n",
    "new_dil = new_dil.cpu().numpy()"
   ]
  },
  {
   "cell_type": "code",
   "execution_count": 254,
   "metadata": {},
   "outputs": [],
   "source": [
    "with open(\"results.pckl\", \"rb\") as file:\n",
    "    df, tp_df = pickle.load(file)\n",
    "df = df.reset_index(drop = True)"
   ]
  },
  {
   "cell_type": "code",
   "execution_count": 238,
   "metadata": {},
   "outputs": [
    {
     "data": {
      "text/plain": [
       "0    -8.173641e-06\n",
       "1     7.215648e-07\n",
       "2     1.688763e-06\n",
       "3    -8.812465e-07\n",
       "4     4.705821e-06\n",
       "5    -4.473409e-01\n",
       "6    -4.301372e-01\n",
       "7    -3.371564e-01\n",
       "8    -4.588586e-01\n",
       "9    -2.952718e-01\n",
       "10   -2.153251e+00\n",
       "Name: y, dtype: float64"
      ]
     },
     "execution_count": 238,
     "metadata": {},
     "output_type": "execute_result"
    }
   ],
   "source": [
    "(df[df[\"frame\"] == 0][var] - tp_df[var]).loc[0:10]"
   ]
  },
  {
   "cell_type": "code",
   "execution_count": 218,
   "metadata": {},
   "outputs": [
    {
     "data": {
      "text/html": [
       "<div>\n",
       "<style scoped>\n",
       "    .dataframe tbody tr th:only-of-type {\n",
       "        vertical-align: middle;\n",
       "    }\n",
       "\n",
       "    .dataframe tbody tr th {\n",
       "        vertical-align: top;\n",
       "    }\n",
       "\n",
       "    .dataframe thead th {\n",
       "        text-align: right;\n",
       "    }\n",
       "</style>\n",
       "<table border=\"1\" class=\"dataframe\">\n",
       "  <thead>\n",
       "    <tr style=\"text-align: right;\">\n",
       "      <th></th>\n",
       "      <th>y</th>\n",
       "      <th>x</th>\n",
       "      <th>mass</th>\n",
       "      <th>size</th>\n",
       "      <th>ecc</th>\n",
       "      <th>signal</th>\n",
       "      <th>raw_mass</th>\n",
       "      <th>ep</th>\n",
       "    </tr>\n",
       "  </thead>\n",
       "  <tbody>\n",
       "    <tr>\n",
       "      <th>0</th>\n",
       "      <td>5.866905</td>\n",
       "      <td>357.772249</td>\n",
       "      <td>254.448392</td>\n",
       "      <td>0.929202</td>\n",
       "      <td>0.546845</td>\n",
       "      <td>77.562795</td>\n",
       "      <td>28294.0</td>\n",
       "      <td>0.385387</td>\n",
       "    </tr>\n",
       "    <tr>\n",
       "      <th>1</th>\n",
       "      <td>6.905982</td>\n",
       "      <td>319.867510</td>\n",
       "      <td>216.916782</td>\n",
       "      <td>0.937404</td>\n",
       "      <td>0.587239</td>\n",
       "      <td>65.354850</td>\n",
       "      <td>28306.0</td>\n",
       "      <td>0.379571</td>\n",
       "    </tr>\n",
       "    <tr>\n",
       "      <th>2</th>\n",
       "      <td>6.857650</td>\n",
       "      <td>475.975948</td>\n",
       "      <td>344.790025</td>\n",
       "      <td>1.006440</td>\n",
       "      <td>0.184309</td>\n",
       "      <td>84.368634</td>\n",
       "      <td>29046.0</td>\n",
       "      <td>0.196599</td>\n",
       "    </tr>\n",
       "    <tr>\n",
       "      <th>3</th>\n",
       "      <td>7.815583</td>\n",
       "      <td>90.932188</td>\n",
       "      <td>392.681639</td>\n",
       "      <td>1.020452</td>\n",
       "      <td>0.374951</td>\n",
       "      <td>94.691669</td>\n",
       "      <td>28687.0</td>\n",
       "      <td>0.256609</td>\n",
       "    </tr>\n",
       "    <tr>\n",
       "      <th>4</th>\n",
       "      <td>8.123896</td>\n",
       "      <td>182.055383</td>\n",
       "      <td>259.103102</td>\n",
       "      <td>1.023189</td>\n",
       "      <td>0.372706</td>\n",
       "      <td>60.136539</td>\n",
       "      <td>28423.0</td>\n",
       "      <td>0.330882</td>\n",
       "    </tr>\n",
       "    <tr>\n",
       "      <th>...</th>\n",
       "      <td>...</td>\n",
       "      <td>...</td>\n",
       "      <td>...</td>\n",
       "      <td>...</td>\n",
       "      <td>...</td>\n",
       "      <td>...</td>\n",
       "      <td>...</td>\n",
       "      <td>...</td>\n",
       "    </tr>\n",
       "    <tr>\n",
       "      <th>414</th>\n",
       "      <td>500.164276</td>\n",
       "      <td>258.215860</td>\n",
       "      <td>316.142795</td>\n",
       "      <td>1.038900</td>\n",
       "      <td>0.215028</td>\n",
       "      <td>73.340653</td>\n",
       "      <td>28960.0</td>\n",
       "      <td>0.208266</td>\n",
       "    </tr>\n",
       "    <tr>\n",
       "      <th>415</th>\n",
       "      <td>501.593603</td>\n",
       "      <td>483.866950</td>\n",
       "      <td>273.352008</td>\n",
       "      <td>0.986543</td>\n",
       "      <td>0.410960</td>\n",
       "      <td>70.629342</td>\n",
       "      <td>28240.0</td>\n",
       "      <td>0.413930</td>\n",
       "    </tr>\n",
       "    <tr>\n",
       "      <th>416</th>\n",
       "      <td>501.946438</td>\n",
       "      <td>502.679655</td>\n",
       "      <td>296.846730</td>\n",
       "      <td>1.056537</td>\n",
       "      <td>0.432899</td>\n",
       "      <td>66.774292</td>\n",
       "      <td>28194.0</td>\n",
       "      <td>0.441804</td>\n",
       "    </tr>\n",
       "    <tr>\n",
       "      <th>417</th>\n",
       "      <td>504.850789</td>\n",
       "      <td>324.809644</td>\n",
       "      <td>312.823587</td>\n",
       "      <td>1.311188</td>\n",
       "      <td>0.439359</td>\n",
       "      <td>56.977961</td>\n",
       "      <td>28655.0</td>\n",
       "      <td>0.263786</td>\n",
       "    </tr>\n",
       "    <tr>\n",
       "      <th>418</th>\n",
       "      <td>505.427186</td>\n",
       "      <td>423.600404</td>\n",
       "      <td>283.596176</td>\n",
       "      <td>1.083570</td>\n",
       "      <td>0.329108</td>\n",
       "      <td>65.443999</td>\n",
       "      <td>28301.0</td>\n",
       "      <td>0.381973</td>\n",
       "    </tr>\n",
       "  </tbody>\n",
       "</table>\n",
       "<p>419 rows × 8 columns</p>\n",
       "</div>"
      ],
      "text/plain": [
       "              y           x        mass      size       ecc     signal  \\\n",
       "0      5.866905  357.772249  254.448392  0.929202  0.546845  77.562795   \n",
       "1      6.905982  319.867510  216.916782  0.937404  0.587239  65.354850   \n",
       "2      6.857650  475.975948  344.790025  1.006440  0.184309  84.368634   \n",
       "3      7.815583   90.932188  392.681639  1.020452  0.374951  94.691669   \n",
       "4      8.123896  182.055383  259.103102  1.023189  0.372706  60.136539   \n",
       "..          ...         ...         ...       ...       ...        ...   \n",
       "414  500.164276  258.215860  316.142795  1.038900  0.215028  73.340653   \n",
       "415  501.593603  483.866950  273.352008  0.986543  0.410960  70.629342   \n",
       "416  501.946438  502.679655  296.846730  1.056537  0.432899  66.774292   \n",
       "417  504.850789  324.809644  312.823587  1.311188  0.439359  56.977961   \n",
       "418  505.427186  423.600404  283.596176  1.083570  0.329108  65.443999   \n",
       "\n",
       "     raw_mass        ep  \n",
       "0     28294.0  0.385387  \n",
       "1     28306.0  0.379571  \n",
       "2     29046.0  0.196599  \n",
       "3     28687.0  0.256609  \n",
       "4     28423.0  0.330882  \n",
       "..        ...       ...  \n",
       "414   28960.0  0.208266  \n",
       "415   28240.0  0.413930  \n",
       "416   28194.0  0.441804  \n",
       "417   28655.0  0.263786  \n",
       "418   28301.0  0.381973  \n",
       "\n",
       "[419 rows x 8 columns]"
      ]
     },
     "execution_count": 218,
     "metadata": {},
     "output_type": "execute_result"
    }
   ],
   "source": [
    "tp_df"
   ]
  },
  {
   "cell_type": "code",
   "execution_count": 208,
   "metadata": {},
   "outputs": [
    {
     "data": {
      "text/html": [
       "<div>\n",
       "<style scoped>\n",
       "    .dataframe tbody tr th:only-of-type {\n",
       "        vertical-align: middle;\n",
       "    }\n",
       "\n",
       "    .dataframe tbody tr th {\n",
       "        vertical-align: top;\n",
       "    }\n",
       "\n",
       "    .dataframe thead th {\n",
       "        text-align: right;\n",
       "    }\n",
       "</style>\n",
       "<table border=\"1\" class=\"dataframe\">\n",
       "  <thead>\n",
       "    <tr style=\"text-align: right;\">\n",
       "      <th></th>\n",
       "      <th>frame</th>\n",
       "      <th>y</th>\n",
       "      <th>x</th>\n",
       "      <th>mass</th>\n",
       "      <th>signal</th>\n",
       "    </tr>\n",
       "  </thead>\n",
       "  <tbody>\n",
       "    <tr>\n",
       "      <th>0</th>\n",
       "      <td>0</td>\n",
       "      <td>5.866897</td>\n",
       "      <td>357.772247</td>\n",
       "      <td>254.446289</td>\n",
       "      <td>77.562744</td>\n",
       "    </tr>\n",
       "    <tr>\n",
       "      <th>1</th>\n",
       "      <td>0</td>\n",
       "      <td>6.905982</td>\n",
       "      <td>319.867493</td>\n",
       "      <td>216.914795</td>\n",
       "      <td>65.354492</td>\n",
       "    </tr>\n",
       "    <tr>\n",
       "      <th>2</th>\n",
       "      <td>0</td>\n",
       "      <td>6.857652</td>\n",
       "      <td>475.975952</td>\n",
       "      <td>344.790283</td>\n",
       "      <td>84.368408</td>\n",
       "    </tr>\n",
       "    <tr>\n",
       "      <th>3</th>\n",
       "      <td>0</td>\n",
       "      <td>7.815582</td>\n",
       "      <td>90.932190</td>\n",
       "      <td>392.680908</td>\n",
       "      <td>94.691162</td>\n",
       "    </tr>\n",
       "    <tr>\n",
       "      <th>4</th>\n",
       "      <td>0</td>\n",
       "      <td>8.123900</td>\n",
       "      <td>182.055389</td>\n",
       "      <td>259.097900</td>\n",
       "      <td>60.135742</td>\n",
       "    </tr>\n",
       "    <tr>\n",
       "      <th>...</th>\n",
       "      <td>...</td>\n",
       "      <td>...</td>\n",
       "      <td>...</td>\n",
       "      <td>...</td>\n",
       "      <td>...</td>\n",
       "    </tr>\n",
       "    <tr>\n",
       "      <th>568</th>\n",
       "      <td>0</td>\n",
       "      <td>501.946442</td>\n",
       "      <td>502.679657</td>\n",
       "      <td>296.847900</td>\n",
       "      <td>66.775146</td>\n",
       "    </tr>\n",
       "    <tr>\n",
       "      <th>569</th>\n",
       "      <td>0</td>\n",
       "      <td>502.688629</td>\n",
       "      <td>142.881805</td>\n",
       "      <td>208.513916</td>\n",
       "      <td>46.382568</td>\n",
       "    </tr>\n",
       "    <tr>\n",
       "      <th>570</th>\n",
       "      <td>0</td>\n",
       "      <td>504.850800</td>\n",
       "      <td>324.809662</td>\n",
       "      <td>312.820801</td>\n",
       "      <td>56.977539</td>\n",
       "    </tr>\n",
       "    <tr>\n",
       "      <th>571</th>\n",
       "      <td>0</td>\n",
       "      <td>505.427185</td>\n",
       "      <td>423.600403</td>\n",
       "      <td>283.598145</td>\n",
       "      <td>65.444336</td>\n",
       "    </tr>\n",
       "    <tr>\n",
       "      <th>572</th>\n",
       "      <td>0</td>\n",
       "      <td>505.060791</td>\n",
       "      <td>471.043823</td>\n",
       "      <td>254.474365</td>\n",
       "      <td>54.283203</td>\n",
       "    </tr>\n",
       "  </tbody>\n",
       "</table>\n",
       "<p>573 rows × 5 columns</p>\n",
       "</div>"
      ],
      "text/plain": [
       "     frame           y           x        mass     signal\n",
       "0        0    5.866897  357.772247  254.446289  77.562744\n",
       "1        0    6.905982  319.867493  216.914795  65.354492\n",
       "2        0    6.857652  475.975952  344.790283  84.368408\n",
       "3        0    7.815582   90.932190  392.680908  94.691162\n",
       "4        0    8.123900  182.055389  259.097900  60.135742\n",
       "..     ...         ...         ...         ...        ...\n",
       "568      0  501.946442  502.679657  296.847900  66.775146\n",
       "569      0  502.688629  142.881805  208.513916  46.382568\n",
       "570      0  504.850800  324.809662  312.820801  56.977539\n",
       "571      0  505.427185  423.600403  283.598145  65.444336\n",
       "572      0  505.060791  471.043823  254.474365  54.283203\n",
       "\n",
       "[573 rows x 5 columns]"
      ]
     },
     "execution_count": 208,
     "metadata": {},
     "output_type": "execute_result"
    }
   ],
   "source": [
    "df[df[\"frame\"] == 0]"
   ]
  },
  {
   "cell_type": "code",
   "execution_count": 204,
   "metadata": {},
   "outputs": [
    {
     "data": {
      "text/html": [
       "<div>\n",
       "<style scoped>\n",
       "    .dataframe tbody tr th:only-of-type {\n",
       "        vertical-align: middle;\n",
       "    }\n",
       "\n",
       "    .dataframe tbody tr th {\n",
       "        vertical-align: top;\n",
       "    }\n",
       "\n",
       "    .dataframe thead th {\n",
       "        text-align: right;\n",
       "    }\n",
       "</style>\n",
       "<table border=\"1\" class=\"dataframe\">\n",
       "  <thead>\n",
       "    <tr style=\"text-align: right;\">\n",
       "      <th></th>\n",
       "      <th>ecc</th>\n",
       "      <th>ep</th>\n",
       "      <th>frame</th>\n",
       "      <th>mass</th>\n",
       "      <th>raw_mass</th>\n",
       "      <th>signal</th>\n",
       "      <th>size</th>\n",
       "      <th>x</th>\n",
       "      <th>y</th>\n",
       "    </tr>\n",
       "  </thead>\n",
       "  <tbody>\n",
       "    <tr>\n",
       "      <th>0</th>\n",
       "      <td>NaN</td>\n",
       "      <td>NaN</td>\n",
       "      <td>NaN</td>\n",
       "      <td>-111.373128</td>\n",
       "      <td>NaN</td>\n",
       "      <td>11.186457</td>\n",
       "      <td>NaN</td>\n",
       "      <td>-10.083525</td>\n",
       "      <td>-0.536415</td>\n",
       "    </tr>\n",
       "    <tr>\n",
       "      <th>1</th>\n",
       "      <td>NaN</td>\n",
       "      <td>NaN</td>\n",
       "      <td>NaN</td>\n",
       "      <td>-100.574096</td>\n",
       "      <td>NaN</td>\n",
       "      <td>-26.040522</td>\n",
       "      <td>NaN</td>\n",
       "      <td>35.086311</td>\n",
       "      <td>-2.091632</td>\n",
       "    </tr>\n",
       "    <tr>\n",
       "      <th>2</th>\n",
       "      <td>NaN</td>\n",
       "      <td>NaN</td>\n",
       "      <td>NaN</td>\n",
       "      <td>-4.293095</td>\n",
       "      <td>NaN</td>\n",
       "      <td>-19.283157</td>\n",
       "      <td>NaN</td>\n",
       "      <td>264.134779</td>\n",
       "      <td>-3.286805</td>\n",
       "    </tr>\n",
       "    <tr>\n",
       "      <th>3</th>\n",
       "      <td>NaN</td>\n",
       "      <td>NaN</td>\n",
       "      <td>NaN</td>\n",
       "      <td>60.498451</td>\n",
       "      <td>NaN</td>\n",
       "      <td>2.078561</td>\n",
       "      <td>NaN</td>\n",
       "      <td>-298.167692</td>\n",
       "      <td>-2.363947</td>\n",
       "    </tr>\n",
       "    <tr>\n",
       "      <th>4</th>\n",
       "      <td>NaN</td>\n",
       "      <td>NaN</td>\n",
       "      <td>NaN</td>\n",
       "      <td>-57.463507</td>\n",
       "      <td>NaN</td>\n",
       "      <td>-3.211465</td>\n",
       "      <td>NaN</td>\n",
       "      <td>-283.675492</td>\n",
       "      <td>-3.207017</td>\n",
       "    </tr>\n",
       "    <tr>\n",
       "      <th>...</th>\n",
       "      <td>...</td>\n",
       "      <td>...</td>\n",
       "      <td>...</td>\n",
       "      <td>...</td>\n",
       "      <td>...</td>\n",
       "      <td>...</td>\n",
       "      <td>...</td>\n",
       "      <td>...</td>\n",
       "      <td>...</td>\n",
       "    </tr>\n",
       "    <tr>\n",
       "      <th>1128280</th>\n",
       "      <td>NaN</td>\n",
       "      <td>NaN</td>\n",
       "      <td>NaN</td>\n",
       "      <td>NaN</td>\n",
       "      <td>NaN</td>\n",
       "      <td>NaN</td>\n",
       "      <td>NaN</td>\n",
       "      <td>NaN</td>\n",
       "      <td>NaN</td>\n",
       "    </tr>\n",
       "    <tr>\n",
       "      <th>1128281</th>\n",
       "      <td>NaN</td>\n",
       "      <td>NaN</td>\n",
       "      <td>NaN</td>\n",
       "      <td>NaN</td>\n",
       "      <td>NaN</td>\n",
       "      <td>NaN</td>\n",
       "      <td>NaN</td>\n",
       "      <td>NaN</td>\n",
       "      <td>NaN</td>\n",
       "    </tr>\n",
       "    <tr>\n",
       "      <th>1128282</th>\n",
       "      <td>NaN</td>\n",
       "      <td>NaN</td>\n",
       "      <td>NaN</td>\n",
       "      <td>NaN</td>\n",
       "      <td>NaN</td>\n",
       "      <td>NaN</td>\n",
       "      <td>NaN</td>\n",
       "      <td>NaN</td>\n",
       "      <td>NaN</td>\n",
       "    </tr>\n",
       "    <tr>\n",
       "      <th>1128283</th>\n",
       "      <td>NaN</td>\n",
       "      <td>NaN</td>\n",
       "      <td>NaN</td>\n",
       "      <td>NaN</td>\n",
       "      <td>NaN</td>\n",
       "      <td>NaN</td>\n",
       "      <td>NaN</td>\n",
       "      <td>NaN</td>\n",
       "      <td>NaN</td>\n",
       "    </tr>\n",
       "    <tr>\n",
       "      <th>1128284</th>\n",
       "      <td>NaN</td>\n",
       "      <td>NaN</td>\n",
       "      <td>NaN</td>\n",
       "      <td>NaN</td>\n",
       "      <td>NaN</td>\n",
       "      <td>NaN</td>\n",
       "      <td>NaN</td>\n",
       "      <td>NaN</td>\n",
       "      <td>NaN</td>\n",
       "    </tr>\n",
       "  </tbody>\n",
       "</table>\n",
       "<p>1128285 rows × 9 columns</p>\n",
       "</div>"
      ],
      "text/plain": [
       "         ecc  ep  frame        mass  raw_mass     signal  size           x  \\\n",
       "0        NaN NaN    NaN -111.373128       NaN  11.186457   NaN  -10.083525   \n",
       "1        NaN NaN    NaN -100.574096       NaN -26.040522   NaN   35.086311   \n",
       "2        NaN NaN    NaN   -4.293095       NaN -19.283157   NaN  264.134779   \n",
       "3        NaN NaN    NaN   60.498451       NaN   2.078561   NaN -298.167692   \n",
       "4        NaN NaN    NaN  -57.463507       NaN  -3.211465   NaN -283.675492   \n",
       "...      ...  ..    ...         ...       ...        ...   ...         ...   \n",
       "1128280  NaN NaN    NaN         NaN       NaN        NaN   NaN         NaN   \n",
       "1128281  NaN NaN    NaN         NaN       NaN        NaN   NaN         NaN   \n",
       "1128282  NaN NaN    NaN         NaN       NaN        NaN   NaN         NaN   \n",
       "1128283  NaN NaN    NaN         NaN       NaN        NaN   NaN         NaN   \n",
       "1128284  NaN NaN    NaN         NaN       NaN        NaN   NaN         NaN   \n",
       "\n",
       "                y  \n",
       "0       -0.536415  \n",
       "1       -2.091632  \n",
       "2       -3.286805  \n",
       "3       -2.363947  \n",
       "4       -3.207017  \n",
       "...           ...  \n",
       "1128280       NaN  \n",
       "1128281       NaN  \n",
       "1128282       NaN  \n",
       "1128283       NaN  \n",
       "1128284       NaN  \n",
       "\n",
       "[1128285 rows x 9 columns]"
      ]
     },
     "execution_count": 204,
     "metadata": {},
     "output_type": "execute_result"
    }
   ],
   "source": [
    "df - tp_df"
   ]
  },
  {
   "cell_type": "code",
   "execution_count": 195,
   "metadata": {},
   "outputs": [
    {
     "data": {
      "text/html": [
       "<div>\n",
       "<style scoped>\n",
       "    .dataframe tbody tr th:only-of-type {\n",
       "        vertical-align: middle;\n",
       "    }\n",
       "\n",
       "    .dataframe tbody tr th {\n",
       "        vertical-align: top;\n",
       "    }\n",
       "\n",
       "    .dataframe thead th {\n",
       "        text-align: right;\n",
       "    }\n",
       "</style>\n",
       "<table border=\"1\" class=\"dataframe\">\n",
       "  <thead>\n",
       "    <tr style=\"text-align: right;\">\n",
       "      <th></th>\n",
       "      <th>y</th>\n",
       "      <th>x</th>\n",
       "    </tr>\n",
       "  </thead>\n",
       "  <tbody>\n",
       "    <tr>\n",
       "      <th>0</th>\n",
       "      <td>-2.535639</td>\n",
       "      <td>-12.083537</td>\n",
       "    </tr>\n",
       "    <tr>\n",
       "      <th>1</th>\n",
       "      <td>-4.094018</td>\n",
       "      <td>33.086072</td>\n",
       "    </tr>\n",
       "    <tr>\n",
       "      <th>2</th>\n",
       "      <td>-5.286626</td>\n",
       "      <td>262.135156</td>\n",
       "    </tr>\n",
       "    <tr>\n",
       "      <th>3</th>\n",
       "      <td>-4.364174</td>\n",
       "      <td>-300.165541</td>\n",
       "    </tr>\n",
       "    <tr>\n",
       "      <th>4</th>\n",
       "      <td>-5.206995</td>\n",
       "      <td>-285.677700</td>\n",
       "    </tr>\n",
       "    <tr>\n",
       "      <th>...</th>\n",
       "      <td>...</td>\n",
       "      <td>...</td>\n",
       "    </tr>\n",
       "    <tr>\n",
       "      <th>1128280</th>\n",
       "      <td>NaN</td>\n",
       "      <td>NaN</td>\n",
       "    </tr>\n",
       "    <tr>\n",
       "      <th>1128281</th>\n",
       "      <td>NaN</td>\n",
       "      <td>NaN</td>\n",
       "    </tr>\n",
       "    <tr>\n",
       "      <th>1128282</th>\n",
       "      <td>NaN</td>\n",
       "      <td>NaN</td>\n",
       "    </tr>\n",
       "    <tr>\n",
       "      <th>1128283</th>\n",
       "      <td>NaN</td>\n",
       "      <td>NaN</td>\n",
       "    </tr>\n",
       "    <tr>\n",
       "      <th>1128284</th>\n",
       "      <td>NaN</td>\n",
       "      <td>NaN</td>\n",
       "    </tr>\n",
       "  </tbody>\n",
       "</table>\n",
       "<p>1128285 rows × 2 columns</p>\n",
       "</div>"
      ],
      "text/plain": [
       "                y           x\n",
       "0       -2.535639  -12.083537\n",
       "1       -4.094018   33.086072\n",
       "2       -5.286626  262.135156\n",
       "3       -4.364174 -300.165541\n",
       "4       -5.206995 -285.677700\n",
       "...           ...         ...\n",
       "1128280       NaN         NaN\n",
       "1128281       NaN         NaN\n",
       "1128282       NaN         NaN\n",
       "1128283       NaN         NaN\n",
       "1128284       NaN         NaN\n",
       "\n",
       "[1128285 rows x 2 columns]"
      ]
     },
     "execution_count": 195,
     "metadata": {},
     "output_type": "execute_result"
    }
   ],
   "source": [
    "(df[[\"y\", \"x\"]] - tp_df[[\"y\", \"x\"]])"
   ]
  },
  {
   "cell_type": "code",
   "execution_count": 162,
   "metadata": {},
   "outputs": [
    {
     "name": "stderr",
     "output_type": "stream",
     "text": [
      "C:\\Users\\andre\\AppData\\Local\\Temp\\ipykernel_2344\\3493306157.py:1: DeprecationWarning: elementwise comparison failed; this will raise an error in the future.\n",
      "  np.loadtxt(\"coords.txt\") == np.loadtxt(\"coords2.txt\")\n"
     ]
    },
    {
     "data": {
      "text/plain": [
       "False"
      ]
     },
     "execution_count": 162,
     "metadata": {},
     "output_type": "execute_result"
    }
   ],
   "source": [
    "np.loadtxt(\"coords.txt\") == "
   ]
  },
  {
   "cell_type": "code",
   "execution_count": 198,
   "metadata": {},
   "outputs": [],
   "source": [
    "old = np.loadtxt(\"old_coords.txt\")\n",
    "new = np.loadtxt(\"new_coords.txt\")  "
   ]
  },
  {
   "cell_type": "code",
   "execution_count": 214,
   "metadata": {},
   "outputs": [
    {
     "data": {
      "text/plain": [
       "array([[  5.86689663, 357.77224731],\n",
       "       [  6.90598249, 319.86749268],\n",
       "       [  6.85765219, 475.97595215],\n",
       "       ...,\n",
       "       [504.85079956, 324.80966187],\n",
       "       [505.42718506, 423.60040283],\n",
       "       [505.06079102, 471.04382324]])"
      ]
     },
     "execution_count": 214,
     "metadata": {},
     "output_type": "execute_result"
    }
   ],
   "source": [
    "new"
   ]
  },
  {
   "cell_type": "code",
   "execution_count": 213,
   "metadata": {},
   "outputs": [
    {
     "data": {
      "text/plain": [
       "array([[-8.17364051e-06, -1.71225901e-06],\n",
       "       [ 7.21564757e-07, -1.76321143e-05],\n",
       "       [ 1.68876268e-06,  4.45235412e-06],\n",
       "       ...,\n",
       "       [ 1.04488386e-05,  1.76017321e-05],\n",
       "       [-1.40424964e-06, -1.56221006e-06],\n",
       "       [-1.08960639e-05, -6.16008867e-06]])"
      ]
     },
     "execution_count": 213,
     "metadata": {},
     "output_type": "execute_result"
    }
   ],
   "source": [
    "df[df[\"frame\"] == 0][[\"y\", \"x\"]].values - old"
   ]
  },
  {
   "cell_type": "code",
   "execution_count": 202,
   "metadata": {},
   "outputs": [
    {
     "data": {
      "text/plain": [
       "[<matplotlib.lines.Line2D at 0x1eab7a88910>,\n",
       " <matplotlib.lines.Line2D at 0x1eab7a88a00>]"
      ]
     },
     "execution_count": 202,
     "metadata": {},
     "output_type": "execute_result"
    },
    {
     "data": {
      "image/png": "[encoded data removed]",
      "text/plain": [
       "<Figure size 640x480 with 1 Axes>"
      ]
     },
     "metadata": {},
     "output_type": "display_data"
    }
   ],
   "source": [
    "plt.plot(old - new, \".\")"
   ]
  },
  {
   "cell_type": "code",
   "execution_count": 185,
   "metadata": {},
   "outputs": [
    {
     "data": {
      "text/plain": [
       "array([[-8.23297401e-06, -4.03671213e-06]])"
      ]
     },
     "execution_count": 185,
     "metadata": {},
     "output_type": "execute_result"
    }
   ],
   "source": [
    "np.array([-0.13310343, -0.22775501]) - np.array([[-0.1330951970259895, -0.22775097328787264]])"
   ]
  },
  {
   "cell_type": "code",
   "execution_count": 178,
   "metadata": {},
   "outputs": [
    {
     "data": {
      "text/plain": [
       "False"
      ]
     },
     "execution_count": 178,
     "metadata": {},
     "output_type": "execute_result"
    }
   ],
   "source": [
    "(old == new).all()"
   ]
  },
  {
   "cell_type": "code",
   "execution_count": 174,
   "metadata": {},
   "outputs": [
    {
     "data": {
      "text/plain": [
       "[<matplotlib.lines.Line2D at 0x1eab5aed4c0>]"
      ]
     },
     "execution_count": 174,
     "metadata": {},
     "output_type": "execute_result"
    },
    {
     "data": {
      "image/png": "[encoded data removed]",
      "text/plain": [
       "<Figure size 640x480 with 1 Axes>"
      ]
     },
     "metadata": {},
     "output_type": "display_data"
    }
   ],
   "source": [
    "plt.plot(*old.T, \".\")\n",
    "plt.plot(*new.T, \".\")"
   ]
  },
  {
   "cell_type": "code",
   "execution_count": 170,
   "metadata": {},
   "outputs": [
    {
     "data": {
      "text/plain": [
       "[<matplotlib.lines.Line2D at 0x1eab5a205b0>]"
      ]
     },
     "execution_count": 170,
     "metadata": {},
     "output_type": "execute_result"
    },
    {
     "data": {
      "image/png": "[encoded data removed]",
      "text/plain": [
       "<Figure size 640x480 with 1 Axes>"
      ]
     },
     "metadata": {},
     "output_type": "display_data"
    }
   ],
   "source": [
    "plt.plot(*new.T, \"C1.\")\n",
    "plt.plot(*old.T, \"C0.\")"
   ]
  },
  {
   "cell_type": "code",
   "execution_count": 161,
   "metadata": {},
   "outputs": [
    {
     "data": {
      "text/html": [
       "<div>\n",
       "<style scoped>\n",
       "    .dataframe tbody tr th:only-of-type {\n",
       "        vertical-align: middle;\n",
       "    }\n",
       "\n",
       "    .dataframe tbody tr th {\n",
       "        vertical-align: top;\n",
       "    }\n",
       "\n",
       "    .dataframe thead th {\n",
       "        text-align: right;\n",
       "    }\n",
       "</style>\n",
       "<table border=\"1\" class=\"dataframe\">\n",
       "  <thead>\n",
       "    <tr style=\"text-align: right;\">\n",
       "      <th></th>\n",
       "      <th>y</th>\n",
       "      <th>x</th>\n",
       "      <th>mass</th>\n",
       "      <th>size</th>\n",
       "      <th>ecc</th>\n",
       "      <th>signal</th>\n",
       "      <th>raw_mass</th>\n",
       "      <th>ep</th>\n",
       "    </tr>\n",
       "  </thead>\n",
       "  <tbody>\n",
       "    <tr>\n",
       "      <th>0</th>\n",
       "      <td>6.402536</td>\n",
       "      <td>367.855784</td>\n",
       "      <td>362.622944</td>\n",
       "      <td>1.218583</td>\n",
       "      <td>0.551563</td>\n",
       "      <td>66.088175</td>\n",
       "      <td>28811.0</td>\n",
       "      <td>0.187355</td>\n",
       "    </tr>\n",
       "    <tr>\n",
       "      <th>1</th>\n",
       "      <td>9.000000</td>\n",
       "      <td>284.781421</td>\n",
       "      <td>315.499202</td>\n",
       "      <td>0.935049</td>\n",
       "      <td>0.459433</td>\n",
       "      <td>91.374086</td>\n",
       "      <td>28280.0</td>\n",
       "      <td>0.302030</td>\n",
       "    </tr>\n",
       "    <tr>\n",
       "      <th>2</th>\n",
       "      <td>10.144279</td>\n",
       "      <td>211.840796</td>\n",
       "      <td>346.531910</td>\n",
       "      <td>0.922359</td>\n",
       "      <td>0.404504</td>\n",
       "      <td>103.442361</td>\n",
       "      <td>28743.0</td>\n",
       "      <td>0.196930</td>\n",
       "    </tr>\n",
       "    <tr>\n",
       "      <th>3</th>\n",
       "      <td>10.179756</td>\n",
       "      <td>389.097731</td>\n",
       "      <td>329.291517</td>\n",
       "      <td>1.000000</td>\n",
       "      <td>0.500712</td>\n",
       "      <td>92.523445</td>\n",
       "      <td>28898.0</td>\n",
       "      <td>0.176382</td>\n",
       "    </tr>\n",
       "    <tr>\n",
       "      <th>4</th>\n",
       "      <td>11.330896</td>\n",
       "      <td>465.733090</td>\n",
       "      <td>314.349842</td>\n",
       "      <td>1.182598</td>\n",
       "      <td>0.074538</td>\n",
       "      <td>63.214776</td>\n",
       "      <td>28795.0</td>\n",
       "      <td>0.189523</td>\n",
       "    </tr>\n",
       "    <tr>\n",
       "      <th>...</th>\n",
       "      <td>...</td>\n",
       "      <td>...</td>\n",
       "      <td>...</td>\n",
       "      <td>...</td>\n",
       "      <td>...</td>\n",
       "      <td>...</td>\n",
       "      <td>...</td>\n",
       "      <td>...</td>\n",
       "    </tr>\n",
       "    <tr>\n",
       "      <th>397</th>\n",
       "      <td>500.380062</td>\n",
       "      <td>221.176012</td>\n",
       "      <td>368.944422</td>\n",
       "      <td>1.145899</td>\n",
       "      <td>0.542029</td>\n",
       "      <td>72.984333</td>\n",
       "      <td>29064.0</td>\n",
       "      <td>0.158654</td>\n",
       "    </tr>\n",
       "    <tr>\n",
       "      <th>398</th>\n",
       "      <td>500.958848</td>\n",
       "      <td>22.053498</td>\n",
       "      <td>139.647188</td>\n",
       "      <td>0.824022</td>\n",
       "      <td>0.644770</td>\n",
       "      <td>52.295860</td>\n",
       "      <td>27792.0</td>\n",
       "      <td>0.690372</td>\n",
       "    </tr>\n",
       "    <tr>\n",
       "      <th>399</th>\n",
       "      <td>502.934177</td>\n",
       "      <td>256.835443</td>\n",
       "      <td>226.998515</td>\n",
       "      <td>1.066165</td>\n",
       "      <td>0.675143</td>\n",
       "      <td>56.893299</td>\n",
       "      <td>28128.0</td>\n",
       "      <td>0.366189</td>\n",
       "    </tr>\n",
       "    <tr>\n",
       "      <th>400</th>\n",
       "      <td>505.473054</td>\n",
       "      <td>357.996008</td>\n",
       "      <td>287.914572</td>\n",
       "      <td>1.169301</td>\n",
       "      <td>0.408125</td>\n",
       "      <td>61.490737</td>\n",
       "      <td>28456.0</td>\n",
       "      <td>0.251091</td>\n",
       "    </tr>\n",
       "    <tr>\n",
       "      <th>401</th>\n",
       "      <td>505.256318</td>\n",
       "      <td>380.115523</td>\n",
       "      <td>159.186300</td>\n",
       "      <td>0.932757</td>\n",
       "      <td>0.474774</td>\n",
       "      <td>45.399703</td>\n",
       "      <td>28110.0</td>\n",
       "      <td>0.375639</td>\n",
       "    </tr>\n",
       "  </tbody>\n",
       "</table>\n",
       "<p>402 rows × 8 columns</p>\n",
       "</div>"
      ],
      "text/plain": [
       "              y           x        mass      size       ecc      signal  \\\n",
       "0      6.402536  367.855784  362.622944  1.218583  0.551563   66.088175   \n",
       "1      9.000000  284.781421  315.499202  0.935049  0.459433   91.374086   \n",
       "2     10.144279  211.840796  346.531910  0.922359  0.404504  103.442361   \n",
       "3     10.179756  389.097731  329.291517  1.000000  0.500712   92.523445   \n",
       "4     11.330896  465.733090  314.349842  1.182598  0.074538   63.214776   \n",
       "..          ...         ...         ...       ...       ...         ...   \n",
       "397  500.380062  221.176012  368.944422  1.145899  0.542029   72.984333   \n",
       "398  500.958848   22.053498  139.647188  0.824022  0.644770   52.295860   \n",
       "399  502.934177  256.835443  226.998515  1.066165  0.675143   56.893299   \n",
       "400  505.473054  357.996008  287.914572  1.169301  0.408125   61.490737   \n",
       "401  505.256318  380.115523  159.186300  0.932757  0.474774   45.399703   \n",
       "\n",
       "     raw_mass        ep  \n",
       "0     28811.0  0.187355  \n",
       "1     28280.0  0.302030  \n",
       "2     28743.0  0.196930  \n",
       "3     28898.0  0.176382  \n",
       "4     28795.0  0.189523  \n",
       "..        ...       ...  \n",
       "397   29064.0  0.158654  \n",
       "398   27792.0  0.690372  \n",
       "399   28128.0  0.366189  \n",
       "400   28456.0  0.251091  \n",
       "401   28110.0  0.375639  \n",
       "\n",
       "[402 rows x 8 columns]"
      ]
     },
     "execution_count": 161,
     "metadata": {},
     "output_type": "execute_result"
    }
   ],
   "source": [
    "tp_df"
   ]
  },
  {
   "cell_type": "code",
   "execution_count": 157,
   "metadata": {},
   "outputs": [
    {
     "data": {
      "text/html": [
       "<div>\n",
       "<style scoped>\n",
       "    .dataframe tbody tr th:only-of-type {\n",
       "        vertical-align: middle;\n",
       "    }\n",
       "\n",
       "    .dataframe tbody tr th {\n",
       "        vertical-align: top;\n",
       "    }\n",
       "\n",
       "    .dataframe thead th {\n",
       "        text-align: right;\n",
       "    }\n",
       "</style>\n",
       "<table border=\"1\" class=\"dataframe\">\n",
       "  <thead>\n",
       "    <tr style=\"text-align: right;\">\n",
       "      <th></th>\n",
       "      <th>frame</th>\n",
       "      <th>y</th>\n",
       "      <th>x</th>\n",
       "      <th>mass</th>\n",
       "      <th>signal</th>\n",
       "    </tr>\n",
       "  </thead>\n",
       "  <tbody>\n",
       "    <tr>\n",
       "      <th>0</th>\n",
       "      <td>0</td>\n",
       "      <td>3.866897</td>\n",
       "      <td>355.772247</td>\n",
       "      <td>254.446289</td>\n",
       "      <td>77.562744</td>\n",
       "    </tr>\n",
       "    <tr>\n",
       "      <th>1</th>\n",
       "      <td>0</td>\n",
       "      <td>4.905982</td>\n",
       "      <td>317.867493</td>\n",
       "      <td>216.914795</td>\n",
       "      <td>65.354492</td>\n",
       "    </tr>\n",
       "    <tr>\n",
       "      <th>2</th>\n",
       "      <td>0</td>\n",
       "      <td>4.857653</td>\n",
       "      <td>473.975952</td>\n",
       "      <td>344.790283</td>\n",
       "      <td>84.368408</td>\n",
       "    </tr>\n",
       "    <tr>\n",
       "      <th>3</th>\n",
       "      <td>0</td>\n",
       "      <td>5.815582</td>\n",
       "      <td>88.932190</td>\n",
       "      <td>392.680908</td>\n",
       "      <td>94.691162</td>\n",
       "    </tr>\n",
       "    <tr>\n",
       "      <th>4</th>\n",
       "      <td>0</td>\n",
       "      <td>6.123900</td>\n",
       "      <td>180.055389</td>\n",
       "      <td>259.097900</td>\n",
       "      <td>60.135742</td>\n",
       "    </tr>\n",
       "    <tr>\n",
       "      <th>...</th>\n",
       "      <td>...</td>\n",
       "      <td>...</td>\n",
       "      <td>...</td>\n",
       "      <td>...</td>\n",
       "      <td>...</td>\n",
       "    </tr>\n",
       "    <tr>\n",
       "      <th>568</th>\n",
       "      <td>0</td>\n",
       "      <td>499.946442</td>\n",
       "      <td>500.679657</td>\n",
       "      <td>296.847900</td>\n",
       "      <td>66.775146</td>\n",
       "    </tr>\n",
       "    <tr>\n",
       "      <th>569</th>\n",
       "      <td>0</td>\n",
       "      <td>500.688629</td>\n",
       "      <td>140.881805</td>\n",
       "      <td>208.513916</td>\n",
       "      <td>46.382568</td>\n",
       "    </tr>\n",
       "    <tr>\n",
       "      <th>570</th>\n",
       "      <td>0</td>\n",
       "      <td>502.850800</td>\n",
       "      <td>322.809662</td>\n",
       "      <td>312.820801</td>\n",
       "      <td>56.977539</td>\n",
       "    </tr>\n",
       "    <tr>\n",
       "      <th>571</th>\n",
       "      <td>0</td>\n",
       "      <td>503.427185</td>\n",
       "      <td>421.600403</td>\n",
       "      <td>283.598145</td>\n",
       "      <td>65.444336</td>\n",
       "    </tr>\n",
       "    <tr>\n",
       "      <th>572</th>\n",
       "      <td>0</td>\n",
       "      <td>503.060791</td>\n",
       "      <td>469.043823</td>\n",
       "      <td>254.474365</td>\n",
       "      <td>54.283203</td>\n",
       "    </tr>\n",
       "  </tbody>\n",
       "</table>\n",
       "<p>573 rows × 5 columns</p>\n",
       "</div>"
      ],
      "text/plain": [
       "     frame           y           x        mass     signal\n",
       "0        0    3.866897  355.772247  254.446289  77.562744\n",
       "1        0    4.905982  317.867493  216.914795  65.354492\n",
       "2        0    4.857653  473.975952  344.790283  84.368408\n",
       "3        0    5.815582   88.932190  392.680908  94.691162\n",
       "4        0    6.123900  180.055389  259.097900  60.135742\n",
       "..     ...         ...         ...         ...        ...\n",
       "568      0  499.946442  500.679657  296.847900  66.775146\n",
       "569      0  500.688629  140.881805  208.513916  46.382568\n",
       "570      0  502.850800  322.809662  312.820801  56.977539\n",
       "571      0  503.427185  421.600403  283.598145  65.444336\n",
       "572      0  503.060791  469.043823  254.474365  54.283203\n",
       "\n",
       "[573 rows x 5 columns]"
      ]
     },
     "execution_count": 157,
     "metadata": {},
     "output_type": "execute_result"
    }
   ],
   "source": [
    "df[df[\"frame\"] == 0]"
   ]
  },
  {
   "cell_type": "code",
   "execution_count": 146,
   "metadata": {},
   "outputs": [
    {
     "data": {
      "text/html": [
       "<div>\n",
       "<style scoped>\n",
       "    .dataframe tbody tr th:only-of-type {\n",
       "        vertical-align: middle;\n",
       "    }\n",
       "\n",
       "    .dataframe tbody tr th {\n",
       "        vertical-align: top;\n",
       "    }\n",
       "\n",
       "    .dataframe thead th {\n",
       "        text-align: right;\n",
       "    }\n",
       "</style>\n",
       "<table border=\"1\" class=\"dataframe\">\n",
       "  <thead>\n",
       "    <tr style=\"text-align: right;\">\n",
       "      <th></th>\n",
       "      <th>y</th>\n",
       "      <th>x</th>\n",
       "      <th>mass</th>\n",
       "      <th>size</th>\n",
       "      <th>ecc</th>\n",
       "      <th>signal</th>\n",
       "      <th>raw_mass</th>\n",
       "      <th>ep</th>\n",
       "    </tr>\n",
       "  </thead>\n",
       "  <tbody>\n",
       "    <tr>\n",
       "      <th>0</th>\n",
       "      <td>6.403311</td>\n",
       "      <td>367.855772</td>\n",
       "      <td>365.819417</td>\n",
       "      <td>1.219779</td>\n",
       "      <td>0.549816</td>\n",
       "      <td>66.376287</td>\n",
       "      <td>28811.0</td>\n",
       "      <td>0.191827</td>\n",
       "    </tr>\n",
       "    <tr>\n",
       "      <th>1</th>\n",
       "      <td>8.997614</td>\n",
       "      <td>284.781182</td>\n",
       "      <td>317.488891</td>\n",
       "      <td>0.937132</td>\n",
       "      <td>0.455082</td>\n",
       "      <td>91.395014</td>\n",
       "      <td>28280.0</td>\n",
       "      <td>0.310640</td>\n",
       "    </tr>\n",
       "    <tr>\n",
       "      <th>2</th>\n",
       "      <td>10.144457</td>\n",
       "      <td>211.841173</td>\n",
       "      <td>349.083378</td>\n",
       "      <td>0.924602</td>\n",
       "      <td>0.400104</td>\n",
       "      <td>103.651565</td>\n",
       "      <td>28743.0</td>\n",
       "      <td>0.201707</td>\n",
       "    </tr>\n",
       "    <tr>\n",
       "      <th>3</th>\n",
       "      <td>10.179528</td>\n",
       "      <td>389.099882</td>\n",
       "      <td>332.182457</td>\n",
       "      <td>1.002553</td>\n",
       "      <td>0.497841</td>\n",
       "      <td>92.612601</td>\n",
       "      <td>28898.0</td>\n",
       "      <td>0.180515</td>\n",
       "    </tr>\n",
       "    <tr>\n",
       "      <th>4</th>\n",
       "      <td>11.330918</td>\n",
       "      <td>465.730881</td>\n",
       "      <td>316.561407</td>\n",
       "      <td>1.184667</td>\n",
       "      <td>0.074741</td>\n",
       "      <td>63.347207</td>\n",
       "      <td>28795.0</td>\n",
       "      <td>0.194064</td>\n",
       "    </tr>\n",
       "    <tr>\n",
       "      <th>...</th>\n",
       "      <td>...</td>\n",
       "      <td>...</td>\n",
       "      <td>...</td>\n",
       "      <td>...</td>\n",
       "      <td>...</td>\n",
       "      <td>...</td>\n",
       "      <td>...</td>\n",
       "      <td>...</td>\n",
       "    </tr>\n",
       "    <tr>\n",
       "      <th>396</th>\n",
       "      <td>500.380117</td>\n",
       "      <td>221.173736</td>\n",
       "      <td>372.453870</td>\n",
       "      <td>1.149011</td>\n",
       "      <td>0.542440</td>\n",
       "      <td>73.493117</td>\n",
       "      <td>29064.0</td>\n",
       "      <td>0.162258</td>\n",
       "    </tr>\n",
       "    <tr>\n",
       "      <th>397</th>\n",
       "      <td>500.954721</td>\n",
       "      <td>22.053524</td>\n",
       "      <td>141.728757</td>\n",
       "      <td>0.830572</td>\n",
       "      <td>0.632130</td>\n",
       "      <td>52.574935</td>\n",
       "      <td>27792.0</td>\n",
       "      <td>0.721105</td>\n",
       "    </tr>\n",
       "    <tr>\n",
       "      <th>398</th>\n",
       "      <td>502.931272</td>\n",
       "      <td>256.836931</td>\n",
       "      <td>229.071973</td>\n",
       "      <td>1.069708</td>\n",
       "      <td>0.673405</td>\n",
       "      <td>56.957677</td>\n",
       "      <td>28128.0</td>\n",
       "      <td>0.377585</td>\n",
       "    </tr>\n",
       "    <tr>\n",
       "      <th>399</th>\n",
       "      <td>505.471716</td>\n",
       "      <td>357.995160</td>\n",
       "      <td>290.497141</td>\n",
       "      <td>1.169772</td>\n",
       "      <td>0.402382</td>\n",
       "      <td>61.624564</td>\n",
       "      <td>28456.0</td>\n",
       "      <td>0.257730</td>\n",
       "    </tr>\n",
       "    <tr>\n",
       "      <th>400</th>\n",
       "      <td>505.257646</td>\n",
       "      <td>380.118415</td>\n",
       "      <td>160.471462</td>\n",
       "      <td>0.934318</td>\n",
       "      <td>0.474274</td>\n",
       "      <td>45.646830</td>\n",
       "      <td>28110.0</td>\n",
       "      <td>0.387473</td>\n",
       "    </tr>\n",
       "  </tbody>\n",
       "</table>\n",
       "<p>401 rows × 8 columns</p>\n",
       "</div>"
      ],
      "text/plain": [
       "              y           x        mass      size       ecc      signal  \\\n",
       "0      6.403311  367.855772  365.819417  1.219779  0.549816   66.376287   \n",
       "1      8.997614  284.781182  317.488891  0.937132  0.455082   91.395014   \n",
       "2     10.144457  211.841173  349.083378  0.924602  0.400104  103.651565   \n",
       "3     10.179528  389.099882  332.182457  1.002553  0.497841   92.612601   \n",
       "4     11.330918  465.730881  316.561407  1.184667  0.074741   63.347207   \n",
       "..          ...         ...         ...       ...       ...         ...   \n",
       "396  500.380117  221.173736  372.453870  1.149011  0.542440   73.493117   \n",
       "397  500.954721   22.053524  141.728757  0.830572  0.632130   52.574935   \n",
       "398  502.931272  256.836931  229.071973  1.069708  0.673405   56.957677   \n",
       "399  505.471716  357.995160  290.497141  1.169772  0.402382   61.624564   \n",
       "400  505.257646  380.118415  160.471462  0.934318  0.474274   45.646830   \n",
       "\n",
       "     raw_mass        ep  \n",
       "0     28811.0  0.191827  \n",
       "1     28280.0  0.310640  \n",
       "2     28743.0  0.201707  \n",
       "3     28898.0  0.180515  \n",
       "4     28795.0  0.194064  \n",
       "..        ...       ...  \n",
       "396   29064.0  0.162258  \n",
       "397   27792.0  0.721105  \n",
       "398   28128.0  0.377585  \n",
       "399   28456.0  0.257730  \n",
       "400   28110.0  0.387473  \n",
       "\n",
       "[401 rows x 8 columns]"
      ]
     },
     "execution_count": 146,
     "metadata": {},
     "output_type": "execute_result"
    }
   ],
   "source": [
    "tp_df"
   ]
  },
  {
   "cell_type": "code",
   "execution_count": 147,
   "metadata": {},
   "outputs": [
    {
     "data": {
      "text/html": [
       "<div>\n",
       "<style scoped>\n",
       "    .dataframe tbody tr th:only-of-type {\n",
       "        vertical-align: middle;\n",
       "    }\n",
       "\n",
       "    .dataframe tbody tr th {\n",
       "        vertical-align: top;\n",
       "    }\n",
       "\n",
       "    .dataframe thead th {\n",
       "        text-align: right;\n",
       "    }\n",
       "</style>\n",
       "<table border=\"1\" class=\"dataframe\">\n",
       "  <thead>\n",
       "    <tr style=\"text-align: right;\">\n",
       "      <th></th>\n",
       "      <th>frame</th>\n",
       "      <th>y</th>\n",
       "      <th>x</th>\n",
       "      <th>mass</th>\n",
       "      <th>signal</th>\n",
       "    </tr>\n",
       "  </thead>\n",
       "  <tbody>\n",
       "    <tr>\n",
       "      <th>0</th>\n",
       "      <td>0</td>\n",
       "      <td>3.866897</td>\n",
       "      <td>355.772247</td>\n",
       "      <td>254.446289</td>\n",
       "      <td>231.910889</td>\n",
       "    </tr>\n",
       "    <tr>\n",
       "      <th>1</th>\n",
       "      <td>0</td>\n",
       "      <td>4.905982</td>\n",
       "      <td>317.867493</td>\n",
       "      <td>216.914795</td>\n",
       "      <td>231.910889</td>\n",
       "    </tr>\n",
       "    <tr>\n",
       "      <th>2</th>\n",
       "      <td>0</td>\n",
       "      <td>4.857653</td>\n",
       "      <td>473.975952</td>\n",
       "      <td>344.790283</td>\n",
       "      <td>231.910889</td>\n",
       "    </tr>\n",
       "    <tr>\n",
       "      <th>3</th>\n",
       "      <td>0</td>\n",
       "      <td>5.815582</td>\n",
       "      <td>88.932190</td>\n",
       "      <td>392.680908</td>\n",
       "      <td>231.910889</td>\n",
       "    </tr>\n",
       "    <tr>\n",
       "      <th>4</th>\n",
       "      <td>0</td>\n",
       "      <td>6.123900</td>\n",
       "      <td>180.055389</td>\n",
       "      <td>259.097900</td>\n",
       "      <td>231.910889</td>\n",
       "    </tr>\n",
       "    <tr>\n",
       "      <th>...</th>\n",
       "      <td>...</td>\n",
       "      <td>...</td>\n",
       "      <td>...</td>\n",
       "      <td>...</td>\n",
       "      <td>...</td>\n",
       "    </tr>\n",
       "    <tr>\n",
       "      <th>568</th>\n",
       "      <td>0</td>\n",
       "      <td>499.946442</td>\n",
       "      <td>500.679657</td>\n",
       "      <td>296.847900</td>\n",
       "      <td>231.910889</td>\n",
       "    </tr>\n",
       "    <tr>\n",
       "      <th>569</th>\n",
       "      <td>0</td>\n",
       "      <td>500.688629</td>\n",
       "      <td>140.881805</td>\n",
       "      <td>208.513916</td>\n",
       "      <td>231.910889</td>\n",
       "    </tr>\n",
       "    <tr>\n",
       "      <th>570</th>\n",
       "      <td>0</td>\n",
       "      <td>502.850800</td>\n",
       "      <td>322.809662</td>\n",
       "      <td>312.820801</td>\n",
       "      <td>231.910889</td>\n",
       "    </tr>\n",
       "    <tr>\n",
       "      <th>571</th>\n",
       "      <td>0</td>\n",
       "      <td>503.427185</td>\n",
       "      <td>421.600403</td>\n",
       "      <td>283.598145</td>\n",
       "      <td>231.910889</td>\n",
       "    </tr>\n",
       "    <tr>\n",
       "      <th>572</th>\n",
       "      <td>0</td>\n",
       "      <td>503.060791</td>\n",
       "      <td>469.043823</td>\n",
       "      <td>254.474365</td>\n",
       "      <td>231.910889</td>\n",
       "    </tr>\n",
       "  </tbody>\n",
       "</table>\n",
       "<p>573 rows × 5 columns</p>\n",
       "</div>"
      ],
      "text/plain": [
       "     frame           y           x        mass      signal\n",
       "0        0    3.866897  355.772247  254.446289  231.910889\n",
       "1        0    4.905982  317.867493  216.914795  231.910889\n",
       "2        0    4.857653  473.975952  344.790283  231.910889\n",
       "3        0    5.815582   88.932190  392.680908  231.910889\n",
       "4        0    6.123900  180.055389  259.097900  231.910889\n",
       "..     ...         ...         ...         ...         ...\n",
       "568      0  499.946442  500.679657  296.847900  231.910889\n",
       "569      0  500.688629  140.881805  208.513916  231.910889\n",
       "570      0  502.850800  322.809662  312.820801  231.910889\n",
       "571      0  503.427185  421.600403  283.598145  231.910889\n",
       "572      0  503.060791  469.043823  254.474365  231.910889\n",
       "\n",
       "[573 rows x 5 columns]"
      ]
     },
     "execution_count": 147,
     "metadata": {},
     "output_type": "execute_result"
    }
   ],
   "source": []
  },
  {
   "cell_type": "code",
   "execution_count": 143,
   "metadata": {},
   "outputs": [
    {
     "data": {
      "text/html": [
       "<div>\n",
       "<style scoped>\n",
       "    .dataframe tbody tr th:only-of-type {\n",
       "        vertical-align: middle;\n",
       "    }\n",
       "\n",
       "    .dataframe tbody tr th {\n",
       "        vertical-align: top;\n",
       "    }\n",
       "\n",
       "    .dataframe thead th {\n",
       "        text-align: right;\n",
       "    }\n",
       "</style>\n",
       "<table border=\"1\" class=\"dataframe\">\n",
       "  <thead>\n",
       "    <tr style=\"text-align: right;\">\n",
       "      <th></th>\n",
       "      <th>frame</th>\n",
       "      <th>y</th>\n",
       "      <th>x</th>\n",
       "      <th>mass</th>\n",
       "      <th>signal</th>\n",
       "    </tr>\n",
       "  </thead>\n",
       "  <tbody>\n",
       "    <tr>\n",
       "      <th>0</th>\n",
       "      <td>0</td>\n",
       "      <td>3.866897</td>\n",
       "      <td>355.772247</td>\n",
       "      <td>254.446289</td>\n",
       "      <td>231.910889</td>\n",
       "    </tr>\n",
       "    <tr>\n",
       "      <th>1</th>\n",
       "      <td>0</td>\n",
       "      <td>4.905982</td>\n",
       "      <td>317.867493</td>\n",
       "      <td>216.914795</td>\n",
       "      <td>231.910889</td>\n",
       "    </tr>\n",
       "    <tr>\n",
       "      <th>2</th>\n",
       "      <td>0</td>\n",
       "      <td>4.857653</td>\n",
       "      <td>473.975952</td>\n",
       "      <td>344.790283</td>\n",
       "      <td>231.910889</td>\n",
       "    </tr>\n",
       "    <tr>\n",
       "      <th>3</th>\n",
       "      <td>0</td>\n",
       "      <td>5.815582</td>\n",
       "      <td>88.932190</td>\n",
       "      <td>392.680908</td>\n",
       "      <td>231.910889</td>\n",
       "    </tr>\n",
       "    <tr>\n",
       "      <th>4</th>\n",
       "      <td>0</td>\n",
       "      <td>6.123900</td>\n",
       "      <td>180.055389</td>\n",
       "      <td>259.097900</td>\n",
       "      <td>231.910889</td>\n",
       "    </tr>\n",
       "    <tr>\n",
       "      <th>...</th>\n",
       "      <td>...</td>\n",
       "      <td>...</td>\n",
       "      <td>...</td>\n",
       "      <td>...</td>\n",
       "      <td>...</td>\n",
       "    </tr>\n",
       "    <tr>\n",
       "      <th>1128280</th>\n",
       "      <td>665</td>\n",
       "      <td>500.171143</td>\n",
       "      <td>213.795197</td>\n",
       "      <td>283.001953</td>\n",
       "      <td>255.961182</td>\n",
       "    </tr>\n",
       "    <tr>\n",
       "      <th>1128281</th>\n",
       "      <td>665</td>\n",
       "      <td>499.930298</td>\n",
       "      <td>264.702972</td>\n",
       "      <td>229.137695</td>\n",
       "      <td>255.961182</td>\n",
       "    </tr>\n",
       "    <tr>\n",
       "      <th>1128282</th>\n",
       "      <td>665</td>\n",
       "      <td>501.183014</td>\n",
       "      <td>404.457397</td>\n",
       "      <td>351.189209</td>\n",
       "      <td>255.961182</td>\n",
       "    </tr>\n",
       "    <tr>\n",
       "      <th>1128283</th>\n",
       "      <td>665</td>\n",
       "      <td>501.949127</td>\n",
       "      <td>291.744690</td>\n",
       "      <td>225.958984</td>\n",
       "      <td>255.961182</td>\n",
       "    </tr>\n",
       "    <tr>\n",
       "      <th>1128284</th>\n",
       "      <td>665</td>\n",
       "      <td>502.902161</td>\n",
       "      <td>356.578430</td>\n",
       "      <td>204.516113</td>\n",
       "      <td>255.961182</td>\n",
       "    </tr>\n",
       "  </tbody>\n",
       "</table>\n",
       "<p>1128285 rows × 5 columns</p>\n",
       "</div>"
      ],
      "text/plain": [
       "         frame           y           x        mass      signal\n",
       "0            0    3.866897  355.772247  254.446289  231.910889\n",
       "1            0    4.905982  317.867493  216.914795  231.910889\n",
       "2            0    4.857653  473.975952  344.790283  231.910889\n",
       "3            0    5.815582   88.932190  392.680908  231.910889\n",
       "4            0    6.123900  180.055389  259.097900  231.910889\n",
       "...        ...         ...         ...         ...         ...\n",
       "1128280    665  500.171143  213.795197  283.001953  255.961182\n",
       "1128281    665  499.930298  264.702972  229.137695  255.961182\n",
       "1128282    665  501.183014  404.457397  351.189209  255.961182\n",
       "1128283    665  501.949127  291.744690  225.958984  255.961182\n",
       "1128284    665  502.902161  356.578430  204.516113  255.961182\n",
       "\n",
       "[1128285 rows x 5 columns]"
      ]
     },
     "execution_count": 143,
     "metadata": {},
     "output_type": "execute_result"
    }
   ],
   "source": [
    "df"
   ]
  },
  {
   "cell_type": "code",
   "execution_count": 120,
   "metadata": {},
   "outputs": [
    {
     "data": {
      "text/plain": [
       "array([[  3.8668966, 355.77225  ],\n",
       "       [  4.9059825, 317.8675   ],\n",
       "       [  4.8576527, 473.97595  ],\n",
       "       ...,\n",
       "       [500.1415   , 447.84207  ],\n",
       "       [500.93127  , 254.83693  ],\n",
       "       [503.4717   , 355.99515  ]], dtype=float32)"
      ]
     },
     "execution_count": 120,
     "metadata": {},
     "output_type": "execute_result"
    }
   ],
   "source": [
    "df[df[\"frame\"] == 0][[\"y\", \"x\"]].values"
   ]
  },
  {
   "cell_type": "code",
   "execution_count": 133,
   "metadata": {},
   "outputs": [
    {
     "data": {
      "text/html": [
       "<div>\n",
       "<style scoped>\n",
       "    .dataframe tbody tr th:only-of-type {\n",
       "        vertical-align: middle;\n",
       "    }\n",
       "\n",
       "    .dataframe tbody tr th {\n",
       "        vertical-align: top;\n",
       "    }\n",
       "\n",
       "    .dataframe thead th {\n",
       "        text-align: right;\n",
       "    }\n",
       "</style>\n",
       "<table border=\"1\" class=\"dataframe\">\n",
       "  <thead>\n",
       "    <tr style=\"text-align: right;\">\n",
       "      <th></th>\n",
       "      <th>frame</th>\n",
       "      <th>y</th>\n",
       "      <th>x</th>\n",
       "      <th>mass</th>\n",
       "    </tr>\n",
       "  </thead>\n",
       "  <tbody>\n",
       "    <tr>\n",
       "      <th>0</th>\n",
       "      <td>0.0</td>\n",
       "      <td>3.866897</td>\n",
       "      <td>355.772247</td>\n",
       "      <td>254.446289</td>\n",
       "    </tr>\n",
       "    <tr>\n",
       "      <th>1</th>\n",
       "      <td>0.0</td>\n",
       "      <td>4.905982</td>\n",
       "      <td>317.867493</td>\n",
       "      <td>216.914795</td>\n",
       "    </tr>\n",
       "    <tr>\n",
       "      <th>2</th>\n",
       "      <td>0.0</td>\n",
       "      <td>4.857653</td>\n",
       "      <td>473.975952</td>\n",
       "      <td>344.790283</td>\n",
       "    </tr>\n",
       "    <tr>\n",
       "      <th>3</th>\n",
       "      <td>0.0</td>\n",
       "      <td>5.815582</td>\n",
       "      <td>88.932190</td>\n",
       "      <td>392.680908</td>\n",
       "    </tr>\n",
       "    <tr>\n",
       "      <th>4</th>\n",
       "      <td>0.0</td>\n",
       "      <td>6.123900</td>\n",
       "      <td>180.055389</td>\n",
       "      <td>259.097900</td>\n",
       "    </tr>\n",
       "    <tr>\n",
       "      <th>...</th>\n",
       "      <td>...</td>\n",
       "      <td>...</td>\n",
       "      <td>...</td>\n",
       "      <td>...</td>\n",
       "    </tr>\n",
       "    <tr>\n",
       "      <th>1128280</th>\n",
       "      <td>665.0</td>\n",
       "      <td>500.171143</td>\n",
       "      <td>213.795197</td>\n",
       "      <td>283.001953</td>\n",
       "    </tr>\n",
       "    <tr>\n",
       "      <th>1128281</th>\n",
       "      <td>665.0</td>\n",
       "      <td>499.930298</td>\n",
       "      <td>264.702972</td>\n",
       "      <td>229.137695</td>\n",
       "    </tr>\n",
       "    <tr>\n",
       "      <th>1128282</th>\n",
       "      <td>665.0</td>\n",
       "      <td>501.183014</td>\n",
       "      <td>404.457397</td>\n",
       "      <td>351.189209</td>\n",
       "    </tr>\n",
       "    <tr>\n",
       "      <th>1128283</th>\n",
       "      <td>665.0</td>\n",
       "      <td>501.949127</td>\n",
       "      <td>291.744690</td>\n",
       "      <td>225.958984</td>\n",
       "    </tr>\n",
       "    <tr>\n",
       "      <th>1128284</th>\n",
       "      <td>665.0</td>\n",
       "      <td>502.902161</td>\n",
       "      <td>356.578430</td>\n",
       "      <td>204.516113</td>\n",
       "    </tr>\n",
       "  </tbody>\n",
       "</table>\n",
       "<p>1128285 rows × 4 columns</p>\n",
       "</div>"
      ],
      "text/plain": [
       "         frame           y           x        mass\n",
       "0          0.0    3.866897  355.772247  254.446289\n",
       "1          0.0    4.905982  317.867493  216.914795\n",
       "2          0.0    4.857653  473.975952  344.790283\n",
       "3          0.0    5.815582   88.932190  392.680908\n",
       "4          0.0    6.123900  180.055389  259.097900\n",
       "...        ...         ...         ...         ...\n",
       "1128280  665.0  500.171143  213.795197  283.001953\n",
       "1128281  665.0  499.930298  264.702972  229.137695\n",
       "1128282  665.0  501.183014  404.457397  351.189209\n",
       "1128283  665.0  501.949127  291.744690  225.958984\n",
       "1128284  665.0  502.902161  356.578430  204.516113\n",
       "\n",
       "[1128285 rows x 4 columns]"
      ]
     },
     "execution_count": 133,
     "metadata": {},
     "output_type": "execute_result"
    }
   ],
   "source": [
    "df"
   ]
  },
  {
   "cell_type": "code",
   "execution_count": 132,
   "metadata": {},
   "outputs": [
    {
     "data": {
      "text/plain": [
       "[<matplotlib.lines.Line2D at 0x1ea709f6970>]"
      ]
     },
     "execution_count": 132,
     "metadata": {},
     "output_type": "execute_result"
    },
    {
     "data": {
      "image/png": "[encoded data removed]",
      "text/plain": [
       "<Figure size 640x480 with 1 Axes>"
      ]
     },
     "metadata": {},
     "output_type": "display_data"
    }
   ],
   "source": [
    "plt.plot(*df[df[\"frame\"] == 6][[\"y\", \"x\"]].values.T, \",\")"
   ]
  },
  {
   "cell_type": "code",
   "execution_count": 98,
   "metadata": {},
   "outputs": [
    {
     "data": {
      "text/plain": [
       "75217"
      ]
     },
     "execution_count": 98,
     "metadata": {},
     "output_type": "execute_result"
    }
   ],
   "source": [
    "df.x.isna().idxmax()"
   ]
  },
  {
   "cell_type": "code",
   "execution_count": 105,
   "metadata": {},
   "outputs": [
    {
     "ename": "ZeroDivisionError",
     "evalue": "division by zero",
     "output_type": "error",
     "traceback": [
      "\u001b[1;31m---------------------------------------------------------------------------\u001b[0m",
      "\u001b[1;31mZeroDivisionError\u001b[0m                         Traceback (most recent call last)",
      "\u001b[1;32mc:\\Users\\andre\\Documents\\tracking_optimizations\\emily_tracking\\work_in_progress\\torch_port.ipynb Cell 7\u001b[0m in \u001b[0;36m<cell line: 1>\u001b[1;34m()\u001b[0m\n\u001b[1;32m----> <a href='vscode-notebook-cell:/c%3A/Users/andre/Documents/tracking_optimizations/emily_tracking/work_in_progress/torch_port.ipynb#Y121sZmlsZQ%3D%3D?line=0'>1</a>\u001b[0m \u001b[39mlen\u001b[39;49m(df)\u001b[39m/\u001b[39;49mdf\u001b[39m.\u001b[39;49mx\u001b[39m.\u001b[39;49misna()\u001b[39m.\u001b[39;49midxmax()\n",
      "\u001b[1;31mZeroDivisionError\u001b[0m: division by zero"
     ]
    }
   ],
   "source": [
    "len(df)"
   ]
  },
  {
   "cell_type": "code",
   "execution_count": 25,
   "metadata": {},
   "outputs": [
    {
     "ename": "EOFError",
     "evalue": "Ran out of input",
     "output_type": "error",
     "traceback": [
      "\u001b[1;31m---------------------------------------------------------------------------\u001b[0m",
      "\u001b[1;31mEOFError\u001b[0m                                  Traceback (most recent call last)",
      "\u001b[1;32mc:\\Users\\andre\\Documents\\tracking_optimizations\\emily_tracking\\work_in_progress\\torch_port.ipynb Cell 2\u001b[0m in \u001b[0;36m<cell line: 1>\u001b[1;34m()\u001b[0m\n\u001b[0;32m      <a href='vscode-notebook-cell:/c%3A/Users/andre/Documents/tracking_optimizations/emily_tracking/work_in_progress/torch_port.ipynb#W1sZmlsZQ%3D%3D?line=0'>1</a>\u001b[0m \u001b[39mwith\u001b[39;00m \u001b[39mopen\u001b[39m(\u001b[39m\"\u001b[39m\u001b[39margs.pickle\u001b[39m\u001b[39m\"\u001b[39m, \u001b[39m\"\u001b[39m\u001b[39mrb\u001b[39m\u001b[39m\"\u001b[39m) \u001b[39mas\u001b[39;00m argfile, \u001b[39mopen\u001b[39m(\u001b[39m\"\u001b[39m\u001b[39mres.pickle\u001b[39m\u001b[39m\"\u001b[39m, \u001b[39m\"\u001b[39m\u001b[39mrb\u001b[39m\u001b[39m\"\u001b[39m) \u001b[39mas\u001b[39;00m resfile, \u001b[39mopen\u001b[39m(\u001b[39m\"\u001b[39m\u001b[39mintpic.pickle\u001b[39m\u001b[39m\"\u001b[39m, \u001b[39m\"\u001b[39m\u001b[39mrb\u001b[39m\u001b[39m\"\u001b[39m) \u001b[39mas\u001b[39;00m picfile:\n\u001b[1;32m----> <a href='vscode-notebook-cell:/c%3A/Users/andre/Documents/tracking_optimizations/emily_tracking/work_in_progress/torch_port.ipynb#W1sZmlsZQ%3D%3D?line=1'>2</a>\u001b[0m     args \u001b[39m=\u001b[39m pickle\u001b[39m.\u001b[39;49mload(argfile)\n\u001b[0;32m      <a href='vscode-notebook-cell:/c%3A/Users/andre/Documents/tracking_optimizations/emily_tracking/work_in_progress/torch_port.ipynb#W1sZmlsZQ%3D%3D?line=2'>3</a>\u001b[0m     res \u001b[39m=\u001b[39m pickle\u001b[39m.\u001b[39mload(resfile)\n\u001b[0;32m      <a href='vscode-notebook-cell:/c%3A/Users/andre/Documents/tracking_optimizations/emily_tracking/work_in_progress/torch_port.ipynb#W1sZmlsZQ%3D%3D?line=3'>4</a>\u001b[0m     pic \u001b[39m=\u001b[39m pickle\u001b[39m.\u001b[39mload(picfile)\n",
      "\u001b[1;31mEOFError\u001b[0m: Ran out of input"
     ]
    }
   ],
   "source": [
    "with open(\"args.pickle\", \"rb\") as argfile, open(\"res.pickle\", \"rb\") as resfile, open(\"intpic.pickle\", \"rb\") as picfile:\n",
    "    args = pickle.load(argfile)\n",
    "    res = pickle.load(resfile)\n",
    "    pic = pickle.load(picfile)\n"
   ]
  },
  {
   "cell_type": "markdown",
   "metadata": {},
   "source": [
    "## Start \"bandpass\""
   ]
  },
  {
   "cell_type": "code",
   "execution_count": 106,
   "metadata": {},
   "outputs": [],
   "source": [
    "\n",
    "# device = \"cpu\"\n",
    "# image, lshort, llong, threshold, truncate = args\n",
    "image = hlt.image_loader_video(r\"C:\\Users\\andre\\Documents\\tracking_optimizations\\emily_tracking\\sample_vids\\Experiment_Process_001_20220823.tif\")\n",
    "lshort, llong, threshold, truncate = 1, 13, 0, 4\n",
    "lshort = validate_tuple(lshort, image.ndim)\n",
    "llong = validate_tuple(llong, image.ndim)\n",
    "timage = torch.tensor(image.astype(float)).reshape(1, 1, *image.shape).to(device)\n",
    "padder = (*(np.array(llong) // 2),)*2\n",
    "padded_timage = torch.nn.functional.pad(timage, padder, \"replicate\").to(device)\n",
    "\n",
    "gauss_ker = [tp.masks.gaussian_kernel(sigma, truncate) for sigma in lshort]\n"
   ]
  },
  {
   "cell_type": "code",
   "execution_count": 107,
   "metadata": {},
   "outputs": [
    {
     "data": {
      "text/plain": [
       "(tensor([[[[[2148., 2125., 2094.,  ..., 2113., 2104., 2158.],\n",
       "            [2139., 2144., 2146.,  ..., 2101., 2089., 2129.],\n",
       "            [2126., 2171., 2220.,  ..., 2090., 2081., 2107.],\n",
       "            ...,\n",
       "            [2155., 2160., 2159.,  ..., 2174., 2128., 2039.],\n",
       "            [2139., 2161., 2185.,  ..., 2153., 2097., 2044.],\n",
       "            [2108., 2168., 2243.,  ..., 2123., 2055., 2050.]],\n",
       " \n",
       "           [[2098., 2136., 2207.,  ..., 2068., 2168., 2286.],\n",
       "            [2118., 2145., 2201.,  ..., 2083., 2135., 2226.],\n",
       "            [2148., 2162., 2199.,  ..., 2103., 2089., 2139.],\n",
       "            ...,\n",
       "            [2075., 2071., 2070.,  ..., 2109., 2141., 2185.],\n",
       "            [2079., 2075., 2076.,  ..., 2110., 2134., 2156.],\n",
       "            [2098., 2091., 2090.,  ..., 2105., 2107., 2099.]],\n",
       " \n",
       "           [[2144., 2141., 2143.,  ..., 2291., 2271., 2164.],\n",
       "            [2140., 2139., 2142.,  ..., 2222., 2204., 2159.],\n",
       "            [2131., 2140., 2153.,  ..., 2132., 2121., 2168.],\n",
       "            ...,\n",
       "            [2143., 2147., 2152.,  ..., 2148., 2127., 2198.],\n",
       "            [2108., 2112., 2119.,  ..., 2185., 2170., 2207.],\n",
       "            [2096., 2105., 2117.,  ..., 2187., 2194., 2162.]],\n",
       " \n",
       "           ...,\n",
       " \n",
       "           [[2296., 2223., 2128.,  ..., 2119., 2127., 2182.],\n",
       "            [2265., 2225., 2180.,  ..., 2115., 2133., 2199.],\n",
       "            [2225., 2234., 2262.,  ..., 2124., 2145., 2212.],\n",
       "            ...,\n",
       "            [2231., 2225., 2207.,  ..., 2130., 2132., 2109.],\n",
       "            [2180., 2153., 2114.,  ..., 2149., 2125., 2069.],\n",
       "            [2128., 2101., 2063.,  ..., 2178., 2139., 2060.]],\n",
       " \n",
       "           [[2153., 2215., 2289.,  ..., 2144., 2118., 2102.],\n",
       "            [2137., 2208., 2308.,  ..., 2255., 2222., 2139.],\n",
       "            [2160., 2220., 2322.,  ..., 2387., 2353., 2194.],\n",
       "            ...,\n",
       "            [2089., 2129., 2188.,  ..., 2334., 2252., 2053.],\n",
       "            [2060., 2103., 2161.,  ..., 2260., 2216., 2089.],\n",
       "            [2054., 2080., 2110.,  ..., 2059., 2107., 2165.]],\n",
       " \n",
       "           [[2112., 2143., 2191.,  ..., 2075., 2083., 2123.],\n",
       "            [2114., 2145., 2193.,  ..., 2101., 2089., 2100.],\n",
       "            [2137., 2162., 2202.,  ..., 2133., 2097., 2070.],\n",
       "            ...,\n",
       "            [2167., 2154., 2137.,  ..., 2137., 2146., 2121.],\n",
       "            [2141., 2130., 2116.,  ..., 2150., 2184., 2192.],\n",
       "            [2083., 2080., 2079.,  ..., 2233., 2287., 2304.]]]]],\n",
       "        device='cuda:0', dtype=torch.float64),\n",
       " tensor([[[[[0., 0., 0.,  ..., 0., 0., 0.],\n",
       "            [0., 0., 0.,  ..., 0., 0., 0.],\n",
       "            [0., 0., 0.,  ..., 0., 0., 0.],\n",
       "            ...,\n",
       "            [0., 0., 0.,  ..., 0., 0., 0.],\n",
       "            [0., 0., 0.,  ..., 0., 0., 0.],\n",
       "            [0., 0., 0.,  ..., 0., 0., 0.]],\n",
       " \n",
       "           [[0., 0., 0.,  ..., 0., 0., 0.],\n",
       "            [0., 0., 0.,  ..., 0., 0., 0.],\n",
       "            [0., 0., 0.,  ..., 0., 0., 0.],\n",
       "            ...,\n",
       "            [0., 0., 0.,  ..., 0., 0., 0.],\n",
       "            [0., 0., 0.,  ..., 0., 0., 0.],\n",
       "            [0., 0., 0.,  ..., 0., 0., 0.]],\n",
       " \n",
       "           [[0., 0., 0.,  ..., 0., 0., 0.],\n",
       "            [0., 0., 0.,  ..., 0., 0., 0.],\n",
       "            [0., 0., 0.,  ..., 0., 0., 0.],\n",
       "            ...,\n",
       "            [0., 0., 0.,  ..., 0., 0., 0.],\n",
       "            [0., 0., 0.,  ..., 0., 0., 0.],\n",
       "            [0., 0., 0.,  ..., 0., 0., 0.]],\n",
       " \n",
       "           ...,\n",
       " \n",
       "           [[0., 0., 0.,  ..., 0., 0., 0.],\n",
       "            [0., 0., 0.,  ..., 0., 0., 0.],\n",
       "            [0., 0., 0.,  ..., 0., 0., 0.],\n",
       "            ...,\n",
       "            [0., 0., 0.,  ..., 0., 0., 0.],\n",
       "            [0., 0., 0.,  ..., 0., 0., 0.],\n",
       "            [0., 0., 0.,  ..., 0., 0., 0.]],\n",
       " \n",
       "           [[0., 0., 0.,  ..., 0., 0., 0.],\n",
       "            [0., 0., 0.,  ..., 0., 0., 0.],\n",
       "            [0., 0., 0.,  ..., 0., 0., 0.],\n",
       "            ...,\n",
       "            [0., 0., 0.,  ..., 0., 0., 0.],\n",
       "            [0., 0., 0.,  ..., 0., 0., 0.],\n",
       "            [0., 0., 0.,  ..., 0., 0., 0.]],\n",
       " \n",
       "           [[0., 0., 0.,  ..., 0., 0., 0.],\n",
       "            [0., 0., 0.,  ..., 0., 0., 0.],\n",
       "            [0., 0., 0.,  ..., 0., 0., 0.],\n",
       "            ...,\n",
       "            [0., 0., 0.,  ..., 0., 0., 0.],\n",
       "            [0., 0., 0.,  ..., 0., 0., 0.],\n",
       "            [0., 0., 0.,  ..., 0., 0., 0.]]]]], device='cuda:0',\n",
       "        dtype=torch.float64))"
      ]
     },
     "execution_count": 107,
     "metadata": {},
     "output_type": "execute_result"
    }
   ],
   "source": [
    "padded_timage[:] = 0\n",
    "timage, padded_timage"
   ]
  },
  {
   "cell_type": "code",
   "execution_count": 19,
   "metadata": {},
   "outputs": [
    {
     "ename": "ValueError",
     "evalue": "Smoothing size must be an odd integer. Round up.",
     "output_type": "error",
     "traceback": [
      "\u001b[1;31m---------------------------------------------------------------------------\u001b[0m",
      "\u001b[1;31mValueError\u001b[0m                                Traceback (most recent call last)",
      "\u001b[1;32mc:\\Users\\andre\\Documents\\tracking_optimizations\\emily_tracking\\work_in_progress\\torch_port.ipynb Cell 5\u001b[0m in \u001b[0;36m<cell line: 2>\u001b[1;34m()\u001b[0m\n\u001b[0;32m      <a href='vscode-notebook-cell:/c%3A/Users/andre/Documents/tracking_optimizations/emily_tracking/work_in_progress/torch_port.ipynb#X12sZmlsZQ%3D%3D?line=0'>1</a>\u001b[0m \u001b[39m# %%timeit\u001b[39;00m\n\u001b[1;32m----> <a href='vscode-notebook-cell:/c%3A/Users/andre/Documents/tracking_optimizations/emily_tracking/work_in_progress/torch_port.ipynb#X12sZmlsZQ%3D%3D?line=1'>2</a>\u001b[0m box \u001b[39m=\u001b[39m tpp\u001b[39m.\u001b[39;49mboxcar(image, llong)\n\u001b[0;32m      <a href='vscode-notebook-cell:/c%3A/Users/andre/Documents/tracking_optimizations/emily_tracking/work_in_progress/torch_port.ipynb#X12sZmlsZQ%3D%3D?line=2'>3</a>\u001b[0m \u001b[39mfilter\u001b[39m \u001b[39m=\u001b[39m torch\u001b[39m.\u001b[39mfull(llong, \u001b[39m1\u001b[39m\u001b[39m/\u001b[39mnp\u001b[39m.\u001b[39mproduct(llong), dtype \u001b[39m=\u001b[39m torch\u001b[39m.\u001b[39mdouble)\u001b[39m.\u001b[39mreshape(\u001b[39m1\u001b[39m, \u001b[39m1\u001b[39m, \u001b[39m*\u001b[39mllong)\u001b[39m.\u001b[39mto(device)\n\u001b[0;32m      <a href='vscode-notebook-cell:/c%3A/Users/andre/Documents/tracking_optimizations/emily_tracking/work_in_progress/torch_port.ipynb#X12sZmlsZQ%3D%3D?line=3'>4</a>\u001b[0m meaned \u001b[39m=\u001b[39m torch\u001b[39m.\u001b[39mnn\u001b[39m.\u001b[39mfunctional\u001b[39m.\u001b[39mconv2d(padded_timage, \u001b[39mfilter\u001b[39m)\n",
      "File \u001b[1;32mc:\\Users\\andre\\anaconda3\\envs\\tracking-script\\lib\\site-packages\\trackpy\\preprocessing.py:74\u001b[0m, in \u001b[0;36mboxcar\u001b[1;34m(image, size)\u001b[0m\n\u001b[0;32m     72\u001b[0m size \u001b[39m=\u001b[39m validate_tuple(size, image\u001b[39m.\u001b[39mndim)\n\u001b[0;32m     73\u001b[0m \u001b[39mif\u001b[39;00m \u001b[39mnot\u001b[39;00m np\u001b[39m.\u001b[39mall([x \u001b[39m&\u001b[39m \u001b[39m1\u001b[39m \u001b[39mfor\u001b[39;00m x \u001b[39min\u001b[39;00m size]):\n\u001b[1;32m---> 74\u001b[0m     \u001b[39mraise\u001b[39;00m \u001b[39mValueError\u001b[39;00m(\u001b[39m\"\u001b[39m\u001b[39mSmoothing size must be an odd integer. Round up.\u001b[39m\u001b[39m\"\u001b[39m)\n\u001b[0;32m     75\u001b[0m result \u001b[39m=\u001b[39m image\u001b[39m.\u001b[39mcopy()\n\u001b[0;32m     76\u001b[0m \u001b[39mfor\u001b[39;00m axis, _size \u001b[39min\u001b[39;00m \u001b[39menumerate\u001b[39m(size):\n",
      "\u001b[1;31mValueError\u001b[0m: Smoothing size must be an odd integer. Round up."
     ]
    }
   ],
   "source": [
    "# %%timeit\n",
    "box = tpp.boxcar(image, llong)\n",
    "filter = torch.full(llong, 1/np.product(llong), dtype = torch.double).reshape(1, 1, *llong).to(device)\n",
    "meaned = torch.nn.functional.conv2d(padded_timage, filter)\n"
   ]
  },
  {
   "cell_type": "code",
   "execution_count": 77,
   "metadata": {},
   "outputs": [
    {
     "data": {
      "text/plain": [
       "True"
      ]
     },
     "execution_count": 77,
     "metadata": {},
     "output_type": "execute_result"
    }
   ],
   "source": [
    "final_coords.is_floating_point()"
   ]
  },
  {
   "cell_type": "code",
   "execution_count": 75,
   "metadata": {},
   "outputs": [
    {
     "ename": "TypeError",
     "evalue": "Cannot interpret 'torch.float64' as a data type",
     "output_type": "error",
     "traceback": [
      "\u001b[1;31m---------------------------------------------------------------------------\u001b[0m",
      "\u001b[1;31mTypeError\u001b[0m                                 Traceback (most recent call last)",
      "\u001b[1;32mc:\\Users\\andre\\Documents\\tracking_optimizations\\emily_tracking\\work_in_progress\\torch_port.ipynb Cell 6\u001b[0m in \u001b[0;36m<cell line: 1>\u001b[1;34m()\u001b[0m\n\u001b[1;32m----> <a href='vscode-notebook-cell:/c%3A/Users/andre/Documents/tracking_optimizations/emily_tracking/work_in_progress/torch_port.ipynb#Y423sZmlsZQ%3D%3D?line=0'>1</a>\u001b[0m np\u001b[39m.\u001b[39;49missubdtype(final_coords\u001b[39m.\u001b[39;49mdtype, torch\u001b[39m.\u001b[39;49mfloat)\n",
      "File \u001b[1;32mc:\\Users\\andre\\anaconda3\\envs\\tracking-script\\lib\\site-packages\\numpy\\core\\numerictypes.py:418\u001b[0m, in \u001b[0;36missubdtype\u001b[1;34m(arg1, arg2)\u001b[0m\n\u001b[0;32m    360\u001b[0m \u001b[39mr\u001b[39m\u001b[39m\"\"\"\u001b[39;00m\n\u001b[0;32m    361\u001b[0m \u001b[39mReturns True if first argument is a typecode lower/equal in type hierarchy.\u001b[39;00m\n\u001b[0;32m    362\u001b[0m \n\u001b[1;32m   (...)\u001b[0m\n\u001b[0;32m    415\u001b[0m \n\u001b[0;32m    416\u001b[0m \u001b[39m\"\"\"\u001b[39;00m\n\u001b[0;32m    417\u001b[0m \u001b[39mif\u001b[39;00m \u001b[39mnot\u001b[39;00m issubclass_(arg1, generic):\n\u001b[1;32m--> 418\u001b[0m     arg1 \u001b[39m=\u001b[39m dtype(arg1)\u001b[39m.\u001b[39mtype\n\u001b[0;32m    419\u001b[0m \u001b[39mif\u001b[39;00m \u001b[39mnot\u001b[39;00m issubclass_(arg2, generic):\n\u001b[0;32m    420\u001b[0m     arg2 \u001b[39m=\u001b[39m dtype(arg2)\u001b[39m.\u001b[39mtype\n",
      "\u001b[1;31mTypeError\u001b[0m: Cannot interpret 'torch.float64' as a data type"
     ]
    }
   ],
   "source": [
    "np.issubdtype(final_coords.dtype, torch.float)"
   ]
  },
  {
   "cell_type": "code",
   "execution_count": 78,
   "metadata": {},
   "outputs": [
    {
     "ename": "NameError",
     "evalue": "name 'lshort' is not defined",
     "output_type": "error",
     "traceback": [
      "\u001b[1;31m---------------------------------------------------------------------------\u001b[0m",
      "\u001b[1;31mNameError\u001b[0m                                 Traceback (most recent call last)",
      "\u001b[1;32mc:\\Users\\andre\\Documents\\tracking_optimizations\\emily_tracking\\work_in_progress\\torch_port.ipynb Cell 9\u001b[0m in \u001b[0;36m<cell line: 2>\u001b[1;34m()\u001b[0m\n\u001b[0;32m      <a href='vscode-notebook-cell:/c%3A/Users/andre/Documents/tracking_optimizations/emily_tracking/work_in_progress/torch_port.ipynb#X41sZmlsZQ%3D%3D?line=0'>1</a>\u001b[0m \u001b[39m# %%timeit\u001b[39;00m\n\u001b[1;32m----> <a href='vscode-notebook-cell:/c%3A/Users/andre/Documents/tracking_optimizations/emily_tracking/work_in_progress/torch_port.ipynb#X41sZmlsZQ%3D%3D?line=1'>2</a>\u001b[0m low \u001b[39m=\u001b[39m tpp\u001b[39m.\u001b[39mlowpass(image, lshort, truncate)\n\u001b[0;32m      <a href='vscode-notebook-cell:/c%3A/Users/andre/Documents/tracking_optimizations/emily_tracking/work_in_progress/torch_port.ipynb#X41sZmlsZQ%3D%3D?line=3'>4</a>\u001b[0m lwx \u001b[39m=\u001b[39m \u001b[39mint\u001b[39m(truncate \u001b[39m*\u001b[39m lshort[\u001b[39m0\u001b[39m] \u001b[39m+\u001b[39m \u001b[39m0.5\u001b[39m)\n\u001b[0;32m      <a href='vscode-notebook-cell:/c%3A/Users/andre/Documents/tracking_optimizations/emily_tracking/work_in_progress/torch_port.ipynb#X41sZmlsZQ%3D%3D?line=4'>5</a>\u001b[0m x \u001b[39m=\u001b[39m np\u001b[39m.\u001b[39marange(\u001b[39m-\u001b[39mlwx, lwx \u001b[39m+\u001b[39m \u001b[39m1\u001b[39m)\n",
      "\u001b[1;31mNameError\u001b[0m: name 'lshort' is not defined"
     ]
    }
   ],
   "source": [
    "# %%timeit\n",
    "low = tpp.lowpass(image, lshort, truncate)\n",
    "\n",
    "lwx = int(truncate * lshort[0] + 0.5)\n",
    "x = np.arange(-lwx, lwx + 1)\n",
    "lwy = int(truncate * lshort[1] + 0.5)\n",
    "y = np.arange(-lwy, lwy + 1)\n",
    "x = x.reshape(-1, 1)\n",
    "y = y.reshape(1, -1)\n",
    "r2 = x**2 + y**2\n",
    "res = np.exp(r2/(-2*lshort[0]**2))\n",
    "res /= res.sum()\n",
    "filter = torch.tensor(res).reshape(1, 1, *res.shape).to(device)\n",
    "\n",
    "blurred = torch.nn.functional.conv2d(timage, filter, padding = \"same\")\n",
    "abs(cpu(blurred) - low).sum()"
   ]
  },
  {
   "cell_type": "code",
   "execution_count": null,
   "metadata": {},
   "outputs": [],
   "source": []
  },
  {
   "cell_type": "code",
   "execution_count": 27,
   "metadata": {},
   "outputs": [
    {
     "ename": "NameError",
     "evalue": "name 'blurred' is not defined",
     "output_type": "error",
     "traceback": [
      "\u001b[1;31m---------------------------------------------------------------------------\u001b[0m",
      "\u001b[1;31mNameError\u001b[0m                                 Traceback (most recent call last)",
      "\u001b[1;32mc:\\Users\\andre\\Documents\\tracking_optimizations\\emily_tracking\\work_in_progress\\torch_port.ipynb Cell 7\u001b[0m in \u001b[0;36m<cell line: 1>\u001b[1;34m()\u001b[0m\n\u001b[1;32m----> <a href='vscode-notebook-cell:/c%3A/Users/andre/Documents/tracking_optimizations/emily_tracking/work_in_progress/torch_port.ipynb#Y111sZmlsZQ%3D%3D?line=0'>1</a>\u001b[0m result \u001b[39m=\u001b[39m blurred \u001b[39m-\u001b[39m meaned\n\u001b[0;32m      <a href='vscode-notebook-cell:/c%3A/Users/andre/Documents/tracking_optimizations/emily_tracking/work_in_progress/torch_port.ipynb#Y111sZmlsZQ%3D%3D?line=1'>2</a>\u001b[0m result \u001b[39m=\u001b[39m torch\u001b[39m.\u001b[39mwhere(result \u001b[39m>\u001b[39m\u001b[39m=\u001b[39m threshold, result, \u001b[39m0\u001b[39m)\n\u001b[0;32m      <a href='vscode-notebook-cell:/c%3A/Users/andre/Documents/tracking_optimizations/emily_tracking/work_in_progress/torch_port.ipynb#Y111sZmlsZQ%3D%3D?line=2'>3</a>\u001b[0m (cpu(result) \u001b[39m-\u001b[39m tpp\u001b[39m.\u001b[39mbandpass(\u001b[39m*\u001b[39margs))\u001b[39m.\u001b[39m\u001b[39m__abs__\u001b[39m()\u001b[39m.\u001b[39msum()\n",
      "\u001b[1;31mNameError\u001b[0m: name 'blurred' is not defined"
     ]
    }
   ],
   "source": [
    "result = blurred - meaned\n",
    "result = torch.where(result >= threshold, result, 0)\n",
    "(cpu(result) - tpp.bandpass(*args)).__abs__().sum()"
   ]
  },
  {
   "cell_type": "markdown",
   "metadata": {},
   "source": [
    "## End bandpass\n",
    "## Start grey_dilation"
   ]
  },
  {
   "cell_type": "code",
   "execution_count": 87,
   "metadata": {},
   "outputs": [
    {
     "data": {
      "text/plain": [
       "22.0"
      ]
     },
     "execution_count": 87,
     "metadata": {},
     "output_type": "execute_result"
    }
   ],
   "source": [
    "with open(\"grey_args.pckl\", \"rb\") as argfile:\n",
    "    args = pickle.load(argfile)\n",
    "image, separation, percentile, margin, precise = args\n",
    "separation = (9, )*2\n",
    "# percentile = 64\n",
    "ndim = image.ndim\n",
    "size = [int(2 * s / np.sqrt(ndim)) for s in separation]\n",
    "padding = (*(np.array(size) // 2).astype(int),)\n",
    "timage = torch.tensor(image, dtype = torch.float).reshape(1, 1, *image.shape)\n",
    "threshold = tp.find.percentile_threshold(image, percentile)\n",
    "shape = np.array(image.shape)\n",
    "threshold"
   ]
  },
  {
   "cell_type": "code",
   "execution_count": 88,
   "metadata": {},
   "outputs": [],
   "source": [
    "dilation = torch.nn.functional.max_pool2d(timage, size, stride = 1, padding = padding)\n",
    "old = nd.grey_dilation(image, size, mode = \"constant\")\n",
    "# (cpu(dilation).astype(int) == old).all()"
   ]
  },
  {
   "cell_type": "code",
   "execution_count": 89,
   "metadata": {},
   "outputs": [
    {
     "data": {
      "text/plain": [
       "torch.Size([1, 1, 513, 513])"
      ]
     },
     "execution_count": 89,
     "metadata": {},
     "output_type": "execute_result"
    }
   ],
   "source": [
    "dilation.shape"
   ]
  },
  {
   "cell_type": "code",
   "execution_count": 58,
   "metadata": {},
   "outputs": [],
   "source": [
    "diff = cpu(dilation[0, 0, 1:, 1:]).astype(int) - old"
   ]
  },
  {
   "cell_type": "code",
   "execution_count": 61,
   "metadata": {},
   "outputs": [
    {
     "data": {
      "text/plain": [
       "True"
      ]
     },
     "execution_count": 61,
     "metadata": {},
     "output_type": "execute_result"
    }
   ],
   "source": [
    "(~diff).all()"
   ]
  },
  {
   "cell_type": "code",
   "execution_count": 59,
   "metadata": {},
   "outputs": [
    {
     "data": {
      "text/plain": [
       "<matplotlib.image.AxesImage at 0x1ea64fdb670>"
      ]
     },
     "execution_count": 59,
     "metadata": {},
     "output_type": "execute_result"
    },
    {
     "data": {
      "image/png": "[encoded data removed]",
      "text/plain": [
       "<Figure size 640x480 with 1 Axes>"
      ]
     },
     "metadata": {},
     "output_type": "display_data"
    }
   ],
   "source": [
    "plt.imshow(diff)"
   ]
  },
  {
   "cell_type": "code",
   "execution_count": 5,
   "metadata": {},
   "outputs": [],
   "source": [
    "maxima = (image == cpu(dilation)) & (image > threshold)\n",
    "# maxima = np.nonzero(maxima)"
   ]
  },
  {
   "cell_type": "code",
   "execution_count": 6,
   "metadata": {},
   "outputs": [],
   "source": [
    "old_pos = np.stack(np.nonzero(maxima)).T"
   ]
  },
  {
   "cell_type": "code",
   "execution_count": 112,
   "metadata": {},
   "outputs": [
    {
     "ename": "RuntimeError",
     "evalue": "The size of tensor a (768) must match the size of tensor b (512) at non-singleton dimension 4",
     "output_type": "error",
     "traceback": [
      "\u001b[1;31m---------------------------------------------------------------------------\u001b[0m",
      "\u001b[1;31mRuntimeError\u001b[0m                              Traceback (most recent call last)",
      "\u001b[1;32mc:\\Users\\andre\\Documents\\tracking_optimizations\\emily_tracking\\work_in_progress\\torch_port.ipynb Cell 20\u001b[0m in \u001b[0;36m<cell line: 1>\u001b[1;34m()\u001b[0m\n\u001b[1;32m----> <a href='vscode-notebook-cell:/c%3A/Users/andre/Documents/tracking_optimizations/emily_tracking/work_in_progress/torch_port.ipynb#Y163sZmlsZQ%3D%3D?line=0'>1</a>\u001b[0m candidates \u001b[39m=\u001b[39m torch\u001b[39m.\u001b[39mnonzero((timage \u001b[39m==\u001b[39;49m dilation) \u001b[39m&\u001b[39m (timage \u001b[39m>\u001b[39m threshold))\n\u001b[0;32m      <a href='vscode-notebook-cell:/c%3A/Users/andre/Documents/tracking_optimizations/emily_tracking/work_in_progress/torch_port.ipynb#Y163sZmlsZQ%3D%3D?line=1'>2</a>\u001b[0m pos \u001b[39m=\u001b[39m candidates[:, \u001b[39m2\u001b[39m:]\n",
      "\u001b[1;31mRuntimeError\u001b[0m: The size of tensor a (768) must match the size of tensor b (512) at non-singleton dimension 4"
     ]
    }
   ],
   "source": [
    "candidates = torch.nonzero((timage == dilation) & (timage > threshold))\n",
    "pos = candidates[:, 2:]"
   ]
  },
  {
   "cell_type": "code",
   "execution_count": 8,
   "metadata": {},
   "outputs": [],
   "source": [
    "at_boundary = ((pos < torch.tensor(margin)) | (pos > (torch.tensor(shape) - torch.tensor(margin) -1))).any(axis = 1)"
   ]
  },
  {
   "cell_type": "code",
   "execution_count": 9,
   "metadata": {},
   "outputs": [
    {
     "data": {
      "text/plain": [
       "torch.Size([2031, 4])"
      ]
     },
     "execution_count": 9,
     "metadata": {},
     "output_type": "execute_result"
    }
   ],
   "source": [
    "candidates[~at_boundary].shape"
   ]
  },
  {
   "cell_type": "code",
   "execution_count": 10,
   "metadata": {},
   "outputs": [
    {
     "data": {
      "text/plain": [
       "True"
      ]
     },
     "execution_count": 10,
     "metadata": {},
     "output_type": "execute_result"
    }
   ],
   "source": [
    "(cpu(pos) == old_pos).all()"
   ]
  },
  {
   "cell_type": "markdown",
   "metadata": {},
   "source": [
    "## End dilation\n",
    "## Start refine_com"
   ]
  },
  {
   "cell_type": "code",
   "execution_count": 60,
   "metadata": {},
   "outputs": [],
   "source": [
    "with open(\"com_args.pckl\", \"rb\") as file:\n",
    "    args = pickle.load(file)\n",
    "    (raw_image, image, radius, coords, max_iterations,\n",
    "            shift_thresh, characterize, walkthrough) = args\n",
    "shift_thresh = 0.5\n",
    "\n",
    "if not np.issubdtype(coords.dtype, np.integer):\n",
    "    raise ValueError('The coords array should be of integer datatype')\n",
    "ndim = image.ndim\n",
    "isotropic = np.all(radius[1:] == radius[:-1])\n",
    "mask = tp.masks.binary_mask(radius, ndim).astype(np.uint8)\n",
    "\n",
    "# Declare arrays that we will fill iteratively through loop.\n",
    "N = coords.shape[0]\n",
    "final_coords = np.empty_like(coords, dtype=np.float64)\n",
    "mass = np.empty(N, dtype=np.float64)\n",
    "raw_mass = np.empty(N, dtype=np.float64)\n",
    "if characterize:\n",
    "    if isotropic:\n",
    "        Rg = np.empty(N, dtype=np.float64)\n",
    "    else:\n",
    "        Rg = np.empty((N, len(radius)), dtype=np.float64)\n",
    "    ecc = np.empty(N, dtype=np.float64)\n",
    "    signal = np.empty(N, dtype=np.float64)\n",
    "\n",
    "ogrid = np.ogrid[[slice(0, i) for i in mask.shape]]  # for center of mass\n",
    "ogrid = [g.astype(float) for g in ogrid]\n",
    "\n"
   ]
  },
  {
   "cell_type": "code",
   "execution_count": 62,
   "metadata": {},
   "outputs": [],
   "source": [
    "# %%timeit -r 7 -n 1\n",
    "traw = torch.tensor(raw_image).reshape(1, 1, *image.shape).to(device)\n",
    "timage = torch.tensor(image, dtype = torch.float).reshape(1, 1, *image.shape).to(device)\n",
    "tradius = torch.tensor(radius).to(device)\n",
    "gridx = torch.tensor(ogrid[0]).to(device).reshape(1, -1, 1)\n",
    "gridy = torch.tensor(ogrid[1]).to(device).reshape(1, 1, -1)\n",
    "tmask = torch.tensor(mask).to(device)\n",
    "pos = torch.tensor(coords).to(device)\n",
    "frames = candidates[~at_boundary, 0].reshape(-1, 1, 1)\n",
    "\n",
    "final_coords = torch.full((pos.shape[0], 2), torch.tensor(float(\"nan\")).to(device), dtype = float).to(device)\n",
    "final_masses = torch.full((pos.shape[0],), torch.tensor(float(\"nan\")).to(device), dtype = torch.float32).to(device)\n",
    "final_signals = torch.full((pos.shape[0],), torch.tensor(float(\"nan\")).to(device), dtype = torch.float32).to(device)\n",
    "\n",
    "\n",
    "not_done = torch.arange(pos.shape[0])\n",
    "make_inds_for_dim = lambda dim: torch.arange(-radius[dim], radius[dim] + 1)[:, None]\n",
    "\n",
    "upper_bound = torch.tensor(image.shape).to(device) - 1 - tradius.to(device)\n",
    "grids = [torch.moveaxis(\n",
    "    torch.arange(-radius[dim], radius[dim] + 1)[:, None].to(device)\n",
    "     , 0, dim) \n",
    "    for dim in range(image.ndim)]\n",
    "make_inds_for_dim = lambda dim, pos: grids[dim] + pos[:, dim].reshape(-1, 1, 1)\n",
    "\n",
    "for i in range(max_iterations):\n",
    "    neighborhoods = timage[frames, 0, make_inds_for_dim(0, pos), make_inds_for_dim(1, pos)]\n",
    "    neighborhoods = torch.multiply(neighborhoods, tmask, out = neighborhoods)\n",
    "    masses = neighborhoods.sum(axis = (1, 2))\n",
    "    cm_x = (neighborhoods * gridx).sum(axis = (1, 2)) / masses\n",
    "    cm_y = (neighborhoods * gridy).sum(axis = (1, 2)) / masses\n",
    "    cm = torch.stack((cm_x, cm_y), axis = 1)\n",
    "    off_center = cm - torch.tensor(radius).to(device)\n",
    "    back_shift = off_center < -shift_thresh\n",
    "    forward_shift = off_center > shift_thresh\n",
    "    keep_iterating = (back_shift | forward_shift).any(axis = 1)\n",
    "    if (~keep_iterating).sum() != 0:    \n",
    "        newly_done = not_done[~keep_iterating]\n",
    "        \n",
    "        final_coords[newly_done] = cm[~keep_iterating] - tradius + pos[~keep_iterating]\n",
    "        final_masses[newly_done] = masses[~keep_iterating]\n",
    "        final_signals[newly_done] = neighborhoods[~keep_iterating].max()\n",
    "    \n",
    "\n",
    "    if keep_iterating.sum() == 0:\n",
    "        break\n",
    "    pos[back_shift] -= 1\n",
    "    pos[forward_shift] += 1\n",
    "    # # pass\n",
    "    pos = pos[keep_iterating, :].clip(tradius, upper_bound)\n",
    "    frames = frames[keep_iterating, :, :]\n",
    "    not_done = not_done[keep_iterating]\n",
    "\n",
    "if not keep_iterating.sum() == 0:\n",
    "    rest = not_done[keep_iterating]\n",
    "    final_coords[rest] = cm[keep_iterating] - tradius + pos[keep_iterating]\n",
    "    final_masses[rest] = masses[keep_iterating]\n",
    "    final_signals[rest] = neighborhoods[keep_iterating].max()\n",
    "\n",
    "frames = candidates[~at_boundary, 0].reshape(-1, 1, 1)\n",
    "final_pixels = torch.round(final_coords).to(int)\n",
    "raw_masses = (traw[frames, 0, make_inds_for_dim(0, final_pixels), make_inds_for_dim(1, final_pixels)] * tmask).sum(axis = (1,2))\n"
   ]
  },
  {
   "cell_type": "code",
   "execution_count": 63,
   "metadata": {},
   "outputs": [],
   "source": [
    "with open(\"outs.pckl\", \"rb\") as file:\n",
    "    old_raw, old_final_coords, old_signal, old_mass = pickle.load(file)"
   ]
  },
  {
   "cell_type": "code",
   "execution_count": null,
   "metadata": {},
   "outputs": [],
   "source": []
  },
  {
   "cell_type": "code",
   "execution_count": 70,
   "metadata": {},
   "outputs": [
    {
     "data": {
      "text/plain": [
       "True"
      ]
     },
     "execution_count": 70,
     "metadata": {},
     "output_type": "execute_result"
    }
   ],
   "source": [
    "(cpu(final_coords) == old_final_coords).all()"
   ]
  },
  {
   "cell_type": "code",
   "execution_count": 68,
   "metadata": {},
   "outputs": [
    {
     "data": {
      "text/plain": [
       "True"
      ]
     },
     "execution_count": 68,
     "metadata": {},
     "output_type": "execute_result"
    }
   ],
   "source": [
    "(cpu(final_masses) == old_mass).all()"
   ]
  },
  {
   "cell_type": "code",
   "execution_count": 66,
   "metadata": {},
   "outputs": [
    {
     "data": {
      "text/plain": [
       "array([   0.  , 1080.75,    0.  , ...,    0.  ,    0.  ,    0.  ])"
      ]
     },
     "execution_count": 66,
     "metadata": {},
     "output_type": "execute_result"
    }
   ],
   "source": [
    "old_raw - cpu(raw_masses)"
   ]
  },
  {
   "cell_type": "code",
   "execution_count": 67,
   "metadata": {},
   "outputs": [],
   "source": [
    "np.savetxt(\"letmesee.csv\", old_raw - cpu(raw_masses), fmt = \"%s\")"
   ]
  },
  {
   "cell_type": "code",
   "execution_count": 666,
   "metadata": {},
   "outputs": [],
   "source": [
    "for feat, coord in enumerate(coords):\n",
    "    for iteration in range(max_iterations):\n",
    "        # Define the circular neighborhood of (x, y).\n",
    "        rect = tuple([slice(c - r, c + r + 1)\n",
    "                        for c, r in zip(coord, radius)])\n",
    "        neighborhood = mask * image[rect]\n",
    "        cm_n = tp.refine.center_of_mass._safe_center_of_mass(neighborhood, radius, ogrid)\n",
    "        break\n",
    "        cm_i = cm_n - radius + coord  # image coords\n",
    "\n",
    "        off_center = cm_n - radius\n",
    "        # logger.debug('off_center: %f', off_center)\n",
    "        if np.all(np.abs(off_center) < shift_thresh):\n",
    "            break  # Accurate enough.\n",
    "        # If we're off by more than half a pixel in any direction, move..\n",
    "        coord[off_center > shift_thresh] += 1\n",
    "        coord[off_center < -shift_thresh] -= 1\n",
    "        # Don't move outside the image!\n",
    "        upper_bound = np.array(image.shape) - 1 - radius\n",
    "        coord = np.clip(coord, radius, upper_bound).astype(int)\n",
    "        break\n",
    "    if feat == 0:\n",
    "        break"
   ]
  },
  {
   "cell_type": "code",
   "execution_count": 3,
   "metadata": {},
   "outputs": [],
   "source": [
    "import torch_tracking\n",
    "import torch\n",
    "import hatzakis_lab_tracking as hlt\n",
    "import importlib \n",
    "importlib.reload(torch_tracking)\n",
    "params = hlt.Params(\n",
    "    lip_int_size = 8,  #originally 15 for first attemps\n",
    "    lip_BG_size = 70,   # originally 40 for first attemps\n",
    "    gap_size = 2, # adding gap\n",
    "    \n",
    "    dynamic_sep = 7,   # afstand mellem centrum af to partikler, 7 er meget lidt så skal være højere ved lavere densitet\n",
    "    dynamic_mean_multiplier = 12,  #hvor mange partikler finder den, around 1-3, lavere giver flere partikler\n",
    "    dynamic_object_size = 11, #diameter used in tp.locate, odd integer\n",
    "    dynamic_search_range = 4,\n",
    "    dynamic_memory = 0,\n",
    "    \n",
    "    static_sep = 8,\n",
    "    static_mean_multiplier = 4,\n",
    "    static_object_size = 11,\n",
    ")\n",
    "tvid = torch.tensor(hlt.image_loader_video(r\"C:\\Users\\andre\\Documents\\tracking_optimizations\\emily_tracking\\sample_vids\\c_20.tif\").astype(float), device = \"cuda\")"
   ]
  },
  {
   "cell_type": "code",
   "execution_count": 4,
   "metadata": {},
   "outputs": [],
   "source": [
    "t = torch.tensor([1,2,3])"
   ]
  },
  {
   "cell_type": "code",
   "execution_count": 19,
   "metadata": {},
   "outputs": [],
   "source": [
    "idk = (slice(None),)+(None,)*3"
   ]
  },
  {
   "cell_type": "code",
   "execution_count": 21,
   "metadata": {},
   "outputs": [
    {
     "data": {
      "text/plain": [
       "torch.Size([3, 1, 1, 1])"
      ]
     },
     "execution_count": 21,
     "metadata": {},
     "output_type": "execute_result"
    }
   ],
   "source": [
    "t[idk].shape"
   ]
  },
  {
   "cell_type": "code",
   "execution_count": 2,
   "metadata": {},
   "outputs": [
    {
     "ename": "RuntimeError",
     "evalue": "expected stride to be a single integer value or a list of 3 values to match the convolution dimensions, but got stride=[1, 1]",
     "output_type": "error",
     "traceback": [
      "\u001b[1;31m---------------------------------------------------------------------------\u001b[0m",
      "\u001b[1;31mRuntimeError\u001b[0m                              Traceback (most recent call last)",
      "\u001b[1;32mc:\\Users\\andre\\Documents\\tracking_optimizations\\emily_tracking\\work_in_progress\\torch_port.ipynb Cell 35\u001b[0m in \u001b[0;36m<cell line: 1>\u001b[1;34m()\u001b[0m\n\u001b[1;32m----> <a href='vscode-notebook-cell:/c%3A/Users/andre/Documents/tracking_optimizations/emily_tracking/work_in_progress/torch_port.ipynb#Y444sZmlsZQ%3D%3D?line=0'>1</a>\u001b[0m torch_tracking\u001b[39m.\u001b[39;49mlocate(tvid, params\u001b[39m.\u001b[39;49mstatic_object_size, separation \u001b[39m=\u001b[39;49m params\u001b[39m.\u001b[39;49mstatic_sep)\n",
      "File \u001b[1;32mc:\\Users\\andre\\Documents\\tracking_optimizations\\emily_tracking\\work_in_progress\\torch_tracking.py:62\u001b[0m, in \u001b[0;36mlocate\u001b[1;34m(raw_video, diameter, minmass, maxsize, separation, noise_size, smoothing_size, threshold, percentile, topn, preprocess, max_iterations, device)\u001b[0m\n\u001b[0;32m     60\u001b[0m \u001b[39m# Determine `video`: the video to find the local maxima on.\u001b[39;00m\n\u001b[0;32m     61\u001b[0m \u001b[39mif\u001b[39;00m preprocess:\n\u001b[1;32m---> 62\u001b[0m     video \u001b[39m=\u001b[39m bandpass(raw_video, noise_size, smoothing_size, threshold)\n\u001b[0;32m     63\u001b[0m \u001b[39melse\u001b[39;00m:\n\u001b[0;32m     64\u001b[0m     video \u001b[39m=\u001b[39m raw_video\n",
      "File \u001b[1;32mc:\\Users\\andre\\Documents\\tracking_optimizations\\emily_tracking\\work_in_progress\\torch_tracking.py:157\u001b[0m, in \u001b[0;36mbandpass\u001b[1;34m(video, lshort, llong, threshold, truncate)\u001b[0m\n\u001b[0;32m    155\u001b[0m padder \u001b[39m=\u001b[39m (\u001b[39m*\u001b[39m(np\u001b[39m.\u001b[39marray(llong) \u001b[39m/\u001b[39m\u001b[39m/\u001b[39m \u001b[39m2\u001b[39m),)\u001b[39m*\u001b[39m\u001b[39m2\u001b[39m\n\u001b[0;32m    156\u001b[0m padded_video \u001b[39m=\u001b[39m torch\u001b[39m.\u001b[39mnn\u001b[39m.\u001b[39mfunctional\u001b[39m.\u001b[39mpad(video, padder, \u001b[39m\"\u001b[39m\u001b[39mreplicate\u001b[39m\u001b[39m\"\u001b[39m)\n\u001b[1;32m--> 157\u001b[0m background \u001b[39m=\u001b[39m torch\u001b[39m.\u001b[39;49mnn\u001b[39m.\u001b[39;49mfunctional\u001b[39m.\u001b[39;49mconv2d(padded_video, \u001b[39mfilter\u001b[39;49m)\n\u001b[0;32m    158\u001b[0m \u001b[39mdel\u001b[39;00m padded_video\n\u001b[0;32m    159\u001b[0m \u001b[39mfilter\u001b[39m \u001b[39m=\u001b[39m make_gaussian_filter(lshort, truncate, device)\n",
      "\u001b[1;31mRuntimeError\u001b[0m: expected stride to be a single integer value or a list of 3 values to match the convolution dimensions, but got stride=[1, 1]"
     ]
    }
   ],
   "source": [
    "torch_tracking.locate(tvid, params.static_object_size, separation = params.static_sep)"
   ]
  },
  {
   "cell_type": "code",
   "execution_count": null,
   "metadata": {},
   "outputs": [],
   "source": []
  }
 ],
 "metadata": {
  "kernelspec": {
   "display_name": "Python 3.9.12 ('fungi')",
   "language": "python",
   "name": "python3"
  },
  "language_info": {
   "codemirror_mode": {
    "name": "ipython",
    "version": 3
   },
   "file_extension": ".py",
   "mimetype": "text/x-python",
   "name": "python",
   "nbconvert_exporter": "python",
   "pygments_lexer": "ipython3",
   "version": "3.9.12"
  },
  "orig_nbformat": 4,
  "vscode": {
   "interpreter": {
    "hash": "aea5b41d11209e1706982044a2ce957fbcf94c8f4337d77a812bf611ea11ad3d"
   }
  }
 },
 "nbformat": 4,
 "nbformat_minor": 2
}

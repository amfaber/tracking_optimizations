{
 "cells": [
  {
   "cell_type": "code",
   "execution_count": 40,
   "metadata": {},
   "outputs": [],
   "source": [
    "import numpy as np\n",
    "from skimage.filters import gaussian\n",
    "import matplotlib.pyplot as plt\n",
    "from PIL import Image\n",
    "import pandas as pd\n",
    "import pickle"
   ]
  },
  {
   "cell_type": "code",
   "execution_count": null,
   "metadata": {},
   "outputs": [],
   "source": []
  },
  {
   "cell_type": "code",
   "execution_count": 122,
   "metadata": {},
   "outputs": [],
   "source": [
    "df = pd.read_csv(r\"sample_vids\\output_new\\0_\\_signal_df.csv\")"
   ]
  },
  {
   "cell_type": "code",
   "execution_count": 123,
   "metadata": {},
   "outputs": [],
   "source": [
    "df_all_savinase = pd.read_csv(r\"sample_vids\\output_new\\full_tracked\\df.csv\")"
   ]
  },
  {
   "cell_type": "code",
   "execution_count": 125,
   "metadata": {},
   "outputs": [
    {
     "data": {
      "text/plain": [
       "x    63.427661\n",
       "y    89.935919\n",
       "dtype: float64"
      ]
     },
     "execution_count": 125,
     "metadata": {},
     "output_type": "execute_result"
    }
   ],
   "source": [
    "df_all_savinase[[\"x\", \"y\"]].max()"
   ]
  },
  {
   "cell_type": "code",
   "execution_count": 81,
   "metadata": {},
   "outputs": [],
   "source": [
    "x_y_std = df_all_savinase.groupby(\"particle\")[[\"x\", \"y\"]].std()\n",
    "standard_devs = np.sqrt(x_y_std[\"x\"]**2 + x_y_std[\"y\"]**2)"
   ]
  },
  {
   "cell_type": "code",
   "execution_count": 127,
   "metadata": {},
   "outputs": [],
   "source": [
    "savinase_locs = df_all_savinase.groupby(\"particle\")[[\"x\", \"y\"]].mean().to_numpy()/0.18333"
   ]
  },
  {
   "cell_type": "code",
   "execution_count": 128,
   "metadata": {},
   "outputs": [],
   "source": [
    "casein_locs = df[~df[\"particle\"].duplicated()][[\"x\", \"y\"]].to_numpy()"
   ]
  },
  {
   "cell_type": "code",
   "execution_count": 129,
   "metadata": {},
   "outputs": [],
   "source": [
    "sav2 = np.sum(savinase_locs**2, axis = 1)\n",
    "cas2 = np.sum(casein_locs**2, axis = 1)\n",
    "savcas = np.matmul(savinase_locs, casein_locs.T)\n",
    "sav2 = sav2.reshape(-1, 1)\n",
    "dists = np.sqrt(sav2 - 2*savcas + cas2)"
   ]
  },
  {
   "cell_type": "code",
   "execution_count": 130,
   "metadata": {},
   "outputs": [
    {
     "data": {
      "text/plain": [
       "[<matplotlib.lines.Line2D at 0x24d8f81c040>]"
      ]
     },
     "execution_count": 130,
     "metadata": {},
     "output_type": "execute_result"
    },
    {
     "data": {
      "image/png": "[encoded data removed]",
      "text/plain": [
       "<Figure size 432x288 with 1 Axes>"
      ]
     },
     "metadata": {
      "needs_background": "light"
     },
     "output_type": "display_data"
    }
   ],
   "source": [
    "plt.plot(savinase_locs[:, 0], savinase_locs[:, 1], \"o\")\n",
    "plt.plot(casein_locs[:, 0], casein_locs[:, 1], \"o\")"
   ]
  },
  {
   "cell_type": "code",
   "execution_count": 132,
   "metadata": {},
   "outputs": [],
   "source": [
    "closest_caseins = dists.argmin(axis = 1)"
   ]
  },
  {
   "cell_type": "code",
   "execution_count": 147,
   "metadata": {},
   "outputs": [
    {
     "data": {
      "text/plain": [
       "array([False, False, False, False,  True, False, False, False, False,\n",
       "       False, False, False, False, False, False, False, False, False,\n",
       "       False, False, False, False, False, False, False, False, False,\n",
       "       False, False, False, False,  True, False, False, False, False,\n",
       "       False, False, False, False, False, False, False, False, False,\n",
       "       False, False, False, False, False, False, False,  True, False,\n",
       "       False, False, False, False, False, False, False, False, False,\n",
       "       False, False, False, False, False, False, False, False, False,\n",
       "       False, False, False, False, False, False, False, False, False,\n",
       "       False, False, False, False, False, False, False, False,  True,\n",
       "       False, False, False, False, False, False, False, False, False,\n",
       "       False, False, False, False, False, False, False, False, False,\n",
       "       False, False, False, False])"
      ]
     },
     "execution_count": 147,
     "metadata": {},
     "output_type": "execute_result"
    }
   ],
   "source": [
    "(dists[np.arange(len(closest_caseins)), closest_caseins] < 5)"
   ]
  },
  {
   "cell_type": "code",
   "execution_count": 131,
   "metadata": {},
   "outputs": [
    {
     "data": {
      "text/plain": [
       "array([ 20.83470509,  19.84589805,  65.95334731,  25.47841924,\n",
       "         1.41199589,  49.88777519,  25.36849096,  56.8203746 ,\n",
       "        55.26070852,  54.13278212,  27.40635478,  57.01596773,\n",
       "        28.60119448,  56.84994009,  20.12014278,  28.64774784,\n",
       "        56.66867267,  56.63133628,  21.56862654,  49.24342322,\n",
       "        19.77520152,  91.78388626,  28.69795141,  19.96711038,\n",
       "        24.20231352, 134.39686889,  56.84676361,  13.53066584,\n",
       "        17.51669886, 106.59142543,  28.60318178,   1.00081291,\n",
       "       100.3077549 , 143.05962035,  19.89746821,  99.97869346,\n",
       "        26.27284725,  19.75398216,  94.69879161, 100.2234441 ,\n",
       "        86.73086804,  19.90288457,  41.18126213,  20.02514054,\n",
       "        32.22731919,  19.96233624,  39.10126695, 107.03109582,\n",
       "        14.54015275,  48.74361812,  26.8530401 ,  20.68760326,\n",
       "         2.82286856,  19.92836866,  35.53380765, 107.68959244,\n",
       "        54.69824779,  49.26374711,  22.05204531,  30.44339162,\n",
       "        33.93162537,  30.41559959,  20.09864904,  46.5368498 ,\n",
       "        76.60904998,  30.3211246 ,  68.39273696,  76.97094586,\n",
       "        34.22355315,  32.0426596 , 106.34039899,  19.87206716,\n",
       "        19.97991939,  20.030602  ,  47.25967554,  32.94999297,\n",
       "        32.85455374, 128.57205105,  24.71523074,  18.75987376,\n",
       "        68.13423928,  40.39547538, 100.56867259,  29.99153209,\n",
       "        33.45356761,  41.12563124,  33.59101895,  40.44527828,\n",
       "       131.10316891,   1.40182443,  79.3242222 , 156.91327449,\n",
       "        29.27188002,  20.85333833, 157.11469469,  62.2364071 ,\n",
       "       157.23817538,  17.60442956,  91.26446335, 156.94955044,\n",
       "        94.69398876,  17.10788131,  67.88171597,  29.37612412,\n",
       "       157.07352169,  19.94002784,  34.60925782,   5.46761386,\n",
       "        29.37789799,  60.25709593,  20.10197601,  18.60836227])"
      ]
     },
     "execution_count": 131,
     "metadata": {},
     "output_type": "execute_result"
    }
   ],
   "source": [
    "dists.min(axis = 1)"
   ]
  },
  {
   "cell_type": "code",
   "execution_count": 51,
   "metadata": {},
   "outputs": [
    {
     "data": {
      "text/plain": [
       "('0_0a58adee38994e61a3e3ddc886204b4c',\n",
       "                y           x          mass      size       ecc       signal  \\\n",
       " 0      13.426768  354.737702  13387.672688  1.804771  0.139063  2547.288857   \n",
       " 15     13.426768  354.737702  13387.672688  1.804771  0.139063  2547.288857   \n",
       " 47     13.426768  354.737702  13387.672688  1.804771  0.139063  2547.288857   \n",
       " 63     13.426768  354.737702  13387.672688  1.804771  0.139063  2547.288857   \n",
       " 83     13.426768  354.737702  13387.672688  1.804771  0.139063  2547.288857   \n",
       " ...          ...         ...           ...       ...       ...          ...   \n",
       " 33930  13.426768  354.737702  13387.672688  1.804771  0.139063  2547.288857   \n",
       " 33948  13.426768  354.737702  13387.672688  1.804771  0.139063  2547.288857   \n",
       " 33967  13.426768  354.737702  13387.672688  1.804771  0.139063  2547.288857   \n",
       " 33981  13.426768  354.737702  13387.672688  1.804771  0.139063  2547.288857   \n",
       " 33982  13.426768  354.737702  13387.672688  1.804771  0.139063  2547.288857   \n",
       " \n",
       "         raw_mass        ep  frame  cluster  ...  \\\n",
       " 0      240244.85  0.060203   1999        0  ...   \n",
       " 15     240244.85  0.060203   1999        0  ...   \n",
       " 47     240244.85  0.060203   1999        0  ...   \n",
       " 63     240244.85  0.060203   1999        0  ...   \n",
       " 83     240244.85  0.060203   1999        0  ...   \n",
       " ...          ...       ...    ...      ...  ...   \n",
       " 33930  240244.85  0.060203   1999        0  ...   \n",
       " 33948  240244.85  0.060203   1999        0  ...   \n",
       " 33967  240244.85  0.060203   1999        0  ...   \n",
       " 33981  240244.85  0.060203   1999        0  ...   \n",
       " 33982  240244.85  0.060203   1999        0  ...   \n",
       " \n",
       "                                  particle     red_int     red_bg  \\\n",
       " 0      0_0a58adee38994e61a3e3ddc886204b4c  989.485169  25.691663   \n",
       " 15     0_0a58adee38994e61a3e3ddc886204b4c  989.485169  25.691663   \n",
       " 47     0_0a58adee38994e61a3e3ddc886204b4c  989.485169  25.691663   \n",
       " 63     0_0a58adee38994e61a3e3ddc886204b4c  989.485169  25.691663   \n",
       " 83     0_0a58adee38994e61a3e3ddc886204b4c  989.485169  25.691663   \n",
       " ...                                   ...         ...        ...   \n",
       " 33930  0_0a58adee38994e61a3e3ddc886204b4c  989.485169  25.691663   \n",
       " 33948  0_0a58adee38994e61a3e3ddc886204b4c  989.485169  25.691663   \n",
       " 33967  0_0a58adee38994e61a3e3ddc886204b4c  989.485169  25.691663   \n",
       " 33981  0_0a58adee38994e61a3e3ddc886204b4c  989.485169  25.691663   \n",
       " 33982  0_0a58adee38994e61a3e3ddc886204b4c  989.485169  25.691663   \n",
       " \n",
       "       red_int_corrected  red_int_gausscorrected  red_int_mean  red_bg_mean  \\\n",
       " 0            244.426945           -71062.654598     34.120178    30.980408   \n",
       " 15           244.426945           -71062.654598     34.120178    30.980408   \n",
       " 47           244.426945           -71062.654598     34.120178    30.980408   \n",
       " 63           244.426945           -71062.654598     34.120178    30.980408   \n",
       " 83           244.426945           -71062.654598     34.120178    30.980408   \n",
       " ...                 ...                     ...           ...          ...   \n",
       " 33930        244.426945           -71062.654598     34.120178    30.980408   \n",
       " 33948        244.426945           -71062.654598     34.120178    30.980408   \n",
       " 33967        244.426945           -71062.654598     34.120178    30.980408   \n",
       " 33981        244.426945           -71062.654598     34.120178    30.980408   \n",
       " 33982        244.426945           -71062.654598     34.120178    30.980408   \n",
       " \n",
       "        video_counter  set_zero  lowest_state  \n",
       " 0                  0       0.0             0  \n",
       " 15                 0       0.0             0  \n",
       " 47                 0       0.0             0  \n",
       " 63                 0       0.0             0  \n",
       " 83                 0       0.0             0  \n",
       " ...              ...       ...           ...  \n",
       " 33930              0       0.0             0  \n",
       " 33948              0       0.0             0  \n",
       " 33967              0       0.0             0  \n",
       " 33981              0       0.0             0  \n",
       " 33982              0       0.0             0  \n",
       " \n",
       " [2000 rows x 23 columns])"
      ]
     },
     "execution_count": 51,
     "metadata": {},
     "output_type": "execute_result"
    }
   ],
   "source": [
    "df.groupby(\"particle\").__iter__().__next__()"
   ]
  }
 ],
 "metadata": {
  "kernelspec": {
   "display_name": "Python 3.8.13 ('tracking-script')",
   "language": "python",
   "name": "python3"
  },
  "language_info": {
   "codemirror_mode": {
    "name": "ipython",
    "version": 3
   },
   "file_extension": ".py",
   "mimetype": "text/x-python",
   "name": "python",
   "nbconvert_exporter": "python",
   "pygments_lexer": "ipython3",
   "version": "3.8.13"
  },
  "orig_nbformat": 4,
  "vscode": {
   "interpreter": {
    "hash": "3409497d58d6e5264400e5348aa6fd098ba78c0f60b1c52b60052994396a7143"
   }
  }
 },
 "nbformat": 4,
 "nbformat_minor": 2
}

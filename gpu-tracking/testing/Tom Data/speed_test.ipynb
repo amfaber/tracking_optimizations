{
 "cells": [
  {
   "cell_type": "code",
   "execution_count": 4,
   "metadata": {},
   "outputs": [],
   "source": [
    "import gpu_tracking"
   ]
  },
  {
   "cell_type": "code",
   "execution_count": 6,
   "metadata": {},
   "outputs": [
    {
     "name": "stderr",
     "output_type": "stream",
     "text": [
      "300it [00:02, 122.49it/s]\n",
      "300it [00:02, 114.86it/s]\n",
      "300it [00:02, 114.07it/s]\n",
      "300it [00:02, 112.05it/s]\n",
      "300it [00:02, 117.30it/s]\n",
      "300it [00:02, 111.59it/s]\n",
      "300it [00:02, 111.77it/s]\n",
      "300it [00:02, 111.42it/s]"
     ]
    },
    {
     "name": "stdout",
     "output_type": "stream",
     "text": [
      "2.72 s ± 45.5 ms per loop (mean ± std. dev. of 7 runs, 1 loop each)\n"
     ]
    },
    {
     "name": "stderr",
     "output_type": "stream",
     "text": [
      "\n"
     ]
    }
   ],
   "source": [
    "%%timeit\n",
    "gpu_tracking.LoG(\n",
    "\tr\"C:\\Users\\andre\\Documents\\tracking_optimizations\\gpu-tracking\\testing\\Tom Data\\exp77.tif\",\n",
    "\t2.3,\n",
    "\t5,\n",
    "\tn_radii = 10,\n",
    "\toverlap_threshold = 0,\n",
    "\tminmass = 0,\n",
    "\tsearch_range = 8,\n",
    "\tmemory = 2,\n",
    "\tsnr = 0.3,\n",
    "\tminmass_snr = 0.1,\n",
    "\tshift_threshold = 0.6,\n",
    "\tnoise_size = 1,\n",
    "\tcharacterize = True,\n",
    "\tdoughnut_correction = True,\n",
    ")"
   ]
  },
  {
   "cell_type": "code",
   "execution_count": 7,
   "metadata": {},
   "outputs": [
    {
     "name": "stderr",
     "output_type": "stream",
     "text": [
      "300it [00:00, 435.31it/s]\n",
      "300it [00:00, 403.75it/s]\n",
      "300it [00:00, 438.58it/s]\n",
      "300it [00:00, 437.22it/s]\n",
      "300it [00:00, 439.18it/s]\n",
      "300it [00:00, 356.63it/s]\n",
      "300it [00:00, 443.11it/s]\n",
      "300it [00:00, 435.67it/s]"
     ]
    },
    {
     "name": "stdout",
     "output_type": "stream",
     "text": [
      "782 ms ± 54.7 ms per loop (mean ± std. dev. of 7 runs, 1 loop each)\n"
     ]
    },
    {
     "name": "stderr",
     "output_type": "stream",
     "text": [
      "\n"
     ]
    }
   ],
   "source": [
    "%%timeit\n",
    "gpu_tracking.batch(\n",
    "\tr\"C:\\Users\\andre\\Documents\\tracking_optimizations\\gpu-tracking\\testing\\Tom Data\\exp77.tif\",\n",
    "\t9,\n",
    "\tminmass = 0,\n",
    "\tsearch_range = 8,\n",
    "\tmemory = 2,\n",
    "\tsnr = 0.3,\n",
    "\tminmass_snr = 0.1,\n",
    "\tshift_threshold = 0.6,\n",
    "\tnoise_size = 1,\n",
    "\tcharacterize = True,\n",
    "\tdoughnut_correction = True,\n",
    ")"
   ]
  }
 ],
 "metadata": {
  "kernelspec": {
   "display_name": "Python 3.8.13 ('tracking-script')",
   "language": "python",
   "name": "python3"
  },
  "language_info": {
   "codemirror_mode": {
    "name": "ipython",
    "version": 3
   },
   "file_extension": ".py",
   "mimetype": "text/x-python",
   "name": "python",
   "nbconvert_exporter": "python",
   "pygments_lexer": "ipython3",
   "version": "3.8.13"
  },
  "orig_nbformat": 4,
  "vscode": {
   "interpreter": {
    "hash": "3409497d58d6e5264400e5348aa6fd098ba78c0f60b1c52b60052994396a7143"
   }
  }
 },
 "nbformat": 4,
 "nbformat_minor": 2
}

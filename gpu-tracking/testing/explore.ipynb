{
 "cells": [
  {
   "cell_type": "code",
   "execution_count": 1,
   "metadata": {},
   "outputs": [],
   "source": [
    "import sys\n",
    "try:\n",
    "    sys.path.remove(\"\\\\\\\\?\\\\C:\\\\Users\\\\andre\\\\Documents\\\\tracking_optimizations\\\\gpu-tracking\")\n",
    "except ValueError:\n",
    "    pass\n",
    "import gpu_tracking\n",
    "import numpy as np\n",
    "import pickle\n",
    "import matplotlib.pyplot as plt\n",
    "import tifffile\n",
    "import pandas as pd\n",
    "import trackpy as tp\n",
    "\n",
    "path = \"../../emily_tracking/sample_vids/s_20.tif\"\n",
    "arr = tifffile.imread(path).astype(\"float32\")#[None, ...]\n",
    "coords = lambda df: df[[\"y\", \"x\"]].to_numpy().T\n",
    "from scipy.spatial import KDTree\n",
    "# with open(\"centers.bin\", \"rb\") as file:\n",
    "#     data = file.read()\n",
    "# last_dim = 2\n",
    "# centers = np.frombuffer(data, dtype = \"float32\").reshape(524, 800, last_dim)\n",
    "# with open(\"test\", \"rb\") as file:\n",
    "#     data = file.read()\n",
    "# centers = np.frombuffer(data, dtype = \"float32\").reshape(524, 800, 2)\n",
    "# centers = np.frombuffer(data, dtype = \"float32\").reshape(524, 800, last_dim)\n",
    "# plt.imshow(centers[:, :, 0])"
   ]
  },
  {
   "cell_type": "code",
   "execution_count": 2,
   "metadata": {},
   "outputs": [
    {
     "data": {
      "text/html": [
       "<div>\n",
       "<style scoped>\n",
       "    .dataframe tbody tr th:only-of-type {\n",
       "        vertical-align: middle;\n",
       "    }\n",
       "\n",
       "    .dataframe tbody tr th {\n",
       "        vertical-align: top;\n",
       "    }\n",
       "\n",
       "    .dataframe thead th {\n",
       "        text-align: right;\n",
       "    }\n",
       "</style>\n",
       "<table border=\"1\" class=\"dataframe\">\n",
       "  <thead>\n",
       "    <tr style=\"text-align: right;\">\n",
       "      <th></th>\n",
       "      <th>frame</th>\n",
       "      <th>y</th>\n",
       "      <th>x</th>\n",
       "      <th>mass</th>\n",
       "      <th>raw_mass</th>\n",
       "    </tr>\n",
       "  </thead>\n",
       "  <tbody>\n",
       "    <tr>\n",
       "      <th>0</th>\n",
       "      <td>0</td>\n",
       "      <td>200.0</td>\n",
       "      <td>200.0</td>\n",
       "      <td>499.213257</td>\n",
       "      <td>173156.0</td>\n",
       "    </tr>\n",
       "    <tr>\n",
       "      <th>1</th>\n",
       "      <td>1999</td>\n",
       "      <td>300.0</td>\n",
       "      <td>300.0</td>\n",
       "      <td>155.557007</td>\n",
       "      <td>173359.0</td>\n",
       "    </tr>\n",
       "  </tbody>\n",
       "</table>\n",
       "</div>"
      ],
      "text/plain": [
       "   frame      y      x        mass  raw_mass\n",
       "0      0  200.0  200.0  499.213257  173156.0\n",
       "1   1999  300.0  300.0  155.557007  173359.0"
      ]
     },
     "execution_count": 2,
     "metadata": {},
     "output_type": "execute_result"
    }
   ],
   "source": [
    "gpu_tracking.batch(arr, 9, points_to_characterize = np.array([[0, 200, 200], [1999, 300, 300]]), sig_radius = 5)"
   ]
  },
  {
   "cell_type": "code",
   "execution_count": 5,
   "metadata": {},
   "outputs": [
    {
     "data": {
      "text/html": [
       "<div>\n",
       "<style scoped>\n",
       "    .dataframe tbody tr th:only-of-type {\n",
       "        vertical-align: middle;\n",
       "    }\n",
       "\n",
       "    .dataframe tbody tr th {\n",
       "        vertical-align: top;\n",
       "    }\n",
       "\n",
       "    .dataframe thead th {\n",
       "        text-align: right;\n",
       "    }\n",
       "</style>\n",
       "<table border=\"1\" class=\"dataframe\">\n",
       "  <thead>\n",
       "    <tr style=\"text-align: right;\">\n",
       "      <th></th>\n",
       "      <th>frame</th>\n",
       "      <th>y</th>\n",
       "      <th>x</th>\n",
       "      <th>mass</th>\n",
       "    </tr>\n",
       "  </thead>\n",
       "  <tbody>\n",
       "    <tr>\n",
       "      <th>0</th>\n",
       "      <td>0</td>\n",
       "      <td>29.203270</td>\n",
       "      <td>356.062592</td>\n",
       "      <td>1265.947632</td>\n",
       "    </tr>\n",
       "    <tr>\n",
       "      <th>1</th>\n",
       "      <td>0</td>\n",
       "      <td>451.893250</td>\n",
       "      <td>332.532043</td>\n",
       "      <td>802.799500</td>\n",
       "    </tr>\n",
       "    <tr>\n",
       "      <th>2</th>\n",
       "      <td>0</td>\n",
       "      <td>167.818283</td>\n",
       "      <td>359.047089</td>\n",
       "      <td>649.178955</td>\n",
       "    </tr>\n",
       "    <tr>\n",
       "      <th>3</th>\n",
       "      <td>0</td>\n",
       "      <td>343.674774</td>\n",
       "      <td>363.886658</td>\n",
       "      <td>733.020142</td>\n",
       "    </tr>\n",
       "    <tr>\n",
       "      <th>4</th>\n",
       "      <td>0</td>\n",
       "      <td>461.972534</td>\n",
       "      <td>328.895874</td>\n",
       "      <td>535.365601</td>\n",
       "    </tr>\n",
       "    <tr>\n",
       "      <th>...</th>\n",
       "      <td>...</td>\n",
       "      <td>...</td>\n",
       "      <td>...</td>\n",
       "      <td>...</td>\n",
       "    </tr>\n",
       "    <tr>\n",
       "      <th>1842954</th>\n",
       "      <td>1999</td>\n",
       "      <td>450.829681</td>\n",
       "      <td>112.060493</td>\n",
       "      <td>616.438538</td>\n",
       "    </tr>\n",
       "    <tr>\n",
       "      <th>1842955</th>\n",
       "      <td>1999</td>\n",
       "      <td>111.393791</td>\n",
       "      <td>125.178253</td>\n",
       "      <td>615.724548</td>\n",
       "    </tr>\n",
       "    <tr>\n",
       "      <th>1842956</th>\n",
       "      <td>1999</td>\n",
       "      <td>137.822159</td>\n",
       "      <td>103.073257</td>\n",
       "      <td>649.816040</td>\n",
       "    </tr>\n",
       "    <tr>\n",
       "      <th>1842957</th>\n",
       "      <td>1999</td>\n",
       "      <td>270.194794</td>\n",
       "      <td>100.770203</td>\n",
       "      <td>754.743225</td>\n",
       "    </tr>\n",
       "    <tr>\n",
       "      <th>1842958</th>\n",
       "      <td>1999</td>\n",
       "      <td>324.129456</td>\n",
       "      <td>109.845375</td>\n",
       "      <td>655.328613</td>\n",
       "    </tr>\n",
       "  </tbody>\n",
       "</table>\n",
       "<p>1842959 rows × 4 columns</p>\n",
       "</div>"
      ],
      "text/plain": [
       "         frame           y           x         mass\n",
       "0            0   29.203270  356.062592  1265.947632\n",
       "1            0  451.893250  332.532043   802.799500\n",
       "2            0  167.818283  359.047089   649.178955\n",
       "3            0  343.674774  363.886658   733.020142\n",
       "4            0  461.972534  328.895874   535.365601\n",
       "...        ...         ...         ...          ...\n",
       "1842954   1999  450.829681  112.060493   616.438538\n",
       "1842955   1999  111.393791  125.178253   615.724548\n",
       "1842956   1999  137.822159  103.073257   649.816040\n",
       "1842957   1999  270.194794  100.770203   754.743225\n",
       "1842958   1999  324.129456  109.845375   655.328613\n",
       "\n",
       "[1842959 rows x 4 columns]"
      ]
     },
     "execution_count": 5,
     "metadata": {},
     "output_type": "execute_result"
    }
   ],
   "source": [
    "# gpu_tracking.batch(arr, 9, varcheck = 0)"
   ]
  },
  {
   "cell_type": "code",
   "execution_count": 11,
   "metadata": {},
   "outputs": [],
   "source": [
    "res = gpu_tracking.batch(arr, 9, minmass = 1000)"
   ]
  },
  {
   "cell_type": "code",
   "execution_count": 6,
   "metadata": {},
   "outputs": [],
   "source": [
    "res = gpu_tracking.batch_file(path, 9, minmass = 1000)#, sig_radius = 4, bg_radius = 6, gap_radius = 0)"
   ]
  },
  {
   "cell_type": "code",
   "execution_count": 9,
   "metadata": {},
   "outputs": [
    {
     "data": {
      "text/html": [
       "<div>\n",
       "<style scoped>\n",
       "    .dataframe tbody tr th:only-of-type {\n",
       "        vertical-align: middle;\n",
       "    }\n",
       "\n",
       "    .dataframe tbody tr th {\n",
       "        vertical-align: top;\n",
       "    }\n",
       "\n",
       "    .dataframe thead th {\n",
       "        text-align: right;\n",
       "    }\n",
       "</style>\n",
       "<table border=\"1\" class=\"dataframe\">\n",
       "  <thead>\n",
       "    <tr style=\"text-align: right;\">\n",
       "      <th></th>\n",
       "      <th>frame</th>\n",
       "      <th>y</th>\n",
       "      <th>x</th>\n",
       "      <th>mass</th>\n",
       "    </tr>\n",
       "  </thead>\n",
       "  <tbody>\n",
       "    <tr>\n",
       "      <th>0</th>\n",
       "      <td>0</td>\n",
       "      <td>230.782028</td>\n",
       "      <td>489.952545</td>\n",
       "      <td>1038.816162</td>\n",
       "    </tr>\n",
       "    <tr>\n",
       "      <th>1</th>\n",
       "      <td>0</td>\n",
       "      <td>364.652740</td>\n",
       "      <td>491.276093</td>\n",
       "      <td>1179.607910</td>\n",
       "    </tr>\n",
       "    <tr>\n",
       "      <th>2</th>\n",
       "      <td>0</td>\n",
       "      <td>223.373627</td>\n",
       "      <td>436.738495</td>\n",
       "      <td>1171.258057</td>\n",
       "    </tr>\n",
       "    <tr>\n",
       "      <th>3</th>\n",
       "      <td>0</td>\n",
       "      <td>236.900131</td>\n",
       "      <td>447.094727</td>\n",
       "      <td>2426.295166</td>\n",
       "    </tr>\n",
       "    <tr>\n",
       "      <th>4</th>\n",
       "      <td>0</td>\n",
       "      <td>279.898468</td>\n",
       "      <td>444.843018</td>\n",
       "      <td>1064.409546</td>\n",
       "    </tr>\n",
       "    <tr>\n",
       "      <th>...</th>\n",
       "      <td>...</td>\n",
       "      <td>...</td>\n",
       "      <td>...</td>\n",
       "      <td>...</td>\n",
       "    </tr>\n",
       "    <tr>\n",
       "      <th>251939</th>\n",
       "      <td>1999</td>\n",
       "      <td>150.080109</td>\n",
       "      <td>72.097557</td>\n",
       "      <td>1085.401978</td>\n",
       "    </tr>\n",
       "    <tr>\n",
       "      <th>251940</th>\n",
       "      <td>1999</td>\n",
       "      <td>94.094009</td>\n",
       "      <td>114.937057</td>\n",
       "      <td>1010.610229</td>\n",
       "    </tr>\n",
       "    <tr>\n",
       "      <th>251941</th>\n",
       "      <td>1999</td>\n",
       "      <td>134.065887</td>\n",
       "      <td>132.859039</td>\n",
       "      <td>1117.040283</td>\n",
       "    </tr>\n",
       "    <tr>\n",
       "      <th>251942</th>\n",
       "      <td>1999</td>\n",
       "      <td>155.965210</td>\n",
       "      <td>137.294434</td>\n",
       "      <td>1199.973633</td>\n",
       "    </tr>\n",
       "    <tr>\n",
       "      <th>251943</th>\n",
       "      <td>1999</td>\n",
       "      <td>172.867584</td>\n",
       "      <td>113.507553</td>\n",
       "      <td>1023.296936</td>\n",
       "    </tr>\n",
       "  </tbody>\n",
       "</table>\n",
       "<p>251944 rows × 4 columns</p>\n",
       "</div>"
      ],
      "text/plain": [
       "        frame           y           x         mass\n",
       "0           0  230.782028  489.952545  1038.816162\n",
       "1           0  364.652740  491.276093  1179.607910\n",
       "2           0  223.373627  436.738495  1171.258057\n",
       "3           0  236.900131  447.094727  2426.295166\n",
       "4           0  279.898468  444.843018  1064.409546\n",
       "...       ...         ...         ...          ...\n",
       "251939   1999  150.080109   72.097557  1085.401978\n",
       "251940   1999   94.094009  114.937057  1010.610229\n",
       "251941   1999  134.065887  132.859039  1117.040283\n",
       "251942   1999  155.965210  137.294434  1199.973633\n",
       "251943   1999  172.867584  113.507553  1023.296936\n",
       "\n",
       "[251944 rows x 4 columns]"
      ]
     },
     "execution_count": 9,
     "metadata": {},
     "output_type": "execute_result"
    }
   ],
   "source": [
    "res"
   ]
  },
  {
   "cell_type": "code",
   "execution_count": 17,
   "metadata": {},
   "outputs": [
    {
     "data": {
      "text/plain": [
       "[<matplotlib.lines.Line2D at 0x159ebc880>]"
      ]
     },
     "execution_count": 17,
     "metadata": {},
     "output_type": "execute_result"
    },
    {
     "data": {
      "image/png": "[encoded data removed]",
      "text/plain": [
       "<Figure size 640x480 with 1 Axes>"
      ]
     },
     "metadata": {},
     "output_type": "display_data"
    }
   ],
   "source": [
    "plt.plot(res.mass, res.raw_mass_corrected, \".\")"
   ]
  },
  {
   "cell_type": "code",
   "execution_count": 4,
   "metadata": {},
   "outputs": [
    {
     "data": {
      "text/plain": [
       "[<matplotlib.lines.Line2D at 0x159b95000>]"
      ]
     },
     "execution_count": 4,
     "metadata": {},
     "output_type": "execute_result"
    },
    {
     "data": {
      "image/png": "[encoded data removed]",
      "text/plain": [
       "<Figure size 640x480 with 1 Axes>"
      ]
     },
     "metadata": {},
     "output_type": "display_data"
    }
   ],
   "source": [
    "plt.plot(*(res[res[\"frame\"] == 0][[\"y\", \"x\"]].to_numpy().T), \".\")"
   ]
  },
  {
   "cell_type": "code",
   "execution_count": null,
   "metadata": {},
   "outputs": [],
   "source": []
  },
  {
   "cell_type": "code",
   "execution_count": 4,
   "metadata": {},
   "outputs": [],
   "source": [
    "res2 = gpu_tracking.batch(arr, 9, points_to_characterize = res)"
   ]
  },
  {
   "cell_type": "code",
   "execution_count": 22,
   "metadata": {},
   "outputs": [],
   "source": [
    "test = ~((res[idk.mass != 0][[\"y\", \"x\"]].to_numpy().round().min(axis = 1) == 3) | (res[idk.mass != 0][[\"y\", \"x\"]].to_numpy().round().max(axis = 1) == 508))"
   ]
  },
  {
   "cell_type": "code",
   "execution_count": 30,
   "metadata": {},
   "outputs": [
    {
     "data": {
      "text/html": [
       "<div>\n",
       "<style scoped>\n",
       "    .dataframe tbody tr th:only-of-type {\n",
       "        vertical-align: middle;\n",
       "    }\n",
       "\n",
       "    .dataframe tbody tr th {\n",
       "        vertical-align: top;\n",
       "    }\n",
       "\n",
       "    .dataframe thead th {\n",
       "        text-align: right;\n",
       "    }\n",
       "</style>\n",
       "<table border=\"1\" class=\"dataframe\">\n",
       "  <thead>\n",
       "    <tr style=\"text-align: right;\">\n",
       "      <th></th>\n",
       "      <th>frame</th>\n",
       "      <th>y</th>\n",
       "      <th>x</th>\n",
       "      <th>mass</th>\n",
       "    </tr>\n",
       "  </thead>\n",
       "  <tbody>\n",
       "    <tr>\n",
       "      <th>70430</th>\n",
       "      <td>120</td>\n",
       "      <td>265.500000</td>\n",
       "      <td>128.123474</td>\n",
       "      <td>1429.225220</td>\n",
       "    </tr>\n",
       "    <tr>\n",
       "      <th>174926</th>\n",
       "      <td>296</td>\n",
       "      <td>494.463898</td>\n",
       "      <td>409.500000</td>\n",
       "      <td>689.115601</td>\n",
       "    </tr>\n",
       "    <tr>\n",
       "      <th>191562</th>\n",
       "      <td>324</td>\n",
       "      <td>12.748681</td>\n",
       "      <td>454.500000</td>\n",
       "      <td>564.665649</td>\n",
       "    </tr>\n",
       "    <tr>\n",
       "      <th>239713</th>\n",
       "      <td>406</td>\n",
       "      <td>360.500000</td>\n",
       "      <td>207.090164</td>\n",
       "      <td>872.524963</td>\n",
       "    </tr>\n",
       "    <tr>\n",
       "      <th>305683</th>\n",
       "      <td>517</td>\n",
       "      <td>433.986450</td>\n",
       "      <td>192.500000</td>\n",
       "      <td>668.750977</td>\n",
       "    </tr>\n",
       "    <tr>\n",
       "      <th>572340</th>\n",
       "      <td>967</td>\n",
       "      <td>183.284332</td>\n",
       "      <td>438.500000</td>\n",
       "      <td>465.221039</td>\n",
       "    </tr>\n",
       "    <tr>\n",
       "      <th>591157</th>\n",
       "      <td>999</td>\n",
       "      <td>376.500000</td>\n",
       "      <td>17.806026</td>\n",
       "      <td>621.676331</td>\n",
       "    </tr>\n",
       "    <tr>\n",
       "      <th>608186</th>\n",
       "      <td>1028</td>\n",
       "      <td>347.500000</td>\n",
       "      <td>19.974688</td>\n",
       "      <td>798.647278</td>\n",
       "    </tr>\n",
       "    <tr>\n",
       "      <th>689841</th>\n",
       "      <td>1166</td>\n",
       "      <td>311.500000</td>\n",
       "      <td>217.311630</td>\n",
       "      <td>918.281067</td>\n",
       "    </tr>\n",
       "    <tr>\n",
       "      <th>702299</th>\n",
       "      <td>1188</td>\n",
       "      <td>125.806686</td>\n",
       "      <td>313.500000</td>\n",
       "      <td>915.462463</td>\n",
       "    </tr>\n",
       "    <tr>\n",
       "      <th>794709</th>\n",
       "      <td>1344</td>\n",
       "      <td>118.500000</td>\n",
       "      <td>55.762703</td>\n",
       "      <td>879.890564</td>\n",
       "    </tr>\n",
       "    <tr>\n",
       "      <th>825417</th>\n",
       "      <td>1396</td>\n",
       "      <td>56.206539</td>\n",
       "      <td>197.500000</td>\n",
       "      <td>668.060181</td>\n",
       "    </tr>\n",
       "    <tr>\n",
       "      <th>1012224</th>\n",
       "      <td>1711</td>\n",
       "      <td>157.500000</td>\n",
       "      <td>150.305832</td>\n",
       "      <td>648.251953</td>\n",
       "    </tr>\n",
       "  </tbody>\n",
       "</table>\n",
       "</div>"
      ],
      "text/plain": [
       "         frame           y           x         mass\n",
       "70430      120  265.500000  128.123474  1429.225220\n",
       "174926     296  494.463898  409.500000   689.115601\n",
       "191562     324   12.748681  454.500000   564.665649\n",
       "239713     406  360.500000  207.090164   872.524963\n",
       "305683     517  433.986450  192.500000   668.750977\n",
       "572340     967  183.284332  438.500000   465.221039\n",
       "591157     999  376.500000   17.806026   621.676331\n",
       "608186    1028  347.500000   19.974688   798.647278\n",
       "689841    1166  311.500000  217.311630   918.281067\n",
       "702299    1188  125.806686  313.500000   915.462463\n",
       "794709    1344  118.500000   55.762703   879.890564\n",
       "825417    1396   56.206539  197.500000   668.060181\n",
       "1012224   1711  157.500000  150.305832   648.251953"
      ]
     },
     "execution_count": 30,
     "metadata": {},
     "output_type": "execute_result"
    }
   ],
   "source": [
    "res[idk.mass != 0][test]"
   ]
  },
  {
   "cell_type": "code",
   "execution_count": 31,
   "metadata": {},
   "outputs": [
    {
     "data": {
      "text/html": [
       "<div>\n",
       "<style scoped>\n",
       "    .dataframe tbody tr th:only-of-type {\n",
       "        vertical-align: middle;\n",
       "    }\n",
       "\n",
       "    .dataframe tbody tr th {\n",
       "        vertical-align: top;\n",
       "    }\n",
       "\n",
       "    .dataframe thead th {\n",
       "        text-align: right;\n",
       "    }\n",
       "</style>\n",
       "<table border=\"1\" class=\"dataframe\">\n",
       "  <thead>\n",
       "    <tr style=\"text-align: right;\">\n",
       "      <th></th>\n",
       "      <th>frame</th>\n",
       "      <th>y</th>\n",
       "      <th>x</th>\n",
       "      <th>mass</th>\n",
       "    </tr>\n",
       "  </thead>\n",
       "  <tbody>\n",
       "    <tr>\n",
       "      <th>70430</th>\n",
       "      <td>120</td>\n",
       "      <td>265.500000</td>\n",
       "      <td>128.123474</td>\n",
       "      <td>1423.123413</td>\n",
       "    </tr>\n",
       "    <tr>\n",
       "      <th>174926</th>\n",
       "      <td>296</td>\n",
       "      <td>494.463898</td>\n",
       "      <td>409.500000</td>\n",
       "      <td>726.001465</td>\n",
       "    </tr>\n",
       "    <tr>\n",
       "      <th>191562</th>\n",
       "      <td>324</td>\n",
       "      <td>12.748681</td>\n",
       "      <td>454.500000</td>\n",
       "      <td>764.777039</td>\n",
       "    </tr>\n",
       "    <tr>\n",
       "      <th>239713</th>\n",
       "      <td>406</td>\n",
       "      <td>360.500000</td>\n",
       "      <td>207.090164</td>\n",
       "      <td>833.038513</td>\n",
       "    </tr>\n",
       "    <tr>\n",
       "      <th>305683</th>\n",
       "      <td>517</td>\n",
       "      <td>433.986450</td>\n",
       "      <td>192.500000</td>\n",
       "      <td>668.426941</td>\n",
       "    </tr>\n",
       "    <tr>\n",
       "      <th>572340</th>\n",
       "      <td>967</td>\n",
       "      <td>183.284332</td>\n",
       "      <td>438.500000</td>\n",
       "      <td>460.465820</td>\n",
       "    </tr>\n",
       "    <tr>\n",
       "      <th>591157</th>\n",
       "      <td>999</td>\n",
       "      <td>376.500000</td>\n",
       "      <td>17.806026</td>\n",
       "      <td>636.869019</td>\n",
       "    </tr>\n",
       "    <tr>\n",
       "      <th>608186</th>\n",
       "      <td>1028</td>\n",
       "      <td>347.500000</td>\n",
       "      <td>19.974688</td>\n",
       "      <td>970.872803</td>\n",
       "    </tr>\n",
       "    <tr>\n",
       "      <th>689841</th>\n",
       "      <td>1166</td>\n",
       "      <td>311.500000</td>\n",
       "      <td>217.311630</td>\n",
       "      <td>888.937805</td>\n",
       "    </tr>\n",
       "    <tr>\n",
       "      <th>702299</th>\n",
       "      <td>1188</td>\n",
       "      <td>125.806686</td>\n",
       "      <td>313.500000</td>\n",
       "      <td>870.665039</td>\n",
       "    </tr>\n",
       "    <tr>\n",
       "      <th>794709</th>\n",
       "      <td>1344</td>\n",
       "      <td>118.500000</td>\n",
       "      <td>55.762703</td>\n",
       "      <td>858.513245</td>\n",
       "    </tr>\n",
       "    <tr>\n",
       "      <th>825417</th>\n",
       "      <td>1396</td>\n",
       "      <td>56.206539</td>\n",
       "      <td>197.500000</td>\n",
       "      <td>694.079285</td>\n",
       "    </tr>\n",
       "    <tr>\n",
       "      <th>1012224</th>\n",
       "      <td>1711</td>\n",
       "      <td>157.500000</td>\n",
       "      <td>150.305832</td>\n",
       "      <td>634.340210</td>\n",
       "    </tr>\n",
       "  </tbody>\n",
       "</table>\n",
       "</div>"
      ],
      "text/plain": [
       "         frame           y           x         mass\n",
       "70430      120  265.500000  128.123474  1423.123413\n",
       "174926     296  494.463898  409.500000   726.001465\n",
       "191562     324   12.748681  454.500000   764.777039\n",
       "239713     406  360.500000  207.090164   833.038513\n",
       "305683     517  433.986450  192.500000   668.426941\n",
       "572340     967  183.284332  438.500000   460.465820\n",
       "591157     999  376.500000   17.806026   636.869019\n",
       "608186    1028  347.500000   19.974688   970.872803\n",
       "689841    1166  311.500000  217.311630   888.937805\n",
       "702299    1188  125.806686  313.500000   870.665039\n",
       "794709    1344  118.500000   55.762703   858.513245\n",
       "825417    1396   56.206539  197.500000   694.079285\n",
       "1012224   1711  157.500000  150.305832   634.340210"
      ]
     },
     "execution_count": 31,
     "metadata": {},
     "output_type": "execute_result"
    }
   ],
   "source": [
    "res2[idk.mass != 0][test]"
   ]
  },
  {
   "cell_type": "code",
   "execution_count": 6,
   "metadata": {},
   "outputs": [
    {
     "data": {
      "text/plain": [
       "4          49.165405\n",
       "17         -0.525391\n",
       "415        -8.679138\n",
       "1194       29.052429\n",
       "2236        4.721924\n",
       "             ...    \n",
       "1181038   -10.922485\n",
       "1181444   -51.315002\n",
       "1181696   -16.976624\n",
       "1182060   -17.426270\n",
       "1182374   -10.185181\n",
       "Name: mass, Length: 3063, dtype: float64"
      ]
     },
     "execution_count": 6,
     "metadata": {},
     "output_type": "execute_result"
    }
   ],
   "source": [
    "idk.mass[idk.mass != 0]"
   ]
  },
  {
   "cell_type": "code",
   "execution_count": 15,
   "metadata": {},
   "outputs": [
    {
     "data": {
      "text/plain": [
       "(array([1.000e+00, 0.000e+00, 0.000e+00, 5.000e+00, 4.100e+01, 8.750e+02,\n",
       "        2.067e+03, 7.600e+01, 0.000e+00, 2.000e+00]),\n",
       " array([-339.640625  , -285.66542358, -231.69022217, -177.71502075,\n",
       "        -123.73981934,  -69.76461792,  -15.7894165 ,   38.18578491,\n",
       "          92.16098633,  146.13618774,  200.11138916]),\n",
       " <BarContainer object of 10 artists>)"
      ]
     },
     "execution_count": 15,
     "metadata": {},
     "output_type": "execute_result"
    },
    {
     "data": {
      "image/png": "[encoded data removed]",
      "text/plain": [
       "<Figure size 640x480 with 1 Axes>"
      ]
     },
     "metadata": {},
     "output_type": "display_data"
    }
   ],
   "source": [
    "plt.hist(idk.mass[idk.mass != 0])"
   ]
  },
  {
   "cell_type": "code",
   "execution_count": 12,
   "metadata": {},
   "outputs": [
    {
     "data": {
      "text/html": [
       "<div>\n",
       "<style scoped>\n",
       "    .dataframe tbody tr th:only-of-type {\n",
       "        vertical-align: middle;\n",
       "    }\n",
       "\n",
       "    .dataframe tbody tr th {\n",
       "        vertical-align: top;\n",
       "    }\n",
       "\n",
       "    .dataframe thead th {\n",
       "        text-align: right;\n",
       "    }\n",
       "</style>\n",
       "<table border=\"1\" class=\"dataframe\">\n",
       "  <thead>\n",
       "    <tr style=\"text-align: right;\">\n",
       "      <th></th>\n",
       "      <th>frame</th>\n",
       "      <th>y</th>\n",
       "      <th>x</th>\n",
       "      <th>mass</th>\n",
       "    </tr>\n",
       "  </thead>\n",
       "  <tbody>\n",
       "    <tr>\n",
       "      <th>17</th>\n",
       "      <td>0</td>\n",
       "      <td>117.095123</td>\n",
       "      <td>3.158003</td>\n",
       "      <td>518.990845</td>\n",
       "    </tr>\n",
       "    <tr>\n",
       "      <th>27</th>\n",
       "      <td>0</td>\n",
       "      <td>174.980026</td>\n",
       "      <td>2.910872</td>\n",
       "      <td>667.754700</td>\n",
       "    </tr>\n",
       "    <tr>\n",
       "      <th>569</th>\n",
       "      <td>1</td>\n",
       "      <td>507.648956</td>\n",
       "      <td>283.352692</td>\n",
       "      <td>782.539246</td>\n",
       "    </tr>\n",
       "    <tr>\n",
       "      <th>924</th>\n",
       "      <td>2</td>\n",
       "      <td>263.239868</td>\n",
       "      <td>507.786316</td>\n",
       "      <td>996.566101</td>\n",
       "    </tr>\n",
       "    <tr>\n",
       "      <th>1994</th>\n",
       "      <td>4</td>\n",
       "      <td>507.518646</td>\n",
       "      <td>118.926704</td>\n",
       "      <td>530.368713</td>\n",
       "    </tr>\n",
       "    <tr>\n",
       "      <th>...</th>\n",
       "      <td>...</td>\n",
       "      <td>...</td>\n",
       "      <td>...</td>\n",
       "      <td>...</td>\n",
       "    </tr>\n",
       "    <tr>\n",
       "      <th>1180763</th>\n",
       "      <td>1997</td>\n",
       "      <td>231.719208</td>\n",
       "      <td>507.517303</td>\n",
       "      <td>1267.752563</td>\n",
       "    </tr>\n",
       "    <tr>\n",
       "      <th>1181457</th>\n",
       "      <td>1998</td>\n",
       "      <td>148.347382</td>\n",
       "      <td>3.081594</td>\n",
       "      <td>847.100464</td>\n",
       "    </tr>\n",
       "    <tr>\n",
       "      <th>1181690</th>\n",
       "      <td>1998</td>\n",
       "      <td>501.811646</td>\n",
       "      <td>3.485564</td>\n",
       "      <td>642.640442</td>\n",
       "    </tr>\n",
       "    <tr>\n",
       "      <th>1182057</th>\n",
       "      <td>1999</td>\n",
       "      <td>3.375906</td>\n",
       "      <td>140.687851</td>\n",
       "      <td>1106.449219</td>\n",
       "    </tr>\n",
       "    <tr>\n",
       "      <th>1182287</th>\n",
       "      <td>1999</td>\n",
       "      <td>507.593536</td>\n",
       "      <td>438.022949</td>\n",
       "      <td>861.559937</td>\n",
       "    </tr>\n",
       "  </tbody>\n",
       "</table>\n",
       "<p>3067 rows × 4 columns</p>\n",
       "</div>"
      ],
      "text/plain": [
       "         frame           y           x         mass\n",
       "17           0  117.095123    3.158003   518.990845\n",
       "27           0  174.980026    2.910872   667.754700\n",
       "569          1  507.648956  283.352692   782.539246\n",
       "924          2  263.239868  507.786316   996.566101\n",
       "1994         4  507.518646  118.926704   530.368713\n",
       "...        ...         ...         ...          ...\n",
       "1180763   1997  231.719208  507.517303  1267.752563\n",
       "1181457   1998  148.347382    3.081594   847.100464\n",
       "1181690   1998  501.811646    3.485564   642.640442\n",
       "1182057   1999    3.375906  140.687851  1106.449219\n",
       "1182287   1999  507.593536  438.022949   861.559937\n",
       "\n",
       "[3067 rows x 4 columns]"
      ]
     },
     "execution_count": 12,
     "metadata": {},
     "output_type": "execute_result"
    }
   ],
   "source": [
    "res[idk.mass != 0]"
   ]
  },
  {
   "cell_type": "code",
   "execution_count": null,
   "metadata": {},
   "outputs": [],
   "source": [
    "gpu_tracking.batch_file(\"../../emily_tracking/sample_vids/s_20.tif\", 9, points_to_characterize= np.array([[300, 300]]))\n"
   ]
  },
  {
   "cell_type": "code",
   "execution_count": 5,
   "metadata": {},
   "outputs": [],
   "source": [
    "# with open(\"trackpy_reference/locations.pkl\", \"rb\") as file:\n",
    "#     tp_df = pickle.load(file)\n",
    "diameter = 9\n",
    "minmass = 0\n",
    "separation = 10\n",
    "# n_frames = 2000\n",
    "slc = slice(0, 2000)\n",
    "my_df = pd.DataFrame(gpu_tracking.batch(arr[slc], diameter, minmass = minmass, separation = separation, filter_close = True), columns = [\"frame\", \"mass\", \"y\", \"x\"])\n",
    "my_df = my_df.astype({\"frame\": int})[[\"frame\", \"y\", \"x\", \"mass\"]]\n",
    "tp.quiet()\n",
    "tp_df = tp.batch(arr[slc], diameter, threshold = 0, percentile = 0, minmass = minmass, characterize = False, separation = separation)\n"
   ]
  },
  {
   "cell_type": "code",
   "execution_count": 1,
   "metadata": {},
   "outputs": [],
   "source": [
    "from skimage.feature import blob_log"
   ]
  },
  {
   "cell_type": "code",
   "execution_count": null,
   "metadata": {},
   "outputs": [],
   "source": [
    "71142"
   ]
  },
  {
   "cell_type": "code",
   "execution_count": 216,
   "metadata": {},
   "outputs": [
    {
     "data": {
      "text/plain": [
       "array([215422], dtype=int32)"
      ]
     },
     "execution_count": 216,
     "metadata": {},
     "output_type": "execute_result"
    }
   ],
   "source": [
    "with open(\"dump1.bin\", \"rb\") as file:\n",
    "    n = np.frombuffer(file.read(), dtype = \"int32\")\n",
    "n"
   ]
  },
  {
   "cell_type": "code",
   "execution_count": 217,
   "metadata": {},
   "outputs": [
    {
     "name": "stdout",
     "output_type": "stream",
     "text": [
      "(104375, 4)\n"
     ]
    }
   ],
   "source": [
    "import numpy as np\n",
    "import matplotlib.pyplot as plt\n",
    "import pandas as pd\n",
    "import tifffile\n",
    "with open(\"dump0.bin\", \"rb\") as file:\n",
    "    data = np.frombuffer(file.read(), dtype = \"int32\")\n",
    "    # shape = (1024, 1024, 2)\n",
    "    # data = data[:np.prod(shape)]\n",
    "    # data = data.reshape(shape)\n",
    "datalen = len(data)\n",
    "\n",
    "data = data[:datalen - datalen % 4]\n",
    "data = data.reshape(-1, 4)\n",
    "# data = data[data.any(axis = 1)]\n",
    "    # data = data[:9]\n",
    "    # data = data.reshape(3, 3)\n",
    "# image = tifffile.imread(\"scuffed_blobs_1C.tif\")\n",
    "print(data.shape)"
   ]
  },
  {
   "cell_type": "code",
   "execution_count": 218,
   "metadata": {},
   "outputs": [
    {
     "data": {
      "text/plain": [
       "array([[        76,         79, 1096959536, 1066981768],\n",
       "       [        77,         79, 1096959536, 1086832409],\n",
       "       [        78,         79, 1096959536, 1093963684],\n",
       "       ...,\n",
       "       [       539,        246, 1101640868, 1080302530],\n",
       "       [       540,        246, 1101640868, 1069074364],\n",
       "       [       544,        262, 1101640868, 1103311080]], dtype=int32)"
      ]
     },
     "execution_count": 218,
     "metadata": {},
     "output_type": "execute_result"
    }
   ],
   "source": [
    "data"
   ]
  },
  {
   "cell_type": "code",
   "execution_count": 225,
   "metadata": {},
   "outputs": [],
   "source": [
    "found_in_first_sigma = data[data[:, 2].view(\"float32\")/np.sqrt(2) == 10, :2]"
   ]
  },
  {
   "cell_type": "code",
   "execution_count": 233,
   "metadata": {},
   "outputs": [
    {
     "data": {
      "text/plain": [
       "array([[ 76,  79],\n",
       "       [ 77,  79],\n",
       "       [ 78,  79],\n",
       "       ...,\n",
       "       [485, 568],\n",
       "       [486, 568],\n",
       "       [487, 568]], dtype=int32)"
      ]
     },
     "execution_count": 233,
     "metadata": {},
     "output_type": "execute_result"
    }
   ],
   "source": [
    "found_in_first_sigma"
   ]
  },
  {
   "cell_type": "code",
   "execution_count": 241,
   "metadata": {},
   "outputs": [],
   "source": [
    "pic = np.zeros((1024, 1024))"
   ]
  },
  {
   "cell_type": "code",
   "execution_count": 235,
   "metadata": {},
   "outputs": [],
   "source": [
    "pic[found_in_first_sigma] = 1"
   ]
  },
  {
   "cell_type": "code",
   "execution_count": 240,
   "metadata": {},
   "outputs": [
    {
     "data": {
      "text/plain": [
       "array([ 76,  77,  78, ..., 485, 486, 487], dtype=int32)"
      ]
     },
     "execution_count": 240,
     "metadata": {},
     "output_type": "execute_result"
    }
   ],
   "source": [
    "found_in_first_sigma[:, 0]"
   ]
  },
  {
   "cell_type": "code",
   "execution_count": 242,
   "metadata": {},
   "outputs": [],
   "source": [
    "pic[found_in_first_sigma[:, 0], found_in_first_sigma[:, 1]] = 1"
   ]
  },
  {
   "cell_type": "code",
   "execution_count": 243,
   "metadata": {},
   "outputs": [
    {
     "data": {
      "text/plain": [
       "<matplotlib.image.AxesImage at 0x1579a1b40>"
      ]
     },
     "execution_count": 243,
     "metadata": {},
     "output_type": "execute_result"
    },
    {
     "data": {
      "image/png": "[encoded data removed]",
      "text/plain": [
       "<Figure size 640x480 with 1 Axes>"
      ]
     },
     "metadata": {},
     "output_type": "display_data"
    }
   ],
   "source": [
    "plt.imshow(pic)"
   ]
  },
  {
   "cell_type": "code",
   "execution_count": 232,
   "metadata": {},
   "outputs": [
    {
     "data": {
      "text/plain": [
       "[<matplotlib.lines.Line2D at 0x157fc8f10>]"
      ]
     },
     "execution_count": 232,
     "metadata": {},
     "output_type": "execute_result"
    },
    {
     "data": {
      "image/png": "[encoded data removed]",
      "text/plain": [
       "<Figure size 640x480 with 1 Axes>"
      ]
     },
     "metadata": {},
     "output_type": "display_data"
    }
   ],
   "source": [
    "plt.plot(*found_in_first_sigma[:, ::-1].T, \"\")"
   ]
  },
  {
   "cell_type": "code",
   "execution_count": 205,
   "metadata": {},
   "outputs": [
    {
     "data": {
      "text/plain": [
       "array([[10.      , 58.509903],\n",
       "       [10.      , 59.5172  ],\n",
       "       [10.      , 60.597363],\n",
       "       ...,\n",
       "       [15.      , 30.294718],\n",
       "       [15.      , 31.049526],\n",
       "       [15.      , 31.647182]], dtype=float32)"
      ]
     },
     "execution_count": 205,
     "metadata": {},
     "output_type": "execute_result"
    }
   ],
   "source": [
    "data[:, 2:].view(\"float32\")/np.sqrt(2)"
   ]
  },
  {
   "cell_type": "code",
   "execution_count": 192,
   "metadata": {},
   "outputs": [
    {
     "data": {
      "text/plain": [
       "array([ 0.      , 10.      , 11.      , 12.      , 12.999999, 14.000001,\n",
       "       15.      , 16.      , 17.      , 18.      , 19.      ],\n",
       "      dtype=float32)"
      ]
     },
     "execution_count": 192,
     "metadata": {},
     "output_type": "execute_result"
    }
   ],
   "source": [
    "np.unique(data[:, 2].view(\"float32\")/np.sqrt(2))"
   ]
  },
  {
   "cell_type": "code",
   "execution_count": 172,
   "metadata": {},
   "outputs": [
    {
     "data": {
      "text/plain": [
       "array([0.00028795, 0.00032908, 0.00037292, ..., 0.00089419, 0.00092521,\n",
       "       0.00123945], dtype=float32)"
      ]
     },
     "execution_count": 172,
     "metadata": {},
     "output_type": "execute_result"
    }
   ],
   "source": [
    "data[:, 3].view(\"float32\")/np.sqrt(2)"
   ]
  },
  {
   "cell_type": "code",
   "execution_count": 37,
   "metadata": {},
   "outputs": [
    {
     "data": {
      "text/plain": [
       "array([[0.00058899, 0.00060345, 0.00061693, ..., 0.00054718, 0.00055913,\n",
       "        0.00057604],\n",
       "       [0.00060053, 0.00061522, 0.00062872, ..., 0.00055827, 0.00057038,\n",
       "        0.00058758],\n",
       "       [0.00061033, 0.00062529, 0.00063885, ..., 0.0005675 , 0.00057983,\n",
       "        0.00059734],\n",
       "       ...,\n",
       "       [0.00054864, 0.00056227, 0.00057554, ..., 0.0005087 , 0.00052003,\n",
       "        0.00053587],\n",
       "       [0.00056359, 0.00057751, 0.00059087, ..., 0.00052297, 0.00053452,\n",
       "        0.00055074],\n",
       "       [0.00057689, 0.00059107, 0.00060449, ..., 0.00053571, 0.00054744,\n",
       "        0.000564  ]], dtype=float32)"
      ]
     },
     "execution_count": 37,
     "metadata": {},
     "output_type": "execute_result"
    }
   ],
   "source": [
    "data[:, :, 0]"
   ]
  },
  {
   "cell_type": "code",
   "execution_count": 38,
   "metadata": {},
   "outputs": [
    {
     "data": {
      "text/plain": [
       "72.42169"
      ]
     },
     "execution_count": 38,
     "metadata": {},
     "output_type": "execute_result"
    }
   ],
   "source": [
    "data.max()"
   ]
  },
  {
   "cell_type": "code",
   "execution_count": 36,
   "metadata": {},
   "outputs": [
    {
     "data": {
      "text/plain": [
       "<matplotlib.image.AxesImage at 0x1579ec370>"
      ]
     },
     "execution_count": 36,
     "metadata": {},
     "output_type": "execute_result"
    },
    {
     "data": {
      "image/png": "[encoded data removed]",
      "text/plain": [
       "<Figure size 640x480 with 1 Axes>"
      ]
     },
     "metadata": {},
     "output_type": "display_data"
    }
   ],
   "source": [
    "plt.imshow(data[:, :, 0])"
   ]
  },
  {
   "cell_type": "code",
   "execution_count": 68,
   "metadata": {},
   "outputs": [
    {
     "data": {
      "text/plain": [
       "0"
      ]
     },
     "execution_count": 68,
     "metadata": {},
     "output_type": "execute_result"
    }
   ],
   "source": [
    "data"
   ]
  },
  {
   "cell_type": "code",
   "execution_count": 66,
   "metadata": {},
   "outputs": [
    {
     "data": {
      "text/html": [
       "<div>\n",
       "<style scoped>\n",
       "    .dataframe tbody tr th:only-of-type {\n",
       "        vertical-align: middle;\n",
       "    }\n",
       "\n",
       "    .dataframe tbody tr th {\n",
       "        vertical-align: top;\n",
       "    }\n",
       "\n",
       "    .dataframe thead th {\n",
       "        text-align: right;\n",
       "    }\n",
       "</style>\n",
       "<table border=\"1\" class=\"dataframe\">\n",
       "  <thead>\n",
       "    <tr style=\"text-align: right;\">\n",
       "      <th></th>\n",
       "      <th>0</th>\n",
       "      <th>1</th>\n",
       "    </tr>\n",
       "  </thead>\n",
       "  <tbody>\n",
       "    <tr>\n",
       "      <th>12758</th>\n",
       "      <td>2</td>\n",
       "      <td>96</td>\n",
       "    </tr>\n",
       "    <tr>\n",
       "      <th>14021</th>\n",
       "      <td>2</td>\n",
       "      <td>97</td>\n",
       "    </tr>\n",
       "    <tr>\n",
       "      <th>12528</th>\n",
       "      <td>2</td>\n",
       "      <td>98</td>\n",
       "    </tr>\n",
       "    <tr>\n",
       "      <th>13397</th>\n",
       "      <td>2</td>\n",
       "      <td>99</td>\n",
       "    </tr>\n",
       "    <tr>\n",
       "      <th>14401</th>\n",
       "      <td>2</td>\n",
       "      <td>100</td>\n",
       "    </tr>\n",
       "    <tr>\n",
       "      <th>...</th>\n",
       "      <td>...</td>\n",
       "      <td>...</td>\n",
       "    </tr>\n",
       "    <tr>\n",
       "      <th>6900</th>\n",
       "      <td>586</td>\n",
       "      <td>59</td>\n",
       "    </tr>\n",
       "    <tr>\n",
       "      <th>7334</th>\n",
       "      <td>586</td>\n",
       "      <td>60</td>\n",
       "    </tr>\n",
       "    <tr>\n",
       "      <th>7234</th>\n",
       "      <td>586</td>\n",
       "      <td>61</td>\n",
       "    </tr>\n",
       "    <tr>\n",
       "      <th>7074</th>\n",
       "      <td>586</td>\n",
       "      <td>62</td>\n",
       "    </tr>\n",
       "    <tr>\n",
       "      <th>8003</th>\n",
       "      <td>586</td>\n",
       "      <td>63</td>\n",
       "    </tr>\n",
       "  </tbody>\n",
       "</table>\n",
       "<p>20000 rows × 2 columns</p>\n",
       "</div>"
      ],
      "text/plain": [
       "         0    1\n",
       "12758    2   96\n",
       "14021    2   97\n",
       "12528    2   98\n",
       "13397    2   99\n",
       "14401    2  100\n",
       "...    ...  ...\n",
       "6900   586   59\n",
       "7334   586   60\n",
       "7234   586   61\n",
       "7074   586   62\n",
       "8003   586   63\n",
       "\n",
       "[20000 rows x 2 columns]"
      ]
     },
     "execution_count": 66,
     "metadata": {},
     "output_type": "execute_result"
    }
   ],
   "source": [
    "pd.DataFrame(data).sort_values([0, 1])"
   ]
  },
  {
   "cell_type": "code",
   "execution_count": 47,
   "metadata": {},
   "outputs": [],
   "source": [
    "data = data[data != 0]"
   ]
  },
  {
   "cell_type": "code",
   "execution_count": 40,
   "metadata": {},
   "outputs": [
    {
     "data": {
      "text/plain": [
       "0.12489700672809537"
      ]
     },
     "execution_count": 40,
     "metadata": {},
     "output_type": "execute_result"
    }
   ],
   "source": [
    "(data != 0).sum() / len(data)"
   ]
  },
  {
   "cell_type": "code",
   "execution_count": 48,
   "metadata": {},
   "outputs": [
    {
     "ename": "ValueError",
     "evalue": "cannot reshape array of size 417026 into shape (4)",
     "output_type": "error",
     "traceback": [
      "\u001b[1;31m---------------------------------------------------------------------------\u001b[0m",
      "\u001b[1;31mValueError\u001b[0m                                Traceback (most recent call last)",
      "\u001b[1;32mc:\\Users\\andre\\Documents\\tracking_optimizations\\gpu-tracking\\testing\\explore.ipynb Cell 25\u001b[0m in \u001b[0;36m<cell line: 1>\u001b[1;34m()\u001b[0m\n\u001b[1;32m----> <a href='vscode-notebook-cell:/c%3A/Users/andre/Documents/tracking_optimizations/gpu-tracking/testing/explore.ipynb#Y106sZmlsZQ%3D%3D?line=0'>1</a>\u001b[0m data\u001b[39m.\u001b[39;49mreshape(\u001b[39m-\u001b[39;49m\u001b[39m1\u001b[39;49m, \u001b[39m4\u001b[39;49m)\n",
      "\u001b[1;31mValueError\u001b[0m: cannot reshape array of size 417026 into shape (4)"
     ]
    }
   ],
   "source": [
    "data.reshape(-1, 4)"
   ]
  },
  {
   "cell_type": "code",
   "execution_count": 93,
   "metadata": {},
   "outputs": [],
   "source": [
    "output = pd.DataFrame(data, columns = [\"frame\", \"x\", \"y\", \"mass\", \"r\"])"
   ]
  },
  {
   "cell_type": "code",
   "execution_count": 97,
   "metadata": {},
   "outputs": [
    {
     "data": {
      "text/plain": [
       "109.07282257080078"
      ]
     },
     "execution_count": 97,
     "metadata": {},
     "output_type": "execute_result"
    }
   ],
   "source": [
    "output[\"y\"].max()"
   ]
  },
  {
   "cell_type": "code",
   "execution_count": 96,
   "metadata": {},
   "outputs": [
    {
     "data": {
      "text/plain": [
       "-388.19671630859375"
      ]
     },
     "execution_count": 96,
     "metadata": {},
     "output_type": "execute_result"
    }
   ],
   "source": [
    "output[\"x\"].min()"
   ]
  },
  {
   "cell_type": "code",
   "execution_count": 94,
   "metadata": {},
   "outputs": [
    {
     "data": {
      "text/plain": [
       "[<matplotlib.lines.Line2D at 0x2c9ceafcbe0>]"
      ]
     },
     "execution_count": 94,
     "metadata": {},
     "output_type": "execute_result"
    },
    {
     "data": {
      "image/png": "[encoded data removed]",
      "text/plain": [
       "<Figure size 640x480 with 1 Axes>"
      ]
     },
     "metadata": {},
     "output_type": "display_data"
    }
   ],
   "source": [
    "plt.imshow(image)\n",
    "plt.plot(output[\"x\"], output[\"y\"])"
   ]
  },
  {
   "cell_type": "code",
   "execution_count": null,
   "metadata": {},
   "outputs": [],
   "source": []
  },
  {
   "cell_type": "code",
   "execution_count": 6,
   "metadata": {},
   "outputs": [
    {
     "data": {
      "text/plain": [
       "2000"
      ]
     },
     "execution_count": 6,
     "metadata": {},
     "output_type": "execute_result"
    }
   ],
   "source": [
    "errors = []\n",
    "for (frame, my_subdf), (frame, tp_subdf) in zip(my_df.groupby(\"frame\"), tp_df.groupby(\"frame\")):\n",
    "    idk = my_subdf.sort_values(\"y\").reset_index(drop = True) - tp_subdf.sort_values(\"y\").reset_index(drop = True)\n",
    "    error = np.sqrt((idk[[\"y\", \"x\"]]**2).sum(axis = 1)).sum()/len(my_subdf)\n",
    "    if error > 1:\n",
    "        errors.append((my_subdf, tp_subdf))\n",
    "len(errors)"
   ]
  },
  {
   "cell_type": "code",
   "execution_count": 7,
   "metadata": {},
   "outputs": [],
   "source": [
    "it = iter(errors)"
   ]
  },
  {
   "cell_type": "code",
   "execution_count": 8,
   "metadata": {},
   "outputs": [
    {
     "name": "stdout",
     "output_type": "stream",
     "text": [
      "0 0\n"
     ]
    },
    {
     "data": {
      "text/plain": [
       "[<matplotlib.lines.Line2D at 0x169f39180>]"
      ]
     },
     "execution_count": 8,
     "metadata": {},
     "output_type": "execute_result"
    },
    {
     "data": {
      "image/png": "[encoded data removed]",
      "text/plain": [
       "<Figure size 640x480 with 1 Axes>"
      ]
     },
     "metadata": {},
     "output_type": "display_data"
    }
   ],
   "source": [
    "my_subdf, tp_subdf = next(it)\n",
    "print(my_subdf[\"frame\"].iloc[0], tp_subdf[\"frame\"].iloc[0])\n",
    "# my_coords = coords(my_df[my_df[\"frame\"] == f])\n",
    "# tp_coords = coords(tp_df[tp_df[\"frame\"] == f])\n",
    "my_coords = coords(my_subdf)\n",
    "tp_coords = coords(tp_subdf)\n",
    "\n",
    "my_tree = KDTree(my_coords.T)\n",
    "tp_tree = KDTree(tp_coords.T)\n",
    "# print(my_tree.query(tp_coords.T, distance_upper_bound = 0.2)[0].sum())\n",
    "# print(tp_tree.query(my_coords.T, distance_upper_bound = 0.2)[0].sum())\n",
    "plt.plot(*my_coords, \"C0.\", alpha = 0.3)\n",
    "plt.plot(*tp_coords, \"C1.\", alpha = 0.3)\n",
    "# plt.plot(idk[0], idk[1], \".\")"
   ]
  },
  {
   "cell_type": "code",
   "execution_count": null,
   "metadata": {},
   "outputs": [],
   "source": []
  },
  {
   "cell_type": "code",
   "execution_count": 20,
   "metadata": {},
   "outputs": [
    {
     "data": {
      "text/plain": [
       "(array([False, False, False, False, False, False, False, False, False,\n",
       "        False, False, False, False, False, False, False, False, False,\n",
       "        False, False, False, False, False, False, False, False, False,\n",
       "        False, False, False, False, False, False, False, False, False,\n",
       "        False, False, False, False, False, False, False, False, False,\n",
       "        False, False, False, False, False, False, False, False, False,\n",
       "        False, False, False, False, False, False, False, False, False,\n",
       "        False, False, False, False, False, False, False, False, False,\n",
       "        False, False, False, False, False, False, False, False, False,\n",
       "        False, False, False, False, False, False, False, False, False,\n",
       "        False, False, False, False, False, False, False, False, False,\n",
       "        False, False, False, False, False, False, False, False, False,\n",
       "        False, False, False, False, False, False, False, False, False,\n",
       "        False, False, False, False, False, False, False, False, False,\n",
       "        False, False, False, False, False, False, False, False, False,\n",
       "        False, False, False, False, False, False, False, False, False,\n",
       "        False, False, False, False, False, False, False, False, False,\n",
       "        False, False, False, False, False, False, False, False, False,\n",
       "        False, False, False, False, False, False, False, False, False,\n",
       "        False, False, False, False, False, False, False, False, False,\n",
       "        False, False, False, False, False, False, False, False, False,\n",
       "        False, False, False, False, False, False, False, False, False,\n",
       "        False, False, False, False, False, False, False, False, False,\n",
       "        False, False, False, False, False, False, False, False, False,\n",
       "        False, False, False, False, False, False, False, False, False,\n",
       "        False, False, False, False, False, False, False, False, False,\n",
       "        False, False, False, False, False, False, False, False, False,\n",
       "        False, False, False, False, False, False, False, False, False,\n",
       "        False, False, False, False, False, False, False, False, False,\n",
       "        False, False, False, False, False, False, False, False, False,\n",
       "        False, False, False, False, False, False, False, False, False,\n",
       "        False, False, False, False, False, False, False, False, False,\n",
       "        False, False, False, False, False, False, False, False, False,\n",
       "        False, False, False, False, False, False, False, False, False,\n",
       "        False, False, False, False, False, False, False, False, False,\n",
       "        False, False, False, False, False, False, False, False, False,\n",
       "        False, False, False, False, False, False, False, False, False,\n",
       "        False, False, False, False, False, False, False, False, False,\n",
       "        False, False, False, False, False, False, False, False, False,\n",
       "        False, False, False, False, False, False, False, False, False,\n",
       "        False, False, False, False, False, False, False, False, False,\n",
       "        False, False, False, False, False, False, False, False, False,\n",
       "        False, False, False, False, False, False, False, False, False,\n",
       "        False, False, False, False, False, False, False, False, False,\n",
       "        False, False, False, False, False, False, False, False, False,\n",
       "        False, False, False, False, False, False, False, False, False,\n",
       "        False, False, False, False, False, False, False, False, False,\n",
       "        False, False, False, False, False, False, False, False, False,\n",
       "        False, False, False, False, False, False, False, False, False,\n",
       "        False, False, False, False, False, False, False, False, False,\n",
       "        False, False, False, False, False, False, False, False, False,\n",
       "        False, False, False, False, False, False, False, False, False,\n",
       "        False, False, False, False, False, False, False, False, False,\n",
       "        False, False, False, False, False, False, False, False, False,\n",
       "        False, False, False, False, False, False, False, False, False,\n",
       "        False, False, False, False, False, False, False, False, False,\n",
       "        False, False, False, False, False, False, False, False]),\n",
       " array([False, False, False, False, False, False, False, False, False,\n",
       "        False, False, False, False, False, False, False, False, False,\n",
       "        False, False, False, False, False, False, False, False, False,\n",
       "        False, False, False, False, False, False, False, False, False,\n",
       "        False, False, False, False, False, False, False, False, False,\n",
       "        False, False, False, False, False, False, False, False, False,\n",
       "        False, False, False, False, False, False, False, False, False,\n",
       "        False, False, False, False, False, False, False, False, False,\n",
       "        False, False, False, False, False, False, False, False, False,\n",
       "        False, False, False, False, False, False, False, False, False,\n",
       "        False, False, False, False, False, False, False, False, False,\n",
       "        False, False, False, False, False, False, False, False, False,\n",
       "        False, False, False, False, False, False, False, False, False,\n",
       "        False, False, False, False, False, False, False, False, False,\n",
       "        False, False, False, False, False, False, False, False, False,\n",
       "        False, False, False, False, False, False, False, False, False,\n",
       "        False, False, False, False, False, False, False, False, False,\n",
       "        False, False, False, False, False, False, False, False, False,\n",
       "        False, False, False, False, False, False, False, False, False,\n",
       "        False, False, False, False, False, False, False, False, False,\n",
       "        False, False, False, False, False, False, False, False, False,\n",
       "        False, False, False, False, False, False, False, False, False,\n",
       "        False, False, False, False, False, False, False, False, False,\n",
       "        False, False, False, False, False, False, False, False, False,\n",
       "        False, False, False, False, False, False, False, False, False,\n",
       "        False, False, False, False, False, False, False, False, False,\n",
       "        False, False, False, False, False, False, False, False, False,\n",
       "        False, False, False, False, False, False, False, False, False,\n",
       "        False, False, False, False, False, False, False, False, False,\n",
       "        False, False, False, False, False, False, False, False, False,\n",
       "        False, False, False, False, False, False, False, False, False,\n",
       "        False, False, False, False, False, False, False, False, False,\n",
       "        False, False, False, False, False, False, False, False, False,\n",
       "        False, False, False, False, False, False, False, False, False,\n",
       "        False, False, False, False, False, False, False, False, False,\n",
       "        False, False, False, False, False, False, False, False, False,\n",
       "        False, False, False, False, False, False, False, False, False,\n",
       "        False, False, False, False, False, False, False, False, False,\n",
       "        False, False, False, False, False, False, False, False, False,\n",
       "        False, False, False, False, False, False, False, False, False,\n",
       "        False, False, False, False, False, False, False, False, False,\n",
       "        False, False, False, False, False, False, False, False, False,\n",
       "        False, False, False, False, False, False, False, False, False,\n",
       "        False, False, False, False, False, False, False, False, False,\n",
       "        False, False, False, False, False, False, False, False, False,\n",
       "        False, False, False, False, False, False, False, False, False,\n",
       "        False, False, False, False, False, False, False, False, False,\n",
       "        False, False, False, False, False, False, False, False, False,\n",
       "        False, False, False, False, False, False, False, False, False,\n",
       "        False, False, False, False, False, False, False, False, False,\n",
       "        False, False, False, False, False, False, False, False, False,\n",
       "        False, False, False, False, False, False, False, False, False,\n",
       "        False, False, False, False, False, False, False, False, False,\n",
       "        False, False, False, False, False, False, False, False, False,\n",
       "        False, False, False, False, False, False, False, False, False,\n",
       "        False, False, False, False, False, False, False, False, False,\n",
       "        False, False, False, False, False, False, False, False]))"
      ]
     },
     "execution_count": 20,
     "metadata": {},
     "output_type": "execute_result"
    }
   ],
   "source": [
    "idk[0], idk[1]"
   ]
  },
  {
   "cell_type": "code",
   "execution_count": null,
   "metadata": {},
   "outputs": [],
   "source": []
  },
  {
   "cell_type": "code",
   "execution_count": 26,
   "metadata": {},
   "outputs": [
    {
     "data": {
      "text/plain": [
       "(array([2.73705328e-06, 7.14660826e-06, 1.99054926e-06, ...,\n",
       "        1.10177297e-05, 1.22248076e-05, 7.48332912e-06]),\n",
       " array([ 845,  901,  775, ...,  961, 1151,  427], dtype=int64))"
      ]
     },
     "execution_count": 26,
     "metadata": {},
     "output_type": "execute_result"
    }
   ],
   "source": [
    "idk"
   ]
  },
  {
   "cell_type": "code",
   "execution_count": 85,
   "metadata": {},
   "outputs": [
    {
     "data": {
      "text/plain": [
       "(array([1, 7], dtype=int64),)"
      ]
     },
     "execution_count": 85,
     "metadata": {},
     "output_type": "execute_result"
    }
   ],
   "source": [
    "tp_inds"
   ]
  },
  {
   "cell_type": "code",
   "execution_count": 84,
   "metadata": {},
   "outputs": [
    {
     "data": {
      "text/plain": [
       "array([[  4.59905321, 270.10897424],\n",
       "       [  4.20060421, 235.99601816]])"
      ]
     },
     "execution_count": 84,
     "metadata": {},
     "output_type": "execute_result"
    }
   ],
   "source": [
    "tp_coords.T[tp_inds]"
   ]
  },
  {
   "cell_type": "code",
   "execution_count": 87,
   "metadata": {},
   "outputs": [
    {
     "data": {
      "text/plain": [
       "(array([1, 7], dtype=int64),)"
      ]
     },
     "execution_count": 87,
     "metadata": {},
     "output_type": "execute_result"
    }
   ],
   "source": [
    "tp_inds"
   ]
  },
  {
   "cell_type": "code",
   "execution_count": 88,
   "metadata": {},
   "outputs": [
    {
     "data": {
      "text/plain": [
       "(array([609, 864, 893], dtype=int64),)"
      ]
     },
     "execution_count": 88,
     "metadata": {},
     "output_type": "execute_result"
    }
   ],
   "source": [
    "my_inds"
   ]
  },
  {
   "cell_type": "code",
   "execution_count": 48,
   "metadata": {},
   "outputs": [
    {
     "data": {
      "text/plain": [
       "array([False,  True, False, False, False, False, False, False, False,\n",
       "       False, False, False, False, False, False, False, False, False,\n",
       "       False, False, False, False, False, False, False, False, False,\n",
       "       False, False, False, False, False, False, False, False, False,\n",
       "       False, False, False, False, False, False, False, False, False,\n",
       "       False, False, False, False, False, False, False, False, False,\n",
       "       False, False, False, False, False, False, False, False, False,\n",
       "       False, False, False, False, False, False, False, False, False,\n",
       "       False, False, False, False, False, False, False, False, False,\n",
       "       False, False, False, False, False, False, False, False, False,\n",
       "       False, False, False, False, False, False, False, False, False,\n",
       "       False, False, False, False, False, False, False, False, False,\n",
       "       False, False, False, False, False, False, False, False, False,\n",
       "       False, False, False, False, False, False, False, False, False,\n",
       "       False, False, False, False, False, False, False, False, False,\n",
       "       False, False, False, False, False, False, False, False, False,\n",
       "       False, False, False, False, False, False, False, False, False,\n",
       "       False, False, False, False, False, False, False, False, False,\n",
       "       False, False, False, False, False, False, False, False, False,\n",
       "       False, False, False, False, False, False, False, False, False,\n",
       "       False, False, False, False, False, False, False, False, False,\n",
       "       False, False, False, False, False, False, False, False, False,\n",
       "       False, False, False, False, False, False, False, False, False,\n",
       "       False, False, False, False, False, False, False, False, False,\n",
       "       False, False, False, False, False, False, False, False, False,\n",
       "       False, False, False, False, False, False, False, False, False,\n",
       "       False, False, False, False, False, False, False, False, False,\n",
       "       False, False, False, False, False, False, False, False, False,\n",
       "       False, False, False, False, False, False, False, False, False,\n",
       "       False, False, False, False, False, False, False, False, False,\n",
       "       False, False, False, False, False, False, False, False, False,\n",
       "       False, False, False, False, False, False, False, False, False,\n",
       "       False, False, False, False, False, False, False, False, False,\n",
       "       False, False, False, False, False, False, False, False, False,\n",
       "       False, False, False, False, False, False, False, False, False,\n",
       "       False, False, False, False, False, False, False, False, False,\n",
       "       False, False, False, False, False, False, False, False, False,\n",
       "       False, False, False, False, False, False, False, False, False,\n",
       "       False, False, False, False, False, False, False, False, False,\n",
       "       False, False, False, False, False, False, False, False, False,\n",
       "       False, False, False, False, False, False, False, False, False,\n",
       "       False, False, False, False, False, False, False, False, False,\n",
       "       False, False, False, False, False, False, False, False, False,\n",
       "       False, False, False, False, False, False, False, False, False,\n",
       "       False, False, False, False, False, False, False, False, False,\n",
       "       False, False, False, False, False, False, False, False, False,\n",
       "       False, False, False, False, False, False, False, False, False,\n",
       "       False, False, False, False, False, False, False, False, False,\n",
       "       False, False, False, False, False, False, False, False])"
      ]
     },
     "execution_count": 48,
     "metadata": {},
     "output_type": "execute_result"
    }
   ],
   "source": [
    "np.isinf(my_dists)"
   ]
  },
  {
   "cell_type": "code",
   "execution_count": 9,
   "metadata": {},
   "outputs": [
    {
     "data": {
      "text/plain": [
       "y       31\n",
       "x       31\n",
       "mass    31\n",
       "dtype: int64"
      ]
     },
     "execution_count": 9,
     "metadata": {},
     "output_type": "execute_result"
    }
   ],
   "source": [
    "(my_df.groupby(\"frame\").count() - tp_df.groupby(\"frame\").count()).abs().sum()"
   ]
  },
  {
   "cell_type": "code",
   "execution_count": 11,
   "metadata": {},
   "outputs": [
    {
     "data": {
      "text/plain": [
       "x    2\n",
       "y    2\n",
       "dtype: int64"
      ]
     },
     "execution_count": 11,
     "metadata": {},
     "output_type": "execute_result"
    }
   ],
   "source": [
    "(my_df[[\"x\", \"y\"]] > 511).sum()"
   ]
  },
  {
   "cell_type": "code",
   "execution_count": 10,
   "metadata": {},
   "outputs": [
    {
     "data": {
      "text/plain": [
       "x    4\n",
       "y    1\n",
       "dtype: int64"
      ]
     },
     "execution_count": 10,
     "metadata": {},
     "output_type": "execute_result"
    }
   ],
   "source": [
    "(my_df[[\"x\", \"y\"]] < 0).sum()"
   ]
  },
  {
   "cell_type": "code",
   "execution_count": 11,
   "metadata": {},
   "outputs": [
    {
     "data": {
      "text/html": [
       "<div>\n",
       "<style scoped>\n",
       "    .dataframe tbody tr th:only-of-type {\n",
       "        vertical-align: middle;\n",
       "    }\n",
       "\n",
       "    .dataframe tbody tr th {\n",
       "        vertical-align: top;\n",
       "    }\n",
       "\n",
       "    .dataframe thead th {\n",
       "        text-align: right;\n",
       "    }\n",
       "</style>\n",
       "<table border=\"1\" class=\"dataframe\">\n",
       "  <thead>\n",
       "    <tr style=\"text-align: right;\">\n",
       "      <th></th>\n",
       "      <th>frame</th>\n",
       "      <th>y</th>\n",
       "      <th>x</th>\n",
       "      <th>mass</th>\n",
       "    </tr>\n",
       "  </thead>\n",
       "  <tbody>\n",
       "    <tr>\n",
       "      <th>0</th>\n",
       "      <td>0</td>\n",
       "      <td>8.867070</td>\n",
       "      <td>61.276859</td>\n",
       "      <td>1064.447632</td>\n",
       "    </tr>\n",
       "    <tr>\n",
       "      <th>1</th>\n",
       "      <td>0</td>\n",
       "      <td>9.230811</td>\n",
       "      <td>438.942505</td>\n",
       "      <td>993.463074</td>\n",
       "    </tr>\n",
       "    <tr>\n",
       "      <th>2</th>\n",
       "      <td>0</td>\n",
       "      <td>11.185135</td>\n",
       "      <td>227.674576</td>\n",
       "      <td>701.138489</td>\n",
       "    </tr>\n",
       "    <tr>\n",
       "      <th>3</th>\n",
       "      <td>0</td>\n",
       "      <td>11.741593</td>\n",
       "      <td>349.500702</td>\n",
       "      <td>811.161987</td>\n",
       "    </tr>\n",
       "    <tr>\n",
       "      <th>4</th>\n",
       "      <td>0</td>\n",
       "      <td>11.922229</td>\n",
       "      <td>341.975342</td>\n",
       "      <td>747.229126</td>\n",
       "    </tr>\n",
       "    <tr>\n",
       "      <th>...</th>\n",
       "      <td>...</td>\n",
       "      <td>...</td>\n",
       "      <td>...</td>\n",
       "      <td>...</td>\n",
       "    </tr>\n",
       "    <tr>\n",
       "      <th>644</th>\n",
       "      <td>0</td>\n",
       "      <td>497.107788</td>\n",
       "      <td>190.423584</td>\n",
       "      <td>787.688293</td>\n",
       "    </tr>\n",
       "    <tr>\n",
       "      <th>645</th>\n",
       "      <td>0</td>\n",
       "      <td>496.959900</td>\n",
       "      <td>248.419052</td>\n",
       "      <td>968.822021</td>\n",
       "    </tr>\n",
       "    <tr>\n",
       "      <th>646</th>\n",
       "      <td>0</td>\n",
       "      <td>498.052063</td>\n",
       "      <td>355.679932</td>\n",
       "      <td>802.113403</td>\n",
       "    </tr>\n",
       "    <tr>\n",
       "      <th>647</th>\n",
       "      <td>0</td>\n",
       "      <td>498.293976</td>\n",
       "      <td>392.127533</td>\n",
       "      <td>709.902344</td>\n",
       "    </tr>\n",
       "    <tr>\n",
       "      <th>648</th>\n",
       "      <td>0</td>\n",
       "      <td>499.904846</td>\n",
       "      <td>258.431183</td>\n",
       "      <td>942.124634</td>\n",
       "    </tr>\n",
       "  </tbody>\n",
       "</table>\n",
       "<p>649 rows × 4 columns</p>\n",
       "</div>"
      ],
      "text/plain": [
       "     frame           y           x         mass\n",
       "0        0    8.867070   61.276859  1064.447632\n",
       "1        0    9.230811  438.942505   993.463074\n",
       "2        0   11.185135  227.674576   701.138489\n",
       "3        0   11.741593  349.500702   811.161987\n",
       "4        0   11.922229  341.975342   747.229126\n",
       "..     ...         ...         ...          ...\n",
       "644      0  497.107788  190.423584   787.688293\n",
       "645      0  496.959900  248.419052   968.822021\n",
       "646      0  498.052063  355.679932   802.113403\n",
       "647      0  498.293976  392.127533   709.902344\n",
       "648      0  499.904846  258.431183   942.124634\n",
       "\n",
       "[649 rows x 4 columns]"
      ]
     },
     "execution_count": 11,
     "metadata": {},
     "output_type": "execute_result"
    }
   ],
   "source": [
    "my_df"
   ]
  },
  {
   "cell_type": "code",
   "execution_count": 19,
   "metadata": {},
   "outputs": [
    {
     "data": {
      "text/plain": [
       "array([[-0.99986617],\n",
       "       [-0.99556814],\n",
       "       [-0.94600887],\n",
       "       [-0.75802855],\n",
       "       [-0.60105653],\n",
       "       [-0.75802855],\n",
       "       [-0.94600887],\n",
       "       [-0.99556814],\n",
       "       [-0.99986617]])"
      ]
     },
     "execution_count": 19,
     "metadata": {},
     "output_type": "execute_result"
    }
   ],
   "source": [
    "tp.masks.gaussian_kernel(1, 4)[:, None]"
   ]
  },
  {
   "cell_type": "code",
   "execution_count": 18,
   "metadata": {},
   "outputs": [
    {
     "data": {
      "text/plain": [
       "<matplotlib.image.AxesImage at 0x19f5efa3be0>"
      ]
     },
     "execution_count": 18,
     "metadata": {},
     "output_type": "execute_result"
    },
    {
     "data": {
      "image/png": "[encoded data removed]",
      "text/plain": [
       "<Figure size 640x480 with 1 Axes>"
      ]
     },
     "metadata": {},
     "output_type": "display_data"
    }
   ],
   "source": [
    "plt.imshow(tp.masks.gaussian_kernel(1, 4)[:, None] * tp.masks.gaussian_kernel(1, 4)[None, :])"
   ]
  },
  {
   "cell_type": "code",
   "execution_count": 14,
   "metadata": {},
   "outputs": [
    {
     "data": {
      "text/plain": [
       "<matplotlib.image.AxesImage at 0x19f5ef1f970>"
      ]
     },
     "execution_count": 14,
     "metadata": {},
     "output_type": "execute_result"
    },
    {
     "data": {
      "image/png": "[encoded data removed]",
      "text/plain": [
       "<Figure size 640x480 with 1 Axes>"
      ]
     },
     "metadata": {},
     "output_type": "display_data"
    }
   ],
   "source": [
    "plt.imshow(tp.masks.gaussian_kernel(1, 4)[:, None])"
   ]
  },
  {
   "cell_type": "code",
   "execution_count": 10,
   "metadata": {},
   "outputs": [
    {
     "name": "stdout",
     "output_type": "stream",
     "text": [
      "1151\n",
      "1103\n"
     ]
    }
   ],
   "source": [
    "print(len(my_df))\n",
    "print(len(tp_df))"
   ]
  },
  {
   "cell_type": "code",
   "execution_count": 11,
   "metadata": {},
   "outputs": [],
   "source": []
  },
  {
   "cell_type": "code",
   "execution_count": 12,
   "metadata": {},
   "outputs": [],
   "source": [
    "\n",
    "# my_tree.query_ball_tree(tp_tree, 0.05)"
   ]
  },
  {
   "cell_type": "code",
   "execution_count": 13,
   "metadata": {},
   "outputs": [
    {
     "name": "stdout",
     "output_type": "stream",
     "text": [
      "948\n"
     ]
    }
   ],
   "source": [
    "print((dists != np.inf).sum())\n",
    "dists[dists != np.inf]\n",
    "inds[dists != np.inf]\n",
    "pass"
   ]
  },
  {
   "cell_type": "code",
   "execution_count": 15,
   "metadata": {},
   "outputs": [],
   "source": [
    "it = enumerate(iter(coords(tp_df).T[dists == np.inf]))"
   ]
  },
  {
   "cell_type": "code",
   "execution_count": 16,
   "metadata": {},
   "outputs": [
    {
     "data": {
      "text/plain": [
       "[<matplotlib.lines.Line2D at 0x1faee590850>]"
      ]
     },
     "execution_count": 16,
     "metadata": {},
     "output_type": "execute_result"
    },
    {
     "data": {
      "image/png": "[encoded data removed]",
      "text/plain": [
       "<Figure size 640x480 with 1 Axes>"
      ]
     },
     "metadata": {},
     "output_type": "display_data"
    }
   ],
   "source": []
  },
  {
   "cell_type": "code",
   "execution_count": 14,
   "metadata": {},
   "outputs": [
    {
     "data": {
      "text/plain": [
       "1"
      ]
     },
     "execution_count": 14,
     "metadata": {},
     "output_type": "execute_result"
    }
   ],
   "source": [
    "3//2"
   ]
  },
  {
   "cell_type": "code",
   "execution_count": null,
   "metadata": {},
   "outputs": [
    {
     "data": {
      "text/html": [
       "<div>\n",
       "<style scoped>\n",
       "    .dataframe tbody tr th:only-of-type {\n",
       "        vertical-align: middle;\n",
       "    }\n",
       "\n",
       "    .dataframe tbody tr th {\n",
       "        vertical-align: top;\n",
       "    }\n",
       "\n",
       "    .dataframe thead th {\n",
       "        text-align: right;\n",
       "    }\n",
       "</style>\n",
       "<table border=\"1\" class=\"dataframe\">\n",
       "  <thead>\n",
       "    <tr style=\"text-align: right;\">\n",
       "      <th></th>\n",
       "      <th>y</th>\n",
       "      <th>x</th>\n",
       "      <th>mass</th>\n",
       "    </tr>\n",
       "  </thead>\n",
       "  <tbody>\n",
       "    <tr>\n",
       "      <th>0</th>\n",
       "      <td>4.220573</td>\n",
       "      <td>74.692416</td>\n",
       "      <td>1054.478337</td>\n",
       "    </tr>\n",
       "    <tr>\n",
       "      <th>1</th>\n",
       "      <td>4.599053</td>\n",
       "      <td>270.108974</td>\n",
       "      <td>737.670025</td>\n",
       "    </tr>\n",
       "    <tr>\n",
       "      <th>2</th>\n",
       "      <td>4.623336</td>\n",
       "      <td>494.512906</td>\n",
       "      <td>1009.522685</td>\n",
       "    </tr>\n",
       "    <tr>\n",
       "      <th>3</th>\n",
       "      <td>5.025773</td>\n",
       "      <td>9.336279</td>\n",
       "      <td>922.702762</td>\n",
       "    </tr>\n",
       "    <tr>\n",
       "      <th>4</th>\n",
       "      <td>4.810352</td>\n",
       "      <td>121.785098</td>\n",
       "      <td>638.806371</td>\n",
       "    </tr>\n",
       "    <tr>\n",
       "      <th>...</th>\n",
       "      <td>...</td>\n",
       "      <td>...</td>\n",
       "      <td>...</td>\n",
       "    </tr>\n",
       "    <tr>\n",
       "      <th>1271</th>\n",
       "      <td>506.159615</td>\n",
       "      <td>181.958809</td>\n",
       "      <td>646.392449</td>\n",
       "    </tr>\n",
       "    <tr>\n",
       "      <th>1272</th>\n",
       "      <td>506.280800</td>\n",
       "      <td>214.909562</td>\n",
       "      <td>450.154686</td>\n",
       "    </tr>\n",
       "    <tr>\n",
       "      <th>1273</th>\n",
       "      <td>507.019594</td>\n",
       "      <td>339.288914</td>\n",
       "      <td>534.375697</td>\n",
       "    </tr>\n",
       "    <tr>\n",
       "      <th>1274</th>\n",
       "      <td>506.581047</td>\n",
       "      <td>381.735925</td>\n",
       "      <td>713.557145</td>\n",
       "    </tr>\n",
       "    <tr>\n",
       "      <th>1275</th>\n",
       "      <td>506.674903</td>\n",
       "      <td>439.058906</td>\n",
       "      <td>606.799777</td>\n",
       "    </tr>\n",
       "  </tbody>\n",
       "</table>\n",
       "<p>1276 rows × 3 columns</p>\n",
       "</div>"
      ],
      "text/plain": [
       "               y           x         mass\n",
       "0       4.220573   74.692416  1054.478337\n",
       "1       4.599053  270.108974   737.670025\n",
       "2       4.623336  494.512906  1009.522685\n",
       "3       5.025773    9.336279   922.702762\n",
       "4       4.810352  121.785098   638.806371\n",
       "...          ...         ...          ...\n",
       "1271  506.159615  181.958809   646.392449\n",
       "1272  506.280800  214.909562   450.154686\n",
       "1273  507.019594  339.288914   534.375697\n",
       "1274  506.581047  381.735925   713.557145\n",
       "1275  506.674903  439.058906   606.799777\n",
       "\n",
       "[1276 rows x 3 columns]"
      ]
     },
     "execution_count": 76,
     "metadata": {},
     "output_type": "execute_result"
    }
   ],
   "source": [
    "tp_df"
   ]
  },
  {
   "cell_type": "code",
   "execution_count": null,
   "metadata": {},
   "outputs": [
    {
     "data": {
      "text/plain": [
       "[<matplotlib.lines.Line2D at 0x2a0899b55b0>]"
      ]
     },
     "execution_count": 28,
     "metadata": {},
     "output_type": "execute_result"
    },
    {
     "data": {
      "image/png": "[encoded data removed]",
      "text/plain": [
       "<Figure size 640x480 with 1 Axes>"
      ]
     },
     "metadata": {},
     "output_type": "display_data"
    }
   ],
   "source": [
    "plt.plot(*coords(my_df).T[inds[dists != np.inf]].T, \".\", alpha = 1)\n",
    "plt.plot(*coords(tp_df).T[dists != np.inf].T, \".\", alpha = 1)"
   ]
  },
  {
   "cell_type": "code",
   "execution_count": null,
   "metadata": {},
   "outputs": [],
   "source": [
    "\n"
   ]
  }
 ],
 "metadata": {
  "kernelspec": {
   "display_name": "Python 3.10.4 ('tracking-arm')",
   "language": "python",
   "name": "python3"
  },
  "language_info": {
   "codemirror_mode": {
    "name": "ipython",
    "version": 3
   },
   "file_extension": ".py",
   "mimetype": "text/x-python",
   "name": "python",
   "nbconvert_exporter": "python",
   "pygments_lexer": "ipython3",
   "version": "3.10.4"
  },
  "orig_nbformat": 4,
  "vscode": {
   "interpreter": {
    "hash": "7917279f795d61e8cc63d39f6c43c8efb22c21cc1edf7efde493dfc7c97ec527"
   }
  }
 },
 "nbformat": 4,
 "nbformat_minor": 2
}

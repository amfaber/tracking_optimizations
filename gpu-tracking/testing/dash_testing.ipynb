{
 "cells": [
  {
   "cell_type": "code",
   "execution_count": 3,
   "metadata": {},
   "outputs": [
    {
     "name": "stdout",
     "output_type": "stream",
     "text": [
      "      x  y  color\n",
      "name             \n",
      "a     1  1    red\n",
      "b     2  2   blue\n",
      "c     3  3  green\n",
      "d     4  4  black\n",
      "      x  y  color\n",
      "name             \n",
      "a     2  2    red\n",
      "b     1  1   blue\n",
      "c     3  3  green\n",
      "d     4  4  black\n",
      "      x    y  color\n",
      "name               \n",
      "a     4  4.0    red\n",
      "b     3  3.0   blue\n",
      "c     1  1.0  green\n",
      "d     2  0.8  black\n",
      "      x    y  color\n",
      "name               \n",
      "a     4  4.0    red\n",
      "b     3  3.0   blue\n",
      "d     1  0.8  green\n",
      "c    -1  1.0  black\n"
     ]
    },
    {
     "data": {
      "application/vnd.plotly.v1+json": {
       "config": {
        "plotlyServerURL": "https://plot.ly"
       },
       "data": [
        {
         "marker": {
          "color": [
           "red",
           "blue",
           "green",
           "black"
          ],
          "size": 18,
          "symbol": "circle"
         },
         "mode": "markers",
         "type": "scatter",
         "x": [
          1,
          2,
          3,
          4
         ],
         "y": [
          1,
          2,
          3,
          4
         ]
        }
       ],
       "frames": [
        {
         "data": [
          {
           "marker": {
            "color": [
             "red",
             "blue",
             "green",
             "black"
            ],
            "size": 18,
            "symbol": "circle"
           },
           "mode": "markers",
           "type": "scatter",
           "x": [
            1,
            2,
            3,
            4
           ],
           "y": [
            1,
            2,
            3,
            4
           ]
          }
         ],
         "layout": {
          "annotations": [
           {
            "arrowhead": 7,
            "ax": 0,
            "ay": -40,
            "showarrow": true,
            "text": "TEMP_000",
            "x": 1,
            "xref": "x",
            "y": 1,
            "yref": "y"
           }
          ]
         },
         "name": "0"
        },
        {
         "data": [
          {
           "marker": {
            "color": [
             "red",
             "blue",
             "green",
             "black"
            ],
            "size": 18,
            "symbol": "circle"
           },
           "mode": "markers",
           "type": "scatter",
           "x": [
            2,
            1,
            3,
            4
           ],
           "y": [
            2,
            1,
            3,
            4
           ]
          }
         ],
         "layout": {
          "annotations": [
           {
            "arrowhead": 7,
            "ax": 0,
            "ay": -40,
            "showarrow": true,
            "text": "TEMP_001",
            "x": 1,
            "xref": "x",
            "y": 1,
            "yref": "y"
           }
          ]
         },
         "name": "1"
        },
        {
         "data": [
          {
           "marker": {
            "color": [
             "red",
             "blue",
             "green",
             "black"
            ],
            "size": 18,
            "symbol": "circle"
           },
           "mode": "markers",
           "type": "scatter",
           "x": [
            4,
            3,
            1,
            2
           ],
           "y": [
            4,
            3,
            1,
            0.8
           ]
          }
         ],
         "layout": {
          "annotations": [
           {
            "arrowhead": 7,
            "ax": 0,
            "ay": -40,
            "showarrow": true,
            "text": "TEMP_002",
            "x": 1,
            "xref": "x",
            "y": 1,
            "yref": "y"
           }
          ]
         },
         "name": "2"
        },
        {
         "data": [
          {
           "marker": {
            "color": [
             "red",
             "blue",
             "green",
             "black"
            ],
            "size": 18,
            "symbol": "circle"
           },
           "mode": "markers",
           "type": "scatter",
           "x": [
            4,
            3,
            1,
            -1
           ],
           "y": [
            4,
            3,
            0.8,
            1
           ]
          }
         ],
         "layout": {
          "annotations": [
           {
            "arrowhead": 7,
            "ax": 0,
            "ay": -40,
            "showarrow": true,
            "text": "TEMP_003",
            "x": 1,
            "xref": "x",
            "y": 1,
            "yref": "y"
           }
          ]
         },
         "name": "3"
        }
       ],
       "layout": {
        "font": {
         "color": "black",
         "family": "Arial",
         "size": 20
        },
        "showlegend": true,
        "sliders": [
         {
          "active": 0,
          "currentvalue": {
           "font": {
            "size": 20
           },
           "prefix": "Loop #:",
           "visible": true,
           "xanchor": "right"
          },
          "len": 0.8,
          "pad": {
           "b": 10,
           "t": 50
          },
          "steps": [
           {
            "args": [
             [
              "0"
             ],
             {
              "frame": {
               "duration": 2400,
               "redraw": false
              },
              "mode": "immediate",
              "transition": {
               "duration": 2400
              }
             }
            ],
            "label": "0",
            "method": "animate"
           },
           {
            "args": [
             [
              "1"
             ],
             {
              "frame": {
               "duration": 2400,
               "redraw": false
              },
              "mode": "immediate",
              "transition": {
               "duration": 2400
              }
             }
            ],
            "label": "1",
            "method": "animate"
           },
           {
            "args": [
             [
              "2"
             ],
             {
              "frame": {
               "duration": 2400,
               "redraw": false
              },
              "mode": "immediate",
              "transition": {
               "duration": 2400
              }
             }
            ],
            "label": "2",
            "method": "animate"
           },
           {
            "args": [
             [
              "3"
             ],
             {
              "frame": {
               "duration": 2400,
               "redraw": false
              },
              "mode": "immediate",
              "transition": {
               "duration": 2400
              }
             }
            ],
            "label": "3",
            "method": "animate"
           }
          ],
          "transition": {
           "duration": 2400,
           "easing": "cubic-in-out"
          },
          "x": 0.1,
          "xanchor": "left",
          "y": 0,
          "yanchor": "top"
         }
        ],
        "template": {
         "data": {
          "bar": [
           {
            "error_x": {
             "color": "#2a3f5f"
            },
            "error_y": {
             "color": "#2a3f5f"
            },
            "marker": {
             "line": {
              "color": "#E5ECF6",
              "width": 0.5
             },
             "pattern": {
              "fillmode": "overlay",
              "size": 10,
              "solidity": 0.2
             }
            },
            "type": "bar"
           }
          ],
          "barpolar": [
           {
            "marker": {
             "line": {
              "color": "#E5ECF6",
              "width": 0.5
             },
             "pattern": {
              "fillmode": "overlay",
              "size": 10,
              "solidity": 0.2
             }
            },
            "type": "barpolar"
           }
          ],
          "carpet": [
           {
            "aaxis": {
             "endlinecolor": "#2a3f5f",
             "gridcolor": "white",
             "linecolor": "white",
             "minorgridcolor": "white",
             "startlinecolor": "#2a3f5f"
            },
            "baxis": {
             "endlinecolor": "#2a3f5f",
             "gridcolor": "white",
             "linecolor": "white",
             "minorgridcolor": "white",
             "startlinecolor": "#2a3f5f"
            },
            "type": "carpet"
           }
          ],
          "choropleth": [
           {
            "colorbar": {
             "outlinewidth": 0,
             "ticks": ""
            },
            "type": "choropleth"
           }
          ],
          "contour": [
           {
            "colorbar": {
             "outlinewidth": 0,
             "ticks": ""
            },
            "colorscale": [
             [
              0,
              "#0d0887"
             ],
             [
              0.1111111111111111,
              "#46039f"
             ],
             [
              0.2222222222222222,
              "#7201a8"
             ],
             [
              0.3333333333333333,
              "#9c179e"
             ],
             [
              0.4444444444444444,
              "#bd3786"
             ],
             [
              0.5555555555555556,
              "#d8576b"
             ],
             [
              0.6666666666666666,
              "#ed7953"
             ],
             [
              0.7777777777777778,
              "#fb9f3a"
             ],
             [
              0.8888888888888888,
              "#fdca26"
             ],
             [
              1,
              "#f0f921"
             ]
            ],
            "type": "contour"
           }
          ],
          "contourcarpet": [
           {
            "colorbar": {
             "outlinewidth": 0,
             "ticks": ""
            },
            "type": "contourcarpet"
           }
          ],
          "heatmap": [
           {
            "colorbar": {
             "outlinewidth": 0,
             "ticks": ""
            },
            "colorscale": [
             [
              0,
              "#0d0887"
             ],
             [
              0.1111111111111111,
              "#46039f"
             ],
             [
              0.2222222222222222,
              "#7201a8"
             ],
             [
              0.3333333333333333,
              "#9c179e"
             ],
             [
              0.4444444444444444,
              "#bd3786"
             ],
             [
              0.5555555555555556,
              "#d8576b"
             ],
             [
              0.6666666666666666,
              "#ed7953"
             ],
             [
              0.7777777777777778,
              "#fb9f3a"
             ],
             [
              0.8888888888888888,
              "#fdca26"
             ],
             [
              1,
              "#f0f921"
             ]
            ],
            "type": "heatmap"
           }
          ],
          "heatmapgl": [
           {
            "colorbar": {
             "outlinewidth": 0,
             "ticks": ""
            },
            "colorscale": [
             [
              0,
              "#0d0887"
             ],
             [
              0.1111111111111111,
              "#46039f"
             ],
             [
              0.2222222222222222,
              "#7201a8"
             ],
             [
              0.3333333333333333,
              "#9c179e"
             ],
             [
              0.4444444444444444,
              "#bd3786"
             ],
             [
              0.5555555555555556,
              "#d8576b"
             ],
             [
              0.6666666666666666,
              "#ed7953"
             ],
             [
              0.7777777777777778,
              "#fb9f3a"
             ],
             [
              0.8888888888888888,
              "#fdca26"
             ],
             [
              1,
              "#f0f921"
             ]
            ],
            "type": "heatmapgl"
           }
          ],
          "histogram": [
           {
            "marker": {
             "pattern": {
              "fillmode": "overlay",
              "size": 10,
              "solidity": 0.2
             }
            },
            "type": "histogram"
           }
          ],
          "histogram2d": [
           {
            "colorbar": {
             "outlinewidth": 0,
             "ticks": ""
            },
            "colorscale": [
             [
              0,
              "#0d0887"
             ],
             [
              0.1111111111111111,
              "#46039f"
             ],
             [
              0.2222222222222222,
              "#7201a8"
             ],
             [
              0.3333333333333333,
              "#9c179e"
             ],
             [
              0.4444444444444444,
              "#bd3786"
             ],
             [
              0.5555555555555556,
              "#d8576b"
             ],
             [
              0.6666666666666666,
              "#ed7953"
             ],
             [
              0.7777777777777778,
              "#fb9f3a"
             ],
             [
              0.8888888888888888,
              "#fdca26"
             ],
             [
              1,
              "#f0f921"
             ]
            ],
            "type": "histogram2d"
           }
          ],
          "histogram2dcontour": [
           {
            "colorbar": {
             "outlinewidth": 0,
             "ticks": ""
            },
            "colorscale": [
             [
              0,
              "#0d0887"
             ],
             [
              0.1111111111111111,
              "#46039f"
             ],
             [
              0.2222222222222222,
              "#7201a8"
             ],
             [
              0.3333333333333333,
              "#9c179e"
             ],
             [
              0.4444444444444444,
              "#bd3786"
             ],
             [
              0.5555555555555556,
              "#d8576b"
             ],
             [
              0.6666666666666666,
              "#ed7953"
             ],
             [
              0.7777777777777778,
              "#fb9f3a"
             ],
             [
              0.8888888888888888,
              "#fdca26"
             ],
             [
              1,
              "#f0f921"
             ]
            ],
            "type": "histogram2dcontour"
           }
          ],
          "mesh3d": [
           {
            "colorbar": {
             "outlinewidth": 0,
             "ticks": ""
            },
            "type": "mesh3d"
           }
          ],
          "parcoords": [
           {
            "line": {
             "colorbar": {
              "outlinewidth": 0,
              "ticks": ""
             }
            },
            "type": "parcoords"
           }
          ],
          "pie": [
           {
            "automargin": true,
            "type": "pie"
           }
          ],
          "scatter": [
           {
            "fillpattern": {
             "fillmode": "overlay",
             "size": 10,
             "solidity": 0.2
            },
            "type": "scatter"
           }
          ],
          "scatter3d": [
           {
            "line": {
             "colorbar": {
              "outlinewidth": 0,
              "ticks": ""
             }
            },
            "marker": {
             "colorbar": {
              "outlinewidth": 0,
              "ticks": ""
             }
            },
            "type": "scatter3d"
           }
          ],
          "scattercarpet": [
           {
            "marker": {
             "colorbar": {
              "outlinewidth": 0,
              "ticks": ""
             }
            },
            "type": "scattercarpet"
           }
          ],
          "scattergeo": [
           {
            "marker": {
             "colorbar": {
              "outlinewidth": 0,
              "ticks": ""
             }
            },
            "type": "scattergeo"
           }
          ],
          "scattergl": [
           {
            "marker": {
             "colorbar": {
              "outlinewidth": 0,
              "ticks": ""
             }
            },
            "type": "scattergl"
           }
          ],
          "scattermapbox": [
           {
            "marker": {
             "colorbar": {
              "outlinewidth": 0,
              "ticks": ""
             }
            },
            "type": "scattermapbox"
           }
          ],
          "scatterpolar": [
           {
            "marker": {
             "colorbar": {
              "outlinewidth": 0,
              "ticks": ""
             }
            },
            "type": "scatterpolar"
           }
          ],
          "scatterpolargl": [
           {
            "marker": {
             "colorbar": {
              "outlinewidth": 0,
              "ticks": ""
             }
            },
            "type": "scatterpolargl"
           }
          ],
          "scatterternary": [
           {
            "marker": {
             "colorbar": {
              "outlinewidth": 0,
              "ticks": ""
             }
            },
            "type": "scatterternary"
           }
          ],
          "surface": [
           {
            "colorbar": {
             "outlinewidth": 0,
             "ticks": ""
            },
            "colorscale": [
             [
              0,
              "#0d0887"
             ],
             [
              0.1111111111111111,
              "#46039f"
             ],
             [
              0.2222222222222222,
              "#7201a8"
             ],
             [
              0.3333333333333333,
              "#9c179e"
             ],
             [
              0.4444444444444444,
              "#bd3786"
             ],
             [
              0.5555555555555556,
              "#d8576b"
             ],
             [
              0.6666666666666666,
              "#ed7953"
             ],
             [
              0.7777777777777778,
              "#fb9f3a"
             ],
             [
              0.8888888888888888,
              "#fdca26"
             ],
             [
              1,
              "#f0f921"
             ]
            ],
            "type": "surface"
           }
          ],
          "table": [
           {
            "cells": {
             "fill": {
              "color": "#EBF0F8"
             },
             "line": {
              "color": "white"
             }
            },
            "header": {
             "fill": {
              "color": "#C8D4E3"
             },
             "line": {
              "color": "white"
             }
            },
            "type": "table"
           }
          ]
         },
         "layout": {
          "annotationdefaults": {
           "arrowcolor": "#2a3f5f",
           "arrowhead": 0,
           "arrowwidth": 1
          },
          "autotypenumbers": "strict",
          "coloraxis": {
           "colorbar": {
            "outlinewidth": 0,
            "ticks": ""
           }
          },
          "colorscale": {
           "diverging": [
            [
             0,
             "#8e0152"
            ],
            [
             0.1,
             "#c51b7d"
            ],
            [
             0.2,
             "#de77ae"
            ],
            [
             0.3,
             "#f1b6da"
            ],
            [
             0.4,
             "#fde0ef"
            ],
            [
             0.5,
             "#f7f7f7"
            ],
            [
             0.6,
             "#e6f5d0"
            ],
            [
             0.7,
             "#b8e186"
            ],
            [
             0.8,
             "#7fbc41"
            ],
            [
             0.9,
             "#4d9221"
            ],
            [
             1,
             "#276419"
            ]
           ],
           "sequential": [
            [
             0,
             "#0d0887"
            ],
            [
             0.1111111111111111,
             "#46039f"
            ],
            [
             0.2222222222222222,
             "#7201a8"
            ],
            [
             0.3333333333333333,
             "#9c179e"
            ],
            [
             0.4444444444444444,
             "#bd3786"
            ],
            [
             0.5555555555555556,
             "#d8576b"
            ],
            [
             0.6666666666666666,
             "#ed7953"
            ],
            [
             0.7777777777777778,
             "#fb9f3a"
            ],
            [
             0.8888888888888888,
             "#fdca26"
            ],
            [
             1,
             "#f0f921"
            ]
           ],
           "sequentialminus": [
            [
             0,
             "#0d0887"
            ],
            [
             0.1111111111111111,
             "#46039f"
            ],
            [
             0.2222222222222222,
             "#7201a8"
            ],
            [
             0.3333333333333333,
             "#9c179e"
            ],
            [
             0.4444444444444444,
             "#bd3786"
            ],
            [
             0.5555555555555556,
             "#d8576b"
            ],
            [
             0.6666666666666666,
             "#ed7953"
            ],
            [
             0.7777777777777778,
             "#fb9f3a"
            ],
            [
             0.8888888888888888,
             "#fdca26"
            ],
            [
             1,
             "#f0f921"
            ]
           ]
          },
          "colorway": [
           "#636efa",
           "#EF553B",
           "#00cc96",
           "#ab63fa",
           "#FFA15A",
           "#19d3f3",
           "#FF6692",
           "#B6E880",
           "#FF97FF",
           "#FECB52"
          ],
          "font": {
           "color": "#2a3f5f"
          },
          "geo": {
           "bgcolor": "white",
           "lakecolor": "white",
           "landcolor": "#E5ECF6",
           "showlakes": true,
           "showland": true,
           "subunitcolor": "white"
          },
          "hoverlabel": {
           "align": "left"
          },
          "hovermode": "closest",
          "mapbox": {
           "style": "light"
          },
          "paper_bgcolor": "white",
          "plot_bgcolor": "#E5ECF6",
          "polar": {
           "angularaxis": {
            "gridcolor": "white",
            "linecolor": "white",
            "ticks": ""
           },
           "bgcolor": "#E5ECF6",
           "radialaxis": {
            "gridcolor": "white",
            "linecolor": "white",
            "ticks": ""
           }
          },
          "scene": {
           "xaxis": {
            "backgroundcolor": "#E5ECF6",
            "gridcolor": "white",
            "gridwidth": 2,
            "linecolor": "white",
            "showbackground": true,
            "ticks": "",
            "zerolinecolor": "white"
           },
           "yaxis": {
            "backgroundcolor": "#E5ECF6",
            "gridcolor": "white",
            "gridwidth": 2,
            "linecolor": "white",
            "showbackground": true,
            "ticks": "",
            "zerolinecolor": "white"
           },
           "zaxis": {
            "backgroundcolor": "#E5ECF6",
            "gridcolor": "white",
            "gridwidth": 2,
            "linecolor": "white",
            "showbackground": true,
            "ticks": "",
            "zerolinecolor": "white"
           }
          },
          "shapedefaults": {
           "line": {
            "color": "#2a3f5f"
           }
          },
          "ternary": {
           "aaxis": {
            "gridcolor": "white",
            "linecolor": "white",
            "ticks": ""
           },
           "baxis": {
            "gridcolor": "white",
            "linecolor": "white",
            "ticks": ""
           },
           "bgcolor": "#E5ECF6",
           "caxis": {
            "gridcolor": "white",
            "linecolor": "white",
            "ticks": ""
           }
          },
          "title": {
           "x": 0.05
          },
          "xaxis": {
           "automargin": true,
           "gridcolor": "white",
           "linecolor": "white",
           "ticks": "",
           "title": {
            "standoff": 15
           },
           "zerolinecolor": "white",
           "zerolinewidth": 2
          },
          "yaxis": {
           "automargin": true,
           "gridcolor": "white",
           "linecolor": "white",
           "ticks": "",
           "title": {
            "standoff": 15
           },
           "zerolinecolor": "white",
           "zerolinewidth": 2
          }
         }
        },
        "updatemenus": [
         {
          "buttons": [
           {
            "args": [
             null,
             {
              "frame": {
               "duration": 3000,
               "redraw": false
              },
              "fromcurrent": true,
              "transition": {
               "duration": 2400,
               "easing": "quadratic-in-out"
              }
             }
            ],
            "label": "Play",
            "method": "animate"
           },
           {
            "args": [
             [
              null
             ],
             {
              "frame": {
               "duration": 0,
               "redraw": false
              },
              "mode": "immediate",
              "transition": {
               "duration": 0
              }
             }
            ],
            "label": "Pause",
            "method": "animate"
           }
          ],
          "direction": "left",
          "pad": {
           "r": 10,
           "t": 87
          },
          "showactive": false,
          "type": "buttons",
          "x": 0.1,
          "xanchor": "right",
          "y": 0,
          "yanchor": "top"
         }
        ],
        "xaxis": {
         "autorange": true,
         "linecolor": "black",
         "mirror": true,
         "showgrid": false,
         "showline": true,
         "showticklabels": true,
         "ticks": "",
         "title": {
          "text": "X-axis Title"
         },
         "zeroline": false
        },
        "yaxis": {
         "autorange": true,
         "fixedrange": false,
         "linecolor": "black",
         "mirror": true,
         "showgrid": false,
         "showline": true,
         "showticklabels": true,
         "ticks": "",
         "title": {
          "text": "Y-axis Title"
         },
         "zeroline": true
        }
       }
      }
     },
     "metadata": {},
     "output_type": "display_data"
    }
   ],
   "source": [
    "# ---\n",
    "# jupyter:\n",
    "#   jupytext:\n",
    "#     formats: ipynb,py:light\n",
    "#     text_representation:\n",
    "#       extension: .py\n",
    "#       format_name: light\n",
    "#       format_version: '1.5'\n",
    "#       jupytext_version: 1.4.2\n",
    "#   kernelspec:\n",
    "#     display_name: Python [conda env:PROJ_irox_oer] *\n",
    "#     language: python\n",
    "#     name: conda-env-PROJ_irox_oer-py\n",
    "# ---\n",
    "\n",
    "# # Import Modules\n",
    "\n",
    "# +\n",
    "import os\n",
    "import sys\n",
    "\n",
    "import pandas as pd\n",
    "\n",
    "import plotly.graph_objs as go\n",
    "\n",
    "# #############################################################################\n",
    "# from local_methods import get_sliders_init_dict, get_slider_step_i, get_layout\n",
    "# -\n",
    "\n",
    "# # Methods\n",
    "\n",
    "# +\n",
    "import plotly.graph_objs as go\n",
    "\n",
    "\n",
    "def get_layout(\n",
    "    duration_long=1000 * 2,\n",
    "    duration_short=800 * 2,\n",
    "    ):\n",
    "    \"\"\"\n",
    "    \"\"\"\n",
    "    #| - get_layout\n",
    "\n",
    "    #| - updatemenus\n",
    "    updatemenus = [\n",
    "        {\n",
    "            'buttons': [\n",
    "                {\n",
    "                    'args': [\n",
    "                        None,\n",
    "                        {\n",
    "                            'frame': {\n",
    "                                'duration': duration_long,  # TEMP_DURATION\n",
    "                                'redraw': False,\n",
    "                                },\n",
    "                            'fromcurrent': True,\n",
    "                            'transition': {\n",
    "                                'duration': duration_short,  # TEMP_DURATION\n",
    "                                'easing': 'quadratic-in-out',\n",
    "                                }\n",
    "                            }\n",
    "                        ],\n",
    "                    'label': 'Play',\n",
    "                    'method': 'animate'\n",
    "                    },\n",
    "                {\n",
    "                    'args': [\n",
    "                        [None],\n",
    "                        {\n",
    "                            'frame': {\n",
    "                                'duration': 0,\n",
    "                                'redraw': False,\n",
    "                                },\n",
    "                            'mode': 'immediate',\n",
    "                            'transition': {'duration': 0},\n",
    "                            }\n",
    "                        ],\n",
    "                    'label': 'Pause',\n",
    "                    'method': 'animate'\n",
    "                    }\n",
    "                ],\n",
    "            'direction': 'left',\n",
    "            'pad': {'r': 10, 't': 87},\n",
    "            'showactive': False,\n",
    "            'type': 'buttons',\n",
    "            'x': 0.1,\n",
    "            'xanchor': 'right',\n",
    "            'y': 0,\n",
    "            'yanchor': 'top'\n",
    "            }\n",
    "        ]\n",
    "\n",
    "    #__|\n",
    "\n",
    "    layout = go.Layout(\n",
    "        # title='Material Discovery Training',\n",
    "        showlegend=False,\n",
    "        font=dict(\n",
    "            # family='Courier New, monospace',\n",
    "\n",
    "            family='Arial',\n",
    "            size=20,\n",
    "            color='black'\n",
    "            ),\n",
    "\n",
    "        xaxis={\n",
    "            'title': 'X-axis Title',\n",
    "\n",
    "            # 'range': [0 - 5, len(models_list[0]) + 5],\n",
    "            # 'autorange': False,\n",
    "            'autorange': True,\n",
    "\n",
    "            'showgrid': False,\n",
    "            'zeroline': False,\n",
    "            'showline': True,\n",
    "            'ticks': '',\n",
    "            'showticklabels': True,\n",
    "            'mirror': True,\n",
    "            'linecolor': 'black',\n",
    "\n",
    "            },\n",
    "\n",
    "        yaxis={\n",
    "            'title': 'Y-axis Title',\n",
    "\n",
    "            # 'range': [global_y_min, global_y_max],\n",
    "            # 'range': [-1.5, 2.4],\n",
    "            # 'autorange': False,\n",
    "            'autorange': True,\n",
    "            'fixedrange': False,\n",
    "\n",
    "            'showgrid': False,\n",
    "            'zeroline': True,\n",
    "            'showline': True,\n",
    "            'ticks': '',\n",
    "            'showticklabels': True,\n",
    "            'mirror': True,\n",
    "            'linecolor': 'black',\n",
    "\n",
    "            },\n",
    "\n",
    "        updatemenus=updatemenus,\n",
    "        )\n",
    "\n",
    "    return(layout)\n",
    "    #__|\n",
    "\n",
    "    \n",
    "def get_sliders_init_dict(duration_short):\n",
    "    \"\"\"\n",
    "    \"\"\"\n",
    "    # | - get_sliders_init_dict\n",
    "    sliders_dict = {\n",
    "        # 'active': 0,\n",
    "        'active': 0,\n",
    "        'yanchor': 'top',\n",
    "        'xanchor': 'left',\n",
    "        'currentvalue': {\n",
    "            'font': {'size': 20},\n",
    "            'prefix': 'Loop #:',\n",
    "            'visible': True,\n",
    "            'xanchor': 'right'\n",
    "            },\n",
    "        'transition': {\n",
    "            'duration': duration_short,  # TEMP_DURATION\n",
    "            'easing': 'cubic-in-out'},\n",
    "        'pad': {'b': 10, 't': 50},\n",
    "        'len': 0.8,\n",
    "        'x': 0.1,\n",
    "        'y': 0,\n",
    "        'steps': [],\n",
    "        }\n",
    "\n",
    "    return(sliders_dict)\n",
    "    #__|\n",
    "\n",
    "def get_slider_step_i(i_cnt, duration_short):\n",
    "    \"\"\"\n",
    "    \"\"\"\n",
    "    #| - get_slider_step_i\n",
    "    slider_step_i = {\n",
    "        'args': [\n",
    "            [str(i_cnt)],\n",
    "            {\n",
    "                'frame': {\n",
    "                    'duration': duration_short,  # TEMP_DURATION\n",
    "                    'redraw': False},\n",
    "                'mode': 'immediate',\n",
    "                'transition': {\n",
    "                    'duration': duration_short,  # TEMP_DURATION\n",
    "                    },\n",
    "                },\n",
    "            ],\n",
    "        'label': str(i_cnt),\n",
    "        'method': 'animate',\n",
    "        }\n",
    "\n",
    "    return(slider_step_i)\n",
    "    #__|\n",
    "\n",
    "\n",
    "\n",
    "# -\n",
    "\n",
    "# # Script Inputs\n",
    "\n",
    "duration_long = 1000 * 3\n",
    "duration_short = 800 * 3\n",
    "\n",
    "# # Read Data\n",
    "\n",
    "# +\n",
    "dict_data = {\n",
    "    ('0', 'name'): {0: 'a', 1: 'b', 2: 'c', 3: 'd'},\n",
    "    ('0', 'x'): {0: 1, 1: 2, 2: 3, 3: 4},\n",
    "    ('0', 'y'): {0: 1, 1: 2, 2: 3, 3: 4},\n",
    "    ('0', 'color'): {0: 'red', 1: 'blue', 2: 'green', 3: 'black'},\n",
    "    ('1', 'name'): {0: 'a', 1: 'b', 2: 'c', 3: 'd'},\n",
    "    ('1', 'x'): {0: 2, 1: 1, 2: 3, 3: 4},\n",
    "    ('1', 'y'): {0: 2, 1: 1, 2: 3, 3: 4},\n",
    "    ('1', 'color'): {0: 'red', 1: 'blue', 2: 'green', 3: 'black'},\n",
    "    ('2', 'name'): {0: 'a', 1: 'b', 2: 'c', 3: 'd'},\n",
    "    ('2', 'x'): {0: 4, 1: 3, 2: 1, 3: 2},\n",
    "    ('2', 'y'): {0: 4.0, 1: 3.0, 2: 1.0, 3: 0.8},\n",
    "    ('2', 'color'): {0: 'red', 1: 'blue', 2: 'green', 3: 'black'},\n",
    "    ('3', 'name'): {0: 'a', 1: 'b', 2: 'd', 3: 'c'},\n",
    "    ('3', 'x'): {0: 4, 1: 3, 2: 1, 3: -1},\n",
    "    ('3', 'y'): {0: 4.0, 1: 3.0, 2: 0.8, 3: 1.0},\n",
    "    ('3', 'color'): {0: 'red', 1: 'blue', 2: 'green', 3: 'black'},\n",
    "    }\n",
    "\n",
    "\n",
    "df_data = pd.DataFrame(dict_data)\n",
    "\n",
    "# +\n",
    "# df_data = pd.read_csv(\"data.csv\", header=[0, 1])\n",
    "\n",
    "time_series_indices = list(df_data.columns.levels[0])\n",
    "\n",
    "df_list = []\n",
    "for i in time_series_indices:\n",
    "    df_i = df_data[i]\n",
    "    df_i = df_i.set_index(\"name\")\n",
    "    # df_i = df_i.sort_index()\n",
    "    df_list.append(df_i)\n",
    "\n",
    "\n",
    "# -\n",
    "\n",
    "# # methods | get_traces\n",
    "\n",
    "def get_traces(df):\n",
    "    trace = go.Scatter(\n",
    "        x=df[\"x\"],\n",
    "        y=df[\"y\"],\n",
    "        mode=\"markers\",\n",
    "        marker=dict(\n",
    "            symbol=\"circle\",\n",
    "            color=df[\"color\"],\n",
    "            size=18),\n",
    "        )\n",
    "    data = [trace]\n",
    "\n",
    "    return(data)\n",
    "\n",
    "\n",
    "# +\n",
    "layout_anim = get_layout(\n",
    "    duration_long=duration_long,\n",
    "    duration_short=duration_short)\n",
    "sliders_dict = get_sliders_init_dict(duration_short)\n",
    "\n",
    "frames = []; data = []\n",
    "for i_cnt, df_i in enumerate(df_list):\n",
    "    traces_i = get_traces(df_i)\n",
    "    print(df_i)\n",
    "\n",
    "    # #####################################################\n",
    "    # i_cnt = 0\n",
    "    layout_i = go.Layout(\n",
    "\n",
    "        annotations=[\n",
    "            go.layout.Annotation(\n",
    "                x=df_i.loc[0, \"a\"],\n",
    "                y=df_i.loc[0, \"b\"],\n",
    "                xref=\"x\",\n",
    "                yref=\"y\",\n",
    "                text=\"TEMP_\" + str(i_cnt).zfill(3),\n",
    "                showarrow=True,\n",
    "                arrowhead=7,\n",
    "                ax=0,\n",
    "                ay=-40\n",
    "                )\n",
    "            ],\n",
    "\n",
    "        )\n",
    "    # #####################################################\n",
    "\n",
    "\n",
    "\n",
    "    # #####################################################\n",
    "    if i_cnt == 0: data.extend(traces_i)\n",
    "    data_i = []; data_i.extend(traces_i)\n",
    "    # frame_i = go.Frame(data=data_i, name=str(i_cnt))\n",
    "    frame_i = go.Frame(data=data_i, name=str(i_cnt), layout=layout_i)\n",
    "    frames.append(frame_i)\n",
    "    slider_step_i = get_slider_step_i(i_cnt, duration_short)\n",
    "    sliders_dict['steps'].append(slider_step_i)\n",
    "\n",
    "# +\n",
    "layout_anim[\"showlegend\"] = True\n",
    "\n",
    "fig = go.Figure(\n",
    "    data=data,\n",
    "    layout=layout_anim,\n",
    "    frames=frames)\n",
    "fig['layout']['sliders'] = [sliders_dict]\n",
    "\n",
    "fig.show()"
   ]
  },
  {
   "cell_type": "code",
   "execution_count": null,
   "metadata": {},
   "outputs": [],
   "source": []
  }
 ],
 "metadata": {
  "kernelspec": {
   "display_name": "Python 3.8.13 ('tracking-script')",
   "language": "python",
   "name": "python3"
  },
  "language_info": {
   "codemirror_mode": {
    "name": "ipython",
    "version": 3
   },
   "file_extension": ".py",
   "mimetype": "text/x-python",
   "name": "python",
   "nbconvert_exporter": "python",
   "pygments_lexer": "ipython3",
   "version": "3.8.13"
  },
  "orig_nbformat": 4,
  "vscode": {
   "interpreter": {
    "hash": "3409497d58d6e5264400e5348aa6fd098ba78c0f60b1c52b60052994396a7143"
   }
  }
 },
 "nbformat": 4,
 "nbformat_minor": 2
}

{
 "cells": [
  {
   "cell_type": "code",
   "execution_count": 12,
   "metadata": {},
   "outputs": [],
   "source": [
    "import matplotlib.pyplot as plt\n",
    "import numpy as np\n",
    "from scipy import fft\n",
    "\n",
    "def twiddles(N):\n",
    "    return np.fromfunction(lambda k: np.exp(-2*np.pi*k*1j/N), (N//2,))\n",
    "\n",
    "def inv_DITfft(x):\n",
    "    N = len(x)\n",
    "    assert N & (N-1) == 0\n",
    "    n = N >> 1\n",
    "    w = twiddles(N)\n",
    "    i = N\n",
    "    t = 0\n",
    "    while i > 1:\n",
    "        i >>= 1\n",
    "        t += 1\n",
    "    # permutation = np.array([int(bin(i)[2:].rjust(t, \"0\")[::-1], 2) for i in np.arange(N)])\n",
    "    # x[:] = x[permutation]\n",
    "    for p in range(1, t+1):\n",
    "        l = 1 << p\n",
    "        # l = N >> (p-1)\n",
    "        s = l >> 1\n",
    "        for i in range(n):\n",
    "            k = i // s\n",
    "            u = i % s\n",
    "            Q = (i * (N>>p)) % n\n",
    "            # Q = (i * (1<<(p-1))) % n\n",
    "            upper_butter = k*l + u\n",
    "            lower_butter = k*l + u + s\n",
    "            tau = np.conj(w[Q]) * x[lower_butter]\n",
    "            # lower_value = x[lower_butter]\n",
    "            # upper_value = x[upper_butter]\n",
    "            x[lower_butter] = x[upper_butter] - tau\n",
    "            x[upper_butter] = x[upper_butter] + tau\n",
    "            # if p == 3:\n",
    "            #     print(f\"{i = }\")\n",
    "            #     # print(w[Q])\n",
    "            #     print(f\"{Q = }\")\n",
    "            #     print()\n",
    "    \n",
    "    return x\n",
    "\n",
    "\n",
    "def DIFfft(x):\n",
    "    N = len(x)\n",
    "    assert N & (N-1) == 0\n",
    "    n = N >> 1\n",
    "    w = twiddles(N)\n",
    "    i = N\n",
    "    t = 0\n",
    "    while i > 1:\n",
    "        i >>= 1\n",
    "        t += 1\n",
    "    # permutation = np.array([int(bin(i)[2:].rjust(t, \"0\")[::-1], 2) for i in np.arange(N)])\n",
    "    # x[:] = x[permutation]\n",
    "    for p in range(1, t+1):\n",
    "        # p = \n",
    "        l = N >> (p-1)\n",
    "        s = l >> 1\n",
    "        for i in range(n):\n",
    "            k = i // s\n",
    "            u = i % s\n",
    "            # Q = (i * (N>>p)) % n\n",
    "            Q = (i * (1<<(p-1))) % n\n",
    "            # Q = (i * (s) % n)\n",
    "            upper_butter = k*l + u\n",
    "            lower_butter = k*l + u + s\n",
    "            # tau = w[Q] * x[lower_butter]\n",
    "            lower_value = x[lower_butter]\n",
    "            upper_value = x[upper_butter]\n",
    "            x[upper_butter] = upper_value + lower_value\n",
    "            x[lower_butter] = (upper_value - lower_value) * w[Q]\n",
    "            # if p == 3:\n",
    "            #     print(f\"{i = }\")\n",
    "            #     # print(w[Q])\n",
    "            #     print(f\"{Q = }\")\n",
    "            #     print()\n",
    "    \n",
    "    return x"
   ]
  },
  {
   "cell_type": "code",
   "execution_count": 13,
   "metadata": {},
   "outputs": [],
   "source": [
    "with open(\"out.bin\", \"rb\") as file:\n",
    "    data = np.frombuffer(file.read(), dtype = \"float32\")\n",
    "    # data = data.reshape(256, 256, -1)\n",
    "    data = data.reshape(8, 8, -1)"
   ]
  },
  {
   "cell_type": "code",
   "execution_count": 16,
   "metadata": {},
   "outputs": [
    {
     "data": {
      "text/plain": [
       "<matplotlib.image.AxesImage at 0x1be9f36d070>"
      ]
     },
     "execution_count": 16,
     "metadata": {},
     "output_type": "execute_result"
    },
    {
     "data": {
      "image/png": "[encoded data removed]",
      "text/plain": [
       "<Figure size 640x480 with 1 Axes>"
      ]
     },
     "metadata": {},
     "output_type": "display_data"
    }
   ],
   "source": [
    "plt.imshow(data[:, :, 0])"
   ]
  },
  {
   "cell_type": "code",
   "execution_count": 342,
   "metadata": {},
   "outputs": [
    {
     "data": {
      "text/plain": [
       "array([[28.        ,  0.        ],\n",
       "       [-4.        ,  0.        ],\n",
       "       [-4.        ,  4.        ],\n",
       "       [-4.        , -4.        ],\n",
       "       [-4.        ,  9.65685425],\n",
       "       [-4.        , -1.65685425],\n",
       "       [-4.        ,  1.65685425],\n",
       "       [-4.        , -9.65685425]])"
      ]
     },
     "execution_count": 342,
     "metadata": {},
     "output_type": "execute_result"
    }
   ],
   "source": [
    "res = DIFfft(np.arange(8, dtype = \"complex\"))\n",
    "# res = inv_DITfft(res)\n",
    "np.stack((np.real(res), np.imag(res)), axis = 1)"
   ]
  },
  {
   "cell_type": "code",
   "execution_count": 376,
   "metadata": {},
   "outputs": [
    {
     "data": {
      "text/plain": [
       "<matplotlib.image.AxesImage at 0x2b2dbb4dca0>"
      ]
     },
     "execution_count": 376,
     "metadata": {},
     "output_type": "execute_result"
    },
    {
     "data": {
      "image/png": "[encoded data removed]",
      "text/plain": [
       "<Figure size 640x480 with 1 Axes>"
      ]
     },
     "metadata": {},
     "output_type": "display_data"
    }
   ],
   "source": [
    "plt.imshow(np.arange(8*8).reshape(8, 8))"
   ]
  },
  {
   "cell_type": "code",
   "execution_count": 436,
   "metadata": {},
   "outputs": [],
   "source": [
    "# %%timeit\n",
    "for i in range(100):\n",
    "    res = fft.fft2(np.arange(512*512).reshape(512, 512))\n",
    "    ires = fft.ifft2(res)\n",
    "# np.stack((np.real(res), np.imag(res)), axis = 1)"
   ]
  },
  {
   "cell_type": "code",
   "execution_count": 429,
   "metadata": {},
   "outputs": [
    {
     "data": {
      "text/plain": [
       "array([[     0,      1,      2, ...,    509,    510,    511],\n",
       "       [   512,    513,    514, ...,   1021,   1022,   1023],\n",
       "       [  1023,   1024,   1025, ...,   1532,   1533,   1534],\n",
       "       ...,\n",
       "       [260608, 260609, 260610, ..., 261117, 261118, 261119],\n",
       "       [261120, 261121, 261122, ..., 261629, 261630, 261631],\n",
       "       [261632, 261633, 261634, ..., 262141, 262142, 262143]])"
      ]
     },
     "execution_count": 429,
     "metadata": {},
     "output_type": "execute_result"
    }
   ],
   "source": [
    "np.real(ires).astype(int)"
   ]
  },
  {
   "cell_type": "code",
   "execution_count": 407,
   "metadata": {},
   "outputs": [
    {
     "data": {
      "text/plain": [
       "<matplotlib.image.AxesImage at 0x2b2dbe91670>"
      ]
     },
     "execution_count": 407,
     "metadata": {},
     "output_type": "execute_result"
    },
    {
     "data": {
      "image/png": "[encoded data removed]",
      "text/plain": [
       "<Figure size 640x480 with 1 Axes>"
      ]
     },
     "metadata": {},
     "output_type": "display_data"
    }
   ],
   "source": [
    "plt.imshow(np.imag(res))"
   ]
  },
  {
   "cell_type": "code",
   "execution_count": 29,
   "metadata": {},
   "outputs": [
    {
     "data": {
      "text/plain": [
       "array([[43., 43., 43., 43., 43., 43., 43., 43.],\n",
       "       [43., 43., 43., 43., 43., 43., 43., 43.],\n",
       "       [43., 43., 43., 43., 43., 43., 43., 43.],\n",
       "       [43., 43., 43., 43., 43., 43., 43., 43.],\n",
       "       [ 5.,  5.,  5.,  5.,  5.,  5.,  5.,  5.],\n",
       "       [ 5.,  5.,  5.,  5.,  5.,  5.,  5.,  5.],\n",
       "       [ 5.,  5.,  5.,  5.,  5.,  5.,  5.,  5.],\n",
       "       [ 5.,  5.,  5.,  5.,  5.,  5.,  5.,  5.]], dtype=float32)"
      ]
     },
     "execution_count": 29,
     "metadata": {},
     "output_type": "execute_result"
    }
   ],
   "source": [
    "data[:, :, 1]"
   ]
  },
  {
   "cell_type": "code",
   "execution_count": 90,
   "metadata": {},
   "outputs": [
    {
     "data": {
      "text/plain": [
       "<matplotlib.image.AxesImage at 0x208336587c0>"
      ]
     },
     "execution_count": 90,
     "metadata": {},
     "output_type": "execute_result"
    },
    {
     "data": {
      "image/png": "[encoded data removed]",
      "text/plain": [
       "<Figure size 640x480 with 1 Axes>"
      ]
     },
     "metadata": {},
     "output_type": "display_data"
    }
   ],
   "source": [
    "plt.imshow(data[:, :, 1])"
   ]
  },
  {
   "cell_type": "code",
   "execution_count": 152,
   "metadata": {},
   "outputs": [
    {
     "data": {
      "text/plain": [
       "array([[2.1474509e+09, 2.6702438e+06, 1.3352225e+06, ..., 8.9026000e+05,\n",
       "        1.3352225e+06, 2.6702438e+06],\n",
       "       [6.8358246e+08, 0.0000000e+00, 0.0000000e+00, ..., 0.0000000e+00,\n",
       "        0.0000000e+00, 0.0000000e+00],\n",
       "       [3.4181693e+08, 0.0000000e+00, 0.0000000e+00, ..., 0.0000000e+00,\n",
       "        0.0000000e+00, 0.0000000e+00],\n",
       "       ...,\n",
       "       [2.2790658e+08, 0.0000000e+00, 0.0000000e+00, ..., 0.0000000e+00,\n",
       "        0.0000000e+00, 0.0000000e+00],\n",
       "       [3.4181693e+08, 0.0000000e+00, 0.0000000e+00, ..., 0.0000000e+00,\n",
       "        0.0000000e+00, 0.0000000e+00],\n",
       "       [6.8358246e+08, 0.0000000e+00, 0.0000000e+00, ..., 0.0000000e+00,\n",
       "        0.0000000e+00, 0.0000000e+00]], dtype=float32)"
      ]
     },
     "execution_count": 152,
     "metadata": {},
     "output_type": "execute_result"
    }
   ],
   "source": [
    "np.abs(fft.fft2(data[:, :, 0]))"
   ]
  },
  {
   "cell_type": "code",
   "execution_count": 151,
   "metadata": {},
   "outputs": [
    {
     "data": {
      "text/plain": [
       "<matplotlib.image.AxesImage at 0x1eec2424cd0>"
      ]
     },
     "execution_count": 151,
     "metadata": {},
     "output_type": "execute_result"
    },
    {
     "data": {
      "image/png": "[encoded data removed]",
      "text/plain": [
       "<Figure size 640x480 with 1 Axes>"
      ]
     },
     "metadata": {},
     "output_type": "display_data"
    }
   ],
   "source": [
    "plt.imshow(np.abs(fft.fft2(data[:, :, 0])), vmin = 0, vmax = 1)"
   ]
  },
  {
   "cell_type": "code",
   "execution_count": null,
   "metadata": {},
   "outputs": [],
   "source": []
  },
  {
   "cell_type": "code",
   "execution_count": 47,
   "metadata": {},
   "outputs": [
    {
     "data": {
      "text/plain": [
       "array([256., 257., 258., 259., 260., 261., 262., 263., 264., 265., 266.,\n",
       "       267., 268., 269., 270., 271., 272., 273., 274., 275., 276., 277.,\n",
       "       278., 279., 280., 281., 282., 283., 284., 285., 286., 287., 288.,\n",
       "       289., 290., 291., 292., 293., 294., 295., 296., 297., 298., 299.,\n",
       "       300., 301., 302., 303., 304., 305., 306., 307., 308., 309., 310.,\n",
       "       311., 312., 313., 314., 315., 316., 317., 318., 319., 320., 321.,\n",
       "       322., 323., 324., 325., 326., 327., 328., 329., 330., 331., 332.,\n",
       "       333., 334., 335., 336., 337., 338., 339., 340., 341., 342., 343.,\n",
       "       344., 345., 346., 347., 348., 349., 350., 351., 352., 353., 354.,\n",
       "       355., 356., 357., 358., 359., 360., 361., 362., 363., 364., 365.,\n",
       "       366., 367., 368., 369., 370., 371., 372., 373., 374., 375., 376.,\n",
       "       377., 378., 379., 380., 381., 382., 383., 384., 385., 386., 387.,\n",
       "       388., 389., 390., 391., 392., 393., 394., 395., 396., 397., 398.,\n",
       "       399., 400., 401., 402., 403., 404., 405., 406., 407., 408., 409.,\n",
       "       410., 411., 412., 413., 414., 415., 416., 417., 418., 419., 420.,\n",
       "       421., 422., 423., 424., 425., 426., 427., 428., 429., 430., 431.,\n",
       "       432., 433., 434., 435., 436., 437., 438., 439., 440., 441., 442.,\n",
       "       443., 444., 445., 446., 447., 448., 449., 450., 451., 452., 453.,\n",
       "       454., 455., 456., 457., 458., 459., 460., 461., 462., 463., 464.,\n",
       "       465., 466., 467., 468., 469., 470., 471., 472., 473., 474., 475.,\n",
       "       476., 477., 478., 479., 480., 481., 482., 483., 484., 485., 486.,\n",
       "       487., 488., 489., 490., 491., 492., 493., 494., 495., 496., 497.,\n",
       "       498., 499., 500., 501., 502., 503., 504., 505., 506., 507., 508.,\n",
       "       509., 510., 511.], dtype=float32)"
      ]
     },
     "execution_count": 47,
     "metadata": {},
     "output_type": "execute_result"
    }
   ],
   "source": [
    "data[1, :, 0]"
   ]
  },
  {
   "cell_type": "code",
   "execution_count": null,
   "metadata": {},
   "outputs": [],
   "source": []
  }
 ],
 "metadata": {
  "kernelspec": {
   "display_name": "Python 3.8.13 ('tracking-script')",
   "language": "python",
   "name": "python3"
  },
  "language_info": {
   "codemirror_mode": {
    "name": "ipython",
    "version": 3
   },
   "file_extension": ".py",
   "mimetype": "text/x-python",
   "name": "python",
   "nbconvert_exporter": "python",
   "pygments_lexer": "ipython3",
   "version": "3.8.13"
  },
  "orig_nbformat": 4,
  "vscode": {
   "interpreter": {
    "hash": "3409497d58d6e5264400e5348aa6fd098ba78c0f60b1c52b60052994396a7143"
   }
  }
 },
 "nbformat": 4,
 "nbformat_minor": 2
}

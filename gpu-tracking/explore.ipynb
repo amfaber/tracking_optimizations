{
 "cells": [
  {
   "cell_type": "code",
   "execution_count": 1,
   "metadata": {},
   "outputs": [
    {
     "ename": "ValueError",
     "evalue": "cannot reshape array of size 66467664 into shape (2,512,512)",
     "output_type": "error",
     "traceback": [
      "\u001b[0;31m---------------------------------------------------------------------------\u001b[0m",
      "\u001b[0;31mValueError\u001b[0m                                Traceback (most recent call last)",
      "Cell \u001b[0;32mIn [1], line 17\u001b[0m\n\u001b[1;32m     15\u001b[0m \u001b[38;5;28;01mwith\u001b[39;00m \u001b[38;5;28mopen\u001b[39m(\u001b[38;5;124m\"\u001b[39m\u001b[38;5;124mtest\u001b[39m\u001b[38;5;124m\"\u001b[39m, \u001b[38;5;124m\"\u001b[39m\u001b[38;5;124mrb\u001b[39m\u001b[38;5;124m\"\u001b[39m) \u001b[38;5;28;01mas\u001b[39;00m file:\n\u001b[1;32m     16\u001b[0m     data \u001b[38;5;241m=\u001b[39m file\u001b[38;5;241m.\u001b[39mread()\n\u001b[0;32m---> 17\u001b[0m centers \u001b[38;5;241m=\u001b[39m np\u001b[38;5;241m.\u001b[39mfrombuffer(data, dtype \u001b[38;5;241m=\u001b[39m \u001b[38;5;124m\"\u001b[39m\u001b[38;5;124mfloat32\u001b[39m\u001b[38;5;124m\"\u001b[39m)\u001b[38;5;241m.\u001b[39mreshape(\u001b[38;5;241m2\u001b[39m, \u001b[38;5;241m512\u001b[39m, \u001b[38;5;241m512\u001b[39m)\n\u001b[1;32m     18\u001b[0m \u001b[38;5;28;01mwith\u001b[39;00m \u001b[38;5;28mopen\u001b[39m(\u001b[38;5;124m\"\u001b[39m\u001b[38;5;124mtp_processed.pkl\u001b[39m\u001b[38;5;124m\"\u001b[39m, \u001b[38;5;124m\"\u001b[39m\u001b[38;5;124mrb\u001b[39m\u001b[38;5;124m\"\u001b[39m) \u001b[38;5;28;01mas\u001b[39;00m file:\n\u001b[1;32m     19\u001b[0m     tp_processed \u001b[38;5;241m=\u001b[39m pickle\u001b[38;5;241m.\u001b[39mload(file)\u001b[38;5;241m.\u001b[39mastype(\u001b[38;5;124m\"\u001b[39m\u001b[38;5;124mfloat32\u001b[39m\u001b[38;5;124m\"\u001b[39m)\n",
      "\u001b[0;31mValueError\u001b[0m: cannot reshape array of size 66467664 into shape (2,512,512)"
     ]
    }
   ],
   "source": [
    "import numpy as np\n",
    "import pickle\n",
    "# test = np.frombuffer(data, dtype = \"float32\")\n",
    "import matplotlib.pyplot as plt\n",
    "import gpu_tracking\n",
    "import tifffile\n",
    "import pandas as pd\n",
    "import trackpy as tp\n",
    "arr = tifffile.imread(\"../emily_tracking/sample_vids/s_20.tif\", key = 0).astype(\"float32\")[None, ...]\n",
    "coords = lambda df: df[[\"y\", \"x\"]].to_numpy().T\n",
    "from scipy.spatial import KDTree\n",
    "with open(\"mine_processed\", \"rb\") as file:\n",
    "    data = file.read()\n",
    "processed = np.frombuffer(data, dtype = \"float32\").reshape(2, 512, 512)[0]\n",
    "with open(\"test\", \"rb\") as file:\n",
    "    data = file.read()\n",
    "centers = np.frombuffer(data, dtype = \"float32\").reshape(2, 512, 512)\n",
    "with open(\"tp_processed.pkl\", \"rb\") as file:\n",
    "    tp_processed = pickle.load(file).astype(\"float32\")\n",
    "with open(\"inp\", \"rb\") as file:\n",
    "    data = file.read()\n",
    "frame = np.frombuffer(data, dtype = \"float32\").reshape(512, 512)\n",
    "from scipy.ndimage import grey_dilation\n",
    "import scipy.fft as fft"
   ]
  },
  {
   "cell_type": "code",
   "execution_count": 2,
   "metadata": {},
   "outputs": [],
   "source": [
    "from scipy.signal import convolve\n",
    "import scipy.signal as sgn"
   ]
  },
  {
   "cell_type": "code",
   "execution_count": 5,
   "metadata": {},
   "outputs": [
    {
     "name": "stdout",
     "output_type": "stream",
     "text": [
      "Frame 0: 929 features\n"
     ]
    }
   ],
   "source": [
    "# with open(\"trackpy_reference/locations.pkl\", \"rb\") as file:\n",
    "#     tp_df = pickle.load(file)\n",
    "diameter = 9\n",
    "minmass = 0\n",
    "separation = 10\n",
    "my_df = pd.DataFrame(gpu_tracking.batch(arr[0:1], diameter, minmass = minmass, separation = separation), columns = [\"frame\", \"mass\", \"y\", \"x\"])\n",
    "my_df = my_df.astype({\"frame\": int})[[\"frame\", \"y\", \"x\", \"mass\"]]\n",
    "\n",
    "tp_df = tp.batch(arr, diameter, threshold = 0, percentile = 0, minmass = minmass, characterize = False, separation = separation)\n",
    "\n",
    "my_tree = KDTree(coords(my_df).T)\n",
    "tp_tree = KDTree(coords(tp_df).T)\n",
    "dists, inds = my_tree.query(coords(tp_df).T, distance_upper_bound = 0.01)"
   ]
  },
  {
   "cell_type": "code",
   "execution_count": 6,
   "metadata": {},
   "outputs": [
    {
     "data": {
      "text/html": [
       "<div>\n",
       "<style scoped>\n",
       "    .dataframe tbody tr th:only-of-type {\n",
       "        vertical-align: middle;\n",
       "    }\n",
       "\n",
       "    .dataframe tbody tr th {\n",
       "        vertical-align: top;\n",
       "    }\n",
       "\n",
       "    .dataframe thead th {\n",
       "        text-align: right;\n",
       "    }\n",
       "</style>\n",
       "<table border=\"1\" class=\"dataframe\">\n",
       "  <thead>\n",
       "    <tr style=\"text-align: right;\">\n",
       "      <th></th>\n",
       "      <th>frame</th>\n",
       "      <th>y</th>\n",
       "      <th>x</th>\n",
       "      <th>mass</th>\n",
       "    </tr>\n",
       "  </thead>\n",
       "  <tbody>\n",
       "    <tr>\n",
       "      <th>0</th>\n",
       "      <td>0</td>\n",
       "      <td>8.867070</td>\n",
       "      <td>61.276859</td>\n",
       "      <td>1064.447632</td>\n",
       "    </tr>\n",
       "    <tr>\n",
       "      <th>1</th>\n",
       "      <td>0</td>\n",
       "      <td>9.230811</td>\n",
       "      <td>438.942505</td>\n",
       "      <td>993.463074</td>\n",
       "    </tr>\n",
       "    <tr>\n",
       "      <th>2</th>\n",
       "      <td>0</td>\n",
       "      <td>9.744718</td>\n",
       "      <td>447.681702</td>\n",
       "      <td>677.319092</td>\n",
       "    </tr>\n",
       "    <tr>\n",
       "      <th>3</th>\n",
       "      <td>0</td>\n",
       "      <td>11.185135</td>\n",
       "      <td>227.674576</td>\n",
       "      <td>701.138489</td>\n",
       "    </tr>\n",
       "    <tr>\n",
       "      <th>4</th>\n",
       "      <td>0</td>\n",
       "      <td>10.446445</td>\n",
       "      <td>301.558044</td>\n",
       "      <td>608.553589</td>\n",
       "    </tr>\n",
       "    <tr>\n",
       "      <th>...</th>\n",
       "      <td>...</td>\n",
       "      <td>...</td>\n",
       "      <td>...</td>\n",
       "      <td>...</td>\n",
       "    </tr>\n",
       "    <tr>\n",
       "      <th>1206</th>\n",
       "      <td>0</td>\n",
       "      <td>498.052063</td>\n",
       "      <td>355.679932</td>\n",
       "      <td>802.113403</td>\n",
       "    </tr>\n",
       "    <tr>\n",
       "      <th>1207</th>\n",
       "      <td>0</td>\n",
       "      <td>498.293976</td>\n",
       "      <td>392.127533</td>\n",
       "      <td>709.902344</td>\n",
       "    </tr>\n",
       "    <tr>\n",
       "      <th>1208</th>\n",
       "      <td>0</td>\n",
       "      <td>500.146667</td>\n",
       "      <td>210.242081</td>\n",
       "      <td>408.125580</td>\n",
       "    </tr>\n",
       "    <tr>\n",
       "      <th>1209</th>\n",
       "      <td>0</td>\n",
       "      <td>499.469330</td>\n",
       "      <td>229.105042</td>\n",
       "      <td>464.342804</td>\n",
       "    </tr>\n",
       "    <tr>\n",
       "      <th>1210</th>\n",
       "      <td>0</td>\n",
       "      <td>499.904846</td>\n",
       "      <td>258.431183</td>\n",
       "      <td>942.124634</td>\n",
       "    </tr>\n",
       "  </tbody>\n",
       "</table>\n",
       "<p>1211 rows × 4 columns</p>\n",
       "</div>"
      ],
      "text/plain": [
       "      frame           y           x         mass\n",
       "0         0    8.867070   61.276859  1064.447632\n",
       "1         0    9.230811  438.942505   993.463074\n",
       "2         0    9.744718  447.681702   677.319092\n",
       "3         0   11.185135  227.674576   701.138489\n",
       "4         0   10.446445  301.558044   608.553589\n",
       "...     ...         ...         ...          ...\n",
       "1206      0  498.052063  355.679932   802.113403\n",
       "1207      0  498.293976  392.127533   709.902344\n",
       "1208      0  500.146667  210.242081   408.125580\n",
       "1209      0  499.469330  229.105042   464.342804\n",
       "1210      0  499.904846  258.431183   942.124634\n",
       "\n",
       "[1211 rows x 4 columns]"
      ]
     },
     "execution_count": 6,
     "metadata": {},
     "output_type": "execute_result"
    }
   ],
   "source": [
    "my_df"
   ]
  },
  {
   "cell_type": "code",
   "execution_count": 7,
   "metadata": {},
   "outputs": [
    {
     "data": {
      "text/html": [
       "<div>\n",
       "<style scoped>\n",
       "    .dataframe tbody tr th:only-of-type {\n",
       "        vertical-align: middle;\n",
       "    }\n",
       "\n",
       "    .dataframe tbody tr th {\n",
       "        vertical-align: top;\n",
       "    }\n",
       "\n",
       "    .dataframe thead th {\n",
       "        text-align: right;\n",
       "    }\n",
       "</style>\n",
       "<table border=\"1\" class=\"dataframe\">\n",
       "  <thead>\n",
       "    <tr style=\"text-align: right;\">\n",
       "      <th></th>\n",
       "      <th>y</th>\n",
       "      <th>x</th>\n",
       "      <th>mass</th>\n",
       "      <th>frame</th>\n",
       "    </tr>\n",
       "  </thead>\n",
       "  <tbody>\n",
       "    <tr>\n",
       "      <th>0</th>\n",
       "      <td>4.215499</td>\n",
       "      <td>74.683652</td>\n",
       "      <td>1037.041907</td>\n",
       "      <td>0</td>\n",
       "    </tr>\n",
       "    <tr>\n",
       "      <th>1</th>\n",
       "      <td>4.600000</td>\n",
       "      <td>270.109091</td>\n",
       "      <td>726.589871</td>\n",
       "      <td>0</td>\n",
       "    </tr>\n",
       "    <tr>\n",
       "      <th>2</th>\n",
       "      <td>4.206278</td>\n",
       "      <td>280.707025</td>\n",
       "      <td>736.497915</td>\n",
       "      <td>0</td>\n",
       "    </tr>\n",
       "    <tr>\n",
       "      <th>3</th>\n",
       "      <td>4.515483</td>\n",
       "      <td>410.471767</td>\n",
       "      <td>604.390666</td>\n",
       "      <td>0</td>\n",
       "    </tr>\n",
       "    <tr>\n",
       "      <th>4</th>\n",
       "      <td>4.617257</td>\n",
       "      <td>494.506637</td>\n",
       "      <td>995.207945</td>\n",
       "      <td>0</td>\n",
       "    </tr>\n",
       "    <tr>\n",
       "      <th>...</th>\n",
       "      <td>...</td>\n",
       "      <td>...</td>\n",
       "      <td>...</td>\n",
       "      <td>...</td>\n",
       "    </tr>\n",
       "    <tr>\n",
       "      <th>924</th>\n",
       "      <td>506.169284</td>\n",
       "      <td>181.959860</td>\n",
       "      <td>630.812116</td>\n",
       "      <td>0</td>\n",
       "    </tr>\n",
       "    <tr>\n",
       "      <th>925</th>\n",
       "      <td>506.290404</td>\n",
       "      <td>214.916667</td>\n",
       "      <td>435.953923</td>\n",
       "      <td>0</td>\n",
       "    </tr>\n",
       "    <tr>\n",
       "      <th>926</th>\n",
       "      <td>507.021053</td>\n",
       "      <td>339.286316</td>\n",
       "      <td>522.924529</td>\n",
       "      <td>0</td>\n",
       "    </tr>\n",
       "    <tr>\n",
       "      <th>927</th>\n",
       "      <td>506.582677</td>\n",
       "      <td>381.733858</td>\n",
       "      <td>699.067528</td>\n",
       "      <td>0</td>\n",
       "    </tr>\n",
       "    <tr>\n",
       "      <th>928</th>\n",
       "      <td>506.678439</td>\n",
       "      <td>439.046468</td>\n",
       "      <td>592.280834</td>\n",
       "      <td>0</td>\n",
       "    </tr>\n",
       "  </tbody>\n",
       "</table>\n",
       "<p>929 rows × 4 columns</p>\n",
       "</div>"
      ],
      "text/plain": [
       "              y           x         mass  frame\n",
       "0      4.215499   74.683652  1037.041907      0\n",
       "1      4.600000  270.109091   726.589871      0\n",
       "2      4.206278  280.707025   736.497915      0\n",
       "3      4.515483  410.471767   604.390666      0\n",
       "4      4.617257  494.506637   995.207945      0\n",
       "..          ...         ...          ...    ...\n",
       "924  506.169284  181.959860   630.812116      0\n",
       "925  506.290404  214.916667   435.953923      0\n",
       "926  507.021053  339.286316   522.924529      0\n",
       "927  506.582677  381.733858   699.067528      0\n",
       "928  506.678439  439.046468   592.280834      0\n",
       "\n",
       "[929 rows x 4 columns]"
      ]
     },
     "execution_count": 7,
     "metadata": {},
     "output_type": "execute_result"
    }
   ],
   "source": [
    "tp_df.sort_index()"
   ]
  },
  {
   "cell_type": "code",
   "execution_count": 16,
   "metadata": {},
   "outputs": [
    {
     "data": {
      "text/html": [
       "<div>\n",
       "<style scoped>\n",
       "    .dataframe tbody tr th:only-of-type {\n",
       "        vertical-align: middle;\n",
       "    }\n",
       "\n",
       "    .dataframe tbody tr th {\n",
       "        vertical-align: top;\n",
       "    }\n",
       "\n",
       "    .dataframe thead th {\n",
       "        text-align: right;\n",
       "    }\n",
       "</style>\n",
       "<table border=\"1\" class=\"dataframe\">\n",
       "  <thead>\n",
       "    <tr style=\"text-align: right;\">\n",
       "      <th></th>\n",
       "      <th>frame</th>\n",
       "      <th>y</th>\n",
       "      <th>x</th>\n",
       "      <th>mass</th>\n",
       "    </tr>\n",
       "  </thead>\n",
       "  <tbody>\n",
       "    <tr>\n",
       "      <th>0</th>\n",
       "      <td>0</td>\n",
       "      <td>11.741593</td>\n",
       "      <td>349.500702</td>\n",
       "      <td>811.161987</td>\n",
       "    </tr>\n",
       "    <tr>\n",
       "      <th>1</th>\n",
       "      <td>0</td>\n",
       "      <td>14.005610</td>\n",
       "      <td>284.227325</td>\n",
       "      <td>810.648804</td>\n",
       "    </tr>\n",
       "    <tr>\n",
       "      <th>2</th>\n",
       "      <td>0</td>\n",
       "      <td>13.710928</td>\n",
       "      <td>376.465485</td>\n",
       "      <td>814.466736</td>\n",
       "    </tr>\n",
       "    <tr>\n",
       "      <th>3</th>\n",
       "      <td>0</td>\n",
       "      <td>14.130193</td>\n",
       "      <td>427.918549</td>\n",
       "      <td>1070.288818</td>\n",
       "    </tr>\n",
       "    <tr>\n",
       "      <th>4</th>\n",
       "      <td>0</td>\n",
       "      <td>15.548744</td>\n",
       "      <td>193.997162</td>\n",
       "      <td>801.707275</td>\n",
       "    </tr>\n",
       "    <tr>\n",
       "      <th>...</th>\n",
       "      <td>...</td>\n",
       "      <td>...</td>\n",
       "      <td>...</td>\n",
       "      <td>...</td>\n",
       "    </tr>\n",
       "    <tr>\n",
       "      <th>398</th>\n",
       "      <td>0</td>\n",
       "      <td>493.845276</td>\n",
       "      <td>113.964684</td>\n",
       "      <td>1142.747192</td>\n",
       "    </tr>\n",
       "    <tr>\n",
       "      <th>399</th>\n",
       "      <td>0</td>\n",
       "      <td>494.058777</td>\n",
       "      <td>221.137192</td>\n",
       "      <td>828.158325</td>\n",
       "    </tr>\n",
       "    <tr>\n",
       "      <th>400</th>\n",
       "      <td>0</td>\n",
       "      <td>496.959900</td>\n",
       "      <td>248.419052</td>\n",
       "      <td>968.822021</td>\n",
       "    </tr>\n",
       "    <tr>\n",
       "      <th>401</th>\n",
       "      <td>0</td>\n",
       "      <td>498.052063</td>\n",
       "      <td>355.679932</td>\n",
       "      <td>802.113403</td>\n",
       "    </tr>\n",
       "    <tr>\n",
       "      <th>402</th>\n",
       "      <td>0</td>\n",
       "      <td>499.904846</td>\n",
       "      <td>258.431183</td>\n",
       "      <td>942.124634</td>\n",
       "    </tr>\n",
       "  </tbody>\n",
       "</table>\n",
       "<p>403 rows × 4 columns</p>\n",
       "</div>"
      ],
      "text/plain": [
       "     frame           y           x         mass\n",
       "0        0   11.741593  349.500702   811.161987\n",
       "1        0   14.005610  284.227325   810.648804\n",
       "2        0   13.710928  376.465485   814.466736\n",
       "3        0   14.130193  427.918549  1070.288818\n",
       "4        0   15.548744  193.997162   801.707275\n",
       "..     ...         ...         ...          ...\n",
       "398      0  493.845276  113.964684  1142.747192\n",
       "399      0  494.058777  221.137192   828.158325\n",
       "400      0  496.959900  248.419052   968.822021\n",
       "401      0  498.052063  355.679932   802.113403\n",
       "402      0  499.904846  258.431183   942.124634\n",
       "\n",
       "[403 rows x 4 columns]"
      ]
     },
     "execution_count": 16,
     "metadata": {},
     "output_type": "execute_result"
    }
   ],
   "source": [
    "my_df"
   ]
  },
  {
   "cell_type": "code",
   "execution_count": 18,
   "metadata": {},
   "outputs": [
    {
     "data": {
      "text/plain": [
       "[<matplotlib.lines.Line2D at 0x159202f80>]"
      ]
     },
     "execution_count": 18,
     "metadata": {},
     "output_type": "execute_result"
    },
    {
     "data": {
      "image/png": "[encoded data removed]",
      "text/plain": [
       "<Figure size 640x480 with 1 Axes>"
      ]
     },
     "metadata": {},
     "output_type": "display_data"
    }
   ],
   "source": [
    "plt.plot(*coords(my_df), \"C0.\", alpha = 0.3)\n",
    "plt.plot(*coords(tp_df), \"C1.\", alpha = 0.3)\n",
    "# plt.plot(*next(it)[1].T, \"C2.\", alpha = 0.3)\n",
    "# plt.plot(*coords(tp_df).T[dists == np.inf][26].T, \"C2.\", alpha = 0.3)"
   ]
  },
  {
   "cell_type": "code",
   "execution_count": 11,
   "metadata": {},
   "outputs": [
    {
     "data": {
      "text/html": [
       "<div>\n",
       "<style scoped>\n",
       "    .dataframe tbody tr th:only-of-type {\n",
       "        vertical-align: middle;\n",
       "    }\n",
       "\n",
       "    .dataframe tbody tr th {\n",
       "        vertical-align: top;\n",
       "    }\n",
       "\n",
       "    .dataframe thead th {\n",
       "        text-align: right;\n",
       "    }\n",
       "</style>\n",
       "<table border=\"1\" class=\"dataframe\">\n",
       "  <thead>\n",
       "    <tr style=\"text-align: right;\">\n",
       "      <th></th>\n",
       "      <th>frame</th>\n",
       "      <th>y</th>\n",
       "      <th>x</th>\n",
       "      <th>mass</th>\n",
       "    </tr>\n",
       "  </thead>\n",
       "  <tbody>\n",
       "    <tr>\n",
       "      <th>0</th>\n",
       "      <td>0</td>\n",
       "      <td>8.867070</td>\n",
       "      <td>61.276859</td>\n",
       "      <td>1064.447632</td>\n",
       "    </tr>\n",
       "    <tr>\n",
       "      <th>1</th>\n",
       "      <td>0</td>\n",
       "      <td>9.230811</td>\n",
       "      <td>438.942505</td>\n",
       "      <td>993.463074</td>\n",
       "    </tr>\n",
       "    <tr>\n",
       "      <th>2</th>\n",
       "      <td>0</td>\n",
       "      <td>11.185135</td>\n",
       "      <td>227.674576</td>\n",
       "      <td>701.138489</td>\n",
       "    </tr>\n",
       "    <tr>\n",
       "      <th>3</th>\n",
       "      <td>0</td>\n",
       "      <td>11.741593</td>\n",
       "      <td>349.500702</td>\n",
       "      <td>811.161987</td>\n",
       "    </tr>\n",
       "    <tr>\n",
       "      <th>4</th>\n",
       "      <td>0</td>\n",
       "      <td>11.922229</td>\n",
       "      <td>341.975342</td>\n",
       "      <td>747.229126</td>\n",
       "    </tr>\n",
       "    <tr>\n",
       "      <th>...</th>\n",
       "      <td>...</td>\n",
       "      <td>...</td>\n",
       "      <td>...</td>\n",
       "      <td>...</td>\n",
       "    </tr>\n",
       "    <tr>\n",
       "      <th>644</th>\n",
       "      <td>0</td>\n",
       "      <td>497.107788</td>\n",
       "      <td>190.423584</td>\n",
       "      <td>787.688293</td>\n",
       "    </tr>\n",
       "    <tr>\n",
       "      <th>645</th>\n",
       "      <td>0</td>\n",
       "      <td>496.959900</td>\n",
       "      <td>248.419052</td>\n",
       "      <td>968.822021</td>\n",
       "    </tr>\n",
       "    <tr>\n",
       "      <th>646</th>\n",
       "      <td>0</td>\n",
       "      <td>498.052063</td>\n",
       "      <td>355.679932</td>\n",
       "      <td>802.113403</td>\n",
       "    </tr>\n",
       "    <tr>\n",
       "      <th>647</th>\n",
       "      <td>0</td>\n",
       "      <td>498.293976</td>\n",
       "      <td>392.127533</td>\n",
       "      <td>709.902344</td>\n",
       "    </tr>\n",
       "    <tr>\n",
       "      <th>648</th>\n",
       "      <td>0</td>\n",
       "      <td>499.904846</td>\n",
       "      <td>258.431183</td>\n",
       "      <td>942.124634</td>\n",
       "    </tr>\n",
       "  </tbody>\n",
       "</table>\n",
       "<p>649 rows × 4 columns</p>\n",
       "</div>"
      ],
      "text/plain": [
       "     frame           y           x         mass\n",
       "0        0    8.867070   61.276859  1064.447632\n",
       "1        0    9.230811  438.942505   993.463074\n",
       "2        0   11.185135  227.674576   701.138489\n",
       "3        0   11.741593  349.500702   811.161987\n",
       "4        0   11.922229  341.975342   747.229126\n",
       "..     ...         ...         ...          ...\n",
       "644      0  497.107788  190.423584   787.688293\n",
       "645      0  496.959900  248.419052   968.822021\n",
       "646      0  498.052063  355.679932   802.113403\n",
       "647      0  498.293976  392.127533   709.902344\n",
       "648      0  499.904846  258.431183   942.124634\n",
       "\n",
       "[649 rows x 4 columns]"
      ]
     },
     "execution_count": 11,
     "metadata": {},
     "output_type": "execute_result"
    }
   ],
   "source": [
    "my_df"
   ]
  },
  {
   "cell_type": "code",
   "execution_count": 19,
   "metadata": {},
   "outputs": [
    {
     "data": {
      "text/plain": [
       "array([[-0.99986617],\n",
       "       [-0.99556814],\n",
       "       [-0.94600887],\n",
       "       [-0.75802855],\n",
       "       [-0.60105653],\n",
       "       [-0.75802855],\n",
       "       [-0.94600887],\n",
       "       [-0.99556814],\n",
       "       [-0.99986617]])"
      ]
     },
     "execution_count": 19,
     "metadata": {},
     "output_type": "execute_result"
    }
   ],
   "source": [
    "tp.masks.gaussian_kernel(1, 4)[:, None]"
   ]
  },
  {
   "cell_type": "code",
   "execution_count": 18,
   "metadata": {},
   "outputs": [
    {
     "data": {
      "text/plain": [
       "<matplotlib.image.AxesImage at 0x19f5efa3be0>"
      ]
     },
     "execution_count": 18,
     "metadata": {},
     "output_type": "execute_result"
    },
    {
     "data": {
      "image/png": "[encoded data removed]",
      "text/plain": [
       "<Figure size 640x480 with 1 Axes>"
      ]
     },
     "metadata": {},
     "output_type": "display_data"
    }
   ],
   "source": [
    "plt.imshow(tp.masks.gaussian_kernel(1, 4)[:, None] * tp.masks.gaussian_kernel(1, 4)[None, :])"
   ]
  },
  {
   "cell_type": "code",
   "execution_count": 14,
   "metadata": {},
   "outputs": [
    {
     "data": {
      "text/plain": [
       "<matplotlib.image.AxesImage at 0x19f5ef1f970>"
      ]
     },
     "execution_count": 14,
     "metadata": {},
     "output_type": "execute_result"
    },
    {
     "data": {
      "image/png": "[encoded data removed]",
      "text/plain": [
       "<Figure size 640x480 with 1 Axes>"
      ]
     },
     "metadata": {},
     "output_type": "display_data"
    }
   ],
   "source": [
    "plt.imshow(tp.masks.gaussian_kernel(1, 4)[:, None])"
   ]
  },
  {
   "cell_type": "code",
   "execution_count": 10,
   "metadata": {},
   "outputs": [
    {
     "name": "stdout",
     "output_type": "stream",
     "text": [
      "1151\n",
      "1103\n"
     ]
    }
   ],
   "source": [
    "print(len(my_df))\n",
    "print(len(tp_df))"
   ]
  },
  {
   "cell_type": "code",
   "execution_count": 11,
   "metadata": {},
   "outputs": [],
   "source": []
  },
  {
   "cell_type": "code",
   "execution_count": 12,
   "metadata": {},
   "outputs": [],
   "source": [
    "\n",
    "# my_tree.query_ball_tree(tp_tree, 0.05)"
   ]
  },
  {
   "cell_type": "code",
   "execution_count": 13,
   "metadata": {},
   "outputs": [
    {
     "name": "stdout",
     "output_type": "stream",
     "text": [
      "948\n"
     ]
    }
   ],
   "source": [
    "print((dists != np.inf).sum())\n",
    "dists[dists != np.inf]\n",
    "inds[dists != np.inf]\n",
    "pass"
   ]
  },
  {
   "cell_type": "code",
   "execution_count": 15,
   "metadata": {},
   "outputs": [],
   "source": [
    "it = enumerate(iter(coords(tp_df).T[dists == np.inf]))"
   ]
  },
  {
   "cell_type": "code",
   "execution_count": 16,
   "metadata": {},
   "outputs": [
    {
     "data": {
      "text/plain": [
       "[<matplotlib.lines.Line2D at 0x1faee590850>]"
      ]
     },
     "execution_count": 16,
     "metadata": {},
     "output_type": "execute_result"
    },
    {
     "data": {
      "image/png": "[encoded data removed]",
      "text/plain": [
       "<Figure size 640x480 with 1 Axes>"
      ]
     },
     "metadata": {},
     "output_type": "display_data"
    }
   ],
   "source": []
  },
  {
   "cell_type": "code",
   "execution_count": 14,
   "metadata": {},
   "outputs": [
    {
     "data": {
      "text/plain": [
       "1"
      ]
     },
     "execution_count": 14,
     "metadata": {},
     "output_type": "execute_result"
    }
   ],
   "source": [
    "3//2"
   ]
  },
  {
   "cell_type": "code",
   "execution_count": null,
   "metadata": {},
   "outputs": [
    {
     "data": {
      "text/html": [
       "<div>\n",
       "<style scoped>\n",
       "    .dataframe tbody tr th:only-of-type {\n",
       "        vertical-align: middle;\n",
       "    }\n",
       "\n",
       "    .dataframe tbody tr th {\n",
       "        vertical-align: top;\n",
       "    }\n",
       "\n",
       "    .dataframe thead th {\n",
       "        text-align: right;\n",
       "    }\n",
       "</style>\n",
       "<table border=\"1\" class=\"dataframe\">\n",
       "  <thead>\n",
       "    <tr style=\"text-align: right;\">\n",
       "      <th></th>\n",
       "      <th>y</th>\n",
       "      <th>x</th>\n",
       "      <th>mass</th>\n",
       "    </tr>\n",
       "  </thead>\n",
       "  <tbody>\n",
       "    <tr>\n",
       "      <th>0</th>\n",
       "      <td>4.220573</td>\n",
       "      <td>74.692416</td>\n",
       "      <td>1054.478337</td>\n",
       "    </tr>\n",
       "    <tr>\n",
       "      <th>1</th>\n",
       "      <td>4.599053</td>\n",
       "      <td>270.108974</td>\n",
       "      <td>737.670025</td>\n",
       "    </tr>\n",
       "    <tr>\n",
       "      <th>2</th>\n",
       "      <td>4.623336</td>\n",
       "      <td>494.512906</td>\n",
       "      <td>1009.522685</td>\n",
       "    </tr>\n",
       "    <tr>\n",
       "      <th>3</th>\n",
       "      <td>5.025773</td>\n",
       "      <td>9.336279</td>\n",
       "      <td>922.702762</td>\n",
       "    </tr>\n",
       "    <tr>\n",
       "      <th>4</th>\n",
       "      <td>4.810352</td>\n",
       "      <td>121.785098</td>\n",
       "      <td>638.806371</td>\n",
       "    </tr>\n",
       "    <tr>\n",
       "      <th>...</th>\n",
       "      <td>...</td>\n",
       "      <td>...</td>\n",
       "      <td>...</td>\n",
       "    </tr>\n",
       "    <tr>\n",
       "      <th>1271</th>\n",
       "      <td>506.159615</td>\n",
       "      <td>181.958809</td>\n",
       "      <td>646.392449</td>\n",
       "    </tr>\n",
       "    <tr>\n",
       "      <th>1272</th>\n",
       "      <td>506.280800</td>\n",
       "      <td>214.909562</td>\n",
       "      <td>450.154686</td>\n",
       "    </tr>\n",
       "    <tr>\n",
       "      <th>1273</th>\n",
       "      <td>507.019594</td>\n",
       "      <td>339.288914</td>\n",
       "      <td>534.375697</td>\n",
       "    </tr>\n",
       "    <tr>\n",
       "      <th>1274</th>\n",
       "      <td>506.581047</td>\n",
       "      <td>381.735925</td>\n",
       "      <td>713.557145</td>\n",
       "    </tr>\n",
       "    <tr>\n",
       "      <th>1275</th>\n",
       "      <td>506.674903</td>\n",
       "      <td>439.058906</td>\n",
       "      <td>606.799777</td>\n",
       "    </tr>\n",
       "  </tbody>\n",
       "</table>\n",
       "<p>1276 rows × 3 columns</p>\n",
       "</div>"
      ],
      "text/plain": [
       "               y           x         mass\n",
       "0       4.220573   74.692416  1054.478337\n",
       "1       4.599053  270.108974   737.670025\n",
       "2       4.623336  494.512906  1009.522685\n",
       "3       5.025773    9.336279   922.702762\n",
       "4       4.810352  121.785098   638.806371\n",
       "...          ...         ...          ...\n",
       "1271  506.159615  181.958809   646.392449\n",
       "1272  506.280800  214.909562   450.154686\n",
       "1273  507.019594  339.288914   534.375697\n",
       "1274  506.581047  381.735925   713.557145\n",
       "1275  506.674903  439.058906   606.799777\n",
       "\n",
       "[1276 rows x 3 columns]"
      ]
     },
     "execution_count": 76,
     "metadata": {},
     "output_type": "execute_result"
    }
   ],
   "source": [
    "tp_df"
   ]
  },
  {
   "cell_type": "code",
   "execution_count": null,
   "metadata": {},
   "outputs": [
    {
     "data": {
      "text/plain": [
       "[<matplotlib.lines.Line2D at 0x2a0899b55b0>]"
      ]
     },
     "execution_count": 28,
     "metadata": {},
     "output_type": "execute_result"
    },
    {
     "data": {
      "image/png": "[encoded data removed]",
      "text/plain": [
       "<Figure size 640x480 with 1 Axes>"
      ]
     },
     "metadata": {},
     "output_type": "display_data"
    }
   ],
   "source": [
    "plt.plot(*coords(my_df).T[inds[dists != np.inf]].T, \".\", alpha = 1)\n",
    "plt.plot(*coords(tp_df).T[dists != np.inf].T, \".\", alpha = 1)"
   ]
  },
  {
   "cell_type": "code",
   "execution_count": null,
   "metadata": {},
   "outputs": [],
   "source": []
  }
 ],
 "metadata": {
  "kernelspec": {
   "display_name": "Python 3.10.4 ('tracking-arm')",
   "language": "python",
   "name": "python3"
  },
  "language_info": {
   "codemirror_mode": {
    "name": "ipython",
    "version": 3
   },
   "file_extension": ".py",
   "mimetype": "text/x-python",
   "name": "python",
   "nbconvert_exporter": "python",
   "pygments_lexer": "ipython3",
   "version": "3.10.4"
  },
  "orig_nbformat": 4,
  "vscode": {
   "interpreter": {
    "hash": "7917279f795d61e8cc63d39f6c43c8efb22c21cc1edf7efde493dfc7c97ec527"
   }
  }
 },
 "nbformat": 4,
 "nbformat_minor": 2
}

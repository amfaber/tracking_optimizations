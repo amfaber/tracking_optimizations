{
 "cells": [
  {
   "cell_type": "code",
   "execution_count": 51,
   "metadata": {},
   "outputs": [
    {
     "name": "stdout",
     "output_type": "stream",
     "text": [
      "Sys order:  little\n",
      "File order:  big\n",
      "Big Tiff: False\n",
      "b'\\x00\\x00\\x00\\x08'\n",
      "b'\\x00\\x10\\x00\\xfe'\n"
     ]
    }
   ],
   "source": [
    "import sys\n",
    "print(\"Sys order: \", sys.byteorder)\n",
    "path = r\"../../emily_tracking/sample_vids/s_20.tif\"\n",
    "# path = r\"vsi dummy/Process_9747.vsi\"\n",
    "file = open(path, \"rb\")\n",
    "endianess = file.read(2)\n",
    "if endianess == b\"MM\":\n",
    "    endianess = \"big\"\n",
    "elif endianess == b\"II\":\n",
    "    endianess = \"little\"\n",
    "\n",
    "print(\"File order: \", endianess)\n",
    "print(f\"Big Tiff: {int.from_bytes(file.read(2), endianess) == 43}\")\n",
    "print(file.read(4))\n",
    "# int.from_bytes(file.read(4), endianess)"
   ]
  },
  {
   "cell_type": "code",
   "execution_count": 39,
   "metadata": {},
   "outputs": [
    {
     "data": {
      "text/plain": [
       "19789"
      ]
     },
     "execution_count": 39,
     "metadata": {},
     "output_type": "execute_result"
    }
   ],
   "source": [
    "int.from_bytes(b\"MM\", \"little\")"
   ]
  },
  {
   "cell_type": "code",
   "execution_count": 41,
   "metadata": {},
   "outputs": [
    {
     "name": "stdout",
     "output_type": "stream",
     "text": [
      "0b100100101001001\n",
      "0b100110101001101\n"
     ]
    }
   ],
   "source": [
    "print(bin(18761))\n",
    "print(bin(19789))\n"
   ]
  }
 ],
 "metadata": {
  "kernelspec": {
   "display_name": "Python 3.8.13 ('tracking-script')",
   "language": "python",
   "name": "python3"
  },
  "language_info": {
   "codemirror_mode": {
    "name": "ipython",
    "version": 3
   },
   "file_extension": ".py",
   "mimetype": "text/x-python",
   "name": "python",
   "nbconvert_exporter": "python",
   "pygments_lexer": "ipython3",
   "version": "3.8.13"
  },
  "orig_nbformat": 4,
  "vscode": {
   "interpreter": {
    "hash": "3409497d58d6e5264400e5348aa6fd098ba78c0f60b1c52b60052994396a7143"
   }
  }
 },
 "nbformat": 4,
 "nbformat_minor": 2
}

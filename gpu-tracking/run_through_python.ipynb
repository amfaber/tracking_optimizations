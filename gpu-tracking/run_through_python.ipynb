{
 "cells": [
  {
   "cell_type": "code",
   "execution_count": 1,
   "metadata": {},
   "outputs": [],
   "source": [
    "import gpu_tracking\n",
    "import tifffile"
   ]
  },
  {
   "cell_type": "code",
   "execution_count": 7,
   "metadata": {},
   "outputs": [],
   "source": [
    "vid = tifffile.imread(\"../emily_tracking/sample_vids/s_20.tif\").astype(\"float32\")"
   ]
  },
  {
   "cell_type": "code",
   "execution_count": 8,
   "metadata": {},
   "outputs": [
    {
     "name": "stderr",
     "output_type": "stream",
     "text": [
      "[src/execute_gpu.rs:346] wait_gpu_time = 2.2090204\n"
     ]
    },
    {
     "data": {
      "text/plain": [
       "array([[   0.       , 1396.9764   ,    5.4445252,   39.444527 ],\n",
       "       [   0.       , 1222.1484   ,    4.9359045,   56.935905 ],\n",
       "       [   0.       ,  373.26227  ,    5.784588 ,   84.78459  ],\n",
       "       ...,\n",
       "       [1999.       , 1059.4739   ,  502.4651   ,  421.4651   ],\n",
       "       [1999.       ,   96.72125  ,  514.4057   ,  475.40573  ],\n",
       "       [1999.       ,  697.91266  ,  503.5507   ,  481.5507   ]],\n",
       "      dtype=float32)"
      ]
     },
     "execution_count": 8,
     "metadata": {},
     "output_type": "execute_result"
    }
   ],
   "source": [
    "gpu_tracking.batch(vid, 9)"
   ]
  }
 ],
 "metadata": {
  "kernelspec": {
   "display_name": "Python 3.10.4 ('tracking-arm')",
   "language": "python",
   "name": "python3"
  },
  "language_info": {
   "codemirror_mode": {
    "name": "ipython",
    "version": 3
   },
   "file_extension": ".py",
   "mimetype": "text/x-python",
   "name": "python",
   "nbconvert_exporter": "python",
   "pygments_lexer": "ipython3",
   "version": "3.10.4"
  },
  "orig_nbformat": 4,
  "vscode": {
   "interpreter": {
    "hash": "7917279f795d61e8cc63d39f6c43c8efb22c21cc1edf7efde493dfc7c97ec527"
   }
  }
 },
 "nbformat": 4,
 "nbformat_minor": 2
}

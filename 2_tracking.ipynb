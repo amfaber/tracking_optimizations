{
 "cells": [
  {
   "cell_type": "code",
   "execution_count": 8,
   "id": "804835a7",
   "metadata": {
    "tags": []
   },
   "outputs": [
    {
     "name": "stdout",
     "output_type": "stream",
     "text": [
      "Frame 4: 269 trajectories present.\n"
     ]
    },
    {
     "ename": "ValueError",
     "evalue": "max() arg is an empty sequence",
     "output_type": "error",
     "traceback": [
      "\u001b[0;31m---------------------------------------------------------------------------\u001b[0m",
      "\u001b[0;31mValueError\u001b[0m                                Traceback (most recent call last)",
      "\u001b[1;32m/Users/amfaber/Documents/tracking_script/2_tracking.ipynb Cell 1'\u001b[0m in \u001b[0;36m<cell line: 87>\u001b[0;34m()\u001b[0m\n\u001b[1;32m     <a href='vscode-notebook-cell:/Users/amfaber/Documents/tracking_script/2_tracking.ipynb#ch0000000?line=89'>90</a>\u001b[0m     lipase \u001b[39m=\u001b[39m type_list[i]\n\u001b[1;32m     <a href='vscode-notebook-cell:/Users/amfaber/Documents/tracking_script/2_tracking.ipynb#ch0000000?line=90'>91</a>\u001b[0m     replica \u001b[39m=\u001b[39m replica_list[i]\n\u001b[0;32m---> <a href='vscode-notebook-cell:/Users/amfaber/Documents/tracking_script/2_tracking.ipynb#ch0000000?line=91'>92</a>\u001b[0m     runner_tracker(path,lipase,save_path1,replica)\n\u001b[1;32m     <a href='vscode-notebook-cell:/Users/amfaber/Documents/tracking_script/2_tracking.ipynb#ch0000000?line=94'>95</a>\u001b[0m create_big_df(save_path)\n",
      "File \u001b[0;32m~/Documents/tracking_script/soren_tracking.py:293\u001b[0m, in \u001b[0;36mrunner_tracker\u001b[0;34m(video_location, experiment_type, save_path, replicate)\u001b[0m\n\u001b[1;32m    288\u001b[0m video \u001b[39m=\u001b[39m image_loader_video(video_location)\n\u001b[1;32m    289\u001b[0m \u001b[39m#video = crop_vid(video)\u001b[39;00m\n\u001b[1;32m    290\u001b[0m \n\u001b[1;32m    291\u001b[0m \u001b[39m#video = video[:,500:1000,200:800] #crop video =video[:,y_min_cut:y_max_cut,x_min_cut:x_max_cut]\u001b[39;00m\n\u001b[0;32m--> 293\u001b[0m full_tracked, msd_df \u001b[39m=\u001b[39m tracker(video,mean_multiplier, sep, replicate, save_path)    \n\u001b[1;32m    295\u001b[0m msd_df[\u001b[39m'\u001b[39m\u001b[39mexperiment_type\u001b[39m\u001b[39m'\u001b[39m] \u001b[39m=\u001b[39m \u001b[39mstr\u001b[39m(experiment_type)\n\u001b[1;32m    296\u001b[0m msd_df[\u001b[39m'\u001b[39m\u001b[39mreplicate\u001b[39m\u001b[39m'\u001b[39m] \u001b[39m=\u001b[39m \u001b[39mstr\u001b[39m(replicate)\n",
      "File \u001b[0;32m~/Documents/tracking_script/soren_tracking.py:279\u001b[0m, in \u001b[0;36mtracker\u001b[0;34m(video, mean_multiplier, sep, replicate, save_path)\u001b[0m\n\u001b[1;32m    276\u001b[0m     df_msd \u001b[39m=\u001b[39m tp\u001b[39m.\u001b[39mimsd(df, microns_per_pixel, frame_per_sec, max_lagtime\u001b[39m=\u001b[39mmax_lagtime)\n\u001b[1;32m    277\u001b[0m     \u001b[39mreturn\u001b[39;00m df_msd\n\u001b[0;32m--> 279\u001b[0m msd_df \u001b[39m=\u001b[39m msd_df(full_tracked)\n\u001b[1;32m    280\u001b[0m msd_df\u001b[39m=\u001b[39mmsd_df\u001b[39m.\u001b[39mstack()\u001b[39m.\u001b[39mreset_index()\n\u001b[1;32m    281\u001b[0m msd_df\u001b[39m.\u001b[39mcolumns \u001b[39m=\u001b[39m [\u001b[39m'\u001b[39m\u001b[39mtime\u001b[39m\u001b[39m'\u001b[39m, \u001b[39m'\u001b[39m\u001b[39mparticle\u001b[39m\u001b[39m'\u001b[39m,\u001b[39m'\u001b[39m\u001b[39mmsd\u001b[39m\u001b[39m'\u001b[39m]\n",
      "File \u001b[0;32m~/Documents/tracking_script/soren_tracking.py:273\u001b[0m, in \u001b[0;36mtracker.<locals>.msd_df\u001b[0;34m(df)\u001b[0m\n\u001b[1;32m    272\u001b[0m \u001b[39mdef\u001b[39;00m \u001b[39mmsd_df\u001b[39m(df):\n\u001b[0;32m--> 273\u001b[0m     max_lagtime \u001b[39m=\u001b[39m \u001b[39mmax\u001b[39;49m(df[\u001b[39m'\u001b[39;49m\u001b[39mduration\u001b[39;49m\u001b[39m'\u001b[39;49m])\n\u001b[1;32m    274\u001b[0m     microns_per_pixel   \u001b[39m=\u001b[39m pixel_size\n\u001b[1;32m    275\u001b[0m     frame_per_sec       \u001b[39m=\u001b[39m \u001b[39mfloat\u001b[39m(tracking_time)\n",
      "\u001b[0;31mValueError\u001b[0m: max() arg is an empty sequence"
     ]
    },
    {
     "data": {
      "image/png": "[encoded data removed]",
      "text/plain": [
       "<Figure size 432x288 with 2 Axes>"
      ]
     },
     "metadata": {
      "needs_background": "light"
     },
     "output_type": "display_data"
    }
   ],
   "source": [
    "# import numpy as np\n",
    "# import pandas as pd\n",
    "# import trackpy as tp\n",
    "# import matplotlib  as mpl\n",
    "# import matplotlib.pyplot as plt\n",
    "# from skimage.feature import peak_local_max\n",
    "# from scipy import ndimage\n",
    "# from skimage.feature import blob_log\n",
    "# from skimage import feature\n",
    "# from scipy.stats.stats import pearsonr \n",
    "# import os\n",
    "# import scipy\n",
    "# import scipy.ndimage as ndimage\n",
    "# from skimage import measure\n",
    "# from skimage.color import rgb2gray \n",
    "# import probfit \n",
    "  \n",
    "# #from pims import TiffStack\n",
    "# import time\n",
    "# import matplotlib.patches \n",
    "# from skimage import morphology, util, filters\n",
    "\n",
    "import soren_tracking\n",
    "import importlib\n",
    "importlib.reload(soren_tracking)\n",
    "from soren_tracking import *\n",
    "\n",
    "\n",
    "\n",
    "# --------------------------- SET VARIABLES ---------------------------- #\n",
    "\n",
    "mean_multiplier = 0.8\n",
    "\n",
    "sep = 5                 #pixel seperation, ahould be close t search_range\n",
    "object_size = 9         # 5 originally \n",
    "lip_int_size = 9        #originally 14 for first attemps\n",
    "lip_BG_size = 60        # originally 50 for first attemps\n",
    "\n",
    "# Tracking parameters\n",
    "memory = 1              #frame\n",
    "search_range = 5        # pixels\n",
    "\n",
    "duration_filter = 20    # frames, originally 5\n",
    "\n",
    "tracking_time = 0.036   #s --> maybe should change according to exposue \n",
    "\n",
    "pixel_size = 0.18333    #µm 60x is 18333 nm\n",
    "#pixel_size = 0.2666    #µm for EMCDD\n",
    "\n",
    "# change duration min in lineio\n",
    "# change microns_per_pixel in line\n",
    "\n",
    "# path to test video\n",
    "#vid_name =  '/Volumes/AGENT SMITH/Sara/05MAY22/Lys/488/vids/Process_8962_488.tif'\n",
    "#video = image_loader_video(vid_name)\n",
    "\n",
    "#actual data paths and save_path\n",
    "exp_type_folders    = ['sample_vids/']\n",
    "exp_types           = ['HEK_RC_NovoEarly_488_30min']       # experiment type for given folder before\n",
    "                                             # For column in csv file to classify data\n",
    "save_path =  'sample_output/'        # where to save .csv\n",
    "\n",
    "#background blue cahnnel\n",
    "#background = '/Volumes/Annette/Spinning_disk/Folder_20210729_HELA_lys/tiff/cellmask_ins/488/Process_4542_488.tif'\n",
    "#img = image_loader_video(background)\n",
    "#img = img[0]\n",
    "#img =  ndimage.gaussian_filter(img,sigma =(1.5,1.5)) # smooting \n",
    "#mpl.rc('figure',  figsize=(10, 6))\n",
    "#mpl.rc('image', cmap='gray')\n",
    "\n",
    "# -------------------------------- Running ------------------------------------ #\n",
    "\n",
    "list_of_vids = []\n",
    "type_list = []\n",
    "replica_list = []\n",
    "\n",
    "\n",
    "for main_folder in range(len(exp_type_folders)):\n",
    "    file_paths,relica_number,exp_type = create_list_of_vids(exp_type_folders[main_folder],exp_types[main_folder])\n",
    "    list_of_vids.extend(file_paths)\n",
    "    type_list.extend(exp_type)\n",
    "    replica_list.extend(relica_number)  \n",
    "\n",
    "print(list_of_vids)\n",
    "\n",
    "\n",
    "for i in range(len(list_of_vids)):\n",
    "    save_path1 = save_path\n",
    "    path = list_of_vids[i]\n",
    "    lipase = type_list[i]\n",
    "    replica = replica_list[i]\n",
    "    runner_tracker(path,lipase,save_path1,replica)\n",
    "\n",
    "\n",
    "create_big_df(save_path) # saving data\n"
   ]
  },
  {
   "cell_type": "code",
   "execution_count": 14,
   "id": "3d6c9825",
   "metadata": {},
   "outputs": [
    {
     "data": {
      "text/plain": [
       "'HEK_RC_NovoEarly_488_30min'"
      ]
     },
     "execution_count": 14,
     "metadata": {},
     "output_type": "execute_result"
    }
   ],
   "source": [
    "exp_types[main_folder]"
   ]
  },
  {
   "cell_type": "code",
   "execution_count": 15,
   "id": "8fddbad9",
   "metadata": {},
   "outputs": [],
   "source": [
    "importlib.reload(soren_tracking)\n",
    "from soren_tracking import *"
   ]
  },
  {
   "cell_type": "code",
   "execution_count": 5,
   "id": "c051548e",
   "metadata": {},
   "outputs": [],
   "source": [
    "from PIL import Image, ImageSequence\n",
    "import PIL"
   ]
  },
  {
   "cell_type": "code",
   "execution_count": 6,
   "id": "33a1ab83",
   "metadata": {},
   "outputs": [],
   "source": [
    "def first_n_frames(impath, n):\n",
    "    im = Image.open(impath)\n",
    "    imlist = []\n",
    "    for i, page in zip(range(n), ImageSequence.Iterator(im)):\n",
    "        imlist.append(page)\n",
    "    outname = impath.split('.')[0] + f\"_first{n}.tif\"\n",
    "    with PIL.TiffImagePlugin.AppendingTiffWriter(outname, True) as tf:\n",
    "        for img in imlist:\n",
    "            img.save(tf)\n",
    "            tf.newFrame()"
   ]
  },
  {
   "cell_type": "code",
   "execution_count": 7,
   "id": "16a87a06",
   "metadata": {},
   "outputs": [
    {
     "data": {
      "text/plain": [
       "[None]"
      ]
     },
     "execution_count": 7,
     "metadata": {},
     "output_type": "execute_result"
    }
   ],
   "source": [
    "from os.path import join\n",
    "curdir, _, files = next(os.walk(\"sample_vids\"))\n",
    "[first_n_frames(join(curdir, file), 5) for file in files if file.endswith(\".tif\")]"
   ]
  },
  {
   "cell_type": "code",
   "execution_count": null,
   "id": "f468d8e2",
   "metadata": {},
   "outputs": [],
   "source": []
  }
 ],
 "metadata": {
  "kernelspec": {
   "display_name": "Python 3.8.13 ('tracking-script')",
   "language": "python",
   "name": "python3"
  },
  "language_info": {
   "codemirror_mode": {
    "name": "ipython",
    "version": 3
   },
   "file_extension": ".py",
   "mimetype": "text/x-python",
   "name": "python",
   "nbconvert_exporter": "python",
   "pygments_lexer": "ipython3",
   "version": "3.8.13"
  },
  "vscode": {
   "interpreter": {
    "hash": "b0473516573eeb4eff0e39a7f96836722bffcd544a872aef72a18077449aef8d"
   }
  }
 },
 "nbformat": 4,
 "nbformat_minor": 5
}
